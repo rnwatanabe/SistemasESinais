{
  "cells": [
    {
      "cell_type": "markdown",
      "id": "ff5fd5f9-1b18-4ddb-8b4e-2a1b58e22093",
      "metadata": {
        "id": "ff5fd5f9-1b18-4ddb-8b4e-2a1b58e22093"
      },
      "source": [
        "# Representação de sistemas discretos com diagrama de blocos\n",
        "\n",
        "Renato Naville Watanabe"
      ]
    },
    {
      "cell_type": "markdown",
      "id": "d4ef199b-4ee4-4fc4-bf1b-92dffc3f7579",
      "metadata": {
        "id": "d4ef199b-4ee4-4fc4-bf1b-92dffc3f7579"
      },
      "source": [
        "## Diagrama de Blocos\n",
        "\n",
        "Uma grande vantagem dos sistemas descritos por equações de diferenças é que eles podem ser representados por **diagrama de blocos**. Diagramas de blocos fornecem uma representação gráfica do funcionamento do sistema e pode ficar mais claro como realizar uma implementação em hardware (ou software) do sistema.\n",
        "\n",
        "Os diagramas de blocos de tempo discreto são compostos de três elementos:\n",
        "\n",
        "![a](https://github.com/rnwatanabe/SistemasESinais/blob/master/Imagens/elemdiscbloco.png?raw=1)\n",
        "\n",
        "Cada um desses três elementos podem ser vistos como um sistema.\n",
        "\n",
        "- O somador recebe vários sinais como entrada e retorna como saída soma de todos os sinais.\n",
        "\n",
        "- O atraso (D de *delay*, atraso em inglês) recebe um sinal $x[n]$ e devolve como saída $x[n-1]$ (atraso de um passo).\n",
        "\n",
        "- O ganho recebe um sinal $x[n]$ e devolve $kx[n]$, ou seja, o sinal de entrada é multiplicado pelo valor indicado dentro do triângulo.\n",
        "\n",
        "Podem ser utilizados outros símbolos para esses elementos (por exemplo, em algumas referências se utiliza $\\Sigma$ ao invés de + para o somador), mas esses serão os símbolos utilizados nesse curso. De qualquer forma, esses três elementos são suficientes para representar qualquer sistema de tempo discreto linear e invariante no tempo."
      ]
    },
    {
      "cell_type": "markdown",
      "id": "bce67e2d-9d42-47a2-a7c2-51eae8e5e7de",
      "metadata": {
        "id": "bce67e2d-9d42-47a2-a7c2-51eae8e5e7de"
      },
      "source": [
        "---\n",
        "\n",
        "### Exemplo 1\n",
        "    \n",
        "Como exemplo, vamos fazer o diagrama de blocos da equação de diferenças:\n",
        "\n",
        "$y[n] + 0.7y[n-1] = x[n]$\n",
        "\n",
        "Note que precisamos dos três elementos mencionados anteriormente para descrever a equação de diferenças: somador, atraso e ganho.\n",
        "\n",
        "Para fazermos o diagrama de blocos, primeiro colocamos a equação no formato que usaríamos para calcular os valores dos sinais:\n",
        "\n",
        "$$y[n] = -  0.7y[n-1] + x[n]$$\n",
        "    \n",
        "O diagrama de blocos é mostrado abaixo.\n",
        "    \n",
        "![a](https://github.com/rnwatanabe/SistemasESinais/blob/master/Imagens/diagexample.png?raw=1)\n",
        "    \n",
        "Nele fica bem evidente que $y[n]$ é a soma do $x[n]$ com o sinal $y[n]$ atrasado de um passo amplificado por um ganho. Uma coisa que fica bem evidente no diagrama de blocos é a presença de **realimentação** do sinal $y[n]$. Perceber essa realimentação não é tão óbvio apenas com a equação de diferenças.\n",
        "\n",
        "---"
      ]
    },
    {
      "cell_type": "markdown",
      "id": "59a718d4-bb64-4ce1-83e9-b92b32eb7db6",
      "metadata": {
        "id": "59a718d4-bb64-4ce1-83e9-b92b32eb7db6"
      },
      "source": [
        "Outra coisa que é bem mais clara no diagrama de blocos é a sequência de operações que devem ser executadas. Isso se deve a presença das setas. Essa informação não está presente na equação de diferenças. No diagrama de blocos é claro qual é o sinal de entrada e qual é o sinal de saída (não é possível obter essa informação pela equação de diferenças; se não fosse usado o padrão de $x[n]$ ser a entrada e $y[n]$ ser a saída, seria necessário fornecer essa informação de outra maneira).\n",
        "\n",
        "Um outro fator que fica mais claro com o diagrama de blocos é a necessidade de um elemento de memória: o atraso. Ele precisa guardar a informação por um passo. Se fôssemos implementar esse sistema em um hardware digital, seria necessário um componente com essa característica.\n",
        "\n",
        "O exemplo acima é bem simples, mas a ideia é a mesma para sistemas mais complexos. Uma última observação é que existem diversas representações em diagrama de blocos para o mesmo sistema. Por exemplo, no diagrama acima, o ganho poderia ter sido colocado antes do atraso. Como são operações lineares, o resultado é o mesmo."
      ]
    },
    {
      "cell_type": "markdown",
      "id": "a07373fd-543b-4b5d-8842-0d1a2951f5ad",
      "metadata": {
        "id": "a07373fd-543b-4b5d-8842-0d1a2951f5ad"
      },
      "source": [
        "## Ligações em paralelo e série de sistemas\n",
        "\n",
        "Existem duas maneiras tradicionais de se ligarem sistemas: paralelo e em série.\n",
        "\n",
        "Na ligação em **paralelo**, os dois sistemas S1 e S2 recebem a mesma entrada e a saída destes sistemas são somadas para obter a saída do sistema composto pelos dois sistemas.\n",
        "\n",
        "![a](https://github.com/rnwatanabe/SistemasESinais/blob/master/Imagens/paralelodisc.png?raw=1)\n",
        "\n",
        "Na ligação em **série** (ou cascata), a saída do sistema S1 é a entrada do sistema  S2.\n",
        "\n",
        "![a](https://github.com/rnwatanabe/SistemasESinais/blob/master/Imagens/seriedisc.png?raw=1)\n",
        "\n",
        "No caso de sistemas lineares e invariantes no tempo a ordem em que a ligação em série dos subsistemas não altera o comportamento geral do sistema."
      ]
    },
    {
      "cell_type": "markdown",
      "id": "0ab673ae-4e98-4098-9123-e1d39f27f2ac",
      "metadata": {
        "id": "0ab673ae-4e98-4098-9123-e1d39f27f2ac"
      },
      "source": [
        "---\n",
        "\n",
        "### Exemplo 2\n",
        "\n",
        "Considere dois subsistemas ligados em série (S1, seguido de S2):\n",
        "\n",
        "S1: $y_1[n] = 3x_1[n]+ 2x_1[n-1]$\n",
        "\n",
        "S2: $y_2[n] = 3x_2[n-1]$\n",
        "\n",
        "A entrada $x[n]$ será a entrada do primeiro sistema e a saída $y[n]$ será a saída do segundo sistema. A saída do primeiro sistema é a entrada do segundo. Então, a saída geral é:\n",
        "\n",
        "$y[n] = 3y_1[n] = 9x[n] + 6x[n-1]$\n",
        "\n",
        "Note que se trocarmos a ordem dos sistemas (fazermos S2, seguido de S1), a saída final não se altera:\n",
        "\n",
        "$y[n] = 3y_2[n] + 2y_2[n-1] =  9x[n] + 6x[n-1]$\n",
        "\n",
        "---"
      ]
    },
    {
      "cell_type": "markdown",
      "id": "d19144ef-9896-4301-8089-3356d6da4926",
      "metadata": {
        "id": "d19144ef-9896-4301-8089-3356d6da4926"
      },
      "source": [
        "Note que a propriedade comutativa vale para quaiquer  sistemas lineares e invariantes no tempo."
      ]
    },
    {
      "cell_type": "markdown",
      "id": "abc33838-96ba-4921-a518-4ef273629f18",
      "metadata": {
        "id": "abc33838-96ba-4921-a518-4ef273629f18"
      },
      "source": [
        "---\n",
        "\n",
        "### Exemplo 3\n",
        "\n",
        "Considere agora os mesmos subsistemas ligados em paralelo:\n",
        "\n",
        "S1: $y_1[n] = 3x_1[n]+ 2x_1[n-1]$\n",
        "\n",
        "S2: $y_2[n] = 3x_2[n-1]$\n",
        "\n",
        "A saída do sistema total será a soma das duas saídas e a entrada dos dois sistemas será a mesma:\n",
        "\n",
        "$y[n] = 3x[n]+ 2x[n-1]+ 3x[n-1] = 3x[n]+ 5x[n-1]$\n",
        "\n",
        "---"
      ]
    },
    {
      "cell_type": "markdown",
      "id": "ed101d37-c160-4aae-af19-521d15e3c0ca",
      "metadata": {
        "id": "ed101d37-c160-4aae-af19-521d15e3c0ca"
      },
      "source": [
        "## Exercícios\n",
        "\n",
        "**1)** Faça um diagrama de blocos dos sistemas das equações de diferenças abaixo:\n",
        "\n",
        "a) $y[n] = 0.2y[n-1] + 0.5x[n]$\n",
        "\n",
        "b) $y[n] = 0.2y[n-1] + x[n-1]$\n",
        "\n",
        "c) $y[n] = 0.2y[n-1] + x[n] + 0.5x[n-1]$"
      ]
    },
    {
      "cell_type": "markdown",
      "id": "17569c55-e844-47d6-97d4-621dbe0ecf75",
      "metadata": {
        "id": "17569c55-e844-47d6-97d4-621dbe0ecf75"
      },
      "source": [
        "**2)** Considere um sistema com a seguinte equação de diferenças:\n",
        "\n",
        "$$y[n] = -0.3y[n-1] + 0.7y[n-2 ]+ x[n] + 0.5 x[n-1] + 0.2x[n-2]$$\n",
        "\n",
        "a) Verifique que o sistema acima pode ser escrito como uma ligação em cascata de dois subsistemas, com as seguintes equações de diferenças:\n",
        "\n",
        "S1: $y_1[n] = x_1[n] + 0.5x_1[n-1] + 0.2x_1[n-2] $\n",
        "\n",
        "S2: $y_2[n] = -0.2y_2[n] +0.7y[n-2] + x_2[n]$\n",
        "\n",
        "b) Faça o diagrama de blocos do sistema S1\n",
        "\n",
        "c) Faça o diagrama de blocos do sistema S2\n",
        "\n",
        "d) Faça o diagrama de blocos do sistema considerando que o sistema S1 está conectado com o sistema S2 em cascata, nessa sequência.\n",
        "\n",
        "e) Agora, faça o digarama de blocos do sistema considerando que o sistema S2 está conectado com o sistema S1, com o sistema S2 antes do S1.\n",
        "\n",
        "f) Tente refazer o diagrama de blocos do item anterior, mas usando apenas dois componentes de atraso."
      ]
    },
    {
      "cell_type": "markdown",
      "id": "a4dabbeb-e71d-42ac-871a-8079b6cdcd69",
      "metadata": {
        "id": "a4dabbeb-e71d-42ac-871a-8079b6cdcd69"
      },
      "source": [
        "**3)** A média móvel é utilizada para detectar uma tendência de uma variável  que varia rapidamente (por exemplo, valor de uma ação a cada dia no mercado de ações, número de mortes por dia devido a uma doença, número de batimentos cardíacos de uma pessoa a cada minuto, entre muitos outros). A variável pode mudar o seu valor rapidamente, mascarando a sua tendência de longo prazo. Para o número de mortes devido a uma doença, podemos considerar uma média móvel $y[n]$ de 7 dias (isso foi muito utilizado durante a pandemia de COVID-19), sendo a média do número de mortes nos últimos 7 dias, $x[n], x[n-1], ... x[n-6]$.\n",
        "\n",
        "a) Escreva a equação de diferenças relacionando $y[n]$ com $x[n]$\n",
        "\n",
        "b) Faça o diagrama de blocos do sistema."
      ]
    },
    {
      "cell_type": "markdown",
      "id": "5a905b39-e62f-48b6-b63c-83f66c1bc7bc",
      "metadata": {
        "id": "5a905b39-e62f-48b6-b63c-83f66c1bc7bc"
      },
      "source": [
        "**4)** Encontre equações de diferenças para os seguintes diagramas de blocos:\n",
        "\n",
        "a)\n",
        "\n",
        "<img src=https://github.com/rnwatanabe/SistemasESinais/blob/master/Imagens/exdiagdisc1.png?raw=1 width=\"500\">\n",
        "\n",
        "b)\n",
        "\n",
        "<img src=https://github.com/rnwatanabe/SistemasESinais/blob/master/Imagens/exdiagdisc2.png?raw=1 width=\"500\">"
      ]
    },
    {
      "cell_type": "markdown",
      "id": "90c6392d-66a7-4f27-8866-b1843eeb3036",
      "metadata": {
        "id": "90c6392d-66a7-4f27-8866-b1843eeb3036"
      },
      "source": [
        "## Referências\n",
        "\n",
        "- Oppenheim, M.  e Willsky, S. Sistemas e Sinais, 2010\n",
        "- Lathi, BP, Sinais e Sistemas Lineares, 2007"
      ]
    },
    {
      "cell_type": "markdown",
      "id": "536fd492-e88f-46fa-bb89-b4b5422f42b5",
      "metadata": {
        "id": "536fd492-e88f-46fa-bb89-b4b5422f42b5"
      },
      "source": [
        "## Solução dos exercícios"
      ]
    },
    {
      "cell_type": "code",
      "execution_count": null,
      "id": "06864d4a-ba84-4c63-9da1-9400a545b27d",
      "metadata": {
        "id": "06864d4a-ba84-4c63-9da1-9400a545b27d"
      },
      "outputs": [],
      "source": []
    }
  ],
  "metadata": {
    "colab": {
      "provenance": []
    },
    "kernelspec": {
      "display_name": "Python 3 (ipykernel)",
      "language": "python",
      "name": "python3"
    },
    "language_info": {
      "codemirror_mode": {
        "name": "ipython",
        "version": 3
      },
      "file_extension": ".py",
      "mimetype": "text/x-python",
      "name": "python",
      "nbconvert_exporter": "python",
      "pygments_lexer": "ipython3",
      "version": "3.10.11"
    }
  },
  "nbformat": 4,
  "nbformat_minor": 5
}