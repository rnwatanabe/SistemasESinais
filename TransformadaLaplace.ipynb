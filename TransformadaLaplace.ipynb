{
 "cells": [
  {
   "cell_type": "markdown",
   "metadata": {},
   "source": [
    "# Transformada de Laplace\n",
    "\n",
    "Renato Naville Watanabe"
   ]
  },
  {
   "cell_type": "markdown",
   "metadata": {},
   "source": [
    "## Preparação do ambiente"
   ]
  },
  {
   "cell_type": "code",
   "execution_count": 19,
   "metadata": {},
   "outputs": [],
   "source": [
    "import sympy as sym\n",
    "import matplotlib.pyplot as plt\n",
    "import numpy as np"
   ]
  },
  {
   "cell_type": "markdown",
   "metadata": {},
   "source": [
    "## Definição\n",
    "\n",
    "A **transformada de Laplace** (unilateral) de um sinal contínuo $x(t)$ é:\n",
    "\n",
    "$$X(s) = \\int_{0^-}^\\infty x(t)e^{-st}\\,dt$$\n",
    "\n",
    "Repare que a integral começa de $t=0^-$. Isso é porque usamos a definição de transformada de Laplace unilateral. Existe uma outra definição (bilateral), menos usada, que começa de $t=-\\infty$. A desvantagem da transformada de Laplace unilateral é que só pode ser utilizada em sistemas causais. Como os sistemas encontrados na prática normalmente são causais, a transformada unilateral é mais usada, devido a sua maior simplicidade. O início é em $t=0^-$ para poder pegar eventuais impulsos que o sinal contenha. O significado de $t=0^-$ é um instante imediatamente antes de 0.\n",
    "\n",
    "A transformada de Laplace é indicada pelo seguinte operador:\n",
    "\n",
    "$X(s) = \\mathcal{L}(x(t))$"
   ]
  },
  {
   "cell_type": "markdown",
   "metadata": {},
   "source": [
    "___\n",
    "\n",
    "### Exemplo 1\n",
    "\n",
    "Para o sinal $x(t) = e^{-0.5t}u(t)$, a transformda de Laplace é:\n",
    "\n",
    "$X(s) = \\int_{0^-}^\\infty e^{-0.5t}u(t)e^{-st}\\,dt =\\int_{0^-}^\\infty e^{-(0.5+s)t}\\,dt$\n",
    "\n",
    "Se $\\mathrm{Re}(-0.5-s)<0$  a integral converge. Esses valores para os quais a transformada de Laplace converge é conhecido como **região de convergência**. A região de convergência tem muita importância prática quando trabalhamos com a transformada de Laplace bilateral, mas pouca importância na transformada de Laplace unilateral. Por esse motivo, não nos preocuparemos aqui com a região de convergência.\n",
    "\n",
    "A integral acima é:\n",
    "\n",
    "$X(s)= \\left.\\frac{e^{-(0.5+s)t}}{-(0.5+s)}\\right|_{t=0^-}^{\\infty} = \\frac{1}{s+0.5}$\n",
    "\n",
    "---"
   ]
  },
  {
   "cell_type": "markdown",
   "metadata": {},
   "source": [
    "### Transformada de Laplace de alguns sinais\n",
    "\n",
    "- $x(t) = \\delta(t-t_0)$\n",
    "\n",
    "$X(s) = \\int_{0^-}^\\infty \\delta(t-t_0)e^{-st}\\,dt = e^{-st_0}$\n",
    "\n",
    "- $x(t) = u(t)$\n",
    "\n",
    "$X(s) = \\int_{0^-}^\\infty u(t)e^{-st}\\,dt = \\left.\\frac{e^{-st}}{-s}\\right|_{t=0}^{\\infty} = \\frac{1}{s}$\n",
    "\n",
    "\n",
    "\n",
    "Abaixo segue uma tabela com alguns sinais encontrados frequentemente na prática:\n",
    "\n",
    "|$$\\bf{x(t)}$$                        | $$\\bf{X(s)}$$                                                          |\n",
    "|-------------------------------------|------------------------------------------------------------------------|\n",
    "|$\\delta(t)$                          | 1                                                                      |\n",
    "|$\\delta(t-t_0)$                      | $e^{-st_0}$                                                            |\n",
    "|$u(t)$                               | $\\frac{1}{s}$                                                          |\n",
    "|$u(t-t_0)$                           | $\\frac{e^{-st_0}}{s}$                                                    |    \n",
    "|$tu(t)$                              | $\\frac{1}{s^2}$                                                        |\n",
    "|$t^nu(t)$                            | $\\frac{n!}{s^{n+1}}$                                                   |\n",
    "|$e^{\\lambda t}u(t)$                  | $\\frac{1}{s-\\lambda}$                                                  |\n",
    "|$te^{\\lambda t}u(t)$                 | $\\frac{1}{(s-\\lambda)^2}$                                              |\n",
    "|$e^{-at}\\cos(b t)u(t)$               |$\\frac{s+a}{(s+a)^2+b^2}$                                               |\n",
    "|$e^{-at}\\mathrm{sen}(b t)u(t)$       |$\\frac{b}{(s+a)^2+b^2}$                                                 |\n",
    "|$e^{-at}\\mathrm{cos}(b t+\\theta)u(t)$|$\\frac{(s+a)\\cos(\\theta) + b\\mathrm{sen}(\\theta)}{(s+a)^2+b^2}$         |                                        |\n",
    "\n",
    "\n",
    "A obtenção de cada um dessas transformadas de Laplace fica como exercício."
   ]
  },
  {
   "cell_type": "markdown",
   "metadata": {},
   "source": [
    "## Propriedades da transformada de Laplace\n",
    "\n",
    "\n",
    "### Deslocamento no tempo\n",
    "\n",
    "$x_1(t) = x(t-t_0)$, com $t_0>0$\n",
    "\n",
    "-- **Prova**\n",
    "\n",
    "$X_1(s) = \\int_{0^-}^\\infty x_1(t)e^{-st}\\,dt = \\int_{0^-}^\\infty x(t-t_0)e^{-st}\\,dt = \\int_{0^-}^\\infty x(w)e^{-s(w+t_0)}\\,dw = e^{-st_0}\\int_0^\\infty x(w)e^{-sw}\\,dw = e^{-st_0}X(s)$\n",
    "\n",
    "Então:\n",
    "\n",
    "$\\boxed{\\mathcal{L}(x(t-t_0)) = e^{-st_0}X(s)}$\n",
    "\n"
   ]
  },
  {
   "cell_type": "markdown",
   "metadata": {},
   "source": [
    "### Deslocamento na frequência\n",
    "\n",
    "$x_1(t) = x(t)e^{s_0t}$\n",
    "\n",
    "-- **Prova**\n",
    "\n",
    "$X_1(s) = \\int_{0^-}^\\infty x(t)e^{s_0t}e^{-st}\\,dt = \\int_{0^-}^\\infty x(t)e^{-(s-s_0)t}\\,dt = X(s-s_0)$\n",
    "\n",
    "\n",
    "Então:\n",
    "\n",
    "$\\boxed{\\mathcal{L}(x(t)e^{s_0t}) = X(s-s_0)}$\n"
   ]
  },
  {
   "cell_type": "markdown",
   "metadata": {},
   "source": [
    "### Derivada\n",
    "\n",
    "- $x_1(t) = \\frac{dx}{dt}$\n",
    "\n",
    "- **Prova**\n",
    "\n",
    "$X_1(s) = \\int_{0^-}^\\infty \\frac{dx}{dt}e^{-st}\\,dt=\\left.x(t)e^{-st}\\right|_{t=0}^\\infty - \\int_{0^-}^\\infty -sx(t)e^{-st}\\,dt = sX(s)-x(0^-)$\n",
    "\n",
    "A integral acima foi feita utilizando o método de integral por partes.\n",
    "\n",
    "Então: \n",
    "\n",
    "$\\boxed{\\mathcal{L}\\left(\\frac{dx}{dt}\\right) = sX(s)-x(0^-)}$\n",
    "\n",
    "Uma consequência desta propriedade é que:\n",
    "\n",
    "$\\mathcal{L}\\left(\\frac{d^mx}{dt^m}\\right) = s^mX(s)-\\displaystyle\\sum_{k=2}^m s^{m-k}\\frac{d^{k-1}x}{dt^{k-1}}(0^-) - s^{m-1}x(0^-)$\n",
    "\n",
    "### Integral\n",
    "\n",
    "- $x_1(t) = \\int_0^\\infty x(t)\\,dt$, com $x_1(0) = 0$.\n",
    "\n",
    "- **Prova**\n",
    "\n",
    "$x(t) = \\frac{dx_1}{dt}$\n",
    "\n",
    "Com isso, usando a propriedade da derivada:\n",
    "\n",
    "$X(s) = sX_1(s) -x_1(0) = sX_1(s) \\rightarrow X_1(s) = \\frac{X(s)}{s}$\n",
    "\n",
    "Então\n",
    "\n",
    "$\\boxed{\\mathcal{L}\\left(\\int_0^\\infty x(t)\\,dt\\right) = \\frac{X(s)}{s}}$\n"
   ]
  },
  {
   "cell_type": "markdown",
   "metadata": {},
   "source": [
    "### Convolução\n",
    "\n",
    "A transformada de Laplace da convolução entre dois sinais é uma das propriedades mais importantes na análise de sinais e sistemas lineares e invariantes no tempo. \n",
    "\n",
    "$x_3(t) = x_1(t)*x_2(t) = \\int_{-\\infty}^\\infty x_1(\\tau)x_2(t-\\tau)\\,d\\tau$\n",
    "\n",
    "Com $x_1(t) = 0$ para $t<0$ e $x_2(t) = 0$ para $t < 0$.\n",
    "\n",
    "Então \n",
    "\n",
    "$x_3(t) = \\int_{0^-}^\\infty x_1(\\tau)x_2(t-\\tau)\\,d\\tau$\n",
    "\n",
    "$X_3(s) = \\int_{0^-}^\\infty x_3(t)e^{-st}\\,dt = \\int_{0^-}^\\infty e^{-st}\\int_{0^-}^\\infty x_1(\\tau)x_2(t-\\tau)\\,d\\tau\\,dt = \\int_{0^-}^\\infty x_1(\\tau)\\int_{0^-}^\\infty x_2(t-\\tau)e^{-st}\\,dtd\\tau = \\int_{0^-}^\\infty x_1(\\tau)\\int_{0^-}^\\infty x_2(w)e^{-s(w+\\tau)}\\,dwd\\tau = \\int_{0^-}^\\infty x_1(\\tau)e^{-s\\tau}\\int_{0^-}^\\infty x_2(w)e^{-sw}\\,dwd\\tau = X_1(s)X_2(s)$\n",
    "\n",
    "Então, a transformada de Laplace da convolução entre dois sinais é a multiplicação das transformadas de Laplace de cada um dos sinais:\n",
    "\n",
    "$\\boxed{X_3(s) = X_1(s)X_2(s)}$"
   ]
  },
  {
   "cell_type": "markdown",
   "metadata": {},
   "source": [
    "### Linearidade\n",
    "\n",
    "A transformada de Laplace é uma operação linear. Ou seja, valem as seguintes propriedades:\n",
    "\n",
    "$$\\mathcal{L}(x_1(t)) = X_1(s) \\text{ e } \\mathcal{L}(x_2(t)) = X_2(s)$$\n",
    "\n",
    "Então,\n",
    "\n",
    "$$\\boxed{\\mathcal{L}(x_1(t)+x_2(t)) = X_1(s) + X_2(s)}$$\n",
    "\n",
    "e\n",
    "\n",
    "$$\\boxed{\\mathcal{L}(\\alpha x_1(t)) = \\alpha X_1(s)}$$\n",
    "\n",
    "\n",
    "As provas dessas propriedades saem facilmente considerando que a transformada de Laplace é definida como uma integral, que é linear."
   ]
  },
  {
   "cell_type": "markdown",
   "metadata": {},
   "source": [
    "## Polos e zeros\n",
    "\n",
    "Na maioria dos sinais encontrados na prática, as transformadas de Laplace encontradas tem a forma de uma função racional (quociente de dois polinômios), na forma:\n",
    "\n",
    "\n",
    "$$X(s) =  \\frac{b_Ms^M +...+b_2s^2+b_1s + b_0}{s^N+ a_{N-1}s^{N-1}+...+a_1s+a_0}$$\n",
    "\n",
    "Pelo Teorema Fundamental da Álgebra, qualquer polinômio de grau $n$ tem $n$ raízes, e consequentemente a transformada de Laplace pode ser reescrita da seguinte forma:\n",
    "\n",
    "$X(S) = \\frac{G(s-z_1)(s-z_2)...(s-z_M)}{(s-p_1)(s-p_2)...(s-p_N)}$\n",
    "\n",
    "Os valores $z_i$ são as raízes do polinômio no numerador de $X(s)$. Esses valores são conhecidos como **zeros** de X(s). Os valores $p_i$ são as raízes do polinômio no denominador de $X(s)$. Esses valores são conhecidos como **polos** de X(s). Por fim, $G$ é uma constante.\n",
    "\n"
   ]
  },
  {
   "cell_type": "markdown",
   "metadata": {},
   "source": [
    "---\n",
    "\n",
    "### Exemplo 2\n",
    "\n",
    "A transformada $X(s)$ dada pela seguinte expressão:\n",
    "\n",
    "$$X(s) = \\frac{s^2-0.3s-0.1}{s^3+0.2s^2-0.11s-0.012}$$\n",
    "\n",
    "$X(s)$ pode ser reescrita da seguinte forma, com seus polos e zeros sendo mostrados explicitamente:\n",
    "\n",
    "$$X(s) = \\frac{(s-0.5)(s+0.2)}{(s+0.1)(s+0.4)(s-0.3)}$$\n",
    "\n",
    "\n",
    "É muito comum mostrar os polos e zeros no plano complexo. Normalmente os poos são marcados com 'x' e os zeros co  'o'.\n"
   ]
  },
  {
   "cell_type": "code",
   "execution_count": 15,
   "metadata": {},
   "outputs": [
    {
     "data": {
      "image/png": "[encoded data removed]",
      "text/plain": [
       "<Figure size 400x400 with 1 Axes>"
      ]
     },
     "metadata": {},
     "output_type": "display_data"
    }
   ],
   "source": [
    "fig, ax = plt.subplots(figsize=(4,4))\n",
    "ax.annotate('', [0.5,1], [0.5,0], arrowprops={})\n",
    "ax.annotate('', [1,0.5], [0,0.5], arrowprops={})\n",
    "ax.annotate('$\\Re\\{z\\}$', [1,0.5], fontsize=15)\n",
    "ax.annotate('$\\Im\\{z\\}$', [0.5,1], fontsize=15)\n",
    "plt.scatter([0.5-0.1, 0.5-0.4, 0.5+0.3], [0.5, 0.5, 0.5], color='black',  marker='x', s=100)\n",
    "plt.scatter([0.5+0.5, 0.5-0.2], [0.5, 0.5], color='black',  marker='o', s=100)\n",
    "ax.set_axis_off()\n",
    "ax.set_aspect('equal', 'box')\n",
    "plt.xlim(0,1.1)\n",
    "plt.ylim(0,1.1)\n",
    "plt.show()"
   ]
  },
  {
   "cell_type": "markdown",
   "metadata": {},
   "source": [
    "---\n",
    "\n",
    "---\n",
    "\n",
    "### Exemplo 3\n",
    "\n",
    "A transformada de Laplace, mostrada abaixo:\n",
    "\n",
    "$X(s) = \\frac{s+0.2}{s^3-0.5s^2+0.33s-0.029}$\n",
    "\n",
    "$X(s)$ pode ser reescrito na forma de polos e zeros como:\n",
    "\n",
    "$X(s) = \\frac{s+0.2}{(s-0.1)(s-0.2 - j0.5)(s-0.2+j0.5)}$\n"
   ]
  },
  {
   "cell_type": "code",
   "execution_count": 18,
   "metadata": {
    "scrolled": true
   },
   "outputs": [
    {
     "data": {
      "image/png": "[encoded data removed]",
      "text/plain": [
       "<Figure size 400x400 with 1 Axes>"
      ]
     },
     "metadata": {},
     "output_type": "display_data"
    }
   ],
   "source": [
    "fig, ax = plt.subplots(figsize=(4,4))\n",
    "ax.annotate('', [0.5,1], [0.5,0], arrowprops={})\n",
    "ax.annotate('', [1,0.5], [0,0.5], arrowprops={})\n",
    "ax.annotate('$\\Re\\{z\\}$', [1,0.5], fontsize=15)\n",
    "ax.annotate('$\\Im\\{z\\}$', [0.5,1], fontsize=15)\n",
    "plt.scatter([0.5+0.1, 0.5+0.2, 0.5+0.2], [0.5, 0, 1], color='black',  marker='x', s=100)\n",
    "plt.scatter([0.5-0.2], [0.5], color='black',  marker='o', s=100)\n",
    "ax.set_axis_off()\n",
    "ax.set_aspect('equal', 'box')\n",
    "plt.xlim(-0.1,1.1)\n",
    "plt.ylim(-0.1,1.1)\n",
    "plt.show()"
   ]
  },
  {
   "cell_type": "markdown",
   "metadata": {},
   "source": [
    "---"
   ]
  },
  {
   "cell_type": "markdown",
   "metadata": {},
   "source": [
    "## Exercícios"
   ]
  },
  {
   "cell_type": "markdown",
   "metadata": {},
   "source": [
    "**1)** Calcule a transformada de Laplace dos sinais com os  gráficos abaixo:\n",
    "\n",
    "a) "
   ]
  },
  {
   "cell_type": "code",
   "execution_count": 2,
   "metadata": {},
   "outputs": [
    {
     "data": {
      "image/png": "[encoded data removed]",
      "text/plain": [
       "<Figure size 400x300 with 1 Axes>"
      ]
     },
     "metadata": {},
     "output_type": "display_data"
    },
    {
     "data": {
      "text/plain": [
       "<sympy.plotting.plot.Plot at 0x7f20729dc160>"
      ]
     },
     "execution_count": 2,
     "metadata": {},
     "output_type": "execute_result"
    }
   ],
   "source": [
    "t = sym.symbols('t')\n",
    "x = sym.Piecewise((3, (t >= 0) & (t < 3)), \n",
    "                  (1, (t >= 3) & (t < 4)), \n",
    "                  (0, True))\n",
    "\n",
    "sym.plot(x, (t, 0, 5), size=(4,3))"
   ]
  },
  {
   "cell_type": "markdown",
   "metadata": {},
   "source": [
    "b) "
   ]
  },
  {
   "cell_type": "code",
   "execution_count": 3,
   "metadata": {},
   "outputs": [
    {
     "data": {
      "image/png": "[encoded data removed]",
      "text/plain": [
       "<Figure size 400x300 with 1 Axes>"
      ]
     },
     "metadata": {},
     "output_type": "display_data"
    },
    {
     "data": {
      "text/plain": [
       "<sympy.plotting.plot.Plot at 0x7f2036bafb20>"
      ]
     },
     "execution_count": 3,
     "metadata": {},
     "output_type": "execute_result"
    }
   ],
   "source": [
    "t = sym.symbols('t')\n",
    "x = sym.Piecewise((3*t, (t >= 0) & (t < 1)), \n",
    "                  (3, (t >= 1) & (t < 4)), \n",
    "                  (7-t, (t >= 4) & (t < 5)), \n",
    "                  (2, (t >= 5)), \n",
    "                  (0, True))\n",
    "\n",
    "sym.plot(x, (t, 0, 7), size=(4,3))"
   ]
  },
  {
   "cell_type": "markdown",
   "metadata": {},
   "source": [
    "c)"
   ]
  },
  {
   "cell_type": "code",
   "execution_count": 15,
   "metadata": {
    "tags": []
   },
   "outputs": [
    {
     "data": {
      "image/png": "[encoded data removed]",
      "text/plain": [
       "<Figure size 400x300 with 1 Axes>"
      ]
     },
     "metadata": {},
     "output_type": "display_data"
    }
   ],
   "source": [
    "t = sym.symbols('t')\n",
    "x = sym.Piecewise((-3*t, (t >= 0) & (t < 1)), \n",
    "                  (3*t-6, (t >= 1) & (t < 3)), \n",
    "                  (-3*t+12, (t >= 3) & (t < 4)), \n",
    "                  (0, True))\n",
    "\n",
    "sym.plot(x, (t, 0, 7), size=(4,3));"
   ]
  },
  {
   "cell_type": "markdown",
   "metadata": {},
   "source": [
    "d) "
   ]
  },
  {
   "cell_type": "code",
   "execution_count": 17,
   "metadata": {
    "tags": []
   },
   "outputs": [
    {
     "data": {
      "image/png": "[encoded data removed]",
      "text/plain": [
       "<Figure size 400x300 with 1 Axes>"
      ]
     },
     "metadata": {},
     "output_type": "display_data"
    }
   ],
   "source": [
    "t = sym.symbols('t')\n",
    "x = sym.cos(t)*(sym.Heaviside(t)-sym.Heaviside(t-sym.pi))\n",
    "\n",
    "sym.plot(x, (t, 0, 5), size=(4,3));"
   ]
  },
  {
   "cell_type": "markdown",
   "metadata": {},
   "source": [
    "**2)** Calcule a transformada de Laplace dos sinais abaixo:\n",
    "\n",
    "a) $x_1(t) = 2te^{-3t}u(t)$\n",
    "\n",
    "b) $x_2(t) = 10(t-4)e^{-3(t-4)}u(t-4)$\n",
    "\n",
    "c) $x_3(t) = 10\\cos\\left(2t-\\frac{\\pi}{3}\\right)$\n",
    "\n",
    "d) $x_4(t) = 5(t-6)u(t)$\n",
    "\n",
    "e) $x_5(t) = 10(t-4)e^{-3t-4}u(t-4)$"
   ]
  },
  {
   "cell_type": "markdown",
   "metadata": {},
   "source": [
    "**3)** Calcule a transformada de Laplace dos sinais periódicos abaixo. Dica: calcule a transformada de Laplace de um período. A transformada de Laplace do sinal inteiro é a soma da transformada de um período com os respectivos atrasos. Use as propriedades da linearidade e do deslocamento no tempo.\n",
    "\n",
    "a)"
   ]
  },
  {
   "cell_type": "code",
   "execution_count": 5,
   "metadata": {
    "tags": []
   },
   "outputs": [
    {
     "data": {
      "image/png": "[encoded data removed]",
      "text/plain": [
       "<Figure size 400x300 with 1 Axes>"
      ]
     },
     "metadata": {},
     "output_type": "display_data"
    },
    {
     "data": {
      "text/plain": [
       "<sympy.plotting.plot.Plot at 0x7f2035e61150>"
      ]
     },
     "execution_count": 5,
     "metadata": {},
     "output_type": "execute_result"
    }
   ],
   "source": [
    "t = sym.symbols('t')\n",
    "x = sym.Piecewise((t, (t >= 0) & (t < 1)), \n",
    "                  (t-1, (t >= 1) & (t < 2)), \n",
    "                  (t-2, (t >= 2) & (t <3)),\n",
    "                  (t-3, (t >= 3) & (t <4)),\n",
    "                  )\n",
    "\n",
    "sym.plot(x, (t, 0, 3.5), size=(4,3))"
   ]
  },
  {
   "cell_type": "markdown",
   "metadata": {},
   "source": [
    "b)"
   ]
  },
  {
   "cell_type": "code",
   "execution_count": 6,
   "metadata": {
    "tags": []
   },
   "outputs": [
    {
     "data": {
      "image/png": "[encoded data removed]",
      "text/plain": [
       "<Figure size 400x300 with 1 Axes>"
      ]
     },
     "metadata": {},
     "output_type": "display_data"
    },
    {
     "data": {
      "text/plain": [
       "<sympy.plotting.plot.Plot at 0x7f2035db3220>"
      ]
     },
     "execution_count": 6,
     "metadata": {},
     "output_type": "execute_result"
    }
   ],
   "source": [
    "t = sym.symbols('t')\n",
    "x = sym.Piecewise((1, (t >= 0) & (t < 1)), \n",
    "                  (0, (t >= 1) & (t < 2)), \n",
    "                  (1, (t >= 2) & (t <3)),\n",
    "                  (0, (t >= 3) & (t <4)),\n",
    "                  (1, (t >= 4) & (t <5)),\n",
    "                  (0, (t >= 5) & (t <6)),\n",
    "                  )\n",
    "\n",
    "sym.plot(x, (t, 0, 5.5), size=(4,3))"
   ]
  },
  {
   "cell_type": "markdown",
   "metadata": {},
   "source": [
    "c) Entre 0 e 2 segundos o sinal segue $e^{-2t}$."
   ]
  },
  {
   "cell_type": "code",
   "execution_count": 14,
   "metadata": {
    "tags": []
   },
   "outputs": [
    {
     "data": {
      "image/png": "[encoded data removed]",
      "text/plain": [
       "<Figure size 500x400 with 1 Axes>"
      ]
     },
     "metadata": {},
     "output_type": "display_data"
    }
   ],
   "source": [
    "t = sym.symbols('t')\n",
    "x = sym.Piecewise((sym.exp(-2*t), (t >= 0) & (t < 2)), \n",
    "                  (sym.exp(-2*(t-2)), (t >= 2) & (t < 4)), \n",
    "                  (sym.exp(-2*(t-4)), (t >= 4) & (t <6))\n",
    "                  )\n",
    "\n",
    "sym.plot(x, (t, 0, 5), size=(5,4));\n"
   ]
  },
  {
   "cell_type": "markdown",
   "metadata": {},
   "source": [
    "**4)** Considere o sinal \n",
    "\n",
    "$x(t) = \\beta e^{-2t}u(t)$\n",
    "\n",
    "O sinal $g(t)$ é dado por:\n",
    "\n",
    "$g(t) = x(t) + \\alpha\\frac{dx}{dt}$\n",
    "\n",
    "A transformada de Laplace de $g(t)$ é:\n",
    "\n",
    "$G(s) = \\frac{6s+2}{s+2}$\n",
    "\n",
    "Encontre os valores de $\\alpha$ e $\\beta$.\n"
   ]
  },
  {
   "cell_type": "markdown",
   "metadata": {},
   "source": [
    "**5)** Determine a transformada de Laplace da resposta de estado nulo do sistema linear e invariante no tempo às  entradas abaixo, considerando que esse sistema tem a seguinte resposta ao impulso:\n",
    "\n",
    "$h(t) = e^{-3t}u(t)$\n",
    "\n",
    "a) $x_1(t) = u(t)$\n",
    "\n",
    "b) $x_2(t) = e^{-2t}u(t)$\n",
    "\n",
    "c) $x_3(t) = \\cos(2t)u(t)$"
   ]
  },
  {
   "cell_type": "markdown",
   "metadata": {},
   "source": [
    "**6)** Calcule a transformada de Laplace dos seguintes sinais (usando a definição de transformada de Laplace):\n",
    "\n",
    "a) $x_1(t) = \\delta(t)$ \n",
    "\n",
    "b) $x_2(t) = u(t-t_0)$\n",
    "\n",
    "c) $x_3(t) = tu(t)$\n",
    "\n",
    "d) $x_4(t) = t^nu(t)$\n"
   ]
  },
  {
   "cell_type": "markdown",
   "metadata": {},
   "source": [
    "**7)**  Calcule a transformada de Laplace dos seguintes sinais (usando a definição de transformada de Laplace):\n",
    "\n",
    "a) $x_1(t) = e^{\\lambda t}u(t)$\n",
    "\n",
    "b) $x_2(t) = te^{\\lambda t}u(t)$ \n",
    "\n",
    "\n",
    "c) $x_3(t) = e^{-at}\\cos(b t)u(t)$\n",
    "\n",
    "d) $x_4(t) = e^{-at}\\mathrm{sen}(b t)u(t)$"
   ]
  },
  {
   "cell_type": "markdown",
   "metadata": {},
   "source": [
    "**8)** Determine a transformada de Laplace da resposta de estado nulo do sistema linear e invariante no tempo às  entradas abaixo, considerando que esse sistema tem a seguinte resposta ao impulso:\n",
    "\n",
    "$h(t) = e^{-2t}\\cos(8\\pi t)u(t)$\n",
    "\n",
    "a) $x_1(t) = u(t)$\n",
    "\n",
    "b) $x_2(t) = e^{-2t}u(t)$\n",
    "\n",
    "c) $x_3(t) = \\cos(8\\pi t)u(t)$"
   ]
  },
  {
   "cell_type": "markdown",
   "metadata": {},
   "source": [
    "## Referências\n",
    "\n",
    "- Ulaby, FT e Yagle, AE, Signals & Systems: Theory and Applications, 2018, [ss2.eecs.umich.edu](ss2.eecs.umich.edu)\n",
    "- Lathi, BP, Sinais e Sistemas Lineares, 2007\n",
    "- Oppenheim, M.  e Willsky, S., Sistemas e Sinais, 2010\n",
    "- Brown, James, e Ruel Churchill. Variáveis complexas e aplicações. (9ª edição), 2015."
   ]
  },
  {
   "cell_type": "markdown",
   "metadata": {},
   "source": [
    "## Solução dos exercícios"
   ]
  },
  {
   "cell_type": "markdown",
   "metadata": {},
   "source": [
    "***Exercício 1a.*** Resolvido por JORGE VINICIUS NASCIMENTO LAMAR\n",
    "\n",
    "$$\n",
    "y(t)=3(u(t)-u(t-3))+(u(t-3)-u(t-4))\n",
    "$$\n",
    "usando:\n",
    "$$\n",
    "\\mathcal{L}(u(t))=\\frac{1}{s} \\text { ; } \\mathcal{L}\\left(u\\left(t - t_0\\right)\\right)=\\frac{e^{-s t_0}}{s} \\text { ; Lineariedade }\n",
    "$$\n",
    "temos:\n",
    "$$\n",
    "\\begin{aligned}\n",
    "\\mathcal{L}(y(t)) & =\\frac{3}{s}-\\frac{3 e^{-3 s}}{s}+\\frac{e^{-3 s}}{s} \\cdot \\frac{e^{-4 s}}{s} \\\\\n",
    "& =\\frac{3-2 e^{-3 s}-e^{-4s}}{s}\n",
    "\\end{aligned}\n",
    "$$\n",
    "\n",
    "\n",
    "***Exercício 1b.***\n",
    "\n",
    "\\\\\n",
    "$$\n",
    "\\begin{aligned}\n",
    "y(t)=(3-t)(u(t)-u(t-1)) & +3(u(t-1)-u(t-4))+(7-t)(u(t+4)-u(t-5))+ \\\\\n",
    "& +2(u(t-5))\n",
    "\\end{aligned}\n",
    "$$\n",
    "usando:\n",
    "$$\n",
    "\\mathcal{L}(u(t))=\\frac{1}{s} ; \\mathcal L\\left(u\\left(t-t_0\\right)\\right)=\\frac{e^{-s t_0}}{s} ; \\mathcal L(t u(t))=\\frac{1}{s^2} \\text { ; Lineariedade }\n",
    "$$\\\n",
    "$$\n",
    "\\begin{aligned}\n",
    "y(t)= & 3 u(t)-3 u(t-1)-t u(t)+t u(t-1)+3 u(t-1)-3 u(t-4)+7 u(t-4)- \\\\\n",
    "& -7 u(t-5)-t u(t-4)+t u(t-5)+2 u(t-5)\n",
    "\\end{aligned}\n",
    "$$\\\n",
    "$$\n",
    "\\begin{aligned}\n",
    "\\mathcal L(y(t)) & =\\frac{3}{s}-\\frac{3 e^{-3 s}}{s}-\\frac{1}{s^2}+\\frac{e^{-s}}{s^2}+\\frac{3 e^{-s}}{s}-\\frac{3 e^{-4 s}}{s}+\\frac{7 e^{-4 s}}{s}-\\frac{7 e^{-5s}}{s} \\\\\n",
    "& -\\frac{e^{-4 s}}{s^2}+\\frac{e^{-5 s}}{s^2}+\\frac{2 e^{-5 s}}{s} \\\\\n",
    "& =\\frac{3-3 e^{-3 s}+3 e^{-5 s}-3 e^{-4 s}+7 e^{-4 s}-7 e^{-5 s}+2 e^{-5 s}}{s}-\\frac{1+e^{-s}-e^{-4 s}+e^{-5 s}}{s^2}\n",
    "\\end{aligned}\n",
    "$$\n",
    "\\begin{aligned}\n",
    "& =\\frac{3-e^{-3 s}-2 e^{-5 s}+4 e^{-4 s}}{s}-\\frac{1+e^{-s}-e^{-4 s}+e^{-5 s}}{s^2} \\\\\n",
    "& =\\frac{s^2\\left(3-e^{-3 s}-2 e^{-5 s}+4 e^{-4 s}\\right)+s\\left(-1 e^{-s}-e^{-4 s}+e^{-5s}\\right)}{s^3}\n",
    "\\end{aligned}\n",
    "\n",
    "\n",
    "***Exercício 1c.***\n",
    "\n",
    "$y(t)=-3 t(u(t)-u(t-1))+(3 t-6)(u(t-1)-u(t-3))+(-3 t+12)(u(t-3)-u(t-4))\n",
    "$\n",
    "\n",
    " usando:\n",
    "$$\n",
    "\\begin{aligned}\n",
    "& \\mathcal{L}(u(t))=\\frac{1}{s} ; \\quad \\mathcal{L}\\left(u\\left(t-t_0\\right)\\right)=\\frac{e^{-s t_0}}{s} ; \\quad \\mathcal{L}(t u(t))=\\frac{1}{s^2} \\text { ; Lineariedade. }\n",
    "\\\\\n",
    "\\\\\n",
    "& y(t)=-3 t u(t)+3 t u(t-1)+3 t u(t-1)-3 t u(t-3)-6 u(t-1)+6 u(t-3)-3 t u(t-3) \\\\\n",
    "& +3 t u(t-4)+12 u(t-3)-12 u(t-4) \\\\\n",
    "\\\\\n",
    "& y(t)=-3 t u(t)+6 t u(t-1)-6 t u(t-3)+3 t u(t-4)-6 u(t-1)+18 u(t-3)-12 u(t-4) \\\\\n",
    "\\\\\n",
    "\\\\\n",
    "& \\mathcal L(y(t))=\\frac{-3+6 e^{-s}-6 e^{-3 s}+3 e^{-4s}}{s^2}-\\frac{6 e^{-s}+18 e^{-3 s}-12 e^{-4s}}{s} \\\\\n",
    "& =\\frac{s\\left(-3+6 e^{-5}-6 e^{-35}+3 e^{-4s}\\right)+s^2\\left(6 e^{-s}+18 e^{-3 s}-12 e^{-4 s}\\right)}{s^3} \\\\\n",
    "&\n",
    "\\end{aligned}\n",
    "$$\n",
    "\\\n",
    "\\\n",
    "***Exercício 1d.***\n",
    "\\\n",
    "\\\n",
    " $\\quad y(t)=\\cos (t)(u(t)-u(t-\\pi))$\n",
    "\n",
    "usando,\n",
    "$$\n",
    "\\begin{aligned}\n",
    "& \\mathcal L(\\cos (b t) u(t))=\\frac{s}{s^2+b^2} ; \\quad \\mathcal{L}(x(t-t_0))=e^{-st_0} X(s) ; \\quad \\text {  Lineariedade } \\\\\n",
    "\\\\\n",
    "\\\\\n",
    "& y(t)=\\cos (t) u(t)-\\cos (t) u(t-\\pi) \\\\\n",
    "\\\\\n",
    "& \\mathcal L(y(t))=\\frac{s}{s^2+1}-\\mathcal L(\\cos (t) u(t-\\pi))\n",
    "\\end{aligned}\n",
    "$$\n",
    "Fazendo\n",
    "$$\n",
    "\\omega=t-\\pi \\Rightarrow t=\\omega+\\pi\n",
    "$$\n",
    "usando:\n",
    "$$\n",
    "\\cos (a+b)=\\cos (a) \\cos (b)+\\operatorname{sen}(a) \\operatorname{sen}(b)\n",
    "$$\n",
    "temos:\n",
    "$$\n",
    "\\begin{aligned}\n",
    "& \\cos (\\omega+\\pi) u(\\omega)=(\\cos (\\omega) \\cos (\\pi)+\\operatorname{sen}(\\omega) \\operatorname{sen}(\\pi)) u(\\omega) \\\\\n",
    "& =\\cos (\\omega) u(\\omega)=\\cos (t-\\pi) u(t-\\pi) \\\\\n",
    "\\\\\n",
    "& \\mathcal L(y(t))=\\frac{s}{s^2+1}+\\left(\\frac{s}{s^2+1}\\right) e^{-\\pi s}=\\frac{s\\left(e^{-\\pi s}+1\\right)}{s^2+1}\n",
    "\\end{aligned}\n",
    "$$\n"
   ]
  },
  {
   "cell_type": "markdown",
   "metadata": {},
   "source": [
    "***Exercício 2a.*** Resolvido por JORGE VINICIUS NASCIMENTO LAMAR\n",
    "\n",
    "\\begin{aligned}\n",
    "& x_n(t)=2 t e^{-3 t} u(t) \\\\\n",
    "& x_1(s)=\\mathcal{L}\\left(x_1(t)\\right)=\\int_0^{\\infty} x(t) e^{-s t} d t \\\\\n",
    "& =2 \\int_0^{\\infty} t e^{-3 t} u(t) e^{-s t} d t \\\\\n",
    "& \\text { Usando: } \\\\\n",
    "& \\mathcal{L}\\left(t e^{\\lambda t} u(t)\\right)=\\frac{1}{(s-\\lambda)^2} \\\\\n",
    "& \\mathcal{L}\\left(x_1(t)\\right.)=\\frac{2}{(s+3)^2} \\\\\n",
    "&\n",
    "\\end{aligned}\n",
    "\\\n",
    "\\\n",
    "\\\n",
    "***Exercício 2b.***\n",
    "\n",
    "$$\n",
    "\\begin{aligned}\n",
    "x_2(t) & =10(t-4) e^{-3(t-4)} u(t-4) \\\\\n",
    "x_2(t) & =10 t e^{-3 t} u(t)  \\text { com atraso de 4 } \\\\\n",
    "\\mathcal{L}\\left(x_2(t)\\right) & =\\int_0^{\\infty} 10 t e^{-3 t} u(t) d t \\\\\n",
    "& =10 \\int_0^{\\infty} t e^{-3 t} u(t) d t\n",
    "\\end{aligned}\n",
    "$$\n",
    "usando:\n",
    "$$\n",
    "\\begin{aligned}\n",
    "& \\mathcal{L}\\left(t e^{\\lambda t} u(t)\\right)=\\frac{1}{(s-\\lambda)^2} \\\\\n",
    "& \\mathcal{L}\\left(x_2(t)\\right)=\\frac{10}{(s+3)^2}\n",
    "\\end{aligned}\n",
    "$$\n",
    "Da propriedade de deslocamento no tempo, \\\\\n",
    " $$\\mathcal{L}\\left(x\\left(t-t_0\\right))=e^{-s t_0} X(s)\\right.$$\n",
    " $$\\mathcal{L}\\left(x_2(t)\\right)=\\frac{10 e^{-4 s}}{(s+3)^2}$$\n",
    "\\\n",
    "\\\n",
    "\\\n",
    "***Exercício 2c.***\n",
    "\\\n",
    "\\begin{aligned}\n",
    "& x_3(t)=10 \\cos \\left(2 t-\\frac{\\pi}{3}\\right) \\\\\n",
    "& x_3(t)=10\\left(e^{-0 t} \\cos \\left(2 t-\\frac{\\pi}{3}\\right) u(t)\\right)\n",
    "\\end{aligned}\n",
    "\\\n",
    "usando:\n",
    "\\\n",
    "\\begin{aligned}\n",
    "& \\mathcal{L}\\left(e^{-\\alpha t} \\cos (b t+\\theta) u(t)\\right)=\\frac{(s+a) \\cos (\\theta)+b \\operatorname{sen}(\\theta)}{(s+\\alpha)^2+b^2} \\\\\n",
    "& \\mathcal{L}\\left(x_3\\right)=10\\left(\\frac{\\operatorname{s\\,cos}\\left(\\frac{\\pi}{3}\\right)+2 \\operatorname{sen}\\left(\\frac{\\pi}{3}\\right)}{s^2+2^2}\\right) \\\\\n",
    "&=\\frac{5 s+20 \\operatorname{sen}\\left(\\frac{\\pi}{3}\\right)}{s^2+2^2}\n",
    "\\end{aligned}\n",
    "\\\n",
    "\\\n",
    "\\\n",
    "***Exercício 2d.***\n",
    "    \\begin{aligned}\n",
    "x_4(t) & =5(t-6) u(t) \\\\\n",
    "x_4(t) & =5 t \\,u(t)+30 u(t) \\\\\n",
    "\\mathcal{L}\\left(x_4(t)\\right) & =\\mathcal{L}(5t \\, u(t))+\\mathcal{L}(30 u(t)) \\\\\n",
    "& =5 \\mathcal{L}(tu(t))+30 \\mathcal{L}(u(t)) \\\\\n",
    "& =5\\left(\\frac{1}{s^2}\\right)+30\\left(\\frac{1}{s}\\right)  \\\\\n",
    "& =\\frac{5}{s^2}+\\frac{30}{s}\n",
    "\\end{aligned}\n",
    "\\\n",
    "\\\n",
    "\\\n",
    "***Exercício 2e.***\n",
    "\\begin{aligned}\n",
    "x_5(t) & =10(t-4) e^{-3 t-4} u(t-4) \\\\\n",
    "& \\mathcal{L}(x_5(t))=10 e^{-4} \\mathcal{L}\\left\\{(t-4) e^{-3 t} u(t-4)\\right\\} \\\\\n",
    "k & =t-4: \\\\\n",
    "& =10 e^{-4} \\mathcal{L}\\left\\{k e^{-3(k+4)} u(k)\\right\\} \\\\\n",
    "& =10 e^{-4} \\mathcal{L}\\left\\{k e^{-3 k-12} u(k)\\right\\} \\\\\n",
    "& =10 e^{-4} e^{-12} \\mathcal{L}\\left\\{k e^{-3 k} u(k)\\right\\} \\\\\n",
    "& =\\frac{10 e^{-16}}{(s+3)^2} = X(s)\\\\\n",
    "& \\textit{Da propriede de deslocamento no tempo:}\\\\\n",
    "& \\mathcal{L}\\left(x\\left(t-t_0\\right)\\right)=e^{-s t_0} X(s) \\\\\n",
    "& \\mathcal{L}(x(t-4))=e^{-4s} \\cdot \\frac{10 e^{-16}}{(s+3)^2}\n",
    "\\end{aligned}"
   ]
  },
  {
   "cell_type": "markdown",
   "metadata": {},
   "source": [
    "***Exercício 3a.*** Resolvido por JORGE VINICIUS NASCIMENTO LAMAR\n",
    "\n",
    "\\begin{aligned}\n",
    "\\textit{1º período} \\\\\n",
    "& x(t) = t(u(t)-u(t-1)) \\\\\n",
    "& x(t) = t u(t)-t u(t-1) \\\\\n",
    "& \\mathcal{L}(x(t))=\\mathcal{L}(t u(t)-t u(t-1)) \\\\\n",
    "&  \\mathcal{L}(x(t))=\\mathcal{L}(t u(t))-\\mathcal{L}(t u(t-1)) \\\\\n",
    "\\textit{fazendo w = t-1}\\\\\n",
    "& \\mathcal{L}(x(t))=\\frac{1}{s^2}-\\mathcal{L}((w+1) u(w)) \\\\\n",
    "& =\\frac{1}{s^2}-(\\mathcal{L}(w u(w))+\\mathcal{L}(u(w))) \\\\\n",
    "& =\\frac{1}{s^2}-\\left(\\frac{1 \\cdot e^{-s}}{s^2}+\\frac{1 e^{-s}}{s}\\right) \\\\\n",
    "& =\\sum_{n=0}^{\\infty}\\left(\\frac{1-e^{-s}}{s^2}-\\frac{e^{-s}}{s}\\right) e^{-sTn}\\\\\n",
    "& =\\left(\\frac{1-e^{-s}}{s^2}-\\frac{e^{-s}}{s}\\right) \\sum_{n=0}^{\\infty}e^{-sTn}\\\\\n",
    "\\textit{fazendo T=1}\\\\\n",
    "& =\\left(\\frac{1-e^{-s}}{s^2}-\\frac{e^{-s}}{s}\\right) \\sum_{n=0}^{\\infty}{\\left(e^{-s}\\right)}^{n}\\\\\n",
    "\\textit{temos assim uma soma de P.G. finita que resulta em: }\\\\\n",
    "& \\sum_{n=0}^{\\infty}{\\left(e^{-s}\\right)}^{n} = \\frac{1}{1-e^{-s}}\\\\\n",
    "\\textit{portanto:}\\\\\n",
    "& \\mathcal{L}(x(t))=\\left(\\frac{1-e^{-s}}{s^2}-\\frac{e^{-s}}{s}\\right)\\frac{1}{1-e^{-s}}\n",
    "\\end{aligned}\n",
    "\\\n",
    "\\\n",
    "\\\n",
    "***Exercício 3b.***\n",
    "\\begin{aligned}\n",
    "    \\textit{1º período} \\\\\n",
    "& x(t) = u(t)-u(t-1) \\\\\n",
    "& \\mathcal{L}(x(t))=\\mathcal{L}(u(t)-u(t-1)) \\\\\n",
    "& =\\frac{1-e^{-s}}{s} \\\\\n",
    "& =\\sum_{n=0}^{\\infty}\\left(\\frac{1-e^{-s}}{s}\\right) e^{-s T n}\\\\\n",
    "\\textit{fazendo T=2}\\\\\n",
    "& =\\left(\\frac{1-e^{-s}}{s}\\right)\\sum_{n=0}^{\\infty}{\\left(e^{-s2}\\right)}^{n}\\\\\n",
    "\\textit{temos assim uma soma de P.G. finita que resulta em: }\\\\\n",
    "& \\sum_{n=0}^{\\infty}{\\left(e^{-s}\\right)}^{n} = \\frac{1}{1-e^{-s2}}\\\\\n",
    "\\textit{portanto:}\\\\\n",
    "& \\mathcal{L}(x(t))=\\left(\\frac{1-e^{-s}}{s}\\right)\\frac{1}{1-e^{-s2}}\n",
    "\\end{aligned}\n",
    "\\\n",
    "\\\n",
    "\\\n",
    "***Exercício 3c.***\n",
    "\\begin{aligned}\n",
    "    \\textit{1º período} \\\\\n",
    "& x(t)=e^{-2 t}(u(t)-u(t-2)) \\\\\n",
    "& x(t)=e^{-2 t} u(t)-e^{-2 t} u(t-2) \\\\\n",
    "& \\mathcal{L}(x(t))=\\mathcal{L}\\left(e^{-2 t} u(t))-\\mathcal{L}\\left(e^{-2 t} u(t-2)\\right)\\right. \\\\\n",
    "& \\text { Fazendo } t=\\omega+2 \\\\\n",
    "& =\\frac{1}{s+2}+\\mathcal{L}\\left(e^{-2(\\omega+2)} u(\\omega)\\right) \\\\\n",
    "& =\\frac{1}{s+2}+e^{-4} \\mathcal{L}\\left(e^{-2 w} u(w)\\right) \\\\\n",
    "& =\\frac{1}{s+2}+e^{-4-2 s}\\left(\\frac{1}{s+2}\\right) \\\\\n",
    "& =\\frac{1+e^{-(4+2 s)}}{s+2} \\\\\n",
    "& =\\sum_{n=0}^{\\infty}\\left(\\frac{1+e^{-(4+2 s)}}{s+2}\\right) e^{-s T n} \\\\\n",
    "\\textit{fazendo T=2}\\\\\n",
    "& =\\left(\\frac{1+e^{-(4+2 s)}}{s+2}\\right)\\sum_{n=0}^{\\infty}{\\left(e^{-s2}\\right)}^{n} \\\\\\\\\n",
    "\\textit{temos assim uma soma de P.G. finita que resulta em: }\\\\\n",
    "& \\sum_{n=0}^{\\infty}{\\left(e^{-s}\\right)}^{n} = \\frac{1}{1-e^{-s2}}\\\\\n",
    "\\textit{portanto:}\\\\\n",
    "& \\mathcal{L}(x(t))=\\left(\\frac{1+e^{-(4+2 s)}}{s+2}\\right)\\frac{1}{1-e^{-s2}}\n",
    "\\end{aligned}"
   ]
  },
  {
   "cell_type": "markdown",
   "metadata": {},
   "source": [
    "**4)** Resolvido por JULIANA SOARES DA SILVA DE OLIVEIRA\n",
    "\n",
    "Considere o sinal\n",
    "\n",
    "$x(t) = \\beta e^{-2t}u(t)$\n",
    "\n",
    "O sinal $g(t)$ é dado por:\n",
    "\n",
    "$g(t) = x(t) + \\alpha\\frac{dx}{dt}$\n",
    "\n",
    "A transformada de Laplace de $g(t)$ é:\n",
    "\n",
    "$G(s) = \\frac{6s+2}{s+2}$\n",
    "\n",
    "Encontre os valores de $\\alpha$ e $\\beta$.\n",
    "\n",
    "$g(t) = \\beta e^{-2t}u(t) + \\alpha\\frac{dx}{dt}$\n",
    "\n",
    "$G(s) = \\beta \\frac{1}{s+2} + \\alpha (sX(s)-x(0^-)) = \\frac{\\beta}{s+2} + \\frac{\\alpha\\beta s}{s+2}$\n",
    "\n",
    "$\\beta = 2$ e $\\alpha = 3$"
   ]
  },
  {
   "cell_type": "markdown",
   "metadata": {},
   "source": [
    "**5)**  Resolvido por JULIANA SOARES DA SILVA DE OLIVEIRA\n",
    "\n",
    "Determine a transformada de Laplace da resposta de estado nulo do sistema linear e invariante no tempo às  entradas abaixo, considerando que esse sistema tem a seguinte resposta ao impulso:\n",
    "\n",
    "$h(t) = e^{-3t}u(t)$\n",
    "\n",
    "a) $x_1(t) = u(t)$\n",
    "\n",
    "$x_1(t)*h(t) = X_1(s)H(s)$\n",
    "\n",
    "$X_1(s) = \\frac{1}{s}$\n",
    "\n",
    "$H(s) = \\frac{1}{s+3}$\n",
    "\n",
    "$x_1(t)*h(t) = \\frac{1}{s}\\frac{1}{s+3} = \\frac{1}{s^2+3s}$\n",
    "\n",
    "\n",
    "b) $x_2(t) = e^{-2t}u(t)$\n",
    "\n",
    "$x_2(t)*h(t) = X_1(s)H(s)$\n",
    "\n",
    "$X_2(s) = \\frac{1}{s+2}$\n",
    "\n",
    "$H(s) = \\frac{1}{s+3}$\n",
    "\n",
    "$x_2(t)*h(t) = \\frac{1}{s+2}\\frac{1}{s+3} = \\frac{1}{s^2+5s+6}$\n",
    "\n",
    "\n",
    "c) $x_3(t) = \\cos(2t)u(t)$\n",
    "\n",
    "$x_3(t)*h(t) = X_1(s)H(s)$\n",
    "\n",
    "$X_3(s) = \\frac{s}{s^2+2^2}$\n",
    "\n",
    "$H(s) = \\frac{1}{s+3}$\n",
    "\n",
    "$x_3(t)*h(t) = \\frac{s}{s^2+2^2}\\frac{1}{s+3} = \\frac{s}{s^3+3s^2+4s+12}$"
   ]
  },
  {
   "cell_type": "markdown",
   "metadata": {},
   "source": [
    "***Exercício 6.*** Resolvido por JORGE VINICIUS NASCIMENTO LAMAR\n",
    "a)\n",
    "\\\n",
    "$x_1(t)=\\delta(t)$\n",
    "\n",
    "usando a definição :\n",
    "$$\n",
    "X_1(s)=\\int_{0^-}^{\\infty} x_1(t) e^{-s t} d t=\\int_{0^-}^{\\infty} \\delta(t) e^{-s t} d t\n",
    "$$\n",
    "Sabendo que $\\delta(t)$ é 0 para qualquer valor diferente de 0 , e que sua integral é  1, temos,\n",
    "\n",
    "$$\n",
    "\\left.e^{-s t}\\right|_{t=0}=1\n",
    "$$\n",
    "\n",
    "\n",
    "***Exercício 6b.***\n",
    "\n",
    "\\\n",
    "$$\n",
    "\\begin{aligned}\n",
    "&  \\begin{aligned}\n",
    "& x_2(t)=u\\left(t-t_0\\right) \\\\\n",
    "& X_2(t)=\\int_{0^-}^{\\infty} u\\left(t-t_0\\right) e^{-s t} d t \\\\\n",
    "\\\\\n",
    "& \\text{fazendo,}\n",
    "\\end{aligned} \\\\\n",
    "& u=t-t_0 \\rightarrow t=w+t_0\n",
    "\\end{aligned}\n",
    "$$\n",
    "temos\n",
    "$$\n",
    "\\int_{0^-}^{\\infty} u(w) e^{-s\\left(w+t_0\\right)} d w=e^{-s t_0} \\int_{0^-}^{\\infty} u(w) e^{-s(w)}=e^{-s t_0}\\left[-\\frac{e^{-s t}}{s}\\right]_{t=0}^{\\infty}=\\frac{e^{-s t_0}}{s}\n",
    "$$\n",
    "\\\n",
    "\\\n",
    "\\\n",
    "***Exercício 6c.***\n",
    "\n",
    "$$\n",
    "\\begin{aligned}\n",
    "& x_3(t)=t u(t) \\\\\n",
    "\\\\\n",
    "& \\int_{0^-}^{\\infty} \\operatorname{tu}(t) e^{-s t} d t=\\int_{0^-}^{\\infty} t e^{-s t} d t  \\\\\n",
    "\\\\\n",
    "& \\text { integrando por partes, } \\\\\n",
    "& u v-\\int v d u=-\\frac{t e^{-s t}}{s} - \\int_{0^-}^{\\infty} \\frac{e^{-s t}}{s} d t \\Rightarrow-\\frac{t e^{-s t}}{s} - \\frac{1}{s} \\int_{0^-}^{\\infty} e^{-st} \\\\\n",
    "& =-\\left.\\frac{t e^{-s t}}{s}\\right|_{0^-} ^{\\infty}+\\left.\\frac{1}{s}\\left(-\\frac{e^{-st}}{s}\\right)\\right|_{0^-} ^{\\infty}=(0-0)+\\left(0-\\left(-\\frac{e^{-0}}{s^2}\\right)=\\frac{1}{s^2}\\right. \\\\\n",
    "&\n",
    "\\end{aligned}\n",
    "$$\n",
    "\n",
    "\n",
    "***Exercício 6d.***\n",
    "\n",
    "\\begin{aligned}\n",
    "& x_4(t)=t^n u(t) \\\\\n",
    "& \\int_{0^{-}}^{\\infty} t^n u(t) e^{-s t} d t=\\int_{0^-}^{\\infty} t^n e^{-s t} d t \\Rightarrow \\begin{array}{ll}\n",
    "\\text { integrando por partes }\n",
    "\\end{array} \\Rightarrow \\begin{array}{ll}\n",
    "u=t^n & v=-\\frac{e^{-s t}}{s} \\\\\n",
    "d u= n t^{n-1} & d v=e^{-s t}\n",
    "\\end{array} \\\\\n",
    "\\\\\n",
    "& =-\\frac{t^n e^{-s t}}{s}+\\frac{1}{s} \\int_{0^-}^{\\infty} n t^{n-1} e^{-s t} d t=-\\frac{t^n e^{-s t}}{s}+\\frac{1}{s}\\left(-\\frac{n t^{n-1} e^{-s t}}{s}+\\frac{1}{s} \\int_{0^-}^{\\infty} n(n-1) t^{n-2} e^{-s t} d t\\right) \\\\\n",
    "&\n",
    "\\end{aligned}\n",
    "\\begin{aligned}\n",
    "&\n",
    "=\\left.-e^{-s t}\\sum_{k=1}^{n} \\frac{n! t^{n-k+1} }{s^k (n-k+1)!}\\right|{t=0} ^{\\infty}+\\frac{1}{s^n} \\int_0^{\\infty} n ! t^0 e^{-s t} d t=0+\\left(0-\\left.\\left(-\\frac{n ! e^{s t}}{s^{n+1}}\\right)\\right|{t=0} ^{\\infty}\\right)=\\frac{n ! }{s^{n+1}}\n",
    "\\end{aligned}\n"
   ]
  },
  {
   "cell_type": "markdown",
   "metadata": {},
   "source": [
    "**7)** Resolvido por JORGE VINICIUS NASCIMENTO LAMAR\n",
    "\n",
    "***Exercício 7a.***\n",
    "\n",
    "(7) a) $x_1(t)=e^{\\lambda t} u(t)$\n",
    "$$\n",
    "\\int_{0^-}^{\\infty} e^{\\lambda t} u(t) e^{-s t} d t=\\int_{0^-}^{\\infty} e^{\\lambda t} e^{-s t} d t=\\int_{0^-}^{\\infty} e^{(\\lambda-s) t} d t=\\left.\\frac{e^{(\\lambda-s) t}}{(\\lambda-s)}\\right|_{0^-} ^{\\infty}=-\\frac{1}{\\lambda-s}\n",
    "$$\n",
    "\n",
    "\\\n",
    "\n",
    "\n",
    "\n",
    "***Exercício 7b.***\n",
    "\n",
    "\n",
    "b) $x_1(t)=t e^{\\lambda t} u(t)$\n",
    "\n",
    "$$\n",
    "\\begin{aligned}\n",
    "& \\int_{0^-}^{\\infty} t e^{\\lambda t} e^{-s t} d t=\\int_{0^-}^{\\infty} t e^{(\\lambda-s) t} d t=-\\frac{t e^{(\\lambda-s) t}}{(\\lambda-s)}+\\frac{1}{(\\lambda-s)} \\int_{0^-}^{\\infty} e^{(\\lambda-s) t} d t \\\\\n",
    "&=-\\frac{1}{(\\lambda - s)^2}=\\frac{1}{(s-\\lambda)^2}\n",
    "\\end{aligned}\n",
    "$$\n",
    "\n",
    "\\\n",
    "\n",
    "\\\n",
    "\n",
    "\n",
    "***Exercício 7c.***\n",
    "\\begin{aligned}\n",
    "& \\text { c) } x_3(t)=e^{-a t} \\cos (b t) u(t) \\\\\n",
    "\\\\\n",
    "& \\int_{0^{-}}^{\\infty} e^{-a t} \\cos (b t) u(t) e^{-s t} d t=\\int_{0^-}^{\\infty} e^{-(a + s) t} \\cos (b t) d t=\\int_{0^{-}}^{\\infty} e^{-(a +s) t}\\left(\\frac{e^{b j t}+e^{-b j t}}{2}\\right) d t= \\\\\n",
    "& =\\int_{0^-}^{\\infty} \\frac{e^{(b j-(a+s)) t}+e^{(-b j-(a+s)) t}}{2} d t=\\frac{1}{2}\\left(\\left[\\frac{e^{(b j-(a+s) t}}{b j-(a+s)}\\right]_{t=0}^{\\infty}+\\left[\\frac{e^{(-b j-(a+s)) t}}{-b j-(a+s)}\\right]_{t=0}^{\\infty}\\right)= \\\\\n",
    "& =-\\frac{1}{2}\\left(\\frac{1}{b j-(a+s)}+\\frac{1}{-b j-(a+s)}\\right)=-\\frac{1}{2}\\left(\\frac{b j+(a+s)-b j+(a+s)}{(b j-(a+s))(b j+(a+s))}\\right)= \\\\\n",
    "& =-\\frac{1}{2}\\left(\\frac{2(a+s)}{-b^2+(a+s) b j-(a+s) b j-(a+s)^2}\\right)=\\frac{a+s}{b^2+(a+s)^2} \\\\\n",
    "&\n",
    "\\end{aligned}\n",
    "\n",
    "\\\n",
    "\n",
    "\n",
    "\n",
    "***Exercício 7d.***\n",
    "\n",
    "\\\n",
    "\n",
    "\n",
    "\\begin{aligned}\n",
    "& \\text {d) } x_4(t)=e^{-a t} \\operatorname{sen}(b t) u(t) \\\\\n",
    "& \\int_{0^{-}}^{\\infty} e^{-a t} \\operatorname{sen}(b t) u(t) e^{-s t} d t=\\int_{0^{-}}^{\\infty} e^{-(a+s) t} \\operatorname{sen}(b t) d t=\\int_{0^{-}}^{\\infty} e^{-(a+s) t}\\left(\\frac{e^{b j t}-e^{-b j t}}{2 j}\\right) d t \\\\\n",
    "& =\\frac{1}{2 j} \\int_{0^{-}}^{\\infty} e^{(-(a+s)+b j) t}-e^{(-b j-(a+s)) t} d t=\\frac{1}{2j}\\left(\\left[\\frac{e^{(b j-(a+s)) t}}{b j-(a+s)}\\right]_{t=0}^{\\infty}+\\left[\\frac{e^{-(b j+(a+s) t}}{b j+(a+s)}\\right]_{t=0}^{\\infty}\\right) \\\\\n",
    "& =\\frac{1}{2 j}\\left(-\\frac{1}{b j-(a+s)}-\\frac{1}{b j+(a+s)}\\right)=-\\frac{1}{2 j}\\left(\\frac{b j+(a+s)+b j-(a+s)}{(b j-(a+s))(b j+(a+s))}\\right)= \\\\\n",
    "& =-\\frac{1}{2 j}\\left(\\frac{2 b j}{-b^2+b j(a+s)-b j(a+s)-(a+s)^2}\\right)=\\frac{b}{b^2+(a+s)^2} \\\\\n",
    "&\n",
    "\\end{aligned}"
   ]
  },
  {
   "cell_type": "markdown",
   "metadata": {},
   "source": [
    "**8)** Resolvido por JULIANA SOARES DA SILVA DE OLIVEIRA\n",
    "\n",
    "$h(t) = e^{-2t}\\cos(8\\pi t)u(t)$\n",
    "\n",
    "$H(s) = \\frac{s+2}{(s+2)^2+(8\\pi)^2} = \\frac{s+2}{s^2+4s+4+16\\pi^2}$\n",
    "\n",
    "a) $x_1(t) = u(t)$\n",
    "\n",
    "$x_1(t)*h(t) = X_1(s)H(s)$\n",
    "\n",
    "$X_1(s) = \\frac{1}{s}$\n",
    "\n",
    "$x_1(t)*h(t) = \\frac{1}{s}\\frac{s+2}{s^2+4s+4+16\\pi^2} = \\frac{s+2}{s^3+4s^2+(4+16\\pi^2)s}$\n",
    "\n",
    "\n",
    "b) $x_2(t) = e^{-2t}u(t)$\n",
    "\n",
    "$x_2(t)*h(t) = X_1(s)H(s)$\n",
    "\n",
    "$X_2(s) = \\frac{1}{s+2}$\n",
    "\n",
    "$x_2(t)*h(t) = \\frac{1}{s+2}\\frac{s+2}{s^2+4s+4+16\\pi^2} = \\frac{s+2}{s^3+6s^2+(12+16\\pi^2)s+(8+32\\pi^2)}$\n",
    "\n",
    "\n",
    "c) $x_3(t) = \\cos(8\\pi t)u(t)$\n",
    "\n",
    "$x_3(t)*h(t) = X_1(s)H(s)$\n",
    "\n",
    "$X_3(s) = \\frac{s}{s^2+16\\pi^2}$\n",
    "\n",
    "$x_3(t)*h(t) = \\frac{s}{s^2+16\\pi^2}\\frac{s+2}{s^2+4s+4+16\\pi^2} = \\frac{s^2+2s}{s^4+4s^3+(4+32\\pi^2)s^2+64\\pi^2s+(64\\pi^2+256\\pi^4)}$"
   ]
  },
  {
   "cell_type": "code",
   "execution_count": null,
   "metadata": {},
   "outputs": [],
   "source": []
  }
 ],
 "metadata": {
  "kernelspec": {
   "display_name": "Python 3 (ipykernel)",
   "language": "python",
   "name": "python3"
  },
  "language_info": {
   "codemirror_mode": {
    "name": "ipython",
    "version": 3
   },
   "file_extension": ".py",
   "mimetype": "text/x-python",
   "name": "python",
   "nbconvert_exporter": "python",
   "pygments_lexer": "ipython3",
   "version": "3.10.11"
  }
 },
 "nbformat": 4,
 "nbformat_minor": 4
}
