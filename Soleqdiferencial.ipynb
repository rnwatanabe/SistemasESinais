{
 "cells": [
  {
   "cell_type": "markdown",
   "id": "3641f59d-4f6f-48dd-a3b6-632dc86d97f7",
   "metadata": {},
   "source": [
    "# Resposta de entrada nula de equações diferenciais\n",
    "\n",
    "Renato Naville Watanabe"
   ]
  },
  {
   "cell_type": "markdown",
   "id": "1a62c970-58ef-49cd-a5a1-f77f0b3bd534",
   "metadata": {},
   "source": [
    "## Preparação do ambiente"
   ]
  },
  {
   "cell_type": "code",
   "execution_count": 1,
   "id": "5da733a4-5e04-485a-9029-5eea9dd57535",
   "metadata": {
    "tags": []
   },
   "outputs": [],
   "source": [
    "import sympy as sym\n",
    "import matplotlib.pyplot as plt"
   ]
  },
  {
   "cell_type": "markdown",
   "id": "629354ac-5bf4-4f5c-be15-4e67df00506d",
   "metadata": {},
   "source": [
    "## Definição do problema"
   ]
  },
  {
   "cell_type": "markdown",
   "id": "12adaddd-34bb-4022-a043-8e8b71374fed",
   "metadata": {},
   "source": [
    "Aqui, vamos encontrar uma expressão para $y(t)$ que só dependa de $n$, dada uma equação de diferenças linear e invariante no tempo:\n",
    "\n",
    "$$\\frac{d^Ny}{dt^N} + a_{N-1}\\frac{d^{N-1}y}{dt^{N-1}}+...+a_0y(t) = b_M\\frac{d^Mx}{dt^M} +...+b_2\\frac{d^2x}{dt^2}+b_1\\frac{dx}{dt} + b_0x(t) $$"
   ]
  },
  {
   "cell_type": "markdown",
   "id": "ecd6a357-ecb2-4e4f-9ae7-7eb7166e1722",
   "metadata": {},
   "source": [
    "## Composição da solução"
   ]
  },
  {
   "cell_type": "markdown",
   "id": "f3b22713-f0e3-484a-9817-b67cb9343ad6",
   "metadata": {},
   "source": [
    "A solução desta equação é formada por duas partes:\n",
    "\n",
    "$$y(t) = y_{zi}(t) + y_{zs}(t)$$\n",
    "\n",
    "em que $y_{zi}(t)$ é a parte de $y$ devida às condições iniciais do sinal de saída (os valores de $y(0), \\frac{dy}{dt}(0), ..., \\frac{d^{N-1}y}{dt^{N-1}}(0)$). Para o cálculo dessa componente, considera-se que a entrada $x(t)$ e todas as suas derivadas são nulas ($zi$ é de *zero input*, **entrada nula** em inglês). \n",
    "\n",
    "A outra componente, $y_{zs}(t)$, é devido à entrada $x(t)$. Para o cálculo dessa componente consideramos que os valores de $y(0), \\frac{dy}{dt}(0), ..., \\frac{d^{N-1}y}{dt^{N-1}}(0)$ são todos iguais a 0 ($zs$ é de *zero state*, **estado nulo** em inglês, às vezes também chamado de **repouso**)."
   ]
  },
  {
   "cell_type": "markdown",
   "id": "1fa58dc3-41ba-46ce-82a0-ab20d72400fe",
   "metadata": {},
   "source": [
    "Aqui, vamos entender como obter a reposta de entrada nula para sistemas contínuos lineares e invariantes no tempo. A resposta devido à entrada será abordada em outro momento."
   ]
  },
  {
   "cell_type": "markdown",
   "id": "8cab1fd1-b490-4ecf-8bd0-5de5f69c9ed4",
   "metadata": {},
   "source": [
    "## Solução pelo polinômio característico"
   ]
  },
  {
   "cell_type": "markdown",
   "id": "0966410d-2519-414b-8d16-fdcf2bc97495",
   "metadata": {},
   "source": [
    "Agora, vamos desenvolver um método para encontrar a expressão de $y_{zi}(t)$ sem ser necessário analisar o gráfico nem obter os valores de $y_{zi}(t)$ de forma recuirsiva."
   ]
  },
  {
   "cell_type": "markdown",
   "id": "26cf641f-ddd2-44f7-8b83-57c6fc11f3f7",
   "metadata": {},
   "source": [
    "Temos que achar um sinal que satisfaça a seguinte equação:\n",
    "\n",
    "$$\\frac{d^Ny}{dt^N} + a_{N-1}\\frac{d^{N-1}y}{dt^{N-1}}+...+a_0y(t) = 0$$\n",
    "\n",
    "Para que essa soma dê zero, o formato de $y_{zi}(t)$ tem que ser o mesmo das derivadas do próprio sinal. Um sinal que tem esse formato é $ce^{\\lambda t}$. A enésima derivada desse sinal é:\n",
    "\n",
    "$$c\\lambda^Ne^{\\lambda t} = de^{\\lambda t}$$\n",
    "\n",
    "Portanto, um candidato para a solução da equação é $ce^{\\lambda t}$. Substituindo esse sinal na equação acima:\n",
    "\n",
    "$$c\\lambda^Ne^{\\lambda t} + a_{N-1}c\\lambda^{N-1}e^{\\lambda t} +...+a_0ce^{\\lambda t} = 0$$\n",
    "\n",
    "Pondo $c$ e $e^{\\lambda t}$ em evidência:\n",
    "\n",
    "$$ce^{\\lambda t}\\left(\\lambda^N + a_{N-1}\\lambda^{N-1}+...+a_0\\right) = 0$$\n",
    "\n",
    "como $e^{\\lambda t}$ é diferente de 0 para qualquer $t$:\n",
    "\n",
    "$$\\lambda^N + a_{N-1}\\lambda^{N-1}+...+a_0 = 0$$\n",
    "\n",
    "Portanto, o valor de $\\lambda$ é a solução do polinômio formado pelos coeficientes da equação diferecial. Esse polinômio é conhecido como **polinômio característico** da equação diferencial.  O polinômio acima pode ser decomposto da seguinte forma (Teorema Fundamental da Álgebra):\n",
    "\n",
    "$$(\\lambda-\\lambda_1)(\\lambda-\\lambda_2)(\\lambda-\\lambda_3)...(\\lambda-\\lambda_N) = 0 $$\n",
    "\n",
    "Então, existem $N$ soluções do polinômio. Portanto, $ce^{\\lambda_i t}$ são soluções da equação diferencial. A solução geral é uma combinação linear de todas as soluções:\n",
    "\n",
    "$$y_{zi}(t) = c_1e^{\\lambda_1 t} + c_2e^{\\lambda_2 t} + ... + c_Ne^{\\lambda_N t} $$\n",
    "\n",
    "A determinação dos valores de $c_i$ é feita a partir das condições iniciais ($y(0), \\frac{dy}{dt}(0), ..., \\frac{d^{N-1}y}{dt^{N-1}}(0)$)."
   ]
  },
  {
   "cell_type": "markdown",
   "id": "4bf2980b-0380-4e5b-a08e-97d015bc0379",
   "metadata": {},
   "source": [
    "### Exemplo 1\n",
    "\n",
    "Vamos encontrar a solução de entrada nula para a equação diferencial abaixo."
   ]
  },
  {
   "cell_type": "markdown",
   "id": "a208476b-5d26-409c-abfb-3b4612d13542",
   "metadata": {},
   "source": [
    "A equação é:\n",
    " \n",
    "$\\frac{dy}{dt} - 0.5y(t) = x(t)$\n",
    "\n",
    "com $y(0) = 1$\n",
    "\n",
    "O polinômio característico da equação é:\n",
    "\n",
    "$\\lambda - 0.5 = 0$\n",
    "\n",
    "A solução da equação é:\n",
    "\n",
    "$\\lambda_1 = 0.5$\n",
    "\n",
    "Portanto, a solução de entrada nula é:\n",
    "\n",
    "$y_{zi}(t) = ce^{0.5^t}$ para $t\\geq 0$.\n",
    "\n",
    "Ou,\n",
    "\n",
    "$y_{zi}(t) = ce^{0.5t}u[t]$\n",
    "\n",
    "Para saber o valor de $c$, usamos $y(0) = 1$:\n",
    "\n",
    "$y_{zi}(0) = ce^{0.5t} = 1 \\rightarrow c = 1$\n",
    "\n",
    "Portanto:\n",
    "\n",
    "$y_{zi}(t) = e^{0.5t}u(t)$"
   ]
  },
  {
   "cell_type": "markdown",
   "id": "165501ec-5d58-4fe7-a7d0-9242ee2f38cf",
   "metadata": {},
   "source": [
    "### Exemplo 2\n",
    "\n",
    "Vamos agora obter uma expressão da solução de entrada nula da seguinte equação diferencial:\n",
    "\n",
    "$\\frac{d^2y}{dt^2} + 3\\frac{dy}{dt} - 4y(t) = 3x(t) + \\frac{dx}{dt}$\n",
    "\n",
    "com \n",
    "\n",
    "$y(0) = 1$ e $\\frac{dy}{dt}(0) = 0.5$\n",
    "\n",
    "O polinômio característico é:\n",
    "\n",
    "$\\lambda^2 + 3\\lambda -4 = 0$\n",
    "\n",
    "As soluções dessa equação são $\\lambda_1 = 1$ e $\\lambda_2=-4$. Então a solução da equação de diferenças é:\n",
    "\n",
    "$y_{zi}(t) = c_1e^t + c_2e^{-4t}$, para $t\\geq 0 $\n",
    "\n",
    "Utilizando as condições iniciais:\n",
    "\n",
    "$y(0) = 1 = c_1 + c_2$\n",
    "\n",
    "$\\frac{dy}{dt}(0) = 0.5 = c_1 - 4c_2$\n",
    "\n",
    "Então $c_1=0.9$ e $c_2=0.1$ e:\n",
    "\n",
    "$y_{zi}(t) = 0.9e^t + 0.1e^{-4t}$, para $t\\geq 0 $"
   ]
  },
  {
   "cell_type": "markdown",
   "id": "b3d2def1-b1ed-4d84-ba69-8d26c71d1d99",
   "metadata": {},
   "source": [
    "O gráfico dos primeiros 10 segundos está abaixo:"
   ]
  },
  {
   "cell_type": "code",
   "execution_count": 1,
   "id": "481dabcb-d92a-4eb2-9c2b-c6d9add0ca86",
   "metadata": {
    "tags": []
   },
   "outputs": [
    {
     "data": {
      "image/png": "[encoded data removed]",
      "text/plain": [
       "<Figure size 640x480 with 1 Axes>"
      ]
     },
     "metadata": {},
     "output_type": "display_data"
    },
    {
     "data": {
      "text/latex": [
       "$\\displaystyle 0.9 e^{t} + 0.1 e^{- 4 t}$"
      ],
      "text/plain": [
       "0.9*exp(t) + 0.1*exp(-4*t)"
      ]
     },
     "execution_count": 1,
     "metadata": {},
     "output_type": "execute_result"
    }
   ],
   "source": [
    "t = sym.symbols('t')\n",
    "yzi = 0.9*sym.exp(t) + 0.1*sym.exp(-4*t)\n",
    "sym.plot(yzi, (t, 0, 10))\n",
    "yzi"
   ]
  },
  {
   "cell_type": "markdown",
   "id": "59ca76c6-858d-41c5-b32d-6e83aac7f827",
   "metadata": {
    "tags": []
   },
   "source": [
    "## Caso de raízes complexas\n",
    "\n",
    "No caso de raízes complexas, como a equação de diferenças tem coeficientes reais, elas sempre aparecerão em pares complexos conjugados ($\\lambda_1 = \\alpha+j\\beta$ e $\\lambda_2 = \\alpha - j\\beta$).\n",
    "\n",
    "Então, a parte da solução devida a essas raízes é:\n",
    "\n",
    "$$y_{zi}(t) = c_1e^{(\\alpha+j\\beta)t} + c_2e^{(\\alpha-j\\beta)t}$$\n",
    "\n",
    "Como sinal é real, $c_1$ e $c_2$ também serão complexos conjugados:\n",
    "\n",
    "$c_1 = \\frac{c}{2}e^{j\\theta}$ e $c_2 = \\frac{c}{2}e^{-j\\theta}$\n",
    "\n",
    "Então:\n",
    "\n",
    "$$y_{zi}(t) = \\frac{c}{2}e^{j\\theta}e^{(\\alpha+j\\beta)t} + \\frac{c}{2}e^{-j\\theta}e^{(\\alpha-j\\beta)t} = \\frac{c}{2}e^{j\\theta}e^{\\alpha t}e^{j\\beta t} + \\frac{c}{2}e^{-j\\theta}e^{\\alpha t}e^{-j\\beta t}=ce^{\\alpha t}\\left(\\frac{e^{j(\\beta t+\\theta)} + e^{-j(\\beta t+\\theta)}}{2}\\right) = ce^{\\alpha t}\\cos(\\beta t+\\theta)$$\n",
    "\n",
    "É importante notar que se o polinômio característico tiver mais raízes reais, elas continuam sendo tratadas da mesma maneira."
   ]
  },
  {
   "cell_type": "markdown",
   "id": "8fc44751-0128-440d-aea2-5cd3ebb993d5",
   "metadata": {},
   "source": [
    "### Exemplo 3\n",
    "\n",
    "Considere um sistema com a seguinte equação diferencial:\n",
    "\n",
    "$$\\frac{d^2y}{dt^2} = -2\\frac{dy}{dt} - 2y(t) + x(t)$$\n",
    "\n",
    "com $y(0) = 0$ e $\\frac{dy}{dt}(0) = -1$.\n",
    "\n",
    "O polinômio característico do sistema é:\n",
    "\n",
    "$\\lambda^2 + 2\\lambda + 2 = 0$\n",
    "\n",
    "As raízes do polinômio são $\\lambda_1= -1+j$ e $\\lambda_2= -1-j$.\n",
    "\n",
    "Então a solução de entrada nula é:\n",
    "\n",
    "$$y_{zi}(t) = c_1e^{(-1+j)t} +  c_2e^{(-1-j)t} = $$\n",
    "\n",
    "Usando as condições iniciais, temos:\n",
    "\n",
    "$$c_1 + c_2 = 0$$\n",
    "\n",
    "$$c_1(-1+j) +  c_2(-1-j)=-1$$\n",
    "\n",
    "Resolvendo o sistema de equações acima chegamos a $c_1 = 0.5j=0.5e^{j\\frac{\\pi}{2}}$ e $c_2 =  -0.5j=0.5e^{-j\\frac{\\pi}{2}}$.\n",
    "\n",
    "Então, a resposta de entrada nula é:\n",
    "\n",
    "$y_{zi}(t) = 0.5e^{j\\frac{\\pi}{2}}e^{(-1+j)t} + 0.5e^{-j\\frac{\\pi}{2}}e^{(-1-j)t} = 0.5e^{-t}2\\frac{e^{j(t+\\frac{\\pi}{2})}+e^{-j(t+\\frac{\\pi}{2})}}{2} = e^{-t}\\cos\\left(t+\\frac{\\pi}{2}\\right)$\n",
    "\n",
    "Abaixo é mostrado o gráfico com os primeiros 10 segundos do sinal."
   ]
  },
  {
   "cell_type": "code",
   "execution_count": 2,
   "id": "49137f66-6932-411b-8899-a64ef641d86a",
   "metadata": {
    "tags": []
   },
   "outputs": [
    {
     "data": {
      "image/png": "[encoded data removed]",
      "text/plain": [
       "<Figure size 640x480 with 1 Axes>"
      ]
     },
     "metadata": {},
     "output_type": "display_data"
    },
    {
     "data": {
      "text/plain": [
       "<sympy.plotting.plot.Plot at 0x7f0a3acb59c0>"
      ]
     },
     "execution_count": 2,
     "metadata": {},
     "output_type": "execute_result"
    }
   ],
   "source": [
    "yzi = sym.exp(-t)*sym.cos(t+sym.pi/2)\n",
    "sym.plot(yzi, (t, 0, 10))\n"
   ]
  },
  {
   "cell_type": "markdown",
   "id": "8c13da70-d399-4980-ae62-018cdf1bf7fc",
   "metadata": {},
   "source": [
    "## Caso de raízes repetidas\n",
    "\n",
    "No caso do polinômio característico ter $r$ raízes repetidas $\\lambda_1$, as soluções correspondentes seguem a seguinte forma:\n",
    "\n",
    "$$e^{\\lambda_1 t}, te^{\\lambda_1 t}, t^2e^{\\lambda_1 t}, ..., t^{r-1}e^{\\lambda_1 t}$$\n",
    "\n",
    "Portanto, se o polinômio característico for:\n",
    "\n",
    "$$(\\lambda-\\lambda_1)^r(\\lambda - \\lambda_{r+1})...(\\lambda-\\lambda_N) = 0$$\n",
    "\n",
    "A solução de entrada nula tem a seguinte forma:\n",
    "\n",
    "$$y_{zi}(t) = c_1e^{\\lambda_1 t}+ c_2te^{\\lambda_1 t}+c_3t^2e^{\\lambda_1 t}, ..., c_{r-1}t^{r-1}e^{\\lambda_1 t} + c_{r+1}e^{\\lambda_{r+1}t} + ... + c_Ne^{\\lambda_N t}$$\n"
   ]
  },
  {
   "cell_type": "markdown",
   "id": "f692e095-9694-421e-87be-e08e6cb66c8f",
   "metadata": {
    "tags": []
   },
   "source": [
    "### Exemplo 4\n",
    "\n",
    "Considere um sistema com a seguinte equação diferencial:\n",
    "\n",
    "$$\\frac{d^2y}{dt^2} = -4\\frac{dy}{dt} - 4y(t) + 3x(t)$$\n",
    "\n",
    "com $y(0) = 1$ e $\\frac{dy}{dt}(0) = 0$\n",
    "\n",
    "O polinômio característico é:\n",
    "\n",
    "$\\lambda^2 + 4\\lambda + 4 = 0$\n",
    "\n",
    "As raízes da equação são iguais e iguais a -2. Então, a resposta de entrada nula é:\n",
    "\n",
    "$y_{zi}(t) = c_1e^{-2t} + c_2te^{-2t}$\n",
    "\n",
    "Usando as condições iniciais:\n",
    "\n",
    "$$c_1 = 1 $$\n",
    "\n",
    "$$\\frac{dy}{dt} = -2c_1e^{-2t} + c_2e^{-2t} - 2c_2te^{-2t} \\rightarrow -2c_1 + c_2 = 0 \\rightarrow c_2=2$$\n",
    "\n",
    "Então:\n",
    "\n",
    "$y_{zi}(t) = e^{-2t} + 2te^{-2t}$"
   ]
  },
  {
   "cell_type": "code",
   "execution_count": 3,
   "id": "378e9d55-f8f1-4d45-8801-53c4fb006fe2",
   "metadata": {},
   "outputs": [
    {
     "data": {
      "image/png": "[encoded data removed]",
      "text/plain": [
       "<Figure size 640x480 with 1 Axes>"
      ]
     },
     "metadata": {},
     "output_type": "display_data"
    },
    {
     "data": {
      "text/plain": [
       "<sympy.plotting.plot.Plot at 0x7f0a0046efe0>"
      ]
     },
     "execution_count": 3,
     "metadata": {},
     "output_type": "execute_result"
    }
   ],
   "source": [
    "yzi = sym.exp(-2*t)+2*t*sym.exp(-2*t)\n",
    "sym.plot(yzi, (t, 0, 10))"
   ]
  },
  {
   "cell_type": "markdown",
   "id": "beda322b-fe94-4238-a960-5eefb8539e53",
   "metadata": {},
   "source": [
    "### Resumo do procedimento para encontrar a solução de entrada nula de uma equação diferencial linear e invariante no tempo\n",
    "\n",
    "- **1** Eliminar os termos referentes ao sinal de entrada\n",
    "\n",
    "- **2** Encontrar o polinômio característico da equação diferencial\n",
    "\n",
    "- **3** Encontrar as raízes $\\lambda_i$ do polinômio característico\n",
    "\n",
    "- **4** Formar o sinal de resposta nula $y_{zi}(t) = c_1e^{\\lambda_1 t} + c_2e^{\\lambda_2 t} + ... + c_Ne^{\\lambda_N t}$ \n",
    "\n",
    "Caso a raiz $\\lambda_1$ seja repetida $r$ vezes, a saída terá a forma $y_{zi}(t) = c_1e^{\\lambda_1 t} + c_2te^{\\lambda_1 t} + c_3t^2e^{\\lambda_1 t} +... + c_rt^{r-1}e^{\\lambda_1 t} + c_{r+1}e^{\\lambda_{r+1} t} + ... + c_Ne^{\\lambda_N t}$\n",
    "\n",
    "- **5** Encontrar os valores de $c_i$ utilizando as condições iniciais.\n",
    "\n",
    "- **6** Caso entre as raízes contenham pares complexos conjugados, juntar os termos para formar cossenos."
   ]
  },
  {
   "cell_type": "markdown",
   "id": "88005c24-50f1-45bf-b891-8b1bb00bee47",
   "metadata": {},
   "source": [
    "## Exercícios"
   ]
  },
  {
   "cell_type": "markdown",
   "id": "beb9ec7b-a15d-4183-8e8f-33485acbdf08",
   "metadata": {},
   "source": [
    "**1)** Encontre a solução de entrada nula para os sistemas descritos pelas seguintes equações diferenciais e condições iniciais.\n",
    "\n",
    "a) $\\frac{d^2y}{dt^2} = -4\\frac{dy}{dt}-6y(t) + \\frac{dx}{dt} + x(t)$, com $y(0) = 2, \\frac{dy}{dt}(0) = 1$ e $x(t)=u(t)$\n",
    "\n",
    "b) $\\frac{d^2y}{dt^2} = -4\\frac{dy}{dt}-4y(t)  + x(t)$, com $y(0) = 3, \\frac{dy}{dt}(0) = -4$ e $x(t) = e^{-3t}u(t)$\n",
    "\n",
    "c) $\\frac{d^2y}{dt^2} = -\\frac{dy}{dt} + \\frac{dx}{dt} + x(t)$, com $y(0) = 1, \\frac{dy}{dt}(0) = 1$ e $x(t) = 25u(t)$\n",
    "\n",
    "d) $\\frac{d^2y}{dt^2} = -4y(t) + x(t)$, com $y(0) = 0, \\frac{dy}{dt}(0) = 6$ e $x(t) = cos(2t)u(t)$\n",
    "\n",
    "e) $\\frac{d^2y}{dt^2} = -4\\frac{dy}{dt}-13y(t) + 4\\frac{dx}{dt} + 2x(t)$, com $y(0) = 1, \\frac{dy}{dt}(0) = 9.9$ e $x(t) = e^{-t}u(t)$\n",
    "\n",
    "\n",
    "\n"
   ]
  },
  {
   "cell_type": "markdown",
   "id": "b80c7c91-7409-4420-aff9-65e3a7c4b7be",
   "metadata": {},
   "source": [
    "**2)** Um sistema de tempo contínuo, linear e invariante no tempo tem a sua resposta de entrada nula $y_{zi}(t) = 4e^{-2t}u(t) + 2u(t)$\n",
    "\n",
    "a) Essa resposta pode ter vindo do sistema $\\frac{dy}{dt} +2y(t) = x(t)$?\n",
    "\n",
    "b) Essa resposta pode ter vindo do sistema $\\frac{d^2y}{dt^2} = - 2\\frac{dy}{dt}+3x(t)$?\n",
    "\n",
    "c) Essa resposta pode ter vindo do sistema $\\frac{d^3y}{dt^3} = - 4\\frac{d^2y}{dt^2} - 4\\frac{dy}{dt}+2x(t)$?"
   ]
  },
  {
   "cell_type": "markdown",
   "id": "6573601b-c4a1-4073-9e6b-d6cdf51e72b7",
   "metadata": {},
   "source": [
    "**3)** Encontre a solução de entrada nula para os sistemas descritos pelas seguintes equações diferenciais e condições iniciais:\n",
    "\n",
    "a) $\\frac{d^2y}{dt^2}+11\\frac{dy}{dt}+10y(t) = 5\\frac{dx}{dt} + 2x(t)$, com $y(0) = 1$ e $\\frac{dy}{dt}(0)=1$ e $x(t) = e^{-3t}u(t)$\n",
    "\n",
    "b) $\\frac{d^2y}{dt^2} = y(t)+\\frac{dx}{dt} + x(t)$, com $y(0)=-2$, $\\frac{dy}{dt}(0) = 1 $ e $x(t)=e^{-2t}u(t)$\n",
    "\n",
    "c) $\\frac{d^2y}{dt^2} = 2\\frac{dy}{dt} - 5y(t) + 7\\frac{dx}{dt} +2x(t)$, com $y(0)=-1$, $\\frac{dy}{dt}(0) = 3 $ e $x(t)=e^{-5t}u(t)$\n",
    "\n",
    "d) $\\frac{d^3y}{dt^3} = -1\\frac{d2y}{dt^2} + 2\\frac{d^2x}{dt^2} + 3x(t)$, com $y(0) = 2, \\frac{dy}{dt}(0) = 1, \\frac{d2y}{dt^2}(0) = 0$ e $x(t) = u(t)$\n",
    "\n"
   ]
  },
  {
   "cell_type": "markdown",
   "id": "0b699363-a716-42e4-9b6b-7c951ff46889",
   "metadata": {},
   "source": [
    "**4)** Encontre a solução de entrada nula para os sistemas descritos pelas seguintes equações diferenciais:\n",
    "\n",
    "a) $\\frac{d^4 y}{dt^4} = -y(t) + x(t)$, com  com $y(0)=1$, $\\frac{dy}{dt}(0) = 1 $, $\\frac{d^2y}{dt^2}(0) = 0$, $\\frac{d^3y}{dt^3}(0) = -1 $ e $x(t)=e^{-2t}u(t)$\n",
    "\n",
    "b) $\\frac{d^3 y}{dt^3} = -y(t) + x(t) + \\frac{dx}{dt}$, com  com $y(0)=1$, $\\frac{dy}{dt}(0) = 1 $, $\\frac{d^2y}{dt^2}(0) = 0$ e $x(t)=e^{-t}u(t)$\n",
    "\n",
    "c) $\\frac{d^4 y}{dt^4} = -\\frac{1}{16}y(t) + x(t)$, com  com $y(0)=1$, $\\frac{dy}{dt}(0) = 1 $, $\\frac{d^2y}{dt^2}(0) = 0$, $\\frac{d^3y}{dt^3}(0) = -1 $ e $x(t)=e^{-3t}u(t)$\n",
    "\n"
   ]
  },
  {
   "cell_type": "markdown",
   "id": "bdd7b838-9f3c-4c21-8094-cc1e946705e3",
   "metadata": {},
   "source": [
    "## Referências\n",
    "\n",
    "- Lathi, BP, Sinais e Sistemas Lineares, 2007\n",
    "\n"
   ]
  },
  {
   "cell_type": "markdown",
   "id": "7083341e-0466-4bc8-bdf1-1bdc86574883",
   "metadata": {},
   "source": [
    "## Solução dos exercícios"
   ]
  },
  {
   "cell_type": "markdown",
   "id": "609adeac-40fe-467b-aa33-341e71c45066",
   "metadata": {},
   "source": [
    "**2)** Resolvido por Catherine\n",
    "\n",
    "a) Sistema: $\\frac{dy}{dt} + 2y(t) = x(t)$\n",
    "\n",
    "Resolvendo a equação homogênea associada: $\\frac{dy_h}{dt} + 2y_h(t) = 0$. A solução da equação homogênea é $y_h(t) = Ae^{-2t}$. A resposta fornecida é $y_{zi}(t) = 4e^{-2t} + 2$ não corresponde à solução homogênea nem a uma solução particular da equação não homogênea. Portanto, a resposta não pode ter vindo deste sistema.\n",
    "\n",
    "b) Sistema: $\\frac{d^2y}{dt^2} = -2\\frac{dy}{dt} + 3x(t)$\n",
    "\n",
    "Resolvendo a equação homogênea associada: $\\frac{d^2y_h}{dt^2} - 2\\frac{dy_h}{dt} = 0$. A equação característica associada é $r^2 - 2r = 0$, com raízes $r = 0$ e $r = 2$. Portanto, a solução homogênea é $y_h(t) = (C_1 + C_2e^{2t})u(t)$. A resposta fornecida é $y_{zi}(t) = 4e^{-2t}u(t) + 2u(t)$ que equivale a $C_1=2$ e $C_2=4$. Portanto, essa resposta veio desse sistema.\n",
    "\n",
    "c) Sistema: $\\frac{d^3y}{dt^3} = -4\\frac{d^2y}{dt^2} - 4\\frac{dy}{dt} + 2x(t)$\n",
    "\n",
    "Resolvendo a equação homogênea associada: $\\frac{d^3y_h}{dt^3} = -4\\frac{d^2y_h}{dt^2} - 4\\frac{dy_h}{dt}$. A equação característica associada é $r^3 + 4r^2 + 4r = 0$, com raiz $r = 0$. Portanto, a solução homogênea é $y_h(t) = C_1 + C_2t + C_3t^2$. A resposta fornecida é $y_{zi}(t) = 4e^{-2t} + 2$ não corresponde à solução homogênea nem a uma solução particular da equação não homogênea. Portanto, a resposta não pode ter vindo deste sistema."
   ]
  },
  {
   "cell_type": "markdown",
   "id": "9a8e72c0-2ebc-4cdc-b982-7a3bad4acfb0",
   "metadata": {},
   "source": [
    "**3)** Resolvido por Catherine\n",
    "\n",
    "\n",
    "**a)**\n",
    "Dada a equação diferencial:\n",
    "$$\\frac{d^2y}{dt^2} + 11\\frac{dy}{dt} + 10y(t) = 5\\frac{dx}{dt} + 2x(t)$$\n",
    "\n",
    "E as condições iniciais: $y(0) = 1$ e $\\frac{dy}{dt}(0) = 1$, e $x(t) = e^{-3t}u(t)$.\n",
    "\n",
    "Resolvendo a equação homogênea associada:\n",
    "$$\\frac{d^2y_h}{dt^2} + 11\\frac{dy_h}{dt} + 10y_h(t) = 0$$\n",
    "\n",
    "A equação característica é $r^2 + 11r + 10 = 0$, com raízes reais $r = -1$ e $r = -10$. Portanto, a solução homogênea é:\n",
    "$$y_h(t) = A e^{-t} + B e^{-10t}$$\n",
    "\n",
    "Agora, para encontrar a solução particular devido à entrada $x(t) = e^{-3t}u(t)$, será feito $y_{in}(t) = Ce^{-3t}$, uma vez que a entrada é uma exponencial $e^{-3t}$.\n",
    "Substituindo essa solução na equação diferencial original, obtemos:\n",
    "$$9C e^{-3t} + 33C e^{-3t} + 10Ce^{-3t} = 0 + 5(-3)e^{-3t} + 2e^{-3t}$$\n",
    "$$52C e^{-3t} = -15e^{-3t}$$\n",
    "$$C = -\\frac{15}{52}$$\n",
    "\n",
    "Portanto, a solução de entrada nula é:\n",
    "$$y_{in}(t) = -\\frac{15}{52}e^{-3t}u(t)$$\n",
    "\n",
    "**b)**\n",
    "Dada a equação diferencial:\n",
    "$$\\frac{d^2y}{dt^2} = y(t) + \\frac{dx}{dt} + x(t)$$\n",
    "\n",
    "E as condições iniciais: $y(0) = -2$ e $\\frac{dy}{dt}(0) = 1$, e $x(t) = e^{-2t}u(t)$.\n",
    "\n",
    "Resolvendo a equação homogênea associada:\n",
    "$$\\frac{d^2y_h}{dt^2} = y_h(t)$$\n",
    "\n",
    "A equação característica é $r^2 - 1 = 0$, com raízes reais $r = 1$ e $r = -1$. Portanto, a solução homogênea é:\n",
    "$$y_h(t) = A e^t + B e^{-t}$$\n",
    "\n",
    "Agora, para encontrar a solução particular devido à entrada $x(t) = e^{-2t}u(t)$, será feito  $y_{in}(t) = Ce^{-2t}$, uma vez que a entrada é uma exponencial $e^{-2t}$.\n",
    "Substituindo essa solução na equação diferencial original, obtemos:\n",
    "$$4C e^{-2t} = 0 + (-2)e^{-2t} + e^{-2t}$$\n",
    "$$4C e^{-2t} = -e^{-2t}$$\n",
    "$$C = -\\frac{1}{4}$$\n",
    "\n",
    "Portanto, a solução de entrada nula é:\n",
    "$$y_{in}(t) = -\\frac{1}{4}e^{-2t}u(t)$$\n",
    "\n",
    "**c)**\n",
    "Dada a equação diferencial:\n",
    "$$\\frac{d^2y}{dt^2} = 2\\frac{dy}{dt} - 5y(t) + 7\\frac{dx}{dt} + 2x(t)$$\n",
    "\n",
    "E as condições iniciais: $y(0) = -1$ e $\\frac{dy}{dt}(0) = 3$, e $x(t) = e^{-5t}u(t)$.\n",
    "\n",
    "Resolvendo a equação homogênea associada:\n",
    "$$\\frac{d^2y_h}{dt^2} = 2\\frac{dy_h}{dt} - 5y_h(t)$$\n",
    "\n",
    "A equação característica é $r^2 - 2r + 5 = 0$, com raízes complexas $r = 1 \\pm 2i$. Portanto, a solução homogênea é:\n",
    "$$y_h(t) = e^t (A \\cos(2t) + B \\sin(2t))$$\n",
    "\n",
    "Agora, para encontrar a solução particular devido à entrada $x(t) = e^{-5t}u(t)$, será feito $y_{in}(t) = Ce^{-5t}$, uma vez que a entrada é uma exponencial $e^{-5t}$.\n",
    "Substituindo essa solução na equação diferencial original, obtemos:\n",
    "$$25Ce^{-5t} = 2Ce^{-5t} + 2e^{-5t}$$\n",
    "$$23Ce^{-5t} = 2e^{-5t}$$\n",
    "$$C = \\frac{2}{23}$$\n",
    "\n",
    "Portanto, a solução de entrada nula é:\n",
    "$$y_{in}(t) = \\frac{2}{23}e^{-5t}u(t)$$\n",
    "\n",
    "**d)**\n",
    "Dada a equação diferencial:\n",
    "$$\\frac{d^3y}{dt^3} = -\\frac{d^2y}{dt^2} + 2\\frac{d^2x}{dt^2} + 3x(t)$$\n",
    "\n",
    "E as condições iniciais: $y(0) = 2$, $\\frac{dy}{dt}(0) = 1$, $\\frac{d^2y}{dt^2}(0) = 0$, e $x(t) = u(t)$.\n",
    "\n",
    "Resolvendo a equação homogênea associada:\n",
    "$$\\frac{d^3y_h}{dt^3} = -\\frac{d^2y_h}{dt^2}$$\n",
    "\n",
    "A equação característica é $r^3 + r^2 = 0$, com raiz real $r = 0$. Portanto, a solução homogênea é:\n",
    "$$y_h(t) = A + Bt$$\n",
    "\n",
    "Agora, para encontrar a solução particular devido à entrada $x(t) = u(t)$. Uma entrada degrau unitário não afeta as derivadas da solução, portanto, podemos manter a solução homogênea como a solução particular:\n",
    "$$y_{in}(t) = A + Bt$$\n",
    "\n",
    "Usando as condições iniciais, temos:\n",
    "$$y(0) = A = 2$$\n",
    "$$\\frac{dy}{dt}(0) = B = 1$$\n",
    "\n",
    "Portanto, a solução de entrada nula é:\n",
    "$$y_{in}(t) = (2 + t)u(t)$$"
   ]
  },
  {
   "cell_type": "code",
   "execution_count": null,
   "id": "79c75a02-0b7d-477f-962e-3e3fb7922be5",
   "metadata": {},
   "outputs": [],
   "source": []
  }
 ],
 "metadata": {
  "kernelspec": {
   "display_name": "Python 3 (ipykernel)",
   "language": "python",
   "name": "python3"
  },
  "language_info": {
   "codemirror_mode": {
    "name": "ipython",
    "version": 3
   },
   "file_extension": ".py",
   "mimetype": "text/x-python",
   "name": "python",
   "nbconvert_exporter": "python",
   "pygments_lexer": "ipython3",
   "version": "3.10.12"
  }
 },
 "nbformat": 4,
 "nbformat_minor": 5
}
