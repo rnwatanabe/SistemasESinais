{
 "cells": [
  {
   "cell_type": "markdown",
   "id": "e9f52f5f-3621-412d-b389-32d63e6a62ee",
   "metadata": {
    "id": "e9f52f5f-3621-412d-b389-32d63e6a62ee"
   },
   "source": [
    "# Estabilidade de sistemas contínuos\n",
    "\n",
    "Renato Naville Watanabe"
   ]
  },
  {
   "cell_type": "markdown",
   "id": "9d3a5755-c621-48f1-bcd4-15cf39576d7a",
   "metadata": {
    "id": "9d3a5755-c621-48f1-bcd4-15cf39576d7a",
    "jp-MarkdownHeadingCollapsed": true
   },
   "source": [
    "## Definição\n",
    "\n",
    "Como já visto anteriormente, formalmente podemos definir um **sistema estável** como sendo um sistema que se receber uma entrada que tenha valores finitos:\n",
    "\n",
    "$$|x(t)| < B \\text{ ,para qualquer } t $$\n",
    "\n",
    "em que $B$ é um número real finito, então a saída também terá valores finitos:\n",
    "\n",
    "$$|y(t)| < L \\text{ .para qualquer } t$$\n",
    "\n",
    "em que $L$ é um outro número real finito.\n",
    "\n",
    "Um sistema que não respeita o critério acima é chamado de **sistema instável**, de acordo com o critério **BIBO** (*Bounded Input Bounded Output*; )."
   ]
  },
  {
   "cell_type": "markdown",
   "id": "4f1c4f06-407b-4e34-af9e-99686046472c",
   "metadata": {
    "id": "4f1c4f06-407b-4e34-af9e-99686046472c",
    "jp-MarkdownHeadingCollapsed": true
   },
   "source": [
    "## Resposta ao impulso\n",
    "\n",
    "Vamos aqui estabelecer um critério para determinar a estabilidade de um sistema linear e invariante no tempo a partir da resposta ao impulso. Vamos começar da obtenção do sinal de saída $y(t)$ em resposta a um sinal de entrada $x(t)$ a partir da integral de convolução:\n",
    "\n",
    "$y(t) = \\int_{-\\infty}^\\infty h(\\tau)x(t-\\tau)\\,d\\tau$\n",
    "\n",
    "Como o critério de estabilidade diz que $|y(t)| < L$ se o sistema for estável, vamos calcular o módulo de $y(t)$:\n",
    "\n",
    "$|y(t)| = |\\int_{-\\infty}^\\infty h(\\tau)x(t-\\tau)\\,d\\tau|$\n",
    "\n",
    "Como o critério de estabilidade envolve uma desigualdade, podemos estabelecer um limite superior para o módulo de $y(t)$:\n",
    "\n",
    "$|y(t)| \\leq \\int_{-\\infty}^\\infty |h(\\tau)x(t-\\tau)|\\,d\\tau = \\int_{-\\infty}^\\infty |h(\\tau)||x(t-\\tau)|\\,d\\tau$\n",
    "\n",
    "Pelo critério de estabilidade o módulo de $x(t)$ é limitado ao valor de $B$. Então:\n",
    "\n",
    "$|y(t)| \\leq \\int_{-\\infty}^\\infty |h(\\tau)|B\\,d\\tau = B\\int_{-\\infty}^\\infty |h(\\tau)|\\,d\\tau$\n",
    "\n",
    "Então, para $|y(t)|< L$, com $L$ finito, temos que a integral do módulo da resposta ao impulso tem que ser finita:\n",
    "\n",
    "$\\int_{-\\infty}^\\infty |h(\\tau)|\\,d\\tau<\\infty$\n",
    "\n",
    "Portanto, se a integral do módulo da resposta ao impulso for finita (também pode se dizer que é **absolutamente integrável**), o sistema é estável.\n",
    "\n",
    "---\n",
    "### Exemplo 1\n",
    "\n",
    "Vamos considerar um sistema com resposta ao impulso:\n",
    "\n",
    "$h(t) = e^{-2t}u(t)$\n",
    "\n",
    "A integral do módulo de $h(t)$ é:\n",
    "\n",
    "$\\int_{-\\infty}^{\\infty} |e^{-2t}u(t)|\\,dt = \\int_{0}^{\\infty} e^{-2t}\\,dt = \\left.\\frac{e^{-2t}}{-2}\\right|_{t=0}^\\infty = 0.5$\n",
    "\n",
    "Portanto, o sistema com essa resposta ao impulso é estável.\n",
    "\n",
    "---\n",
    "\n",
    "\n",
    "---\n",
    "### Exemplo 2\n",
    "\n",
    "Vamos considerar um sistema com resposta ao impulso:\n",
    "\n",
    "$h(t) = e^{5t}u(t)$\n",
    "\n",
    "A integral do módulo de $h(t)$ é:\n",
    "\n",
    "$\\int_{-\\infty}^{\\infty} |e^{2t}u(t)|\\,dt = \\int_{0}^{\\infty} e^{2t}\\,dt = \\left.\\frac{e^{2t}}{2}\\right|_{t=0}^\\infty = \\infty$\n",
    "\n",
    "Portanto, o sistema com essa resposta ao impulso é instável.\n",
    "\n",
    "---\n"
   ]
  },
  {
   "cell_type": "markdown",
   "id": "c4bdd737-f4c8-4d7d-b2fa-16c92c823068",
   "metadata": {
    "id": "c4bdd737-f4c8-4d7d-b2fa-16c92c823068"
   },
   "source": [
    "## Função de transferência\n",
    "\n",
    "As funções de transferência dos sistemas encontrados na prática tem o formato abaixo:\n",
    "\n",
    "$H(s) = \\frac{Y(s)}{X(s)} = \\frac{b_Ms^M +...+b_2s^2+b_1s + b_0}{s^N + a_{N-1}s^{N-1}+...+a_0}$\n",
    "\n",
    "Como já visto anteriormente, elas podem ser reescritas na forma de polos e zeros:\n",
    "\n",
    "$H(S) = \\frac{G(s-z_1)(s-z_2)...(s-z_M)}{(s-p_1)(s-p_2)...(s-p_N)}$\n",
    "\n",
    "Vamos agora analisar a estabilidade de acordo com o número de polos e zeros:"
   ]
  },
  {
   "cell_type": "markdown",
   "id": "941f4550-ae16-474c-a279-b7af831895fe",
   "metadata": {
    "id": "941f4550-ae16-474c-a279-b7af831895fe"
   },
   "source": [
    "### Caso em que $M<N$ com polos diferentes\n",
    "\n",
    "Quando $M<N$, podemos expandir a função de transferência como:\n",
    "\n",
    "$H(s) = \\frac{A_1}{s-p_1}+\\frac{A_2}{s-p_2}+...\\frac{A_N}{s-p_N}$\n",
    "\n",
    "Com isso a resposta ao impulso do sistema é:\n",
    "\n",
    "$h(t) = A_1e^{p_1t} + A_2e^{p_2t}+...+A_Ne^{p_Nt}$\n",
    "\n",
    "Para a resposta ao impulso ser absolutamente integrável, a parte real de todos os polos deverão ser negativos.\n",
    "\n",
    "Portanto, se todos os polos do sistema tiverem parte real negativas, o sistema será estável.\n",
    "\n"
   ]
  },
  {
   "cell_type": "markdown",
   "id": "e3586558-6dfa-4f6d-841c-2b149810d7ac",
   "metadata": {
    "id": "e3586558-6dfa-4f6d-841c-2b149810d7ac"
   },
   "source": [
    "### Caso em que M < N com polos repetidos"
   ]
  },
  {
   "cell_type": "markdown",
   "id": "6118a79f-f371-4dec-86a6-2737fd0ba035",
   "metadata": {
    "id": "6118a79f-f371-4dec-86a6-2737fd0ba035",
    "tags": []
   },
   "source": [
    "Quando $M<N$, e algum polo é repetido podemos expandir a função de transferência como:\n",
    "\n",
    "$H(s) = \\frac{B_1}{s-p_1} + \\frac{B_2}{(s-p_1)^2}+...+\\frac{B_r}{(s-p_1)^r}+\\frac{A_{r+1}}{s-p_{r+1}}+...\\frac{A_N}{s-p_N}$\n",
    "\n",
    "Com isso a resposta ao impulso do sistema é:\n",
    "\n",
    "$h(t) = B_1e^{p_1t}+B_2te^{p_1t}+...+B_rt^{r-1}e^{p_1t} + A_{r+1}e^{p_{r+1}t}+...+A_Ne^{p_Nt}$\n",
    "\n",
    "Para a resposta ao impulso ser absolutamente integrável, o valor de todos os polos deverão ser negativos.\n",
    "\n",
    "Portanto, se todos os polos do sistema tiverem partes reais negativas, o sistema será estável.\n"
   ]
  },
  {
   "cell_type": "markdown",
   "id": "bbb67374-4729-4261-ab90-13c5787fc9b9",
   "metadata": {
    "id": "bbb67374-4729-4261-ab90-13c5787fc9b9"
   },
   "source": [
    "### Caso em que $M=N$\n",
    "\n",
    "Quando $M=N$, podemos expandir a função de transferência como:\n",
    "\n",
    "$H(s) = A + \\frac{A_1}{s-p_1}+\\frac{A_2}{s-p_2}+...\\frac{A_N}{s-p_N}$\n",
    "\n",
    "Com isso a resposta ao impulso do sistema é:\n",
    "\n",
    "$h(t) = A\\delta(t) + A_1e^{p_1t} + A_2e^{p_2t}+...+A_Ne^{p_Nt}$\n",
    "\n",
    "Para a resposta ao impulso ser absolutamente integrável (a integral de $\\delta(t)$ é 1), o valor de todos os polos deverão ser negativos.\n",
    "\n",
    "Portanto, se todos os polos do sistema tiverem parte reais  negativas, o sistema será estável.\n"
   ]
  },
  {
   "cell_type": "markdown",
   "id": "ee7f5361-3fd1-4b79-b798-ca5e853bee4e",
   "metadata": {
    "id": "ee7f5361-3fd1-4b79-b798-ca5e853bee4e"
   },
   "source": [
    "Portanto, de uma maneira geral, **se os polos do sistema tiverem parte real negativa e $M\\leq N$, o sistema é estável**.\n",
    "\n",
    "\n",
    "---\n",
    "\n",
    "### Exemplo 3\n",
    "\n",
    "Considere um sistema com a seguinte função de transferência:\n",
    "\n",
    "$H(s) = \\frac{s+1}{s^2 - 4s + 5}$\n",
    "\n",
    "Os polos desse sistema são $p_1 =2+j$ e $p_2 = 2-j$. A parte real dos polos são positivas. Portanto o sistema é instável.\n",
    "\n",
    "<img src=Imagens/exemp3estab.png width=\"400\">\n",
    "\n",
    "---"
   ]
  },
  {
   "cell_type": "markdown",
   "id": "b82f8d3a-a52d-4e39-9aae-bb7b7a5d8971",
   "metadata": {
    "id": "b82f8d3a-a52d-4e39-9aae-bb7b7a5d8971"
   },
   "source": [
    "---\n",
    "\n",
    "### Exemplo 4\n",
    "\n",
    "Considere um sistema com a seguinte função de transferência:\n",
    "\n",
    "$H(s) = \\frac{s-4}{s^2 + 9}$\n",
    "\n",
    "Os polos desse sistema são $p_1 =3j$ e $p_2 = -3j$. A parte real dos polos são iguais a zero. Portanto o sistema é instável.\n",
    "\n",
    "<img src=Imagens/exemp4estab.png width=\"400\">\n",
    "\n",
    "---"
   ]
  },
  {
   "cell_type": "markdown",
   "id": "928fe4f9-8dee-4bef-964a-0e5e411e895b",
   "metadata": {
    "id": "928fe4f9-8dee-4bef-964a-0e5e411e895b",
    "jp-MarkdownHeadingCollapsed": true
   },
   "source": [
    "---\n",
    "\n",
    "### Exemplo 5\n",
    "\n",
    "Considere um sistema com a seguinte função de transferência:\n",
    "\n",
    "$H(s) = \\frac{s^2+5s-10}{s^2 +5s + 4}$\n",
    "\n",
    "Os polos desse sistema são $p_1 =-1$ e $p_2 = -4$. A parte real dos polos são negativas. Portanto o sistema é estável.\n",
    "\n",
    "<img src=Imagens/exemp5estab.png width=\"400\">\n",
    "\n",
    "---"
   ]
  },
  {
   "cell_type": "markdown",
   "id": "789af84a-a765-4f5c-a5f3-488693aff48a",
   "metadata": {
    "id": "789af84a-a765-4f5c-a5f3-488693aff48a"
   },
   "source": [
    "## Caso em que $M>N$\n",
    "\n",
    "Quando $M>N$, a expansão em frações parciais da função de transferência vai ter componentes múltiplos de $s$:\n",
    "\n",
    "$$H(s) = B_1s + B_2s^2 +... +B_{M-N}s^{M-N} +A + \\frac{A_1}{s-p_1}+\\frac{A_2}{s-p_2}+...\\frac{A_N}{s-p_N}$$\n",
    "\n",
    "Vamos analisar a parte da saída devido a $B_1s$ caso o sistema tenha um sinal de entrada finita como o degrau. A transformada de Laplace do degrau é $X(s) = \\frac{1}{s}$. Então, a parte da saída devido a $B_1s$, chamada aqui de $y_1(t)$,  é:\n",
    "\n",
    "$Y_1(s) = B_1s\\frac{1}{s} = B_1 \\rightarrow y_1(t) = B_1\\delta(t)$\n",
    "\n",
    "Ou seja, uma entrada finita (degrau), gerou uma saída infinita (impulso), o que mostra que o sistema é instável.\n",
    "\n",
    "Portanto **se $M> N$, o sistema é instável**, independentemente dos valores dos polos.\n",
    "\n"
   ]
  },
  {
   "cell_type": "markdown",
   "id": "cf31a0e5-3ad0-476c-bd0d-3717aae3ec36",
   "metadata": {
    "id": "cf31a0e5-3ad0-476c-bd0d-3717aae3ec36"
   },
   "source": [
    "---\n",
    "\n",
    "### Exemplo 6\n",
    "\n",
    "Considere um sistema com a seguinte função de transferência:\n",
    "\n",
    "$H(s) = \\frac{s^2+3s-10}{5s + 4}$\n",
    "\n",
    "O grau do numerador é maior que o do denominador. Portanto, o sistema é instável.\n",
    "\n",
    "---\n"
   ]
  },
  {
   "cell_type": "markdown",
   "id": "cce0be94-5251-410c-8a47-1b6dd11a9562",
   "metadata": {
    "id": "cce0be94-5251-410c-8a47-1b6dd11a9562"
   },
   "source": [
    "### Observações\n",
    "\n",
    "Em algumas referências, quando os polos de um sistema tem parte real igual a zero, diz-se que o sistema é **marginalmente estável**. É feita essa definição porque, apesar de a resposta ao impulso não ir para zero, ela fica limitada a um valor finito. De qualquer forma, se o polo de um sistema tiver parte real igual a zero, a resposta ao impulso do sistema não é absolutamente integrável. Por esse motivo, aqui considera-se que os sistemas com polos com parte real nula são instáveis."
   ]
  },
  {
   "cell_type": "markdown",
   "id": "253fb35f-46ff-4088-aeb7-b788b7707f1c",
   "metadata": {
    "id": "253fb35f-46ff-4088-aeb7-b788b7707f1c"
   },
   "source": [
    "## Realimentação\n",
    "\n",
    "Quando encontramos sistemas instáveis, é muito comum querermos fazer com que o sistema se comporte de maneira estável. A maneira tradicional de fazer isso é utilizando uma realimentação.\n",
    "\n",
    "<img src=Imagens/realimentacao.png width=\"600\">\n",
    "\n",
    "Nesse tipo de ligação de sistemas, o sinal $x(t)$ é calculado usando o sistema controlador a partir do sinal $e(t) = r(t)-y(t)$\n",
    "\n",
    "---\n",
    "\n",
    "### Exemplo 7\n",
    "\n",
    "Vamos considerar um sistema com a seguinte equação diferencial:\n",
    "\n",
    "$\\frac{dy}{dt} = 3y(t) + x(t)$\n",
    "\n",
    "Uma equação desse tipo é encontrada, por exemplo, para descrever o ângulo $y(t)$ de um pêndulo invertido em resposta ao torque $x(t)$ aplicado no pêndulo.\n",
    "\n",
    "A função de transferência desse sistema é:\n",
    "\n",
    "$H(s) = \\frac{1}{s-3}$\n",
    "\n",
    "<img src=Imagens/exemp7aestab.png width=\"400\">\n",
    "\n",
    "O polo desse sistema é 3. Ou seja, o sistema é instável.\n",
    "\n",
    "Para estabilizar esse sinal, podemos calcular o sinal $x(t)$ a partir de $e(t)=r(t)-y(t)$\n",
    "\n",
    "Se escolhermos o sistema controlador como:\n",
    "\n",
    "$x(t) = 10e(t)$\n",
    "\n",
    "Se fizermos isso $X(s) = 10E(s)$.\n",
    "\n",
    "Então:\n",
    "\n",
    "$Y(s) = \\frac{1}{s-3}10E(s) = \\frac{10}{s-3}(R(s)-Y(s)) \\rightarrow Y(s)\\left(1 + \\frac{10}{s-3}\\right) = \\frac{10}{s-3}R(s) \\rightarrow \\frac{Y(s)}{R(s)} = \\frac{\\frac{10}{s-3}}{\\frac{s+7}{s-3}} = \\frac{10}{s+7}$\n",
    "\n",
    "Com a realimentação, a função de transferência entre $r(t)$ e $y(t)$ é:\n",
    "\n",
    "$H_2(s) = \\frac{10}{s+7}$\n",
    "\n",
    "<img src=Imagens/exemp7bestab.png width=\"400\">\n",
    "\n",
    "O polo desse novo sistema é -7, e consequentemente, o sistema resultante é estável.\n",
    "\n",
    "---\n",
    "Mais detalhes sobre esse tipo de sistema podem ser vistos em disciplinas de Controle como a disciplina *Análise e Controle de Sistemas Mecânicos*.\n"
   ]
  },
  {
   "cell_type": "markdown",
   "id": "8d275974-1b35-46c7-abc9-3223d88a8189",
   "metadata": {
    "id": "8d275974-1b35-46c7-abc9-3223d88a8189"
   },
   "source": [
    "## Exercícios"
   ]
  },
  {
   "cell_type": "markdown",
   "id": "3ce6f682-3249-48d9-9613-8fc6fda4f968",
   "metadata": {
    "id": "3ce6f682-3249-48d9-9613-8fc6fda4f968"
   },
   "source": [
    "**1)** Quais destas respostas ao impulso são de sistemas estáveis. Todos os sistemas são lineares e invariantes no tempo:\n",
    "\n",
    "a) $h_1(t) = e^{-2|t|}$\n",
    "\n",
    "b) $h_2(t) = (1-|t|)[u(t+2)-u(t-2)]$\n",
    "\n",
    "c) $h_3(t) = e^{3t}u(-t)$\n",
    "\n",
    "d) $h_4(t) = e^{3t}u(t)$\n",
    "\n",
    "e) $h_5(t) = \\cos(3t)u(t)$\n",
    "\n",
    "f) $h_6(t) = \\frac{t}{t+1}u(t)$"
   ]
  },
  {
   "cell_type": "markdown",
   "id": "c766db8e-111c-4846-817f-72201b362bf8",
   "metadata": {
    "id": "c766db8e-111c-4846-817f-72201b362bf8"
   },
   "source": [
    "**2)** Para que valores de $a$ o sistema linear e invariante no tempo com a resposta ao impulso abaixo é estável?\n",
    "\n",
    "$h(t) = \\frac{2}{t^a}u(t-1)$\n",
    "\n"
   ]
  },
  {
   "cell_type": "markdown",
   "id": "bda9f489-af95-416b-868b-125bbc4e6a2a",
   "metadata": {
    "id": "bda9f489-af95-416b-868b-125bbc4e6a2a"
   },
   "source": [
    "**3)** Considere a seguinte equação diferencial:\n",
    "\n",
    "$$\\frac{dy}{dt} = ay(t) + x(t) $$\n",
    "\n",
    "a) Encontre uma expressão para a resposta ao impulso do sistema $h(t)$ em função da constante $a$.\n",
    "\n",
    "b) Para que faixa de valores de $a$ o sistema é estável?"
   ]
  },
  {
   "cell_type": "markdown",
   "id": "39cc5f48-398b-4ad0-8282-87965648596d",
   "metadata": {
    "id": "39cc5f48-398b-4ad0-8282-87965648596d"
   },
   "source": [
    "**4)** Um sistema linear e invariante no tempo tem a seguinte resposta:\n",
    "\n",
    "$y(t) = e^{-t}u(t)$\n",
    "\n",
    "quando o sinal abaixo é usado como entrada:\n",
    "\n",
    "$x(t) = \\delta(t) - 3e^{-2t}u(t)$\n",
    "\n",
    "Determine se esse sistema é estável ou não."
   ]
  },
  {
   "cell_type": "markdown",
   "id": "74046f76-58a8-48cc-b6e8-d17cf1fec1d0",
   "metadata": {
    "id": "74046f76-58a8-48cc-b6e8-d17cf1fec1d0"
   },
   "source": [
    "**5)** Um sistema tem a seguinte resposta ao impulso:\n",
    "\n",
    "$h(t) = e^{2t}u(t) - e^{-4t}u(t) $\n",
    "\n",
    "Encontre a constante $K$ de um sistema controlador que calcule a entrada do sistema da seguinte forma\n",
    "\n",
    "$x(t) = Ke(t) = K(r(t)-y(t))$\n",
    "\n",
    "para que o sistema com $r(t)$ na entrada e $y(t)$ na saída seja estável."
   ]
  },
  {
   "cell_type": "markdown",
   "id": "6eb121b4-63ce-4053-a1f8-f380982d1175",
   "metadata": {
    "id": "6eb121b4-63ce-4053-a1f8-f380982d1175"
   },
   "source": [
    "**6)** Um motor elétrico de corrente contínua tem a seguinte equação diferencial:\n",
    "\n",
    "$\\frac{d^2y}{dt^2} = -2\\frac{dy}{dt}+5x(t)$\n",
    "\n",
    "com $y(t) = \\theta(t)$ é o ângulo do motor ao longo do tempo e $x(t)=V(t)$ é a tensão elétrica aplicada no motor.\n",
    "\n",
    "a) Esse sistema é estável?\n",
    "\n",
    "b) Faça um gráfico da saída do ângulo do motor quando a sua entrada é $x(t) = 5u(t)$ V.\n",
    "\n",
    "c) Encontre a constante $K$ de um sistema controlador que calcule a entrada do sistema da seguinte forma\n",
    "\n",
    "$x(t) = Ke(t) = K(r(t)-y(t))$\n",
    "\n",
    "para que o sistema seja estável.\n",
    "\n",
    "d) O teorema do valor final diz que:\n",
    "\n",
    "$\\displaystyle\\lim_{t\\infty} x(t) = \\displaystyle\\lim_{s\\rightarrow 0} sX(s)$\n",
    "\n",
    "Use o teorema do valor final para calcular o valor de $y(t)$ no regime permanente quando $r(t)=u(t)$"
   ]
  },
  {
   "cell_type": "markdown",
   "id": "6678e378-1933-4d0c-b2d9-cc4300be1b75",
   "metadata": {
    "id": "6678e378-1933-4d0c-b2d9-cc4300be1b75"
   },
   "source": [
    "**7)** Faça o diagrama de polos e zeros e determine se os seguintes sistemas são estáveis ou não:\n",
    "\n",
    "a) $\\frac{dy}{dt} = -200y(t) - 100x(t)$\n",
    "\n",
    "b) $h(t) = 80e^{4t}u(t)$\n",
    "\n",
    "c) $H(s) = -\\frac{10s}{s^2+3s+5}$\n",
    "\n",
    "d) $\\frac{d^2y}{dt^2} = -\\frac{dy}{dt} + 6x(t)$"
   ]
  },
  {
   "cell_type": "markdown",
   "id": "451d833e-e694-4bc7-96e4-3e655b66e4a7",
   "metadata": {
    "id": "451d833e-e694-4bc7-96e4-3e655b66e4a7"
   },
   "source": [
    "**8)** Faça o diagrama de polos e zeros e determine se os seguintes sistemas são estáveis ou não:\n",
    "\n",
    "a) $\\frac{d^2y}{dt^2} = -4\\frac{dy}{dt} - 29y(t) + 2\\frac{dx}{dt} - 30x(t)$\n",
    "\n",
    "b) $h(t) = 0.2\\cos(8t)u(t)$\n",
    "\n",
    "c) $H(s) = \\frac{10}{s^3+4s^2+29s}$\n"
   ]
  },
  {
   "cell_type": "markdown",
   "id": "5bb1b6f1-a315-451a-9da0-1fb4ebb4b140",
   "metadata": {
    "id": "5bb1b6f1-a315-451a-9da0-1fb4ebb4b140"
   },
   "source": [
    "**9)** Faça o diagrama de polos e zeros e determine se os seguintes sistemas são estáveis ou não:\n",
    "\n",
    "a)\n",
    "\n",
    "<img src=Imagens/estabdiagexerca.png width=\"600\">\n",
    "\n",
    "b)\n",
    "\n",
    "<img src=Imagens/estabdiagexercb.png width=\"600\">\n",
    "\n",
    "c)\n",
    "\n",
    "<img src=Imagens/estabdiagexercc.png width=\"600\">\n",
    "\n"
   ]
  },
  {
   "cell_type": "markdown",
   "id": "848d1a34-69de-4e09-b47e-d4d5f6af3f43",
   "metadata": {
    "id": "848d1a34-69de-4e09-b47e-d4d5f6af3f43"
   },
   "source": [
    "## Referências\n",
    "\n",
    "- Ulaby, FT e Yagle, AE, Signals & Systems: Theory and Applications, 2018, [ss2.eecs.umich.edu](ss2.eecs.umich.edu)\n",
    "- Oppenheim, M.  e Willsky, S., Sistemas e Sinais, 2010\n",
    "\n",
    "- Lathi, BP, Sinais e Sistemas Lineares, 2007\n",
    "\n",
    "- Ogata, K. Engenharia de controle moderno. 4a ed. Prentice Hall, 2003\n",
    "\n",
    "- Roberts, Michael J. Fundamentos de sinais e sistemas."
   ]
  },
  {
   "cell_type": "markdown",
   "id": "7885613b-8be4-476a-8b75-2dafa6ee214e",
   "metadata": {
    "id": "d41bd68b-9b8a-499b-aafd-bf954364bec6"
   },
   "source": [
    "## Solução dos exercícios"
   ]
  },
  {
   "cell_type": "markdown",
   "id": "fa0c72b7-75fa-4eca-b8ba-e54b4c864615",
   "metadata": {},
   "source": [
    "**2)** Resolvido por Catherine Gallis\n",
    "\n",
    "Calculando a integral $(I$) do módulo da resposta ao impulso:\n",
    "\n",
    "$I = \\int_{-\\infty}^{\\infty} \\left| \\frac{2}{t^a}u(t-1) \\right| dt$\n",
    "\n",
    "Considerando que a resposta ao impulso só é relevante para $(t \\geq 1$) (devido à função degrau $(u(t-1)$)):\n",
    "\n",
    "$I = \\int_{1}^{\\infty} \\frac{2}{t^a} dt$\n",
    "\n",
    "Para a integral convergir $(a > 1$), pois a função $(f(t) = \\frac{2}{t^a}$) será decrescente no intervalo considerado. Assim o sistema será estável."
   ]
  },
  {
   "cell_type": "markdown",
   "id": "381e4205-8df2-4682-b015-7510707449e1",
   "metadata": {},
   "source": [
    "**3)** Resolvido por CAROLINA KAFKA NEVES\n",
    "\n",
    "a)\n",
    "A função de transferência é $H(s)=\\frac{Y(s)}{X(s)}$, portanto\n",
    "\n",
    "$H(s)= \\frac{1}{s-a}$\n",
    "\n",
    "Pela transformada inversa de Laplace, temos a seguinte expressão para a resposta ao impulso do sistema:\n",
    "\n",
    " > $h(t)= e^{at}u(t)$\n",
    "\n",
    "\n",
    "\n",
    "b)\n",
    "Será estável quando o polo for **negativo**. Como o polo do sistema é $p= a$, o sistema é estável para $a<0$.\n",
    "\n",
    "---"
   ]
  },
  {
   "cell_type": "markdown",
   "id": "e7a03afa-e24a-4171-b472-40859e13eeae",
   "metadata": {},
   "source": [
    "**4)** Resolvido por CAROLINA KAFKA NEVES\n",
    "\n",
    "A estabilidade do sistema pode ser determinada através da análise dos polos da função de transferência.\n",
    "\n",
    "Posto isso, a função de transferência é:\n",
    "\n",
    "$H(s)=\\frac{Y(s)}{X(s)}$; $Y(s)= \\frac{1}{s+1}$ e $X(s)= 1- \\frac{3}{s+2}= \\frac{s+2-3}{s+2}= \\frac{s-1}{s+2}$\n",
    "\n",
    "$H(s)= \\frac{s+2}{(s+1)(s-1)}$\n",
    "\n",
    "O sistema será estável se a parte real de TODOS os polos for **negativa**.\n",
    "\n",
    "Os polos são: $p_1= -1$ e $p_2= 1$.\n",
    "\n",
    "Como a parte real de $p_2$ é positiva, então o sistema é **instável**."
   ]
  },
  {
   "cell_type": "code",
   "execution_count": null,
   "id": "c401cb3d-cfdb-4ca7-a984-604a264f04ef",
   "metadata": {},
   "outputs": [],
   "source": []
  }
 ],
 "metadata": {
  "colab": {
   "provenance": []
  },
  "kernelspec": {
   "display_name": "Python 3 (ipykernel)",
   "language": "python",
   "name": "python3"
  },
  "language_info": {
   "codemirror_mode": {
    "name": "ipython",
    "version": 3
   },
   "file_extension": ".py",
   "mimetype": "text/x-python",
   "name": "python",
   "nbconvert_exporter": "python",
   "pygments_lexer": "ipython3",
   "version": "3.10.12"
  }
 },
 "nbformat": 4,
 "nbformat_minor": 5
}
