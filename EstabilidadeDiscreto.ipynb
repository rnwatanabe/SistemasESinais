{
  "cells": [
    {
      "cell_type": "markdown",
      "id": "e9f52f5f-3621-412d-b389-32d63e6a62ee",
      "metadata": {
        "id": "e9f52f5f-3621-412d-b389-32d63e6a62ee"
      },
      "source": [
        "# Estabilidade de sistemas discretos\n",
        "\n",
        "Renato Naville Watanabe"
      ]
    },
    {
      "cell_type": "markdown",
      "id": "9d3a5755-c621-48f1-bcd4-15cf39576d7a",
      "metadata": {
        "jp-MarkdownHeadingCollapsed": true,
        "id": "9d3a5755-c621-48f1-bcd4-15cf39576d7a"
      },
      "source": [
        "## Definição\n",
        "\n",
        "Como já visto anteriormente, formalmente podemos definir um **sistema estável** como sendo um sistema que se receber uma entrada que tenha valores finitos:\n",
        "\n",
        "$$|x[n]| < B \\text{ ,para qualquer } n $$\n",
        "\n",
        "em que $B$ é um número real finito, então a saída também terá valores finitos:\n",
        "\n",
        "$$|y[n]| < L \\text{ .para qualquer } n$$\n",
        "\n",
        "em que $L$ é um outro número real finito.\n",
        "\n",
        "Um sistema que não respeita o critério acima é chamado de **sistema instável**, de acordo com o critério **BIBO** (*Bounded Input Bounded Output*; )."
      ]
    },
    {
      "cell_type": "markdown",
      "id": "4f1c4f06-407b-4e34-af9e-99686046472c",
      "metadata": {
        "jp-MarkdownHeadingCollapsed": true,
        "id": "4f1c4f06-407b-4e34-af9e-99686046472c"
      },
      "source": [
        "## Resposta ao impulso\n",
        "\n",
        "Vamos aqui estabelecer um critério para determinar a estabilidade de um sistema linear e invariante no tempo a partir da resposta ao impulso. Vamos começar da obtenção do sinal de saída $y[n]$ em resposta a um sinal de entrada $x[n]$ a partir da integral de convolução:\n",
        "\n",
        "$y[n] = \\displaystyle\\sum_{k=-\\infty}^\\infty h[k]x[n-k]$\n",
        "\n",
        "Como o critério de estabilidade diz que $|y[n]| < L$ se o sistema for estável, vamos calcular o módulo de $y[n]$:\n",
        "\n",
        "$|y[n]| = |\\displaystyle\\sum_{k=-\\infty}^\\infty h[k]x[n-k]|$\n",
        "\n",
        "Como o critério de estabilidade envolve uma desigualdade, podemos estabelecer um limite superior para o módulo de $y[n]$:\n",
        "\n",
        "$|y[n]| \\leq \\displaystyle\\sum_{k=-\\infty}^\\infty |h[k]x[n-k]| = \\displaystyle\\sum_{k=-\\infty}^\\infty |h[k]||x[n-k]|$\n",
        "\n",
        "Pelo critério de estabilidade o módulo de $x[n]$ é limitado ao valor de $B$. Então:\n",
        "\n",
        "$|y[n]| \\leq \\displaystyle\\sum_{k=-\\infty}^\\infty |h[k]|B = B\\displaystyle\\sum_{k=-\\infty}^\\infty |h[k]|$\n",
        "\n",
        "Então, para $|y[n]|< L$, com $L$ finito, temos que a somatória do módulo da resposta ao impulso tem que ser finita:\n",
        "\n",
        "$\\displaystyle\\sum_{k=-\\infty}^\\infty |h[k]|<\\infty$\n",
        "\n",
        "Portanto, se a integral do módulo da resposta ao impulso for finita (também pode se dizer que é **absolutamente somável**), o sistema é estável.\n",
        "\n",
        "---\n",
        "### Exemplo 1\n",
        "\n",
        "Vamos considerar um sistema com resposta ao impulso:\n",
        "\n",
        "$h[n] = (0.5)^nu[n]$\n",
        "\n",
        "A integral do módulo de $h[n]$ é:\n",
        "\n",
        "$\\displaystyle\\sum_{k=-\\infty}^\\infty |h[k]| = \\displaystyle\\sum_{k=-\\infty}^\\infty |(0.5)^ku[k]| = \\displaystyle\\sum_{k=0}^\\infty (0.5)^k = \\frac{1}{1-0.5} = 2$\n",
        "\n",
        "Portanto, o sistema com essa resposta ao impulso é estável.\n",
        "\n",
        "---\n",
        "\n",
        "---\n",
        "### Exemplo 2\n",
        "\n",
        "Vamos considerar um sistema com resposta ao impulso:\n",
        "\n",
        "$h[n] = (5)^nu[n]$\n",
        "\n",
        "A integral do módulo de $h[n]$ é:\n",
        "\n",
        "$$\\displaystyle\\sum_{k=-\\infty}^\\infty |h[k]| = \\displaystyle\\sum_{k=-\\infty}^\\infty |(5)^ku[k]| = \\displaystyle\\sum_{k=0}^\\infty (5)^k = \\infty$$\n",
        "\n",
        "Portanto, o sistema com essa resposta ao impulso é instável.\n",
        "\n",
        "---\n"
      ]
    },
    {
      "cell_type": "markdown",
      "id": "c4bdd737-f4c8-4d7d-b2fa-16c92c823068",
      "metadata": {
        "id": "c4bdd737-f4c8-4d7d-b2fa-16c92c823068"
      },
      "source": [
        "## Função de transferência\n",
        "\n",
        "As funções de transferência dos sistemas encontrados na prática tem o formato abaixo:\n",
        "\n",
        "$H(z) = \\frac{Y(z)}{X(z)} = \\frac{b_Mz^M +...+b_2z^2+b_1z + b_0}{z^N + a_{N-1}z^{N-1}+...+a_0}$\n",
        "\n",
        "Como já visto anteriormente, elas podem ser reescritas na forma de polos e zeros:\n",
        "\n",
        "$H(z) = \\frac{G(z-z_1)(z-z_2)...(z-z_M)}{(z-p_1)(z-p_2)...(z-p_N)}$\n",
        "\n",
        "Vamos agora analisar a estabilidade de acordo com o número de polos e zeros:"
      ]
    },
    {
      "cell_type": "markdown",
      "id": "941f4550-ae16-474c-a279-b7af831895fe",
      "metadata": {
        "id": "941f4550-ae16-474c-a279-b7af831895fe"
      },
      "source": [
        "### Caso em que $M<N$ com polos diferentes\n",
        "\n",
        "Quando $M<N$, podemos expandir a função de transferência como:\n",
        "\n",
        "$H(z) = \\frac{A_1}{z-p_1}+\\frac{A_2}{z-p_2}+...\\frac{A_N}{z-p_N}$\n",
        "\n",
        "Com isso a resposta ao impulso do sistema é:\n",
        "\n",
        "$h(t) = A_1p_1^n + A_2p_2^n+...+A_Np_N^n$\n",
        "\n",
        "Para a resposta ao impulso ser absolutamente somável, o módulo de todos os polos deverão ser menores do que 1.\n",
        "\n",
        "Portanto, se todos os polos do sistema tiverem módulo menor do que um, o sistema será estável.\n",
        "\n"
      ]
    },
    {
      "cell_type": "markdown",
      "id": "e3586558-6dfa-4f6d-841c-2b149810d7ac",
      "metadata": {
        "id": "e3586558-6dfa-4f6d-841c-2b149810d7ac"
      },
      "source": [
        "### Caso em que M < N com polos repetidos"
      ]
    },
    {
      "cell_type": "markdown",
      "id": "6118a79f-f371-4dec-86a6-2737fd0ba035",
      "metadata": {
        "tags": [],
        "id": "6118a79f-f371-4dec-86a6-2737fd0ba035"
      },
      "source": [
        "Quando $M<N$, e algum polo é repetido podemos expandir a função de transferência como:\n",
        "\n",
        "$H(z) = \\frac{B_1}{z-p_1} + \\frac{B_2}{(z-p_1)^2}+...+\\frac{B_r}{(z-p_1)^r}+\\frac{A_{r+1}}{z-p_{r+1}}+...\\frac{A_N}{z-p_N}$\n",
        "\n",
        "Com isso a resposta ao impulso do sistema é:\n",
        "\n",
        "$h[n] = B_1p_1^n+B_2np_1^n+...+B_rn^{r-1}p_1^n + A_{r+1}p_{r+1}^n+...+A_Np_N^n$\n",
        "\n",
        "Para a resposta ao impulso ser absolutamente somável, o módulo de todos os polos deverão ser menor do que 1.\n",
        "\n",
        "Portanto, se todos o módulo de todos os polos do sistema tiverem módulo menor do que um, o sistema será estável.\n"
      ]
    },
    {
      "cell_type": "markdown",
      "id": "bbb67374-4729-4261-ab90-13c5787fc9b9",
      "metadata": {
        "id": "bbb67374-4729-4261-ab90-13c5787fc9b9"
      },
      "source": [
        "### Caso em que $M=N$\n",
        "\n",
        "Quando $M=N$, podemos expandir a função de transferência como:\n",
        "\n",
        "$H(z) = A + \\frac{A_1}{z-p_1}+\\frac{A_2}{z-p_2}+...\\frac{A_N}{z-p_N}$\n",
        "\n",
        "Com isso a resposta ao impulso do sistema é:\n",
        "\n",
        "$h[n] = A\\delta[n] + A_1p_1^n + A_2p_2^n+...+A_Np_N^n$\n",
        "\n",
        "Para a resposta ao impulso ser absolutamente somável, o módulo de todos os polos deverão ser menor do que 1 (o impulso acrescenta apenas o valor 1 na soma).\n",
        "\n",
        "Portanto, se todos os polos do sistema tiverem módulo menor do que um, o sistema será estável.\n"
      ]
    },
    {
      "cell_type": "markdown",
      "id": "5cf4f217-25e0-440b-a09f-e24b02660089",
      "metadata": {
        "id": "5cf4f217-25e0-440b-a09f-e24b02660089"
      },
      "source": [
        "Portanto, de uma maneira geral, **se os polos do sistema tiverem módulo menor do que 1, o sistema é estável**.\n",
        "\n",
        "\n",
        "---\n",
        "\n",
        "### Exemplo 3\n",
        "\n",
        "Considere um sistema com a seguinte função de transferência:\n",
        "\n",
        "$H(s) = \\frac{1+z^{-1}}{1 - 4z^{-1} + 5z^{-2}} = \\frac{z^2+z}{z^2 - 4z^ + 5}$\n",
        "\n",
        "Os polos desse sistema são $p_1 = 2+j$ e $p_2 = 2-j$. Os módulos desses polos são $\\sqrt{3}>1$. Portanto o sistema é instável.\n",
        "\n",
        "<img src=https://github.com/rnwatanabe/SistemasESinais/blob/master/Imagens/exemploestabdisc.png?raw=1 width=\"400\">\n",
        "\n",
        "---"
      ]
    },
    {
      "cell_type": "markdown",
      "id": "7dd317a6-cd7e-4bf7-9deb-64f47697a31a",
      "metadata": {
        "id": "7dd317a6-cd7e-4bf7-9deb-64f47697a31a"
      },
      "source": [
        "---\n",
        "\n",
        "### Exemplo 4\n",
        "\n",
        "Considere um sistema com a seguinte função de transferência:\n",
        "\n",
        "$H(s) = \\frac{1-4z^-1}{1 + z^{-2}}=\\frac{z^2-4z}{z^2 + 1}$\n",
        "\n",
        "Os polos desse sistema são $p_1 =j$ e $p_2 = -j$. O módulo dos polos são iguais a 1. Portanto o sistema é instável.\n",
        "\n",
        "<img src=https://github.com/rnwatanabe/SistemasESinais/blob/master/Imagens/exemplo4estabdisc.png?raw=1 width=\"400\">\n",
        "\n",
        "---"
      ]
    },
    {
      "cell_type": "markdown",
      "id": "dece7a28-cf04-4e0c-a5a6-d8bd03a353c4",
      "metadata": {
        "id": "dece7a28-cf04-4e0c-a5a6-d8bd03a353c4",
        "jp-MarkdownHeadingCollapsed": true
      },
      "source": [
        "---\n",
        "\n",
        "### Exemplo 5\n",
        "\n",
        "Considere um sistema com a seguinte função de transferência:\n",
        "\n",
        "$H(s) =\\frac{1+z^{-1}-0.2z{^-2}}{1 +0,1z^{-1} - 0,2z^{-2}} = \\frac{z^2+1z-0.2}{z^2 +0,1z - 0,2}$\n",
        "\n",
        "Os polos desse sistema são $p_1 =0,2$ e $p_2 = -0,1$. O módulo dos polos são menores do que. Portanto o sistema é estável.\n",
        "\n",
        "<img src=https://github.com/rnwatanabe/SistemasESinais/blob/master/Imagens/exemplo5estabdisc.png?raw=1 width=\"400\">\n",
        "\n",
        "---"
      ]
    },
    {
      "cell_type": "markdown",
      "id": "ee7f5361-3fd1-4b79-b798-ca5e853bee4e",
      "metadata": {
        "id": "ee7f5361-3fd1-4b79-b798-ca5e853bee4e"
      },
      "source": [
        "Portanto, de uma maneira geral, **se os polos do sistema tiverem módulo menor do que 1, o sistema é estável**.\n"
      ]
    },
    {
      "cell_type": "markdown",
      "id": "253fb35f-46ff-4088-aeb7-b788b7707f1c",
      "metadata": {
        "id": "253fb35f-46ff-4088-aeb7-b788b7707f1c"
      },
      "source": [
        "## Realimentação\n",
        "\n",
        "Quando encontramos sistemas instáveis, é muito comum querermos fazer com que o sistema se comporte de maneira estável. A maneira tradicional de fazer isso é utilizando uma realimentação.\n",
        "\n",
        "<img src=https://github.com/rnwatanabe/SistemasESinais/blob/master/Imagens/realimentacaodisc.png?raw=1 width=\"600\">\n",
        "\n",
        "Nesse tipo de ligação de sistemas, o sinal $x[n]$ é calculado usando o sistema controlador a partir do sinal $e[n] = r[n]-y[n]$\n",
        "\n",
        "---\n",
        "\n",
        "### Exemplo 4\n",
        "\n",
        "Vamos considerar um sistema com a seguinte equação de diferenças:\n",
        "\n",
        "$y[n] = 3y[n-1] + x[n]$\n",
        "\n",
        "\n",
        "A função de transferência desse sistema é:\n",
        "\n",
        "$H(z) = \\frac{z}{z-3}$\n",
        "\n",
        "O polo desse sistema é 3. Ou seja, o sistema é instável.\n",
        "\n",
        "Para estabilizar esse sinal, podemos calcular o sinal $x[n]$ a partir de $e[n]=r[n]-y[n]$\n",
        "\n",
        "Se escolhermos o sistema controlador como:\n",
        "\n",
        "$x[n] = 2.5e[n]$\n",
        "\n",
        "Se fizermos isso $X(z) = 2.5E(z)$.\n",
        "\n",
        "Então:\n",
        "\n",
        "$Y(z) = \\frac{z}{z-3}2.5E(z) = \\frac{2.5z}{z-3}(R(z)-Y(z)) \\rightarrow Y(z)\\left(1 + \\frac{2.5z}{z-3}\\right) = \\frac{2.5z}{z-3}R(z) \\rightarrow \\frac{Y(z)}{R(z)} = \\frac{\\frac{2.5z}{z-3}}{\\frac{3.5z-3}{z-3}} = \\frac{2.5z}{3.5z-3} = \\frac{0.71z}{z-0.85}$\n",
        "\n",
        "Com a realimentação, a função de transferência entre $r[n]$ e $y[n]$ é:\n",
        "\n",
        "$H_2(z) = \\frac{0.71z}{z-0.85}$\n",
        "\n",
        "O polo desse novo sistema é 0,85, e consequentemente, o sistema resultante é estável.\n",
        "\n",
        "---\n",
        "Mais detalhes sobre esse tipo de sistema podem ser vistos em disciplinas de Controle como a disciplina *Análise e Controle de Sistemas Mecânicos*.\n"
      ]
    },
    {
      "cell_type": "markdown",
      "id": "8d275974-1b35-46c7-abc9-3223d88a8189",
      "metadata": {
        "id": "8d275974-1b35-46c7-abc9-3223d88a8189"
      },
      "source": [
        "## Exercícios"
      ]
    },
    {
      "cell_type": "markdown",
      "id": "3ce6f682-3249-48d9-9613-8fc6fda4f968",
      "metadata": {
        "id": "3ce6f682-3249-48d9-9613-8fc6fda4f968"
      },
      "source": [
        "**1)** Indique se os sistemas que geraram as seguintes respostas ao impulso são ou não são estáveis:\n",
        "\n",
        "a) $h_1[n] = 3^nu[n]$\n",
        "\n",
        "b) $h_2[n] = u[n]- u[n-10]$\n",
        "\n",
        "c) $h_3[n] = 5^nu[-n-2]$\n",
        "\n",
        "d) $h_4[n] = \\mathrm{sen}\\left(\\frac{\\pi n}{3}\\right)u[n]$\n",
        "\n"
      ]
    },
    {
      "cell_type": "markdown",
      "id": "98e8915d-f88d-42c8-9a5f-7b70704cb002",
      "metadata": {
        "id": "98e8915d-f88d-42c8-9a5f-7b70704cb002"
      },
      "source": [
        "**2)** Indique se os sistemas que geraram as seguintes respostas ao impulso são ou não são estáveis:\n",
        "\n",
        "a) $h_5[n] = 0.5^{|n|}\\cos\\left(\\frac{\\pi n}{4}+\\frac{\\pi}{4} \\right)$\n",
        "\n",
        "b) $h_6[n] = 3u[n+2] - u[n] - u[n-2]$\n",
        "\n",
        "c) $h_7[n] = n\\cos\\left(\\frac{\\pi n}{4} \\right)u[n]$\n",
        "\n",
        "d) $h_8[n] = 3^nu[-n+10]$"
      ]
    },
    {
      "cell_type": "markdown",
      "id": "32df6846-7919-43ff-85da-405698aa9186",
      "metadata": {
        "id": "32df6846-7919-43ff-85da-405698aa9186"
      },
      "source": [
        "**3)** Um sistema linear e invariante no tempo tem a seguinte resposta quando a entrada é um degrau:\n",
        "\n",
        "$y[n] = (0.5)^n u[n] + (-0.75)^nu[n]+u[n]$\n",
        "\n",
        "a) Determine a sua resposta ao impulso.\n",
        "\n",
        "b) Determine a equação de diferenças desse sistema.\n",
        "\n",
        "c) Faça o diagrama de polos e zeros do sistema.\n",
        "\n",
        "d) Determine se esse sistema é estável."
      ]
    },
    {
      "cell_type": "markdown",
      "id": "b8f03d70-6871-4325-84dd-0891c2116e2b",
      "metadata": {
        "id": "b8f03d70-6871-4325-84dd-0891c2116e2b"
      },
      "source": [
        "**4)** É aplicada a seguinte entrada a um sistema linear e invariante no tempo:\n",
        "\n",
        "$x[n] = 2(0.3)^nu[n]$\n",
        "\n",
        "e a saída para essa entrada é:\n",
        "\n",
        "$y[n] = 0.5(0.3)^nu[n] + 2(-0.6)^nu[n] + (1.2)^nu[n]$\n",
        "\n",
        "a) Qual a resposta ao impulso desse sistema?\n",
        "\n",
        "b) Qual o diagrama de polos e zeros desse sistema?\n",
        "\n",
        "c) Esse sistema é estável?\n",
        "\n"
      ]
    },
    {
      "cell_type": "markdown",
      "id": "1166ddfa-0280-4d8f-a79b-7d1112071839",
      "metadata": {
        "id": "1166ddfa-0280-4d8f-a79b-7d1112071839"
      },
      "source": [
        "**5)** Faça o diagrama de polos e zeros e determine se os sistemas abaixo são estáveis ou não.\n",
        "\n",
        "a) $H(z) = \\frac{1 + 0.2z^{-1}-9z^{-2}-1,8z^{-3}}{1+0.81z^{-2}}$\n",
        "\n",
        "b) $y[n] = 0.2y[n-1]-0.4y[n-2]+x[n]-0.2x[n-1]$\n",
        "\n",
        "c) $h[n] = n(0.3)^nu[n] + 2(0.3)^nu[n]$\n",
        "\n",
        "d) $H(z) = \\frac{z^2-7z+6}{z^2-5z+6}$"
      ]
    },
    {
      "cell_type": "markdown",
      "id": "7059c893-399a-4fd5-8d33-9843ffa8e875",
      "metadata": {
        "id": "7059c893-399a-4fd5-8d33-9843ffa8e875"
      },
      "source": [
        "**6)** Faça o diagrama de polos e zeros dos sistemas abaixo. Os sistemas abaixo são estáveis?\n",
        "\n",
        "\n",
        "a)\n",
        "\n",
        "<img src=https://github.com/rnwatanabe/SistemasESinais/blob/master/Imagens/ex6estaba.png?raw=1 width=\"600\">\n",
        "\n",
        "b)\n",
        "\n",
        "<img src=https://github.com/rnwatanabe/SistemasESinais/blob/master/Imagens/ex6estabb.png?raw=1 width=\"600\">\n",
        "\n",
        "c)\n",
        "\n",
        "<img src=https://github.com/rnwatanabe/SistemasESinais/blob/master/Imagens/ex6estabc.png?raw=1 width=\"600\">"
      ]
    },
    {
      "cell_type": "markdown",
      "id": "325fd1c8-90a6-4eba-bb89-ae6292509eba",
      "metadata": {
        "id": "325fd1c8-90a6-4eba-bb89-ae6292509eba"
      },
      "source": [
        "**7)** Considere o sistema abaixo:\n",
        "\n",
        "<img src=https://github.com/rnwatanabe/SistemasESinais/blob/master/Imagens/ex7estab.png?raw=1 width=\"600\">\n",
        "\n",
        "a) Encontre a função de transferência do sistema.\n",
        "\n",
        "b) Faça o diagrama de polos e zeros.\n",
        "\n",
        "c) O sistema é estável?"
      ]
    },
    {
      "cell_type": "markdown",
      "id": "937d5565-27a8-4e36-b183-f1602d8c8d7e",
      "metadata": {
        "id": "937d5565-27a8-4e36-b183-f1602d8c8d7e"
      },
      "source": [
        "**8)** Um sistema tem a seguinte resposta ao impulso:\n",
        "\n",
        "$h[n] = 2^nu[n] - (0.5)^nu[n] $\n",
        "\n",
        "Encontre uma constante $K$ de um sistema controlador que calcule a entrada do sistema da seguinte forma\n",
        "\n",
        "$x[n] = Ke[n] = K(r[n]-y[n])$\n",
        "\n",
        "para que o sistema com $r[n]$ na entrada e $y[n]$ na saída seja estável."
      ]
    },
    {
      "cell_type": "markdown",
      "id": "848d1a34-69de-4e09-b47e-d4d5f6af3f43",
      "metadata": {
        "id": "848d1a34-69de-4e09-b47e-d4d5f6af3f43"
      },
      "source": [
        "## Referências\n",
        "\n",
        "- Ulaby, FT e Yagle, AE, Signals & Systems: Theory and Applications, 2018, [ss2.eecs.umich.edu](ss2.eecs.umich.edu)\n",
        "\n",
        "- Oppenheim, A.  e Willsky, S., Sistemas e Sinais, 2010\n",
        "\n",
        "- Lathi, BP, Sinais e Sistemas Lineares, 2007\n",
        "\n",
        "- Ogata, K. Engenharia de controle moderno. 4a ed. Prentice Hall, 2003\n",
        "\n",
        "- Oppenheim, A., Shafer, R, Processamento em tempo discreto de sinais, 2013"
      ]
    },
    {
      "cell_type": "code",
      "execution_count": null,
      "id": "d41bd68b-9b8a-499b-aafd-bf954364bec6",
      "metadata": {
        "id": "d41bd68b-9b8a-499b-aafd-bf954364bec6"
      },
      "outputs": [],
      "source": []
    }
  ],
  "metadata": {
    "kernelspec": {
      "display_name": "Python 3 (ipykernel)",
      "language": "python",
      "name": "python3"
    },
    "language_info": {
      "codemirror_mode": {
        "name": "ipython",
        "version": 3
      },
      "file_extension": ".py",
      "mimetype": "text/x-python",
      "name": "python",
      "nbconvert_exporter": "python",
      "pygments_lexer": "ipython3",
      "version": "3.10.11"
    },
    "colab": {
      "provenance": []
    }
  },
  "nbformat": 4,
  "nbformat_minor": 5
}