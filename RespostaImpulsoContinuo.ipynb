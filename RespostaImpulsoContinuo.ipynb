{
 "cells": [
  {
   "cell_type": "markdown",
   "id": "88cd5f75-700a-46e4-b2b4-cbcd8401f3bd",
   "metadata": {},
   "source": [
    "# Resposta ao impulso de tempo contínuo\n",
    "\n",
    "Renato Naville Watanabe"
   ]
  },
  {
   "cell_type": "markdown",
   "id": "53bf38cf-ac2e-4ae8-9b3c-1be75aaa5044",
   "metadata": {},
   "source": [
    "## Preparação do ambiente"
   ]
  },
  {
   "cell_type": "code",
   "execution_count": 1,
   "id": "81a89813-934c-4297-8b9c-4ea708114b5d",
   "metadata": {},
   "outputs": [],
   "source": [
    "try:\n",
    "  from google.colab import output\n",
    "  output.enable_custom_widget_manager()\n",
    "  IN_COLAB = True\n",
    "except:\n",
    "  IN_COLAB = False\n",
    "\n",
    "if IN_COLAB: \n",
    "  !pip install ipympl\n",
    "  from IPython.display import clear_output \n",
    "  !sudo apt update\n",
    "  !sudo apt install libcairo2-dev ffmpeg \\\n",
    "       texlive texlive-latex-extra texlive-fonts-extra \\\n",
    "       texlive-latex-recommended texlive-science \\\n",
    "       tipa libpango1.0-dev\n",
    "  !pip install manim\n",
    "  !pip install IPython --upgrade\n",
    "  clear_output()\n",
    "  # Se estiver no Colab, reiniciar o ambiente após executar esta célula "
   ]
  },
  {
   "cell_type": "code",
   "execution_count": 3,
   "id": "cd9e5e23-ef5a-4e25-ac53-47dbbe9e5aa6",
   "metadata": {},
   "outputs": [
    {
     "ename": "ImportError",
     "evalue": "/home/rnwatanabe/miniconda3/lib/python3.10/site-packages/cairo/_cairo.cpython-310-x86_64-linux-gnu.so: undefined symbol: cairo_tee_surface_index",
     "output_type": "error",
     "traceback": [
      "\u001b[0;31m---------------------------------------------------------------------------\u001b[0m",
      "\u001b[0;31mImportError\u001b[0m                               Traceback (most recent call last)",
      "Cell \u001b[0;32mIn[3], line 2\u001b[0m\n\u001b[1;32m      1\u001b[0m \u001b[38;5;28;01mimport\u001b[39;00m \u001b[38;5;21;01msympy\u001b[39;00m \u001b[38;5;28;01mas\u001b[39;00m \u001b[38;5;21;01msym\u001b[39;00m\n\u001b[0;32m----> 2\u001b[0m \u001b[38;5;28;01mfrom\u001b[39;00m \u001b[38;5;21;01mmanim\u001b[39;00m \u001b[38;5;28;01mimport\u001b[39;00m \u001b[38;5;241m*\u001b[39m\n\u001b[1;32m      3\u001b[0m \u001b[38;5;28;01mfrom\u001b[39;00m \u001b[38;5;21;01mmanim\u001b[39;00m\u001b[38;5;21;01m.\u001b[39;00m\u001b[38;5;21;01mutils\u001b[39;00m\u001b[38;5;21;01m.\u001b[39;00m\u001b[38;5;21;01mcolor\u001b[39;00m \u001b[38;5;28;01mimport\u001b[39;00m Colors\n\u001b[1;32m      4\u001b[0m config\u001b[38;5;241m.\u001b[39mmedia_width \u001b[38;5;241m=\u001b[39m \u001b[38;5;124m\"\u001b[39m\u001b[38;5;124m100\u001b[39m\u001b[38;5;124m%\u001b[39m\u001b[38;5;124m\"\u001b[39m\n",
      "File \u001b[0;32m~/miniconda3/lib/python3.10/site-packages/manim/__init__.py:26\u001b[0m\n\u001b[1;32m     24\u001b[0m \u001b[38;5;28;01mfrom\u001b[39;00m \u001b[38;5;21;01m.\u001b[39;00m\u001b[38;5;21;01manimation\u001b[39;00m\u001b[38;5;21;01m.\u001b[39;00m\u001b[38;5;21;01manimation\u001b[39;00m \u001b[38;5;28;01mimport\u001b[39;00m \u001b[38;5;241m*\u001b[39m\n\u001b[1;32m     25\u001b[0m \u001b[38;5;28;01mfrom\u001b[39;00m \u001b[38;5;21;01m.\u001b[39;00m\u001b[38;5;21;01manimation\u001b[39;00m\u001b[38;5;21;01m.\u001b[39;00m\u001b[38;5;21;01mchanging\u001b[39;00m \u001b[38;5;28;01mimport\u001b[39;00m \u001b[38;5;241m*\u001b[39m\n\u001b[0;32m---> 26\u001b[0m \u001b[38;5;28;01mfrom\u001b[39;00m \u001b[38;5;21;01m.\u001b[39;00m\u001b[38;5;21;01manimation\u001b[39;00m\u001b[38;5;21;01m.\u001b[39;00m\u001b[38;5;21;01mcomposition\u001b[39;00m \u001b[38;5;28;01mimport\u001b[39;00m \u001b[38;5;241m*\u001b[39m\n\u001b[1;32m     27\u001b[0m \u001b[38;5;28;01mfrom\u001b[39;00m \u001b[38;5;21;01m.\u001b[39;00m\u001b[38;5;21;01manimation\u001b[39;00m\u001b[38;5;21;01m.\u001b[39;00m\u001b[38;5;21;01mcreation\u001b[39;00m \u001b[38;5;28;01mimport\u001b[39;00m \u001b[38;5;241m*\u001b[39m\n\u001b[1;32m     28\u001b[0m \u001b[38;5;28;01mfrom\u001b[39;00m \u001b[38;5;21;01m.\u001b[39;00m\u001b[38;5;21;01manimation\u001b[39;00m\u001b[38;5;21;01m.\u001b[39;00m\u001b[38;5;21;01mfading\u001b[39;00m \u001b[38;5;28;01mimport\u001b[39;00m \u001b[38;5;241m*\u001b[39m\n",
      "File \u001b[0;32m~/miniconda3/lib/python3.10/site-packages/manim/animation/composition.py:16\u001b[0m\n\u001b[1;32m     14\u001b[0m \u001b[38;5;28;01mfrom\u001b[39;00m \u001b[38;5;21;01m.\u001b[39;00m\u001b[38;5;21;01m.\u001b[39;00m\u001b[38;5;21;01mconstants\u001b[39;00m \u001b[38;5;28;01mimport\u001b[39;00m RendererType\n\u001b[1;32m     15\u001b[0m \u001b[38;5;28;01mfrom\u001b[39;00m \u001b[38;5;21;01m.\u001b[39;00m\u001b[38;5;21;01m.\u001b[39;00m\u001b[38;5;21;01mmobject\u001b[39;00m\u001b[38;5;21;01m.\u001b[39;00m\u001b[38;5;21;01mmobject\u001b[39;00m \u001b[38;5;28;01mimport\u001b[39;00m Group, Mobject\n\u001b[0;32m---> 16\u001b[0m \u001b[38;5;28;01mfrom\u001b[39;00m \u001b[38;5;21;01m.\u001b[39;00m\u001b[38;5;21;01m.\u001b[39;00m\u001b[38;5;21;01mscene\u001b[39;00m\u001b[38;5;21;01m.\u001b[39;00m\u001b[38;5;21;01mscene\u001b[39;00m \u001b[38;5;28;01mimport\u001b[39;00m Scene\n\u001b[1;32m     17\u001b[0m \u001b[38;5;28;01mfrom\u001b[39;00m \u001b[38;5;21;01m.\u001b[39;00m\u001b[38;5;21;01m.\u001b[39;00m\u001b[38;5;21;01mutils\u001b[39;00m\u001b[38;5;21;01m.\u001b[39;00m\u001b[38;5;21;01miterables\u001b[39;00m \u001b[38;5;28;01mimport\u001b[39;00m remove_list_redundancies\n\u001b[1;32m     18\u001b[0m \u001b[38;5;28;01mfrom\u001b[39;00m \u001b[38;5;21;01m.\u001b[39;00m\u001b[38;5;21;01m.\u001b[39;00m\u001b[38;5;21;01mutils\u001b[39;00m\u001b[38;5;21;01m.\u001b[39;00m\u001b[38;5;21;01mrate_functions\u001b[39;00m \u001b[38;5;28;01mimport\u001b[39;00m linear\n",
      "File \u001b[0;32m~/miniconda3/lib/python3.10/site-packages/manim/scene/scene.py:38\u001b[0m\n\u001b[1;32m     36\u001b[0m \u001b[38;5;28;01mfrom\u001b[39;00m \u001b[38;5;21;01m.\u001b[39;00m\u001b[38;5;21;01m.\u001b[39;00m \u001b[38;5;28;01mimport\u001b[39;00m config, logger\n\u001b[1;32m     37\u001b[0m \u001b[38;5;28;01mfrom\u001b[39;00m \u001b[38;5;21;01m.\u001b[39;00m\u001b[38;5;21;01m.\u001b[39;00m\u001b[38;5;21;01manimation\u001b[39;00m\u001b[38;5;21;01m.\u001b[39;00m\u001b[38;5;21;01manimation\u001b[39;00m \u001b[38;5;28;01mimport\u001b[39;00m Animation, Wait, prepare_animation\n\u001b[0;32m---> 38\u001b[0m \u001b[38;5;28;01mfrom\u001b[39;00m \u001b[38;5;21;01m.\u001b[39;00m\u001b[38;5;21;01m.\u001b[39;00m\u001b[38;5;21;01mcamera\u001b[39;00m\u001b[38;5;21;01m.\u001b[39;00m\u001b[38;5;21;01mcamera\u001b[39;00m \u001b[38;5;28;01mimport\u001b[39;00m Camera\n\u001b[1;32m     39\u001b[0m \u001b[38;5;28;01mfrom\u001b[39;00m \u001b[38;5;21;01m.\u001b[39;00m\u001b[38;5;21;01m.\u001b[39;00m\u001b[38;5;21;01mconstants\u001b[39;00m \u001b[38;5;28;01mimport\u001b[39;00m \u001b[38;5;241m*\u001b[39m\n\u001b[1;32m     40\u001b[0m \u001b[38;5;28;01mfrom\u001b[39;00m \u001b[38;5;21;01m.\u001b[39;00m\u001b[38;5;21;01m.\u001b[39;00m\u001b[38;5;21;01mgui\u001b[39;00m\u001b[38;5;21;01m.\u001b[39;00m\u001b[38;5;21;01mgui\u001b[39;00m \u001b[38;5;28;01mimport\u001b[39;00m configure_pygui\n",
      "File \u001b[0;32m~/miniconda3/lib/python3.10/site-packages/manim/camera/camera.py:16\u001b[0m\n\u001b[1;32m     13\u001b[0m \u001b[38;5;28;01mfrom\u001b[39;00m \u001b[38;5;21;01mfunctools\u001b[39;00m \u001b[38;5;28;01mimport\u001b[39;00m reduce\n\u001b[1;32m     14\u001b[0m \u001b[38;5;28;01mfrom\u001b[39;00m \u001b[38;5;21;01mtyping\u001b[39;00m \u001b[38;5;28;01mimport\u001b[39;00m Any, Callable, Iterable\n\u001b[0;32m---> 16\u001b[0m \u001b[38;5;28;01mimport\u001b[39;00m \u001b[38;5;21;01mcairo\u001b[39;00m\n\u001b[1;32m     17\u001b[0m \u001b[38;5;28;01mimport\u001b[39;00m \u001b[38;5;21;01mnumpy\u001b[39;00m \u001b[38;5;28;01mas\u001b[39;00m \u001b[38;5;21;01mnp\u001b[39;00m\n\u001b[1;32m     18\u001b[0m \u001b[38;5;28;01mfrom\u001b[39;00m \u001b[38;5;21;01mPIL\u001b[39;00m \u001b[38;5;28;01mimport\u001b[39;00m Image\n",
      "File \u001b[0;32m~/miniconda3/lib/python3.10/site-packages/cairo/__init__.py:1\u001b[0m\n\u001b[0;32m----> 1\u001b[0m \u001b[38;5;28;01mfrom\u001b[39;00m \u001b[38;5;21;01m.\u001b[39;00m\u001b[38;5;21;01m_cairo\u001b[39;00m \u001b[38;5;28;01mimport\u001b[39;00m \u001b[38;5;241m*\u001b[39m  \u001b[38;5;66;03m# noqa: F401,F403\u001b[39;00m\n\u001b[1;32m      4\u001b[0m \u001b[38;5;28;01mdef\u001b[39;00m \u001b[38;5;21mget_include\u001b[39m():\n\u001b[1;32m      5\u001b[0m \u001b[38;5;250m    \u001b[39m\u001b[38;5;124;03m\"\"\"Returns a path to the directory containing the C header files\"\"\"\u001b[39;00m\n",
      "\u001b[0;31mImportError\u001b[0m: /home/rnwatanabe/miniconda3/lib/python3.10/site-packages/cairo/_cairo.cpython-310-x86_64-linux-gnu.so: undefined symbol: cairo_tee_surface_index"
     ]
    }
   ],
   "source": [
    "import sympy as sym\n",
    "from manim import *\n",
    "from manim.utils.color import Colors\n",
    "config.media_width = \"100%\"\n",
    "config.verbosity = \"WARNING\""
   ]
  },
  {
   "cell_type": "markdown",
   "id": "fed8542a-c3c9-481e-97c3-3373962fbca8",
   "metadata": {},
   "source": [
    "## Definição\n",
    "\n",
    "A **resposta ao impulso** (às vezes também chamada de **resposta impulsiva**) de um sistema contínuo é o sinal de saída de um sistema quando um impulso $\\delta(t)$ é usado como sinal de entrada do sistema e inicialmente o sistema está em repouso (a saída $y(t)$ e todas as suas derivadas iguais a zero). A resposta ao impulso é normalmente representada pela letra $h(t)$.\n",
    "\n",
    "<img src=Imagens/diagimpulsocont.png width=\"500\">"
   ]
  },
  {
   "cell_type": "markdown",
   "id": "c10b8020-6b23-44ff-8550-24aadd44eba4",
   "metadata": {},
   "source": [
    "O sinal impulso é um sinal que ocorre em apenas um instante que tem amplitude infinita. É como se desse uma \"pancada\" no sistema ou o sistema fosse atingido por um raio. É algo muito forte que acontece por apenas um instante. Após o instante em que o impulso acontece ($t=0$) a entrada fica zero novamente.\n",
    "\n",
    "Mas nesse único instante, o sistema recebe uma quantidade de energia que muda toda a configuração do sistema, mudando assim os valores do sinal de saída e de suas derivadas. Desta forma é como se as condições iniciais do sistema mudassem devido ao impulso. "
   ]
  },
  {
   "cell_type": "markdown",
   "id": "072d34c2-f27e-426c-acb8-8d162de54733",
   "metadata": {},
   "source": [
    "Portanto, para encontrar a resposta ao impulso de um sistema contínuo, linear e invariante no tempo, com a seguinte forma geral de equação diferencial:\n",
    "\n",
    "$$\\frac{d^Ny}{dt^N} + a_{N-1}\\frac{d^{N-1}y}{dt^{N-1}}+...+a_0y(t) = b_N\\frac{d^Nx}{dt^N} +...+b_2\\frac{d^2x}{dt^2}+b_1\\frac{dx}{dt} + b_0x(t) $$\n",
    "\n",
    "basta encontrar a resposta de entrada nula do sistema considerando as novas condições iniciais devido ao impulso. Aqui esse sinal terá o símbolo $w(t)$ (é um sinal intermediário no cálculo da resposta ao impulso, sem nenhum significado físico). Essas condições iniciais são:\n",
    "\n",
    "$$\\frac{d^{N-1}w}{dt^{N-1}}(0) = 1, \\frac{d^{N-2}w}{dt^{N-2}}(0) = 0, ..., w(0) = 0$$\n",
    "\n",
    "Uma vez encontrada esse sinal $w(t)$, para encontrar a resposta ao impulso basta fazer:\n",
    "\n",
    "$$h(t)= \\left(b_N\\frac{d^Nw}{dt^N} +...+b_2\\frac{d^2w}{dt^2}+b_1\\frac{dw}{dt} + b_0w(t)\\right)u(t) $$\n",
    "\n",
    "\n",
    "Essa expressão de $h(t)$ é válida para $t>0$. Em $t=0$, se $b_N\\neq 0$ aparecerá um impulso com área $b_N$, somado a expresão anterior. \n",
    "\n",
    "$$h(t)= b_N\\delta(t) + \\left(b_N\\frac{d^Nw}{dt^N} +...+b_2\\frac{d^2w}{dt^2}+b_1\\frac{dw}{dt} + b_0w(t)\\right)u(t) $$\n",
    "\n",
    "\n",
    "A demonstração desse método está no vídeo abaixo."
   ]
  },
  {
   "cell_type": "code",
   "execution_count": 189,
   "id": "6146ba47-8f28-4a6d-a211-dbacfd05ed2e",
   "metadata": {
    "tags": []
   },
   "outputs": [
    {
     "name": "stderr",
     "output_type": "stream",
     "text": [
      "                                                                                                                       \r"
     ]
    },
    {
     "data": {
      "text/html": [
       "<video src=\"media/jupyter/ImpulseObtain@2023-04-28@13-04-03.mp4\" controls autoplay loop style=\"max-width: 100%;\"  >\n",
       "      Your browser does not support the <code>video</code> element.\n",
       "    </video>"
      ],
      "text/plain": [
       "<IPython.core.display.Video object>"
      ]
     },
     "metadata": {},
     "output_type": "display_data"
    }
   ],
   "source": [
    "%%manim -qm ImpulseObtain\n",
    "\n",
    "def step(x):\n",
    "    if x >=0: \n",
    "        return 1\n",
    "    else:\n",
    "        return 0   \n",
    "\n",
    "def zeros(x):\n",
    "    return 0   \n",
    "\n",
    "\n",
    "class ImpulseObtain(Scene):\n",
    "    def construct(self):\n",
    "        text1=MathTex(\n",
    "            \"\\\\frac{d^Ny}{dt^N} + a_{N-1}\\\\frac{d^{N-1}y}{dt^{N-1}}+a_{N-2}\\\\frac{d^{N-2}y}{dt^{N-2}}+...+a_0y(t)\", \n",
    "            \"=\", \n",
    "            \"b_M\\\\frac{d^Mx}{dt^M} +...+b_2\\\\frac{d^2x}{dt^2}+b_1\\\\frac{dx}{dt} + b_0x(t) \",\n",
    "        font_size=35)\n",
    "        self.play(Write(text1))\n",
    "        text2=MathTex(\n",
    "            \"\\\\frac{d^Ny}{dt^N} + a_{N-1}\\\\frac{d^{N-1}y}{dt^{N-1}}+a_{N-2}\\\\frac{d^{N-2}y}{dt^{N-2}}+...+a_0y(t)\", \n",
    "            \"=\", \n",
    "            \"w(t)\",        \n",
    "        font_size=35)\n",
    "        \n",
    "        text3=MathTex(\n",
    "            \"w(t)\", \n",
    "            \"=\", \n",
    "            \"b_M\\\\frac{d^Mx}{dt^M} +...+b_2\\\\frac{d^2x}{dt^2}+b_1\\\\frac{dx}{dt} + b_0x(t) \",        \n",
    "        font_size=35).move_to(DOWN)\n",
    "        text5=MathTex(\n",
    "            \"\\\\frac{d^Nw}{dt^N} + a_{N-1}\\\\frac{d^{N-1}w}{dt^{N-1}}+a_{N-2}\\\\frac{d^{N-2}w}{dt^{N-2}}+...+a_0w(t)\", \n",
    "            \"=\", \n",
    "            \"\\\\delta(t)\",        \n",
    "        font_size=35).move_to((0,3,0))\n",
    "        \n",
    "        text6=MathTex(\n",
    "            \"h(t)\", \n",
    "            \"=\", \n",
    "            \"b_M\\\\frac{d^Mw}{dt^M} +...+b_2\\\\frac{d^2w}{dt^2}+b_1\\\\frac{dw}{dt} + b_0w(t) \",        \n",
    "        font_size=35).move_to((0,2,0))\n",
    "        brace1 = Brace(text1[2])\n",
    "        brace1text = brace1.get_tex(\"w(t)\")\n",
    "        S1text = MathTex('S_1:  ').move_to((-5,0,0))\n",
    "        S2text = MathTex('S_2:  ').move_to((-5,-1,0))\n",
    "        # framebox2 = SurroundingRectangle(text[2], buff = .1)\n",
    "        # self.play(\n",
    "        #     Create(framebox1),\n",
    "        # )\n",
    "        self.wait()\n",
    "        self.add(brace1)\n",
    "        self.wait()\n",
    "        self.add(brace1text)\n",
    "        self.wait()\n",
    "        self.remove(brace1, brace1text)\n",
    "        self.play(\n",
    "            ReplacementTransform(text1,text2),\n",
    "            Write(text3)\n",
    "        )\n",
    "        self.add(S1text, S2text)\n",
    "        self.wait(2)\n",
    "        S1 = MathTex('S1').move_to((-5,0,0))\n",
    "        S2 = MathTex('S2').move_to((-5,-1,0))\n",
    "        self.play(S1.animate.move_to((3,-2,0)),\n",
    "                  S2.animate.move_to((-3,-2,0)),\n",
    "                  S1text.animate.move_to((-5,3,0)),\n",
    "                  S2text.animate.move_to((-5,2,0)), \n",
    "                  text2.animate.move_to((0,3,0)),\n",
    "                  text3.animate.move_to((0,2,0)))\n",
    "        rec1 = SurroundingRectangle(S1, buff=0.7)\n",
    "        rec2 = SurroundingRectangle(S2, buff=0.7)\n",
    "        line1 = Arrow([-2.05,-2,0], [2,-2,0], buff=0)\n",
    "        rec3 = SurroundingRectangle(Group(rec1, rec2, line1), buff=0.5)\n",
    "        line2 = Arrow([-6,-2,0], [-4,-2,0], buff=0)\n",
    "        line3 = Arrow([4,-2,0], [6,-2,0], buff=0)\n",
    "        x = MathTex('x(t)').move_to((-5,-1.5,0))\n",
    "        y = MathTex('y(t)').move_to((5,-1.5,0))\n",
    "        w = MathTex('w(t)').move_to((0,-1.5,0))\n",
    "        delta = MathTex('\\\\delta(t)').move_to((-5,-1.5,0))\n",
    "        h = MathTex('h(t)').move_to((5,-1.5,0))\n",
    "        self.add(rec1, rec2, line1, line2, line3, x, y, w, rec3)\n",
    "        self.wait(2)\n",
    "        self.play(ReplacementTransform(x, delta),\n",
    "                  ReplacementTransform(y, h))\n",
    "        self.wait(2)\n",
    "        text4 = Text('SLIT').move_to((0,0,0))\n",
    "        self.add(text4)\n",
    "        self.play(S1.animate.move_to((-3,-2,0)),\n",
    "                  S2.animate.move_to((3,-2,0)),\n",
    "                  ReplacementTransform(text2, text5),\n",
    "                  ReplacementTransform(text3, text6)\n",
    "                  )\n",
    "        self.wait(2)\n",
    "        sis = Group(line1, line2, line3, S1, S2, rec1, rec2, rec3, delta, h, w)\n",
    "        S2group = Group(S2text, text6)\n",
    "        \n",
    "        self.remove(text4)\n",
    "        self.play(sis.animate.scale(0.5), S2group.animate.scale(0.7))\n",
    "        self.play(sis.animate.move_to((-4,-3,0)), \n",
    "                  S2group.animate.move_to((2.5, -3,0)))\n",
    "        \n",
    "        \n",
    "        ax = Axes(x_range=[-1, 4], y_range=[-1, 5], tips=False).scale(0.2).move_to((-6, 1.5,0))\n",
    "        line4 = Arrow([-6.7,1.1,0], [-6.7,2,0], buff=0, color=BLUE)\n",
    "        \n",
    "        ax2 = Axes(x_range=[-1, 4], y_range=[-1, 5], tips=False).scale(0.2).move_to((-3, 1.5,0))\n",
    "        graph2 = ax2.plot(lambda x: step(x), color=BLUE, x_range=[-1, 0.5, 0.01],\n",
    "                        use_smoothing=False)\n",
    "        \n",
    "        ax3 = Axes(x_range=[-1, 4], y_range=[-1, 5], tips=False).scale(0.2).move_to((0, 1.5,0))\n",
    "        graph3 = ax3.plot(lambda x: zeros(x), color=BLUE, x_range=[-1, 0.5, 0.01],\n",
    "                            use_smoothing=False)\n",
    "        \n",
    "        ax4 = Axes(x_range=[-1, 4], y_range=[-1, 5], tips=False).scale(0.2).move_to((2.7, 1.5,0))\n",
    "        graph4 = ax4.plot(lambda x: zeros(x), color=BLUE, x_range=[-1, 0.5, 0.01],\n",
    "                        use_smoothing=False)\n",
    "        \n",
    "        ax5 = Axes(x_range=[-1, 4], y_range=[-1, 5], tips=False).scale(0.2).move_to((6, 1.5,0))\n",
    "        line5 = Arrow([5.3,1.1,0], [5.3,2,0], buff=0, color=BLUE)\n",
    "        \n",
    "        text6 = MathTex('+').move_to((-4.8,1.5,0))\n",
    "        text7 = MathTex('+').move_to((-1.8,1.5,0))\n",
    "        text8 = MathTex('...').move_to((1.2,1.5,0))\n",
    "        text9 = MathTex('=').move_to((4.2,1.5,0))\n",
    "        self.add(ax, line4, ax2, graph2, ax3, graph3, \n",
    "                 ax4, graph4, ax5, line5, \n",
    "                 text6, text7, text8, text9)\n",
    "        self.wait(2)\n",
    "        text10 = MathTex('\\\\frac{d^Nw}{dt^N}(0) = \\\\delta(0)').next_to(ax, DOWN).scale(0.7)\n",
    "        text11 = MathTex('\\\\frac{d^{N-1}w}{dt^{N-1}}(0) = 1').next_to(ax2, DOWN).scale(0.7)\n",
    "        text12 = MathTex('\\\\frac{d^{N-2}w}{dt^{N-2}}(0) = 0').next_to(ax3, DOWN).scale(0.7)\n",
    "        text13 = MathTex('w(0) = 0').next_to(ax4, DOWN).scale(0.7)\n",
    "        self.add(text10, text11, text12, text13)   \n",
    "        winit = Group(text10, text11, text12, text13)\n",
    "        self.wait(5)\n",
    "        self.remove(ax, line4, ax2, graph2, ax3, graph3, \n",
    "                    ax4, graph4, ax5, line5, text6, \n",
    "                    text7, text8, text9)\n",
    "        text13 =  MathTex('\\\\frac{d^Nw}{dt^N}(0) = \\\\delta(0), ', '\\\\frac{d^{N-1}w}{dt^{N-1}}(0) = 1, ',\n",
    "                          '\\\\frac{d^{N-2}w}{dt^{N-2}}(0) = 0, ','...', 'w(0) = 0').scale(0.6).next_to(text5, DOWN)   \n",
    "        self.play(ReplacementTransform(winit, text13))\n",
    "        self.wait(3)\n",
    "        text14 = MathTex('w(t) = y_{zi}(t), \\\\text{ com } ', '\\\\frac{d^{N-1}w}{dt^{N-1}}(0) = 1, ',\n",
    "                          '\\\\frac{d^{N-2}w}{dt^{N-2}}(0) = 0, ','...', 'w(0) = 0').scale(0.6).next_to(text5, DOWN)\n",
    "        self.play(ReplacementTransform(text13, text14))\n",
    "        self.wait(2)\n",
    "        S1group = Group(S1text, text5)\n",
    "        self.play(S2group.animate.scale(1/0.7), S1group.animate.scale(0.7))\n",
    "        self.play(S2group.animate.move_to((-2, 3,0)),\n",
    "                  S1group.animate.move_to((2.5, -3, 0)))\n",
    "        \n",
    "        self.wait(2)\n",
    "        text15=MathTex(\n",
    "            \"h(t)\", \n",
    "            \"=\", \n",
    "            \"b_M\\\\frac{d^Mw}{dt^M} +...+b_2\\\\frac{d^2w}{dt^2}+b_1\\\\frac{dw}{dt} + b_0w(t) \",        \n",
    "        font_size=35).move_to((-1.5,3,0))\n",
    "        self.remove(text14)\n",
    "        self.play(ReplacementTransform(S2group, text15))\n",
    "        self.wait(5)\n",
    "        \n",
    "        \n",
    "        \n",
    "        \n",
    "        "
   ]
  },
  {
   "cell_type": "markdown",
   "id": "d300155d-6aee-4577-961e-a2d3748a1132",
   "metadata": {},
   "source": [
    "---\n",
    "\n",
    "### Exemplo 1:\n",
    "\n",
    "Vamos encontrar a resposta ao impulso para o sistema com a equação diferencial abaixo:\n",
    "\n",
    "$\\frac{dy}{dt} - 0.5y(t) = x(t)$\n",
    "\n",
    "A raiz do polinômio característico da equação diferencial é $\\lambda_1=0.5$. Então $w(t)$ é:\n",
    "\n",
    "$w(t)=A_1e^{\\lambda t}$\n",
    "\n",
    "Considerando a condição inicial $w(0) = 1$.\n",
    "\n",
    "$w(t) = e^{0.5 t}$\n",
    "\n",
    "Portanto, a resposta ao impulso desse sistema é:\n",
    "\n",
    "$h(t) = e^{0.5 t}u(t)$"
   ]
  },
  {
   "cell_type": "code",
   "execution_count": 10,
   "id": "593a3f19-5b52-4234-9904-92fc6902fcf8",
   "metadata": {},
   "outputs": [
    {
     "data": {
      "image/png": "[encoded data removed]",
      "text/plain": [
       "<Figure size 640x480 with 1 Axes>"
      ]
     },
     "metadata": {},
     "output_type": "display_data"
    },
    {
     "data": {
      "text/plain": [
       "<sympy.plotting.plot.Plot at 0x7fce3e0479a0>"
      ]
     },
     "execution_count": 10,
     "metadata": {},
     "output_type": "execute_result"
    }
   ],
   "source": [
    "t = sym.symbols('t')\n",
    "sym.plot(sym.exp(0.5*t), (t,0, 6))"
   ]
  },
  {
   "cell_type": "markdown",
   "id": "69e4f6cd-5600-4fb5-ab12-09381bc9258f",
   "metadata": {},
   "source": [
    "---"
   ]
  },
  {
   "cell_type": "markdown",
   "id": "6fc0e626-b29f-450f-a90b-dcd7b8194147",
   "metadata": {},
   "source": [
    "---\n",
    "\n",
    "### Exemplo 2\n",
    "\n",
    "Vamos agora obter uma expressão da resposta ao impulso da seguinte equação diferencial:\n",
    "\n",
    "$\\frac{d^2y}{dt^2} + 3\\frac{dy}{dt} - 4y(t) = 3x(t) + \\frac{dx}{dt}$\n",
    "\n",
    "As raízes do polinômio característico da equação são:\n",
    "\n",
    "$\\lambda_1 = \\frac{-3 + \\sqrt{9+16}}{2} = 1$ e $\\lambda_2 = \\frac{-3 - \\sqrt{9+16}}{2} = -4$\n",
    "\n",
    "O sinal $w(t)$ é:\n",
    "\n",
    "$w(t) = A_1e^{t} + A_2e^{-4t}$, com $w(0) = 0$ e $\\frac{dw}{dt}(0) = 1$.\n",
    "\n",
    "Então:\n",
    "\n",
    "$w(t) = 0.2e^t-0.2e^{-4t}$\n",
    "\n",
    "Usando os coeficientes que multiplicam $x(t)$ e suas derivadas, temos:\n",
    "\n",
    "$$h(t) = (3w(t) + \\frac{dw}{dt})u(t) = (0.6e^t-0.6e^{-4t} + 0.2e^t +0.8e^{-4t})u(t) = (0.8e^t+0.2e^{-4t})u(t)$$"
   ]
  },
  {
   "cell_type": "code",
   "execution_count": 12,
   "id": "c1728608-d9c0-4799-85a7-617561868358",
   "metadata": {},
   "outputs": [
    {
     "data": {
      "image/png": "[encoded data removed]",
      "text/plain": [
       "<Figure size 640x480 with 1 Axes>"
      ]
     },
     "metadata": {},
     "output_type": "display_data"
    },
    {
     "data": {
      "text/plain": [
       "<sympy.plotting.plot.Plot at 0x7fce3dfd3280>"
      ]
     },
     "execution_count": 12,
     "metadata": {},
     "output_type": "execute_result"
    }
   ],
   "source": [
    "t = sym.symbols('t')\n",
    "sym.plot(0.8*sym.exp(t) + 0.2*sym.exp(-4*t), (t,0, 6))"
   ]
  },
  {
   "cell_type": "markdown",
   "id": "2b9efbd6-fbf5-421d-adb1-f68dd5be2da4",
   "metadata": {},
   "source": [
    "---"
   ]
  },
  {
   "cell_type": "markdown",
   "id": "c3d6cb78-8bb3-4f77-b8a1-009a95e0df64",
   "metadata": {},
   "source": [
    "---\n",
    "\n",
    "### Exemplo 3\n",
    "\n",
    "Vamos encontrar a resposta ao impulso de um sistema com a seguinte equação diferencial.\n",
    "\n",
    "$$\\frac{d^2y}{dt^2} = -4\\frac{dy}{dt} - 4y(t) + 3x(t)$$\n",
    "\n",
    "O polinômio característico é:\n",
    "\n",
    "$\\lambda^2 + 4\\lambda + 4 = 0$\n",
    "\n",
    "As raízes da equação são iguais e iguais a -2. Então, o sinal $w(t)$ é:\n",
    "\n",
    "$w(t) = c_1e^{-2t} + c_2te^{-2t}$, com $w(0) = 0$ e $\\frac{dw}{dt}(0) = 1$.\n",
    "\n",
    "Então, \n",
    "\n",
    "$$w(t) = te^{-2t}$$\n",
    "\n",
    "Portanto , a resposta ao impulso é:\n",
    "\n",
    "$$h(t) = 3te^{-2t}u(t)$$\n",
    "\n",
    "O gráfico da resposta ao impulso está abaixo:\n",
    "\n"
   ]
  },
  {
   "cell_type": "code",
   "execution_count": 8,
   "id": "24c2b850-562a-4fd7-9772-8c4f877bc2d5",
   "metadata": {},
   "outputs": [
    {
     "data": {
      "image/png": "[encoded data removed]",
      "text/plain": [
       "<Figure size 640x480 with 1 Axes>"
      ]
     },
     "metadata": {},
     "output_type": "display_data"
    },
    {
     "data": {
      "text/plain": [
       "<sympy.plotting.plot.Plot at 0x7fce3e0beb90>"
      ]
     },
     "execution_count": 8,
     "metadata": {},
     "output_type": "execute_result"
    }
   ],
   "source": [
    "t = sym.symbols('t')\n",
    "sym.plot(3*sym.exp(-2*t)*t, (t,0, 6))"
   ]
  },
  {
   "cell_type": "markdown",
   "id": "2edaf618-d95d-4058-988c-499f7436b374",
   "metadata": {},
   "source": [
    "---"
   ]
  },
  {
   "cell_type": "markdown",
   "id": "0a87563c-d35f-400e-8641-9e2fff2bb8cc",
   "metadata": {},
   "source": [
    "---\n",
    "\n",
    "### Exemplo 4\n",
    "\n",
    "Considere um sistema com a seguinte equação diferencial:\n",
    "\n",
    "$$\\frac{d^2y}{dt^2} = -2\\frac{dy}{dt} - 2y(t) + x(t) + 2\\frac{dx}{dt}$$\n",
    "\n",
    "Para encontrar a resposta ao impulso desse sistema, calculamos as raízes do seu polinômio característico.\n",
    "\n",
    "$\\lambda_1 = \\frac{-2 + \\sqrt{4-8}}{2} = -1+j$ e $\\lambda_2 = \\frac{-2 - \\sqrt{4-8}}{2} = -1-j$\n",
    "\n",
    "Como as raízes são complexas, o sinal $w(t)$ terá a forma:\n",
    "\n",
    "$w(t) = Ae^{-t}\\cos(t+\\theta)$, com $w(0) = 0$ e $\\frac{dw}{dt}(0) = 1$.\n",
    "\n",
    "Usando os valores iniciais, temos:\n",
    "\n",
    "$w(t) = e^{-t}\\cos\\left(t-\\frac{\\pi}{2}\\right)$\n",
    "\n",
    "Portanto, a resposta ao impulso é:\n",
    "\n",
    "$$h(t) = w(t) + 2\\frac{dw}{dt} = e^{-t}\\cos\\left(t-\\frac{\\pi}{2}\\right) - 2e^{-t}\\cos\\left(t-\\frac{\\pi}{2}\\right) - 2e^{-t}\\mathrm{sen}\\left(t-\\frac{\\pi}{2}\\right) = - e^{-t}\\cos\\left(t-\\frac{\\pi}{2}\\right) - 2e^{-t}\\mathrm{sen}\\left(t-\\frac{\\pi}{2}\\right)$$\n",
    "\n",
    "O gráfico está mostrado abaixo:"
   ]
  },
  {
   "cell_type": "code",
   "execution_count": 14,
   "id": "8b4cb030-4c51-43e1-88cb-fdba2f4c7762",
   "metadata": {},
   "outputs": [
    {
     "data": {
      "image/png": "[encoded data removed]",
      "text/plain": [
       "<Figure size 640x480 with 1 Axes>"
      ]
     },
     "metadata": {},
     "output_type": "display_data"
    }
   ],
   "source": [
    "t = sym.symbols('t')\n",
    "sym.plot(-sym.exp(-t)*(sym.cos(t-sym.pi/2)+2*sym.sin(t-sym.pi/2)), (t,0, 6));\n",
    "        "
   ]
  },
  {
   "cell_type": "markdown",
   "id": "64120b6e-005d-4256-903a-b4178af3c7ad",
   "metadata": {},
   "source": [
    "---"
   ]
  },
  {
   "cell_type": "markdown",
   "id": "cc8b5ebb-81f3-4d11-94ab-cb3a19704c54",
   "metadata": {},
   "source": [
    "## Exercícios\n",
    "\n",
    "**1)** Encontre a resposta ao impulso dos sistemas descritos pelas seguintes equações diferenciais e condições iniciais.\n",
    "\n",
    "a) $\\frac{d^2y}{dt^2} = -4\\frac{dy}{dt}-6y(t) + \\frac{dx}{dt} + x(t)$, com $y(0) = 2, \\frac{dy}{dt}(0) = 1$\n",
    "\n",
    "b) $\\frac{d^2y}{dt^2} = -4\\frac{dy}{dt}-4y(t)  + x(t)$, com $y(0) = 3, \\frac{dy}{dt}(0) = -4$\n",
    "\n",
    "c) $\\frac{d^2y}{dt^2} = -\\frac{dy}{dt} + \\frac{dx}{dt} + x(t)$, com $y(0) = 1, \\frac{dy}{dt}(0) = 1$\n",
    "\n",
    "d) $\\frac{d^2y}{dt^2} = -4y(t) + x(t)$, com $y(0) = 0, \\frac{dy}{dt}(0) = 6$\n",
    "\n",
    "e) $\\frac{d^2y}{dt^2} = -4\\frac{dy}{dt}-13y(t) + 4\\frac{dx}{dt} + 2x(t)$, com $y(0) = 1, \\frac{dy}{dt}(0) = 9.9$\n",
    "\n",
    "f) $\\frac{d^3y}{dt^3} = -1\\frac{d2y}{dt^2} + 2\\frac{d^2x}{dt^2} + 3x(t)$, com $y(0) = 2, \\frac{dy}{dt}(0) = 1, \\frac{d2y}{dt^2}(0) = 0$"
   ]
  },
  {
   "cell_type": "markdown",
   "id": "50b02979",
   "metadata": {},
   "source": [
    "**2)** Considere o circuito elétrico da figura abaixo:\n",
    "\n",
    "<img src=https://upload.wikimedia.org/wikipedia/commons/thumb/e/e0/RC_Series_Filter_%28with_V%26I_Labels%29.svg/1920px-RC_Series_Filter_%28with_V%26I_Labels%29.svg.png width=\"400\">\n",
    "\n",
    "Considere que o sinal de entrada do sistema é a tensão do gerador $x(t) = V_{in}$ e o sinal de saída é a tensão no resistor $y(t)=V_R$. Pede-se:\n",
    "\n",
    "a) A equação diferencial que descreve o comportamento desse sistema (lembre-se que $I=C\\frac{dV_c}{dt}$, $I = \\frac{V_r}{R}$ e $V_{in} = V_c + V_r$).\n",
    "\n",
    "b) A resposta ao impulso desse sistema."
   ]
  },
  {
   "cell_type": "markdown",
   "id": "6df607c3-ed44-4957-9c5f-02f23b4819cc",
   "metadata": {},
   "source": [
    "**3)** Quais destas respostas ao impulso são de sistemas causais. Todos os sistemas são lineares e invariantes no tempo:\n",
    "\n",
    "a) $h_1(t) = e^{-2|t|}$\n",
    "\n",
    "b) $h_2(t) = (1-|t|)[u(t+2)-u(t-2)]$\n",
    "\n",
    "c) $h_3(t) = e^{3t}u(-t)$\n",
    "\n",
    "d) $h_4(t) = e^{3t}u(t)$\n",
    "\n",
    "e) $h_5(t) = \\cos(3t)u(t)$\n",
    "\n",
    "f) $h_6(t) = \\frac{t}{t+1}u(t)$"
   ]
  },
  {
   "cell_type": "markdown",
   "id": "c690a46b-60ca-40fd-85cd-0dfab838ef85",
   "metadata": {},
   "source": [
    "**4)** Encontre a resposta ao impulso dos sistemas descritos pelas seguintes equações diferenciais:\n",
    "\n",
    "a) $\\frac{d^4 y}{dt^4} = -y(t) + x(t)$, com  com $y(0)=1$, $\\frac{dy}{dt}(0) = 1 $, $\\frac{d^2y}{dt^2}(0) = 0$, $\\frac{d^3y}{dt^3}(0) = -1 $\n",
    "\n",
    "b) $\\frac{d^3 y}{dt^3} = -y(t) + x(t) + \\frac{dx}{dt}$, com  com $y(0)=1$, $\\frac{dy}{dt}(0) = 1 $, $\\frac{d^2y}{dt^2}(0) = 0$\n",
    "\n",
    "c) $\\frac{d^4 y}{dt^4} = -\\frac{1}{16}y(t) + x(t)$, com  com $y(0)=1$, $\\frac{dy}{dt}(0) = 1 $, $\\frac{d^2y}{dt^2}(0) = 0$, $\\frac{d^3y}{dt^3}(0) = -1 $\n"
   ]
  },
  {
   "cell_type": "markdown",
   "id": "85098a5a-e4e7-4170-8a11-c8fcd98fe9c4",
   "metadata": {},
   "source": [
    "## Referências\n",
    "\n",
    "- Lathi, BP, Sinais e Sistemas Lineares, 2007"
   ]
  },
  {
   "cell_type": "markdown",
   "id": "abbf5709-d251-48c1-89bd-4170a087324b",
   "metadata": {},
   "source": [
    "## Solução dos exercícios"
   ]
  },
  {
   "cell_type": "markdown",
   "id": "4bfb152d-31f7-4126-9a1a-f4cd9c253107",
   "metadata": {},
   "source": [
    "**3)** Resolvido por Catherine\n",
    "\n",
    "**a) $h_1(t) = e^{-2|t|}$**\n",
    "\n",
    "Não é causal, pois não é nula para tempos anteriores a zero $t < 0$\n",
    "\n",
    "**b) $(h_2(t) = (1-|t|)[u(t+2)-u(t-2)$**\n",
    "\n",
    "Para verificar a causalidade, vamos analisar os intervalos de $t$ em que $h_2(t)$ é diferente de zero:\n",
    "- Para $t < -2$: $h_2(t) = (1-|t|)[0-0] = 0$\n",
    "- Para $-2 \\leq t < 0$: $h_2(t) = (1-|t|)[0-1] = t+1$\n",
    "- Para $0 \\leq t < 2$: \\(h_2(t) = (1-|t|)[1-0] = 1-t$\n",
    "- Para $t \\geq 2$: $h_2(t) = (1-|t|)[0-0] = 0$\n",
    "\n",
    "$h_2(t)$ é não nulo para $-2<t < 0$ , o que significa que é não-causal.\n",
    "\n",
    "**c) $h_3(t) = e^{3t}u(-t)$**\n",
    "\n",
    "Esta resposta ao impulso não é causal, pois não é nula para tempos anteriores a zero $(t < 0)$\n",
    "\n",
    "**d) $h_4(t) = e^{3t}u(t)$**\n",
    "\n",
    "- Para $t < 0$: $h_4(t) = e^{3t} \\cdot 0 = 0$\n",
    "- Para $t \\geq 0$: $h_4(t) = e^{3t} \\cdot 1 = e^{3t}$\n",
    "\n",
    "$h_4(t)$ é nulo para $t < 0$, o que significa que é causal.\n",
    "\n",
    "**e) $h_5(t) = \\cos(3t)u(t)$**\n",
    "\n",
    "Para verificar a causalidade, vamos analisar os intervalos de $t$ em que $h_5(t)$ é diferente de zero:\n",
    "- Para $t < 0$: $h_5(t) = \\cos(3t) \\cdot 0 = 0$\n",
    "- Para $t \\geq 0$: $h_5(t) = \\cos(3t) \\cdot 1 = \\cos(3t)$\n",
    "\n",
    "$h_5(t)$ é nulo para $t < 0$, o que significa que é causal.\n",
    "\n",
    "**f) $h_6(t) = \\frac{t}{t+1}u(t)$**\n",
    "\n",
    "Esta resposta ao impulso  é causal, pois é nula para tempos anteriores a zero $t < 0$."
   ]
  },
  {
   "cell_type": "code",
   "execution_count": null,
   "id": "ffb2e8be-0a23-4201-b8d6-df80f9dc18c1",
   "metadata": {},
   "outputs": [],
   "source": []
  }
 ],
 "metadata": {
  "kernelspec": {
   "display_name": "Python 3 (ipykernel)",
   "language": "python",
   "name": "python3"
  },
  "language_info": {
   "codemirror_mode": {
    "name": "ipython",
    "version": 3
   },
   "file_extension": ".py",
   "mimetype": "text/x-python",
   "name": "python",
   "nbconvert_exporter": "python",
   "pygments_lexer": "ipython3",
   "version": "3.10.12"
  }
 },
 "nbformat": 4,
 "nbformat_minor": 5
}
