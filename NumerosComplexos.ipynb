{
 "cells": [
  {
   "cell_type": "markdown",
   "id": "9aa0047b-7f22-48e0-926a-0770e2defffa",
   "metadata": {
    "editable": true,
    "id": "9aa0047b-7f22-48e0-926a-0770e2defffa",
    "tags": []
   },
   "source": [
    "# Revisão de números complexos\n",
    "\n",
    "Renato Naville Watanabe"
   ]
  },
  {
   "cell_type": "markdown",
   "id": "7ea5ef2d-f5e4-4216-8a63-08517dc35544",
   "metadata": {
    "id": "7ea5ef2d-f5e4-4216-8a63-08517dc35544"
   },
   "source": [
    "## Preparação do ambiente"
   ]
  },
  {
   "cell_type": "code",
   "execution_count": 1,
   "id": "d743547e-c534-45ae-ba60-b007bf05f02c",
   "metadata": {
    "id": "d743547e-c534-45ae-ba60-b007bf05f02c"
   },
   "outputs": [],
   "source": [
    "try:\n",
    "  from google.colab import output\n",
    "  output.enable_custom_widget_manager()\n",
    "  IN_COLAB = True\n",
    "except:\n",
    "  IN_COLAB = False\n",
    "\n",
    "if IN_COLAB:\n",
    "  !pip install ipympl\n",
    "  from IPython.display import clear_output\n",
    "  !sudo apt update\n",
    "  !sudo apt install libcairo2-dev ffmpeg \\\n",
    "       texlive texlive-latex-extra texlive-fonts-extra \\\n",
    "       texlive-latex-recommended texlive-science \\\n",
    "       tipa libpango1.0-dev\n",
    "  !pip install manim\n",
    "  !pip install IPython --upgrade\n",
    "  clear_output()\n",
    "  # Se estiver no Colab, reiniciar o ambiente após executar esta célula"
   ]
  },
  {
   "cell_type": "code",
   "execution_count": 1,
   "id": "08e8c5e3-5f0d-4660-bad8-2edeb9e596f0",
   "metadata": {
    "colab": {
     "base_uri": "https://localhost:8080/",
     "height": 49
    },
    "id": "08e8c5e3-5f0d-4660-bad8-2edeb9e596f0",
    "outputId": "5ae92a74-07bd-4e2c-e16d-856c213ecf78"
   },
   "outputs": [
    {
     "data": {
      "text/html": [
       "<pre style=\"white-space:pre;overflow-x:auto;line-height:normal;font-family:Menlo,'DejaVu Sans Mono',consolas,'Courier New',monospace\">Manim Community <span style=\"color: #008000; text-decoration-color: #008000\">v0.17.3</span>\n",
       "\n",
       "</pre>\n"
      ],
      "text/plain": [
       "Manim Community \u001b[32mv0.\u001b[0m\u001b[32m17.3\u001b[0m\n",
       "\n"
      ]
     },
     "metadata": {},
     "output_type": "display_data"
    }
   ],
   "source": [
    "import matplotlib.pyplot as plt\n",
    "import numpy as np\n",
    "from manim import *\n",
    "from manim.utils.color import Colors\n",
    "config.media_width = \"75%\"\n",
    "config.verbosity = \"WARNING\""
   ]
  },
  {
   "cell_type": "markdown",
   "id": "fd464017-f8ed-4188-8596-0ff71b0bd501",
   "metadata": {
    "editable": true,
    "id": "fd464017-f8ed-4188-8596-0ff71b0bd501",
    "tags": []
   },
   "source": [
    "## Definição\n",
    "\n",
    "Um número complexo pode ser expresso de diferentes formas. A forma mais comum (e menos útil para nós) é a forma cartesiana:\n",
    "\n",
    "$z = x + jy$\n",
    "\n",
    "Nessa representação, $x$ é a parte real de $z$ ($x=\\Re\\{z\\}$), $y$ é a parte imaginária de $z$ ($y = \\Im\\{z\\}$) e $j = \\sqrt{-1}$ é a unidade imaginária."
   ]
  },
  {
   "cell_type": "code",
   "execution_count": null,
   "id": "d19834b6-2727-4282-88d9-20f6a1e53744",
   "metadata": {
    "editable": true,
    "id": "d19834b6-2727-4282-88d9-20f6a1e53744",
    "outputId": "ec6da1fb-b002-472e-ba88-aa7817f12d71",
    "tags": [
     "hide-input"
    ]
   },
   "outputs": [
    {
     "data": {
      "image/png": "[encoded data removed]",
      "text/plain": [
       "<Figure size 1000x1000 with 1 Axes>"
      ]
     },
     "metadata": {},
     "output_type": "display_data"
    }
   ],
   "source": [
    "fig, ax = plt.subplots(figsize=(10,10))\n",
    "ax.scatter([0.7], [0.8])\n",
    "ax.annotate('', [0.5,1], [0.5,0.5], arrowprops={})\n",
    "ax.annotate('', [1,0.5], [0.5,0.5], arrowprops={})\n",
    "ax.annotate('$\\Re\\{z\\}$', [1,0.5], fontsize=15)\n",
    "ax.annotate('$\\Im\\{z\\}$', [0.5,1], fontsize=15)\n",
    "plt.plot([0.7,0.7], [0.5, 0.8], 'k--')\n",
    "plt.plot([0.5,0.7], [0.8, 0.8], 'k--')\n",
    "plt.plot([0.5,0.7], [0.5, 0.8], 'k-')\n",
    "plt.annotate('$x$', [0.69, 0.465], fontsize=15)\n",
    "plt.annotate('$y$', [0.465, 0.8], fontsize=15)\n",
    "plt.annotate('$z$', [0.71, 0.81], fontsize=15)\n",
    "plt.annotate(r'$\\theta$', [0.56, 0.54], fontsize=15)\n",
    "plt.annotate('$r$', [0.6, 0.7], fontsize=15)\n",
    "plt.plot(0.5 + 0.07*np.cos(np.arange(0,1, 0.01)),\n",
    "         0.5 + 0.07*np.sin(np.arange(0, 1, 0.01)), '--')\n",
    "\n",
    "ax.set_axis_off()\n",
    "ax.set_aspect('equal', 'box')\n",
    "plt.xlim(0.4,1)\n",
    "plt.ylim(0.4,1)\n",
    "plt.show()"
   ]
  },
  {
   "cell_type": "markdown",
   "id": "20f3e2cb-e188-41c3-b1bc-60a8e180c9b4",
   "metadata": {
    "editable": true,
    "id": "20f3e2cb-e188-41c3-b1bc-60a8e180c9b4",
    "tags": []
   },
   "source": [
    "Na figura acima é mostrado o plano complexo. Nele a parte real é a abscissa e parte imaginária é a ordenada. Como é possível observar o número $z$ pode pode ser escrito como:\n",
    "\n",
    "$$z = r\\cos(\\theta)+rj\\mathrm{sen}(\\theta) = r(\\cos(\\theta)+j\\mathrm{sen}(\\theta))$$\n",
    "\n",
    "Nessa representação é fácil ver qual o módulo de $z$: $|z| = \\sqrt{x^2+y^2} = \\sqrt{r^2\\cos(\\theta)^2+r^2\\mathrm{sen}(\\theta)^2} = r$. Isso vem do Teorema de Pitágoras.\n",
    "\n",
    "Dessa forma, é possível notar que um número complexo $z$ pode ser representado por dois números: o seu módulo $r$ e a sua fase $\\theta$."
   ]
  },
  {
   "cell_type": "markdown",
   "id": "aab65d95-a168-4e0b-b39f-3ace27808979",
   "metadata": {
    "editable": true,
    "id": "aab65d95-a168-4e0b-b39f-3ace27808979",
    "tags": []
   },
   "source": [
    "A partir da última relação chegamos a uma outra forma de representar um número complexa: a forma polar com exponencial complexa. Essa relação é a mais útil para nós, pois permite mexer com números complexos de forma mais simples e nos trazer mais informações do que na forma polar (apesar de não ser muito intuitiva). Essa relação vem da fórmula de Euler-Moivre:\n",
    "\n",
    "$$z = r\\cos(\\theta) + jr\\mathrm{sen}(\\theta) = re^{j\\theta}$$\n",
    "\n",
    "Essa relação pode ser demonstrada, por exemplo, utilizando Séries de Taylor.\n",
    "\n",
    "A relação entre as duas formas se dá pelas seguintes expressões:\n",
    "\n",
    "- o valor de $r$ é o valor de |z| (módulo de $z$): $r = \\sqrt{x^2+y^2}$\n",
    "\n",
    "- o valor de $\\theta$ é a o valor de $\\angle{z}$ (fase de $z$): $\\theta = \\arctan\\left(\\frac{y}{x} \\right)$\n",
    "\n",
    "- $x$ é a parte real de $z$: $x = r\\cos(\\theta)$\n",
    "\n",
    "- $y$ é a parte imaginária de $z$: $y = r\\mathrm{sen}(\\theta)$\n",
    "\n",
    "Outra relação é que o complexo conjugado de um número $z$ é o número com fase com o sinal trocado: $z = re^{j\\theta} \\rightarrow \\bar{z} = re^{-j\\theta}$.\n"
   ]
  },
  {
   "cell_type": "code",
   "execution_count": null,
   "id": "3eb688ed-c9bb-4bd4-9930-af52daaf30aa",
   "metadata": {
    "editable": true,
    "id": "3eb688ed-c9bb-4bd4-9930-af52daaf30aa",
    "outputId": "31ccf49f-ff85-41b4-b3fe-e6a81008ce58",
    "tags": []
   },
   "outputs": [
    {
     "data": {
      "image/png": "[encoded data removed]",
      "text/plain": [
       "<Figure size 1000x1000 with 1 Axes>"
      ]
     },
     "metadata": {},
     "output_type": "display_data"
    }
   ],
   "source": [
    "fig, ax = plt.subplots(figsize=(10,10))\n",
    "ax.scatter([0.7], [0.8])\n",
    "ax.annotate('', [0.5,1], [0.5,0], arrowprops={})\n",
    "ax.annotate('', [1,0.5], [0,0.5], arrowprops={})\n",
    "ax.annotate('$\\Re\\{z\\}$', [1,0.5], fontsize=15)\n",
    "ax.annotate('$\\Im\\{z\\}$', [0.5,1], fontsize=15)\n",
    "plt.plot([0.7,0.7], [0.5, 0.8], 'k--')\n",
    "plt.plot([0.5,0.7], [0.8, 0.8], 'k--')\n",
    "plt.plot([0.5,0.7], [0.5, 0.8], 'k-')\n",
    "plt.annotate('$x$', [0.69, 0.465], fontsize=15)\n",
    "plt.annotate('$y$', [0.465, 0.8], fontsize=15)\n",
    "plt.annotate(r'$z=x+jy=re^{j\\theta}$', [0.71, 0.81], fontsize=15)\n",
    "plt.annotate(r'$\\theta$', [0.56, 0.54], fontsize=15)\n",
    "plt.annotate('$r$', [0.6, 0.7], fontsize=15)\n",
    "plt.plot(0.5 + 0.07*np.cos(np.arange(-1,1, 0.01)),\n",
    "         0.5 + 0.07*np.sin(np.arange(-1, 1, 0.01)), '--')\n",
    "plt.plot([0.7,0.7], [0.5, 0.2], 'k--')\n",
    "plt.plot([0.5,0.7], [0.2, 0.2], 'k--')\n",
    "plt.plot([0.5,0.7], [0.5, 0.2], 'k-')\n",
    "plt.annotate('$-y$', [0.455, 0.2], fontsize=15)\n",
    "plt.annotate(r'$\\bar{z}=x-jy=re^{-j\\theta}$', [0.71, 0.19], fontsize=15)\n",
    "plt.annotate(r'$-\\theta$', [0.56, 0.46], fontsize=15)\n",
    "\n",
    "ax.set_axis_off()\n",
    "ax.set_aspect('equal', 'box')\n",
    "plt.xlim(0,1)\n",
    "plt.ylim(0,1)\n",
    "plt.show()"
   ]
  },
  {
   "cell_type": "markdown",
   "id": "434b35d9-ad73-4635-8b76-74fd9a46497a",
   "metadata": {
    "editable": true,
    "id": "434b35d9-ad73-4635-8b76-74fd9a46497a",
    "tags": []
   },
   "source": [
    "\n",
    "Observando o plano complexo abaixo, vemos quatro igualdades:\n",
    "    \n",
    "- $1 = e^{j0}$\n",
    "\n",
    "- $-1 = e^{j\\pi}$\n",
    "\n",
    "- $j = e^{j\\frac{\\pi}{2}}$\n",
    "\n",
    "- $-j = e^{-j\\frac{\\pi}{2}}$\n"
   ]
  },
  {
   "cell_type": "code",
   "execution_count": null,
   "id": "b608ec24-a0e8-4181-b452-9f33b028af0a",
   "metadata": {
    "editable": true,
    "id": "b608ec24-a0e8-4181-b452-9f33b028af0a",
    "outputId": "e51f2cbb-15da-4021-8adf-889a49e07643",
    "tags": []
   },
   "outputs": [
    {
     "ename": "NameError",
     "evalue": "name 'plt' is not defined",
     "output_type": "error",
     "traceback": [
      "\u001b[0;31m---------------------------------------------------------------------------\u001b[0m",
      "\u001b[0;31mNameError\u001b[0m                                 Traceback (most recent call last)",
      "Cell \u001b[0;32mIn[1], line 1\u001b[0m\n\u001b[0;32m----> 1\u001b[0m fig, ax \u001b[38;5;241m=\u001b[39m \u001b[43mplt\u001b[49m\u001b[38;5;241m.\u001b[39msubplots(figsize\u001b[38;5;241m=\u001b[39m(\u001b[38;5;241m10\u001b[39m,\u001b[38;5;241m10\u001b[39m))\n\u001b[1;32m      2\u001b[0m ax\u001b[38;5;241m.\u001b[39mannotate(\u001b[38;5;124m'\u001b[39m\u001b[38;5;124m'\u001b[39m, [\u001b[38;5;241m0.5\u001b[39m,\u001b[38;5;241m1\u001b[39m], [\u001b[38;5;241m0.5\u001b[39m,\u001b[38;5;241m0\u001b[39m], arrowprops\u001b[38;5;241m=\u001b[39m{})\n\u001b[1;32m      3\u001b[0m ax\u001b[38;5;241m.\u001b[39mannotate(\u001b[38;5;124m'\u001b[39m\u001b[38;5;124m'\u001b[39m, [\u001b[38;5;241m1\u001b[39m,\u001b[38;5;241m0.5\u001b[39m], [\u001b[38;5;241m0\u001b[39m,\u001b[38;5;241m0.5\u001b[39m], arrowprops\u001b[38;5;241m=\u001b[39m{})\n",
      "\u001b[0;31mNameError\u001b[0m: name 'plt' is not defined"
     ]
    }
   ],
   "source": [
    "fig, ax = plt.subplots(figsize=(10,10))\n",
    "ax.annotate('', [0.5,1], [0.5,0], arrowprops={})\n",
    "ax.annotate('', [1,0.5], [0,0.5], arrowprops={})\n",
    "ax.annotate('$\\Re\\{z\\}$', [1,0.5], fontsize=15)\n",
    "ax.annotate('$\\Im\\{z\\}$', [0.5,1], fontsize=15)\n",
    "plt.plot(0.5+0.2*np.cos(np.arange(0, 2*np.pi, 0.05)), 0.5+0.2*np.sin(np.arange(0, 2*np.pi, 0.05)))\n",
    "plt.annotate(r'$e^{j\\pi/2}=j$', [0.51, 0.72], fontsize=15)\n",
    "plt.annotate(r'$e^{-j\\pi/2}=-j$', [0.51, 0.28], fontsize=15)\n",
    "plt.annotate(r'$e^{j\\pi}=-1$', [0.31, 0.51], fontsize=15)\n",
    "plt.annotate(r'$e^{j0}=1$', [0.71, 0.51], fontsize=15)\n",
    "plt.scatter([0.5, 0.5, 0.3, 0.7], [0.7, 0.3, 0.5, 0.5], color='black', s=100)\n",
    "ax.set_axis_off()\n",
    "ax.set_aspect('equal', 'box')\n",
    "plt.xlim(0,1)\n",
    "plt.ylim(0,1)\n",
    "plt.show()"
   ]
  },
  {
   "cell_type": "markdown",
   "id": "89863fd0-961d-4780-9d10-3d589b4887e6",
   "metadata": {
    "id": "89863fd0-961d-4780-9d10-3d589b4887e6"
   },
   "source": [
    "Elevar um número complexo a uma potência é mais simples usando a representação polar. Elevar um número complexo à potência $p$ equivale simplesmente a multiplicar o ângulo $\\theta$ por $p$."
   ]
  },
  {
   "cell_type": "markdown",
   "id": "5739351b-9364-4a4b-9500-197d7d583239",
   "metadata": {
    "editable": true,
    "id": "5739351b-9364-4a4b-9500-197d7d583239",
    "tags": []
   },
   "source": [
    "---\n",
    "\n",
    "### Exemplo 1\n",
    "\n",
    "Elevar $z=e^{j\\frac{\\pi}{4}}$ ao cubo é:\n",
    "\n",
    "$z^3=\\left(e^{j\\frac{\\pi}{4}}\\right)^3 = e^{j\\frac{3\\pi}{4}}$\n",
    "\n",
    "Fazer essa operação na representação cartesiana seria muito complicado, mas na representação polar é uma simples multiplicação.\n",
    "\n",
    "---\n",
    "\n",
    "\n",
    "É claro que se o módulo $r$ de um número for diferente de 1, esse módulo também é elevado à mesma potência."
   ]
  },
  {
   "cell_type": "markdown",
   "id": "7717a5e7-bc25-4cef-a46a-352ce733a73e",
   "metadata": {
    "editable": true,
    "id": "7717a5e7-bc25-4cef-a46a-352ce733a73e",
    "tags": []
   },
   "source": [
    "---\n",
    "\n",
    "### Exemplo 2\n",
    "\n",
    "$z = 4e^{j\\pi/6} \\rightarrow  z^4 =  (4e^{j\\pi/6})^4 = 256e^{j2\\pi/3}$\n",
    "\n",
    "---"
   ]
  },
  {
   "cell_type": "markdown",
   "id": "efc67e3a",
   "metadata": {
    "editable": true,
    "id": "efc67e3a",
    "tags": []
   },
   "source": [
    "Abaixo está uma animação mostrando um número complexo sendo elevado a várias potências. Repare que é como rotacionar o número em  torno da origem do plano complexo."
   ]
  },
  {
   "cell_type": "code",
   "execution_count": null,
   "id": "64e95e16-84ed-4c29-ad8b-d4d07e42cac5",
   "metadata": {
    "editable": true,
    "id": "64e95e16-84ed-4c29-ad8b-d4d07e42cac5",
    "outputId": "8f85d7b9-2636-4f12-b967-5d9e34071f7f",
    "tags": []
   },
   "outputs": [
    {
     "name": "stderr",
     "output_type": "stream",
     "text": [
      "                                                                                                                       \r"
     ]
    },
    {
     "data": {
      "text/html": [
       "<video src=\"media/jupyter/MovingAngle@2023-04-26@15-52-34.mp4\" controls autoplay loop style=\"max-width: 75%;\"  >\n",
       "      Your browser does not support the <code>video</code> element.\n",
       "    </video>"
      ],
      "text/plain": [
       "<IPython.core.display.Video object>"
      ]
     },
     "metadata": {},
     "output_type": "display_data"
    }
   ],
   "source": [
    "%%manim -qm MovingAngle\n",
    "\n",
    "class MovingAngle(Scene):\n",
    "    def construct(self):\n",
    "        rotation_center = ORIGIN\n",
    "        line1 = Arrow([-3,0,0], [3,0,0], buff=0)\n",
    "        line2 = Arrow([0,-3,0], [0,3,0], buff=0)\n",
    "        theta_tracker = dict()\n",
    "        line_moving = dict()\n",
    "        line_moving[0] = Line(ORIGIN, RIGHT, color=BLACK)\n",
    "        a = dict()\n",
    "        tex = dict()\n",
    "        dot = dict()\n",
    "        texR = MathTex(r\"\\Re\").move_to((3.3, 0, 0))\n",
    "        texI = MathTex(r\"\\Im\").move_to((0, 3.3, 0))\n",
    "        self.add(line1, line2, texR, texI)\n",
    "        colors = [0, BLUE, RED, GREEN, YELLOW, PURPLE, MAROON, GOLD]\n",
    "        for i in range(1,8):\n",
    "            line_moving[i] = line_moving[i-1].copy()\n",
    "\n",
    "\n",
    "\n",
    "            tex[i] = MathTex(r\"e^{\\left(j\\frac{\\pi}{4}\\right)^\"+str(i)+r\"} = e^{j\\frac{\"+str(i)+r\"\\pi}{4}}\", color=colors[i]).move_to((2*np.cos(i*np.pi/4)+0.3,2*np.sin(i*np.pi/4)+0.3, 0))\n",
    "            dot[i] = Dot(color=colors[i]).move_to((2*np.cos(i*np.pi/4), 2*np.sin(i*np.pi/4), 0))\n",
    "\n",
    "            self.add(line_moving[i])\n",
    "\n",
    "\n",
    "            self.play(Rotate(line_moving[i], angle=np.pi/4, about_point=ORIGIN))\n",
    "\n",
    "            a[i] = Angle(line_moving[i-1], line_moving[i],\n",
    "                         radius=2, other_angle=False,\n",
    "                         color=colors[i])\n",
    "            self.add(a[i], tex[i], dot[i])\n",
    "\n",
    "            self.wait(5)\n",
    "\n",
    "\n",
    "\n",
    "\n",
    "\n",
    "\n"
   ]
  },
  {
   "cell_type": "markdown",
   "id": "4dfd577c-235d-4369-af9d-69e64315c391",
   "metadata": {
    "editable": true,
    "id": "4dfd577c-235d-4369-af9d-69e64315c391",
    "tags": []
   },
   "source": [
    "## Produtos e quocientes\n",
    "\n",
    "Uma forma frequentemente encontrada na prática são produtos e quocientes de números complexos.\n",
    "\n",
    "$z = \\frac{z_{n_1}z_{n_2}z_{n_3}...z_{n_k}}{z_{d_1}z_{d_2}z_{d_3}...z_{n_m}}$\n",
    "\n",
    "Nesses casos, o módulo de $z$ é:\n",
    "\n",
    "$|z| = \\frac{|z_{n_1}||z_{n_2}||z_{n_3}|...|z_{n_k}|}{|z_{d_1}||z_{d_2}||z_{d_3}|...|z_{n_m}|}$\n",
    "\n",
    "e a fase de $z$ é:\n",
    "\n",
    "$\\angle{z} = \\angle{z_{n_1}}+\\angle{z_{n_2}}+\\angle{z_{n_3}}+...+\\angle{z_{n_k}}-\\angle{z_{d_1}}-\\angle{z_{d_2}}-\\angle{z_{d_3}}-...-\\angle{z_{n_m}}$\n",
    "\n",
    "\n",
    "A prova dessas expressões fica como exercício."
   ]
  },
  {
   "cell_type": "markdown",
   "id": "1ea2a674-4560-4a0a-907e-b69b82594e62",
   "metadata": {
    "editable": true,
    "id": "1ea2a674-4560-4a0a-907e-b69b82594e62",
    "tags": []
   },
   "source": [
    "---\n",
    "###\n",
    "\n",
    "### Exemplo 3\n",
    "\n",
    "Considere o seguinte número complexo:\n",
    "\n",
    "$z = \\frac{(1+j)^2(1-j\\sqrt{3})}{(\\sqrt{3}+j)(2+j8)(1-j)}$\n",
    "\n",
    "Para ficar mais fácil, vamos passar cada termo para a representação polar:\n",
    "\n",
    "$1+j = \\sqrt{2}e^{j\\frac{\\pi}{4}}$\n",
    "\n",
    "$1-j\\sqrt{3} = 2e^{j\\frac{\\pi}{3}}$\n",
    "\n",
    "$\\sqrt{3}+1j = 2e^{j\\frac{\\pi}{6}}$\n",
    "\n",
    "$2+j8 = \\sqrt{20}e^{j\\arctan{4}} = \\sqrt{20}e^{j1.33}$\n",
    "\n",
    "$1-j = \\sqrt{2}e^{-j\\frac{\\pi}{4}}$\n",
    "\n",
    "Então o número $z$ pode ser reescrito como:\n",
    "\n",
    "$z = \\frac{\\sqrt{2}e^{j\\frac{\\pi}{2}}2e^{j\\frac{\\pi}{3}}}{2e^{j\\frac{\\pi}{6}}\\sqrt{20}e^{j1.33}\\sqrt{2}e^{-j\\frac{\\pi}{4}}}$\n",
    "\n",
    "Então o módulo de $z$ é:\n",
    "\n",
    "$|z| = \\frac{\\sqrt{2}2}{2\\sqrt{20}\\sqrt{2}} = \\frac{1}{\\sqrt{20}}$\n",
    "\n",
    "E a fase é:\n",
    "\n",
    "$\\angle{z} = \\frac{\\pi}{2} + \\frac{\\pi}{3} - \\frac{\\pi}{6}-1.33+\\frac{\\pi}{4} = \\frac{11\\pi}{12}-1.33 = 1.55$ rad\n",
    "\n",
    "\n",
    "\n",
    "---"
   ]
  },
  {
   "cell_type": "markdown",
   "id": "8539ebeb-903e-4c0e-b0ba-4034e9d8bbb8",
   "metadata": {
    "editable": true,
    "id": "8539ebeb-903e-4c0e-b0ba-4034e9d8bbb8",
    "tags": []
   },
   "source": [
    "## Exercícios\n",
    "\n",
    "**1)** Expresse cada um dos seguintes números complexos na forma cartesiana ($x+jy$): $0.5e^{j\\frac{\\pi}{2}}, 0.5e^{-j\\frac{3\\pi}{2}}, 0.5e^{-j\\frac{\\pi}{2}}, \\sqrt{2}e^{j\\frac{\\pi}{4}}, \\sqrt{2}e^{-j\\frac{\\pi}{4}}, \\sqrt{2}e^{j\\frac{9\\pi}{4}}, e^{j\\frac{\\pi}{2}}, e^{5j\\frac{\\pi}{2}}, j\\sqrt{2}e^{j\\frac{9\\pi}{4}}$."
   ]
  },
  {
   "cell_type": "markdown",
   "id": "a3c198f4-56c5-4296-a45a-42de85c0e37f",
   "metadata": {
    "editable": true,
    "id": "a3c198f4-56c5-4296-a45a-42de85c0e37f",
    "tags": []
   },
   "source": [
    "**2)** Expresse cada um dos seguintes números complexos na forma polar ($re^{j\\theta}$): $3, -4, -5j, 0.5-j\\frac{3}{2}, (1-j)^2, j(2-j), \\frac{1+j}{1-j}, \\frac{\\sqrt{2}+j\\sqrt{3}}{1+j\\sqrt{2}}$"
   ]
  },
  {
   "cell_type": "markdown",
   "id": "0646e7bc-9c4c-43e9-9fc6-c73dc40df6f6",
   "metadata": {
    "editable": true,
    "id": "0646e7bc-9c4c-43e9-9fc6-c73dc40df6f6",
    "tags": []
   },
   "source": [
    "**3** Faça as seguintes operações: $(1-j3)^4, [j(4-2j)]^3, (2e^{-j\\frac{3\\pi}{2}})^2$"
   ]
  },
  {
   "cell_type": "markdown",
   "id": "ece4024f-ca94-4f4b-92d1-085618515bc8",
   "metadata": {
    "editable": true,
    "id": "ece4024f-ca94-4f4b-92d1-085618515bc8",
    "tags": []
   },
   "source": [
    "**4)** Encontre uma expressão para $\\cos(\\theta)$ e para $\\mathrm{sen}(\\theta)$ em termos de exponenciais complexas."
   ]
  },
  {
   "cell_type": "markdown",
   "id": "d20e752e",
   "metadata": {
    "editable": true,
    "id": "d20e752e",
    "tags": []
   },
   "source": [
    "**5)** Prove que para\n",
    "\n",
    "$z = \\frac{z_{n_1}z_{n_2}z_{n_3}...z_{n_k}}{z_{d_1}z_{d_2}z_{d_3}...z_{n_m}}$\n",
    "\n",
    "O módulo de $z$ é:\n",
    "\n",
    "$|z| = \\frac{|z_{n_1}||z_{n_2}||z_{n_3}|...|z_{n_k}|}{|z_{d_1}||z_{d_2}||z_{d_3}|...|z_{n_m}|}$\n",
    "\n",
    "e a fase de $z$ é:\n",
    "\n",
    "$\\angle{z} = \\angle{z_{n_1}}+\\angle{z_{n_2}}+\\angle{z_{n_3}}+...+\\angle{z_{n_k}}-\\angle{z_{d_1}}-\\angle{z_{d_2}}-\\angle{z_{d_3}}-...-\\angle{z_{n_m}}$\n"
   ]
  },
  {
   "cell_type": "markdown",
   "id": "7b03f169",
   "metadata": {
    "editable": true,
    "id": "7b03f169",
    "tags": []
   },
   "source": [
    "**6)** Represente as seguintes expressões complexas no formato cartesiano:\n",
    "\n",
    "a) $z_1 = \\frac{2+j3}{(-1+j)(1-j)(5+j2)}$\n",
    "\n",
    "b) $z_2 = \\frac{5e^{-j\\frac{5\\pi}{6}}(5+j2)(1+j3)}{2e^{j\\frac{\\pi}{12}}(-3+j)}$\n",
    "\n",
    "c) $z_3 = \\frac{e^{j\\frac{\\pi}{2}}(5+j6)(-2-j)(-3+j)}{(-1+j)(3-j)(8+2j)}$"
   ]
  },
  {
   "cell_type": "markdown",
   "id": "9118defb-d480-4c71-b12b-e11a01cd0220",
   "metadata": {
    "id": "9118defb-d480-4c71-b12b-e11a01cd0220"
   },
   "source": [
    "**7)** Encontre todas as soluções das seguintes equações:\n",
    "\n",
    "a) $z^4 = -1$\n",
    "\n",
    "b) $z^4 = e^{j\\pi}$\n",
    "\n",
    "c) $z^3 = 1$\n",
    "\n",
    "d) $z^6=-1$\n",
    "\n",
    "e) $z^2 = j$\n"
   ]
  },
  {
   "cell_type": "markdown",
   "id": "2add2cc8-a1e1-4736-8149-ea99033632a7",
   "metadata": {
    "editable": true,
    "id": "2add2cc8-a1e1-4736-8149-ea99033632a7",
    "tags": []
   },
   "source": [
    "## Referências\n",
    "\n",
    "- Oppenheim, M.  e Willsky, S., Sistemas e Sinais, 2010\n",
    "- Brown, James, e Ruel Churchill. Variáveis complexas e aplicações. (9ª edição), 2015."
   ]
  },
  {
   "cell_type": "markdown",
   "id": "26b1bdcf-50a0-4325-b0f2-f66f06c234aa",
   "metadata": {
    "id": "26b1bdcf-50a0-4325-b0f2-f66f06c234aa"
   },
   "source": [
    "## Solução dos exercícios"
   ]
  },
  {
   "cell_type": "markdown",
   "id": "84b72371-283e-43c0-858b-37edb1c298c0",
   "metadata": {
    "id": "84b72371-283e-43c0-858b-37edb1c298c0"
   },
   "source": [
    "**1)** Resolvido por Juliana Soares da Silva de Oliveira\n",
    "\n",
    "$0.5e^{j\\frac{\\pi}{2}}$\n",
    "\n",
    "$r = 0.5$\n",
    "\n",
    "$θ = \\frac{\\pi}{2}$\n",
    "\n",
    "\n",
    "$0.5e^{j\\frac{\\pi}{2}} = 0.5(cos(\\frac{\\pi}{2}) + jsen(\\frac{\\pi}{2})) = 0.5(0 + j1) = 0 + j0.5$"
   ]
  },
  {
   "cell_type": "markdown",
   "id": "50578e12-aa4b-4d6e-8f5e-d3774f766343",
   "metadata": {
    "id": "50578e12-aa4b-4d6e-8f5e-d3774f766343"
   },
   "source": [
    "$0.5e^{-j\\frac{3\\pi}{2}}$\n",
    "\n",
    "$r=0.5$\n",
    "\n",
    "$θ=-\\frac{3\\pi}{2}$\n",
    "\n",
    "$0.5e^{-j\\frac{3\\pi}{2}} = 0.5(cos(-\\frac{3\\pi}{2}) + jsen(-\\frac{3\\pi}{2})) = 0.5(0 + j)) = 0 + j0.5$"
   ]
  },
  {
   "cell_type": "markdown",
   "id": "a9dfdfc0-364f-49da-b6b7-32589f9ab6a3",
   "metadata": {
    "id": "a9dfdfc0-364f-49da-b6b7-32589f9ab6a3"
   },
   "source": [
    "$0.5e^{-j\\frac{\\pi}{2}}$\n",
    "\n",
    "$r = 0.5$\n",
    "\n",
    "$θ = -\\frac{\\pi}{2}$\n",
    "\n",
    "\n",
    "$0.5e^{-j\\frac{\\pi}{2}} = 0.5(cos(-\\frac{\\pi}{2}) + jsen(-\\frac{\\pi}{2})) = 0.5(0 + j(-1)) = 0 - j0.5$"
   ]
  },
  {
   "cell_type": "markdown",
   "id": "f1cc2899-ba14-4ee1-869c-06d8cf13f8aa",
   "metadata": {
    "id": "f1cc2899-ba14-4ee1-869c-06d8cf13f8aa"
   },
   "source": [
    "$\\sqrt{2}e^{j\\frac{\\pi}{4}}$\n",
    "\n",
    "$r = \\sqrt{2}$\n",
    "\n",
    "$θ = \\frac{\\pi}{4}$\n",
    "\n",
    "\n",
    "$\\sqrt{2}e^{j\\frac{\\pi}{4}} = \\sqrt{2}(cos(\\frac{\\pi}{4}) + jsen(\\frac{\\pi}{4})) = \\sqrt{2}(\\frac{\\sqrt{2}}{2} + j\\frac{\\sqrt{2}}{2}) = 1 + j$"
   ]
  },
  {
   "cell_type": "markdown",
   "id": "5f99b4ac-793f-4cbc-b115-d8e94aa438b2",
   "metadata": {
    "id": "5f99b4ac-793f-4cbc-b115-d8e94aa438b2"
   },
   "source": [
    "$\\sqrt{2}e^{-j\\frac{\\pi}{4}}$\n",
    "\n",
    "$r = \\sqrt{2}$\n",
    "\n",
    "$θ = \\frac{-\\pi}{4}$\n",
    "\n",
    "\n",
    "$\\sqrt{2}e^{-j\\frac{\\pi}{4}} = \\sqrt{2}(cos(-\\frac{\\pi}{4}) + jsen(-\\frac{\\pi}{4})) = \\sqrt{2}(\\frac{\\sqrt{2}}{2} + j(-\\frac{\\sqrt{2}}{2})) = 1 - j$"
   ]
  },
  {
   "cell_type": "markdown",
   "id": "a2e8f31d-8459-45ae-9be2-a1ed6715dc40",
   "metadata": {
    "id": "a2e8f31d-8459-45ae-9be2-a1ed6715dc40"
   },
   "source": [
    "$\\sqrt{2}e^{j\\frac{9\\pi}{4}}$\n",
    "\n",
    "$r = \\sqrt{2}$\n",
    "\n",
    "$θ = \\frac{9\\pi}{4}$\n",
    "\n",
    "\n",
    "$\\sqrt{2}e^{j\\frac{9\\pi}{4}} = \\sqrt{2}(cos(\\frac{9\\pi}{4}) + jsen(\\frac{9\\pi}{4})) = \\sqrt{2}(-\\frac{\\sqrt{2}}{2} + j(-\\frac{\\sqrt{2}}{2})) = -1 - j$"
   ]
  },
  {
   "cell_type": "markdown",
   "id": "9cde30d5-47ef-4fe6-bb29-0dd4ff1272a3",
   "metadata": {
    "id": "9cde30d5-47ef-4fe6-bb29-0dd4ff1272a3"
   },
   "source": [
    "$\\sqrt{2}e^{j\\frac{9\\pi}{4}}$\n",
    "\n",
    "$r = \\sqrt{2}$\n",
    "\n",
    "$θ = \\frac{9\\pi}{4}$\n",
    "\n",
    "\n",
    "$\\sqrt{2}e^{j\\frac{9\\pi}{4}} = \\sqrt{2}(cos(\\frac{9\\pi}{4}) + jsen(\\frac{9\\pi}{4})) = \\sqrt{2}(-\\frac{\\sqrt{2}}{2} + j(-\\frac{\\sqrt{2}}{2})) = -1 - j$"
   ]
  },
  {
   "cell_type": "markdown",
   "id": "dae9ee05-5274-4284-9e4f-cd2b28221f67",
   "metadata": {
    "id": "dae9ee05-5274-4284-9e4f-cd2b28221f67"
   },
   "source": [
    "$e^{j\\frac{\\pi}{2}}$\n",
    "\n",
    "$r = 1$\n",
    "\n",
    "$θ = \\frac{\\pi}{2}$\n",
    "\n",
    "\n",
    "$e^{j\\frac{\\pi}{2}} = cos(\\frac{\\pi}{2}) + jsen(\\frac{\\pi}{2}) = 0 + j1 = j$"
   ]
  },
  {
   "cell_type": "markdown",
   "id": "45e4d925-d446-4e78-a04f-44f291851d2f",
   "metadata": {
    "id": "45e4d925-d446-4e78-a04f-44f291851d2f"
   },
   "source": [
    "$e^{5j\\frac{\\pi}{2}}$\n",
    "\n",
    "$r = 1$\n",
    "\n",
    "$θ = \\frac{5\\pi}{2}$\n",
    "\n",
    "\n",
    "$e^{5j\\frac{5\\pi}{2}} = cos(\\frac{5\\pi}{2}) + jsen(\\frac{5\\pi}{2}) = 0 + j(-1) = -j$"
   ]
  },
  {
   "cell_type": "markdown",
   "id": "a5f092b9-f1e1-4387-8e76-020c0ae1be4f",
   "metadata": {
    "id": "a5f092b9-f1e1-4387-8e76-020c0ae1be4f"
   },
   "source": [
    "$j\\sqrt{2}e^{j\\frac{9\\pi}{4}}$\n",
    "\n",
    "$\\sqrt{2}e^{j\\frac{\\pi}{2}}e^{j\\frac{9\\pi}{4}} = \\sqrt{2}e^{j(\\frac{\\pi}{2} + \\frac{9\\pi}{4})} = \\sqrt{2}e^{j(\\frac{17\\pi}{4})}$\n",
    "\n",
    "$r = \\sqrt{2}$\n",
    "\n",
    "$θ = \\frac{17\\pi}{4}$\n",
    "\n",
    "\n",
    "$\\sqrt{2}e^{j\\frac{17\\pi}{4}} = \\sqrt{2}(cos(\\frac{17\\pi}{4}) + jsen(\\frac{17\\pi}{4})) = \\sqrt{2}(-\\frac{\\sqrt{2}}{2} + j(-\\frac{\\sqrt{2}}{2})) = -1 - j$"
   ]
  },
  {
   "cell_type": "markdown",
   "id": "bf211e15-1593-4a22-aaca-083f2781e0d6",
   "metadata": {
    "id": "84b10357-957c-4807-a574-215d11787f31"
   },
   "source": [
    "2) Resolvido por Catherine Gallis:\n",
    "\n",
    "a) $3$:\n",
    "\n",
    "O módulo de $3$ é $|3| = 3$ e o argumento é $0$ (porque o número está sobre o eixo real positivo).\n",
    "\n",
    "Portanto, $3 = 3e^{j0}$\n",
    "\n",
    "b) $-4$:\n",
    "\n",
    "$|-4| = 4$ e o argumento é $\\pi$ (porque o número está no eixo real negativo).\n",
    "\n",
    "Portanto, $-4 = 4e^{j\\pi}$\n",
    "\n",
    "c) $-5j$:\n",
    "\n",
    "$|-5j| = 5$ e o argumento é $-\\frac{\\pi}{2}$ (porque o número está sobre o eixo imaginário negativo).\n",
    "\n",
    "Portanto, $-5j = 5e^{-j\\frac{\\pi}{2}}$\n",
    "\n",
    "d) $0.5-j\\frac{3}{2}$:\n",
    "\n",
    "$0.5-j\\frac{3}{2}$ é $|0.5-j\\frac{3}{2}| = \\sqrt{0.5^2 + \\left(-\\frac{3}{2}\\right)^2} = \\frac{\\sqrt{13}}{2}$\n",
    "\n",
    "O argumento pode ser encontrado usando a tangente inversa:\n",
    "\n",
    "$\\theta = \\arctan\\left(\\frac{-\\frac{3}{2}}{0.5}\\right) = -\\arctan(3)$\n",
    "\n",
    "Portanto, $0.5-j\\frac{3}{2} = \\frac{\\sqrt{13}}{2}e^{-j\\arctan(3)}$\n",
    "\n",
    "e) $(1-j)^2$:\n",
    "\n",
    "$(1-j)^2 = 1 - 2j + j^2 = 1 - 2j - 1 = -2j$\n",
    "\n",
    "$|-2j| = 2$ e o argumento é $-\\frac{\\pi}{2}$ (porque o número está sobre o eixo imaginário negativo).\n",
    "\n",
    "Portanto, $(1-j)^2 = -2e^{-j\\frac{\\pi}{2}}$\n",
    "\n",
    "f) $j(2-j)$:\n",
    "\n",
    "$j(2-j) = 2j - j^2 = 2j + 1$\n",
    "\n",
    "$|2j+1| = \\sqrt{2^2 + 1^2} = \\sqrt{5}$\n",
    "\n",
    "O argumento pode ser encontrado usando a tangente inversa:\n",
    "\n",
    "$\\theta = \\arctan\\left(\\frac{1}{2}\\right)$\n",
    "\n",
    "Portanto, $j(2-j) = \\sqrt{5}e^{j\\arctan(2)}$\n",
    "\n",
    "g) $\\frac{1+j}{1-j}$:\n",
    "\n",
    "$\\frac{1+j}{1-j} = \\frac{(1+j)^2}{(1-j)(1+j)} = \\frac{1 + 2j + j^2}{1^2 - j^2} = \\frac{2j}{2} = j.$\n",
    "\n",
    "$|j| = 1$ e o argumento é $\\frac{\\pi}{2}$ (porque o número está sobre o eixo imaginário positivo).\n",
    "\n",
    "Portanto, $\\frac{1+j}{1-j} = 1e^{j\\frac{\\pi}{2}}$\n",
    "\n",
    "h) $\\frac{\\sqrt{2}+j\\sqrt{3}}{1+j\\sqrt{2}}$:\n",
    "\n",
    "$\\frac{\\sqrt{2}+j\\sqrt{3}}{1+j\\sqrt{2}} = \\frac{(\\sqrt{2}+j\\sqrt{3})(1-j\\sqrt{2})}{(1+j\\sqrt{2})(1-j\\sqrt{2})} = \\frac{\\sqrt{2} - \\sqrt{6}j + \\sqrt{6}j - j^2\\sqrt{3}\\sqrt{2}}{1^2 - (j\\sqrt{2})^2} = \\frac{\\sqrt{2}(1 - \\sqrt{3})}{1 + 2}.$\n",
    "\n",
    "$\\frac{\\sqrt{2}+j\\sqrt{3}}{1+j\\sqrt{2}} = \\frac{\\sqrt{2}(1 - \\sqrt{3})}{3}$\n",
    "\n",
    "$|\\frac{\\sqrt{2}(1 - \\sqrt{3})}{3}| = \\frac{\\sqrt{2}\\sqrt{4(1 - \\sqrt{3})^2}}{3} = 2(1 - \\sqrt{3})$\n",
    "\n",
    "O argumento pode ser encontrado usando a tangente inversa:\n",
    "\n",
    "$\\theta = \\arctan\\left(\\frac{\\sqrt{3}}{2}\\right)$\n",
    "\n",
    "Portanto, $\\frac{\\sqrt{2}+j\\sqrt{3}}{1+j\\sqrt{2}} = 2(1 - \\sqrt{3})e^{j\\arctan\\left(\\frac{\\sqrt{3}}{2}\\right)}$"
   ]
  },
  {
   "cell_type": "markdown",
   "id": "feca97d3-080d-4041-8d3c-66bca1876f8c",
   "metadata": {
    "id": "8633697b-b4b8-4555-b209-cba8c100f623"
   },
   "source": [
    "3) Resolvido por Catherine Gallis:\n",
    "\n",
    "a) $(1-j3)^4$:\n",
    "\n",
    "Utilizando o binômio de Newton:\n",
    "\n",
    "\\$(1-j3)^4 = \\binom{4}{0}(1)^4(-j3)^0 + \\binom{4}{1}(1)^3(-j3)^1 + \\binom{4}{2}(1)^2(-j3)^2 + \\binom{4}{3}(1)^1(-j3)^3 + \\binom{4}{4}(1)^0(-j3)^4$\n",
    "\n",
    "$(1-j3)^4 = 1 - 4j3 - 6(-1)(3)^2 + 4j(3)^3 - j^4(3)^4$\n",
    "\n",
    "$(1-j3)^4 = 1 - 12j + 54 + 36j - 81$\n",
    "\n",
    "$(1-j3)^4 = 1 + 54 - 81 + (-12j + 36j)$\n",
    "\n",
    "$(1-j3)^4 = -26 + 24j$\n",
    "\n",
    "b) $[j(4-2j)]^3$:\n",
    "\n",
    "$j(4-2j) = 4j - 2j^2 = 4j + 2$\n",
    "\n",
    "$[j(4-2j)]^3 = (4j + 2)^3$\n",
    "\n",
    "$= (4j + 2)(4j + 2)(4j + 2)$\n",
    "\n",
    "$= (-16 + 32j + 4)$\n",
    "\n",
    "$= (-12 + 32j)$\n",
    "\n",
    "c) $(2e^{-j\\frac{3\\pi}{2}})^2$:\n",
    "\n",
    "$e^{-j\\frac{3\\pi}{2}} = \\cos(-\\frac{3\\pi}{2}) + j\\sin(-\\frac{3\\pi}{2})$\n",
    "\n",
    "$= 0 - j$\n",
    "\n",
    "$= -j$\n",
    "\n",
    "$(2e^{-j\\frac{3\\pi}{2}})^2 = (2 \\cdot -j)^2$\n",
    "\n",
    "$= -4j^2$\n",
    "\n",
    "Lembrando que $j^2 = -1$:\n",
    "\n",
    "$= -4(-1)$\n",
    "\n",
    "$= 4$"
   ]
  },
  {
   "cell_type": "markdown",
   "id": "763d5b53-a2c7-48a5-a107-69a379be2f8d",
   "metadata": {
    "tags": []
   },
   "source": [
    "**4-)** Resolvido por Frederico Guazzelli\n",
    "\n",
    "Temos como identidades:\n",
    "$$ e^{j\\theta} = \\cos(\\theta) + j\\mathrm{sen}(\\theta)$$\n",
    "$$ e^{-j\\theta} = \\cos(\\theta) - j\\mathrm{sen}(\\theta)$$\n",
    "\n",
    "Então, isolando o seno e o cosseno temos:\n",
    "\n",
    "$$ \\mathrm{sen}(\\theta) = \\frac{1}{2j}(e^{j\\theta} - e^{-j\\theta}) $$\n",
    "$$ \\cos(\\theta) = \\frac{1}{2}(e^{j\\theta} + e^{-j\\theta}) $$\n"
   ]
  },
  {
   "cell_type": "markdown",
   "id": "51579453-b634-43bb-88f0-7354c950eb41",
   "metadata": {
    "tags": []
   },
   "source": [
    "**5)** Resolvido por Catherine Gallis\n",
    "\n",
    "- Numerador\n",
    "\n",
    "$$z_n = z_{n_1}z_{n_2}z_{n_3}...z_{n_k}$$\n",
    "\n",
    "$$z_{n_i} = r_{n_i}e^{j\\theta_{n_i}}$$ (forma polar)\n",
    "\n",
    "$$z_n = r_{n_1}e^{j\\theta_{n_1}} \\cdot r_{n_2}e^{j\\theta_{n_2}} \\cdot r_{n_3}e^{j\\theta_{n_3}} \\cdot \\ldots \\cdot r_{n_k}e^{j\\theta_{n_k}}$$\n",
    "\n",
    "A propriedade das exponenciais nos permite multiplicar esses termos com as mesmas bases (ou seja, $e^{j\\theta}$) somando os expoentes:\n",
    "\n",
    "$$z_n = r_{n_1}r_{n_2}r_{n_3}\\ldots r_{n_k} \\cdot e^{j(\\theta_{n_1} + \\theta_{n_2} + \\theta_{n_3} + \\ldots + \\theta_{n_k})}$$\n",
    "\n",
    "$$z_d = z_{d_1}z_{d_2}z_{d_3}...z_{d_m}$$\n",
    "\n",
    "\n",
    "$$z_{d_i} = r_{d_i}e^{j\\theta_{d_i}}$$\n",
    "\n",
    "$$z_d = r_{d_1}r_{d_2}r_{d_3}\\ldots r_{d_m} \\cdot e^{j(\\theta_{d_1} + \\theta_{d_2} + \\theta_{d_3} + \\ldots + \\theta_{d_m})}$$\n",
    "\n",
    "- Dividindo $z_n$ por $z_d$:\n",
    "\n",
    "$$\\frac{z_n}{z_d} = \\frac{r_{n_1}r_{n_2}r_{n_3}\\ldots r_{n_k}}{r_{d_1}r_{d_2}r_{d_3}\\ldots r_{d_m}} \\cdot e^{j(\\theta_{n_1} + \\theta_{n_2} + \\theta_{n_3} + \\ldots + \\theta_{n_k} - \\theta_{d_1} - \\theta_{d_2} - \\theta_{d_3} - \\ldots - \\theta_{d_m})}$$\n",
    "\n",
    "Aqui, o módulo do número complexo resultante é o quociente dos módulos:\n",
    "\n",
    "$$|z| = \\frac{r_{n_1}r_{n_2}r_{n_3}\\ldots r_{n_k}}{r_{d_1}r_{d_2}r_{d_3}\\ldots r_{d_m}}$$\n",
    "\n",
    "- Demonstrando a fase:\n",
    "\n",
    "$$z = \\frac{z_{n_1}z_{n_2}z_{n_3}...z_{n_k}}{z_{d_1}z_{d_2}z_{d_3}...z_{d_m}}$$\n",
    "\n",
    "Primeiro, vamos escrever os termos na forma polar:\n",
    "\n",
    "$$z_{n_i} = r_{n_i}e^{j\\theta_{n_i}}, \\quad z_{d_i} = r_{d_i}e^{j\\theta_{d_i}}$$\n",
    "\n",
    "$$\\frac{z_{n_i}}{z_{d_i}} = \\frac{r_{n_i}e^{j\\theta_{n_i}}}{r_{d_i}e^{j\\theta_{d_i}}} = \\frac{r_{n_i}}{r_{d_i}} e^{j(\\theta_{n_i} - \\theta_{d_i})}$$\n",
    "\n",
    "A fase de um número complexo na forma polar é o ângulo argumento do número complexo, ou seja, o ângulo $\\theta$ na representação $re^{j\\theta}$. Portanto, a fase de $\\frac{z_{n_i}}{z_{d_i}}$ é $\\theta_{n_i} - \\theta_{d_i}$.\n",
    "\n",
    "Logo, para a expressão completa $z$, a fase será a soma das fases nos numeradores menos a soma das fases nos denominadores:\n",
    "\n",
    "$$\\angle z = (\\theta_{n_1} - \\theta_{d_1}) + (\\theta_{n_2} - \\theta_{d_2}) + \\ldots + (\\theta_{n_k} - \\theta_{d_k})$$\n",
    "\n",
    "Ou, de forma mais compacta:\n",
    "\n",
    "$$\\angle z = \\theta_{n_1} + \\theta_{n_2} + \\ldots + \\theta_{n_k} - (\\theta_{d_1} + \\theta_{d_2} + \\ldots + \\theta_{d_k})$$"
   ]
  },
  {
   "cell_type": "markdown",
   "id": "8abf5be8-4e4e-4596-a6b9-86344e583174",
   "metadata": {},
   "source": [
    "**6)** Resolvido por Catherine\n",
    "\n",
    "a)\n",
    "\n",
    "$$z_1 = \\frac{2 + j3}{(-1 + j)(1 - j)(5 + j2)}$$\n",
    "\n",
    "$$(1 - j)(1 + j) = 1 - j^2 = 1 + 1 = 2$$\n",
    "$$(-1 + j)(5 + j2) = -5 + j2 - j + j^2 = -5 + j2 + 1 = -4 + j2$$\n",
    "\n",
    "$$z_1 = \\frac{2 + j3}{-4 + j2}$$\n",
    "\n",
    "Multiplicamos numerador e denominador pelo conjugado do denominador para racionalizar:\n",
    "\n",
    "$$z_1 = \\frac{(2 + j3)(-4 - j2)}{(-4 + j2)(-4 - j2)}$$\n",
    "$$z_1 = \\frac{-8 - 8j + 6j - 12j^2}{16 + 4} = \\frac{-20 - 2j}{20} = -1 - \\frac{j}{10}$$\n",
    "\n",
    "Portanto, a representação cartesiana de $z_1$ é:\n",
    "\n",
    "$$z_1 = -1 - \\frac{j}{10}$$\n",
    "\n",
    "b)\n",
    "\n",
    "$$z_2 = \\frac{5e^{-j\\frac{5\\pi}{6}}(5 + j2)(1 + j3)}{2e^{j\\frac{\\pi}{12}}(-3 + j)}$$\n",
    "\n",
    "Usando as propriedades das exponenciais complexas, simplificamos os termos no numerador e denominador:\n",
    "\n",
    "$$z_2 = \\frac{5 \\cdot e^{-j\\frac{5\\pi}{6}} \\cdot 7 \\cdot (1 + j3)}{2 \\cdot e^{j\\frac{\\pi}{12}} \\cdot (-3 + j)}$$\n",
    "\n",
    "$$z_2 = \\frac{35 \\cdot (\\cos(-\\frac{5\\pi}{6}) + j\\sin(-\\frac{5\\pi}{6})) \\cdot (1 + j3)}{2 \\cdot (\\cos(\\frac{\\pi}{12}) + j\\sin(\\frac{\\pi}{12})) \\cdot (-3 + j)}$$\n",
    "\n",
    "$$z_2 = \\frac{35 \\cdot (-\\frac{\\sqrt{3}}{2} - \\frac{j}{2}) \\cdot (1 + j3)}{2 \\cdot (\\frac{\\sqrt{6} + \\sqrt{2}}{4} + \\frac{j}{4}) \\cdot (-3 + j)}$$\n",
    "\n",
    "Multiplicamos os termos:\n",
    "\n",
    "$$z_2 = \\frac{35}{2} \\cdot (-\\frac{\\sqrt{3}}{2} - \\frac{j}{2}) \\cdot (1 + j3) \\cdot \\frac{4}{\\sqrt{6} + \\sqrt{2}} \\cdot (-3 + j)$$\n",
    "\n",
    "$$z_2 = \\frac{35}{2} \\cdot (-\\frac{\\sqrt{3}}{2} - \\frac{j}{2}) \\cdot (1 + j3) \\cdot (\\sqrt{6} - \\sqrt{2}) \\cdot (-3 + j)$$\n",
    "\n",
    "$$z_2 = \\frac{35}{2} \\cdot (-\\frac{\\sqrt{3}}{2} - \\frac{j}{2}) \\cdot (\\sqrt{6} - \\sqrt{2}) \\cdot (1 + j3) \\cdot (-3 + j)$$\n",
    "\n",
    "$$z_2 = \\frac{35}{2} \\cdot (-\\frac{\\sqrt{3}}{2} - \\frac{j}{2}) \\cdot (\\sqrt{6} - \\sqrt{2}) \\cdot (4 - 3j)$$\n",
    "\n",
    "Multiplicamos os termos:\n",
    "\n",
    "$$z_2 = \\frac{35}{2} \\cdot (-\\frac{\\sqrt{3}}{2} - \\frac{j}{2}) \\cdot (\\sqrt{6} - \\sqrt{2}) \\cdot 4 - \\frac{35}{2} \\cdot (-\\frac{\\sqrt{3}}{2} - \\frac{j}{2}) \\cdot (\\sqrt{6} - \\sqrt{2}) \\cdot 3j$$\n",
    "\n",
    "$$z_2 = 35 \\cdot (-\\frac{\\sqrt{3}}{2} - \\frac{j}{2}) \\cdot (\\sqrt{6} - \\sqrt{2}) \\cdot 4 - 35 \\cdot (-\\frac{\\sqrt{3}}{2} - \\frac{j}{2}) \\cdot (\\sqrt{6} - \\sqrt{2}) \\cdot 3j$$\n",
    "\n",
    "$$ z_2 = 140(\\sqrt{6} - \\sqrt{2}) - 105\\sqrt{3}j - 105(\\sqrt{6} - \\sqrt{2})j$$\n",
    "\n",
    "Agora, para representar em forma cartesiana:\n",
    "\n",
    "$$z_2 = 140(\\sqrt{6} - \\sqrt{2}) - 105(\\sqrt{3} + \\sqrt{6})j = x + jy$$\n",
    "\n",
    "Portanto, a representação cartesiana de $z_2$ é:\n",
    "\n",
    "$$z_2 = 140(\\sqrt{6} - \\sqrt{2}) - 105(\\sqrt{3} + \\sqrt{6})j$$\n",
    "\n",
    "c) $$z_3 = \\frac{e^{j\\frac{\\pi}{2}}(5 + j6)(-2 - j)(-3 + j)}{(-1 + j)(3 - j)(8 + 2j)}$$\n",
    "\n",
    "Usando as propriedades das exponenciais complexas e realizando as simplificações:\n",
    "\n",
    "$$z_3 = \\frac{e^{j\\frac{\\pi}{2}} \\cdot (5 + j6) \\cdot (4 + 7j)}{(-2 - 2j) \\cdot (8 + 2j)}$$\n",
    "\n",
    "$$z_3 = \\frac{e^{j\\frac{\\pi}{2}} \\cdot (5 \\cdot 4 + 5 \\cdot 7j + j6 \\cdot 4 + j6 \\cdot 7j)}{-2 \\cdot 8 - 2 \\cdot 2j + 8j + 2j^2}$$\n",
    "\n",
    "$$z_3 = \\frac{e^{j\\frac{\\pi}{2}} \\cdot (20 + 35j + 24j + 42j^2)}{-16 + 6j}$$\n",
    "\n",
    "$$z_3 = \\frac{e^{j\\frac{\\pi}{2}} \\cdot (20 + 35j + 24j - 42)}{-16 + 6j}$$\n",
    "\n",
    "$$z_3 = \\frac{e^{j\\frac{\\pi}{2}} \\cdot (-22 + 59j)}{-16 + 6j}$$\n",
    "\n",
    "Aplicando as propriedades das exponenciais complexas:\n",
    "\n",
    "$$z_3 = (-22 + 59j) \\cdot \\frac{e^{j\\frac{\\pi}{2}}}{-16 + 6j}$$\n",
    "\n",
    "$$z_3 = (-22 + 59j) \\cdot \\frac{\\cos\\left(\\frac{\\pi}{2}\\right) + j\\sin\\left(\\frac{\\pi}{2}\\right)}{-16 + 6j}$$\n",
    "\n",
    "$$z_3 = (-22 + 59j) \\cdot \\frac{0 + j}{-16 + 6j}$$\n",
    "\n",
    "$$z_3 = (-22 + 59j) \\cdot \\frac{j}{-16 + 6j}$$\n",
    "\n",
    "$$z_3 = \\frac{-59 - 22j}{-16 + 6j}$$\n",
    "\n",
    "$$z_3 = \\frac{59}{2} + \\frac{11j}{2} = x + jy$$\n",
    "\n",
    "Portanto, a representação cartesiana de $z_3$ é:\n",
    "\n",
    "$$z_3 = \\frac{59}{2} + \\frac{11j}{2}$$"
   ]
  },
  {
   "cell_type": "markdown",
   "id": "7595bbbe-b31a-46fa-9158-33af9d08d41f",
   "metadata": {},
   "source": [
    "**7-)** Resolvido por Frederico Guazzelli\n",
    "\n",
    "a)$z^4 = -1$\n",
    "\n",
    "$-1$ pode ser escrito como $e^{j\\pi}$\n",
    "\n",
    "Para encontrar as soluções de $e^{j\\pi}$ precisamos dividir o ângulo $\\pi$ por $4$ e somar os múltiplos de $\\frac{2\\pi}{4} = \\frac{\\pi}{2}$, então temos:\n",
    "\n",
    "$\\theta_1 = \\frac{\\pi}{4}$ $$z_1 = e^{j\\frac{\\pi}{4}}$$\n",
    "\n",
    "$\\theta_2 = \\frac{3\\pi}{4}$ $$z_2 = e^{j\\frac{3\\pi}{4}}$$\n",
    "\n",
    "$\\theta_3 = \\frac{5\\pi}{4}$ $$z_3 = e^{j\\frac{5\\pi}{4}}$$\n",
    "\n",
    "$\\theta_4 = \\frac{7\\pi}{4}$ $$z_4 = e^{i\\frac{7\\pi}{4}}$$\n",
    "\n",
    "b) $z^4 = e^{j\\pi}$\n",
    "\n",
    "Neste caso, ja temos $e^{j\\pi}$ precisamos dividir o ângulo $\\pi$ por $4$ e somar os múltiplos de $\\frac{\\pi}{2}$, então temos:\n",
    "\n",
    "$\\theta_1 = \\frac{\\pi}{4}$ $$z_1 = e^{j\\frac{\\pi}{4}}$$\n",
    "\n",
    "$\\theta_2 = \\frac{3\\pi}{4}$ $$z_2 = e^{j\\frac{3\\pi}{4}}$$\n",
    "\n",
    "$\\theta_3 = \\frac{5\\pi}{4}$ $$z_3 = e^{j\\frac{5\\pi}{4}}$$\n",
    "\n",
    "$\\theta_4 = \\frac{7\\pi}{4}$ $$z_4 = e^{j\\frac{7\\pi}{4}}$$\n",
    "\n",
    "Portanto, temos as mesmas soluções do a).\n",
    "\n",
    "c) $z^3 = 1$\n",
    "\n",
    "As raízes cúbicas de $1$ são encontradas ao dividir o ângulo $0$ por $3$ e somar múltiplos de $\\frac{2\\pi}{3}$\n",
    "\n",
    "$\\theta_1 = 0$ $$z_1 = e^{j0} = 1$$\n",
    "\n",
    "$\\theta_2 = \\frac{2\\pi}{3}$ $$z_2 = e^{j\\frac{2\\pi}{3}}$$\n",
    "\n",
    "$\\theta_3 = \\frac{4\\pi}{3}$ $$z_3 = e^{j\\frac{4\\pi}{3}}$$\n",
    "\n",
    "d) $z^6=-1$\n",
    "\n",
    "$-1$ pode ser escrito como $e^{j\\pi}$, então $z^6=e^{j\\pi}$\n",
    "\n",
    "Para encontrar as soluções, precisamos encontrar as raízes sextas de $e^{j\\pi}$, que são obtidas ao dividir o ângulo $\\pi$ por $6$ e somar múltiplos de $\\frac{\\pi}{3}$:\n",
    "\n",
    "\n",
    "$\\theta_1 = \\frac{\\pi}{6}$ $$z_1 = e^{j\\frac{\\pi}{6}}$$\n",
    "\n",
    "$\\theta_2 = \\frac{5\\pi}{6}$ $$z_2 = e^{j\\frac{5\\pi}{6}}$$\n",
    "\n",
    "$\\theta_3 = \\frac{7\\pi}{6}$ $$z_3 = e^{j\\frac{7\\pi}{6}}$$\n",
    "\n",
    "$\\theta_4 = \\frac{11\\pi}{6}$ $$z_4 = e^{j\\frac{11\\pi}{6}}$$\n",
    "\n",
    "$\\theta_5 = \\frac{13\\pi}{6}$ $$z_5 = e^{j\\frac{13\\pi}{6}}$$\n",
    "\n",
    "$\\theta_6 = \\frac{17\\pi}{6}$ $$z_6 = e^{j\\frac{17\\pi}{6}}$$\n",
    "\n",
    "e) $z^2 = j$\n",
    "\n",
    "$j$ pode ser escrito como $e^{j\\frac{\\pi}{2}}$, então $z^2=e^{j\\frac{\\pi}{2}}$\n",
    "\n",
    "As raízes quadradas de $e^{j\\frac{\\pi}{2}}$ são encontradas ao dividir o ângulo $\\frac{\\pi}{2}$ por $2$ e somar múltiplos de $\\frac{\\pi}{4}$:\n",
    "\n",
    "$\\theta_1 = \\frac{\\pi}{4}$ $$z_1 = e^{j\\frac{\\pi}{4}}$$\n",
    "\n",
    "$\\theta_2 = \\frac{5\\pi}{4}$ $$z_2 = e^{j\\frac{5\\pi}{4}}$$"
   ]
  },
  {
   "cell_type": "code",
   "execution_count": null,
   "id": "cfe25b2f-2c3a-42de-8343-1732d9429179",
   "metadata": {},
   "outputs": [],
   "source": []
  }
 ],
 "metadata": {
  "colab": {
   "provenance": []
  },
  "kernelspec": {
   "display_name": "Python 3 (ipykernel)",
   "language": "python",
   "name": "python3"
  },
  "language_info": {
   "codemirror_mode": {
    "name": "ipython",
    "version": 3
   },
   "file_extension": ".py",
   "mimetype": "text/x-python",
   "name": "python",
   "nbconvert_exporter": "python",
   "pygments_lexer": "ipython3",
   "version": "3.10.11"
  }
 },
 "nbformat": 4,
 "nbformat_minor": 5
}
