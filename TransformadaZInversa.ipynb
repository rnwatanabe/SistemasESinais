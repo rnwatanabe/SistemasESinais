{
  "cells": [
    {
      "cell_type": "markdown",
      "metadata": {
        "id": "c0EU26vDhAZd"
      },
      "source": [
        "# Transformada Z inversa\n",
        "\n",
        "Renato Naville Watanabe\n"
      ]
    },
    {
      "cell_type": "markdown",
      "metadata": {
        "id": "tW3Axsy9hAZg"
      },
      "source": [
        "## Preparação do ambiente"
      ]
    },
    {
      "cell_type": "code",
      "execution_count": 2,
      "metadata": {
        "tags": [],
        "cellView": "form",
        "id": "w90qrp9ThAZh"
      },
      "outputs": [],
      "source": [
        "# @title\n",
        "import numpy as np\n",
        "import matplotlib.pyplot as plt"
      ]
    },
    {
      "cell_type": "markdown",
      "metadata": {
        "id": "FZ9DeDPzhAZi"
      },
      "source": [
        "## Definição\n",
        "\n",
        "Aqui vamos desenvolver um método para obter o sinal $x[n]$ a partir da sua transformada Z. Esse procedimento é conhecido como **Transformada Z Inversa**, denotada pelo operador $\\mathcal{Z}^{-1}$.\n",
        "\n",
        "$\\mathcal{Z}^{-1}(X(z)) = x[n]$\n",
        "\n",
        "A transformada Z inversa é definida como:\n",
        "\n",
        "$$x[n] = \\frac{1}{2\\pi j}\\oint X(z)z^{n-1}\\,dz$$\n",
        "\n",
        "Essa é uma integral de contorno no plano complexo. Felizmente, não precisaremos calcular essa integral. Nós usaremos os pares de sinais e transformadas já tabelados. Essa tabela é mostrada abaixo. Para sinais menos comuns, pode ser  necessário calcular essa integral. Se você estiver interessado nisso, pode procurar o livro de Brown e Churchill, listado nas referências, ou a disciplina *Funções de variáveis complexas* da UFABC.\n",
        "\n"
      ]
    },
    {
      "cell_type": "markdown",
      "metadata": {
        "id": "oxRFJfX7hAZj"
      },
      "source": [
        "\n",
        "\n",
        "Abaixo segue uma tabela com alguns sinais encontrados frequentemente na prática:\n",
        "\n",
        "|$$\\bf{x[n]}$$                        | $$\\bf{X(z)}$$                                                          |\n",
        "|-------------------------------------|------------------------------------------------------------------------|\n",
        "|$\\delta[n]$                          | 1                                                                      |\n",
        "|$\\delta[n-k]$                        | $z^{-n}$                                                               |\n",
        "|$u[n]$                               | $\\frac{z}{z-1}$                                                        |\n",
        "|$u[n-k]$                             | $\\frac{z^{-k}z}{z-1}$                                              |    \n",
        "|$nu[n]$                              | $\\frac{z}{(z-1)^2}$                                                    |\n",
        "|$n^2u[n]$                            | $\\frac{z(z-1)}{(z-1)^3}$                                               |\n",
        "|$n^3u[n]$                            | $\\frac{z(z^2+4z+1)}{(z-1)^4}$                                          |\n",
        "|$\\alpha^nu[n]$                       | $\\frac{z}{z-\\alpha}$                                                   |\n",
        "|$\\alpha^{n-1}u[n-1]$                 | $\\frac{1}{z-\\alpha}$                                                   |\n",
        "|$n\\alpha^nu[n]$                      | $\\frac{\\alpha z}{(z-\\alpha)^2}$                                        |\n",
        "|$\\alpha^n\\cos(\\beta n)u[n]$, $\\alpha>0$ |$\\frac{z(z-\\alpha\\cos(\\beta))}{z^2-2\\alpha\\cos(\\beta)z +\\alpha^2}$|\n",
        "|$r\\alpha^n\\cos(\\beta n+\\theta)u[n]$, $\\alpha>0$|$\\frac{rz(z\\cos(\\theta-\\theta)-\\alpha\\cos(\\beta))}{z^2-2\\alpha\\cos(\\beta)z +\\alpha^2}$|"
      ]
    },
    {
      "cell_type": "markdown",
      "metadata": {
        "id": "oAIqpY7WhAZj"
      },
      "source": [
        "Anteriormente, já vimos que para $x[n] = \\alpha^{n-1}u[n-1]$, a transformada Z é::\n",
        "\n",
        "$X(z) = \\frac{1}{z-a}$\n",
        "\n",
        "Como estamos usando a transformada Z unilateral, a relação entre o sinal $x[n]$ e a sua transformada Z é única. Isso significa que se tivermos a transformada Z $X(z) = \\frac{1}{z-a}$, conseguimos obter o sinal $x[n]$ que gerou auela transformada Z:\n",
        "\n",
        "$x[n] = \\alpha^{n-1}u[n-1]$\n",
        "\n"
      ]
    },
    {
      "cell_type": "markdown",
      "metadata": {
        "id": "81pe432DhAZj"
      },
      "source": [
        "---\n",
        "\n",
        "## Exemplo 1\n",
        "\n",
        "Considerando $X(z) = \\frac{1}{z+0,3}$\n",
        "\n",
        "A sua transformada Z inversa é:\n",
        "\n",
        "$x[n] = 0,3^{n-1}u[n-1]$\n",
        "\n",
        "---"
      ]
    },
    {
      "cell_type": "markdown",
      "metadata": {
        "id": "BVIDWLN7hAZk"
      },
      "source": [
        "---\n",
        "\n",
        "## Exemplo 2\n",
        "\n",
        "Considerando $X(z) = \\frac{z}{z-0,5}$\n",
        "\n",
        "A sua transformada Z inversa é:\n",
        "\n",
        "$x[n] = (-0,5)^nu[n]$\n",
        "\n",
        "\n",
        "---"
      ]
    },
    {
      "cell_type": "markdown",
      "metadata": {
        "id": "xJKPtoCNhAZk"
      },
      "source": [
        "Porém ao tentar fazer a transformada inversa de transformadas Z como as mostradas abaixo, não conseguimos encontrar a sua transformada inversa diretamente.\n",
        "\n",
        "$X_1(z) = \\frac{z-3}{z^2 + 3z-3}$\n",
        "\n",
        "$X_2(z) = \\frac{z^2+0.2}{z^3 + 0.5z-1}$\n",
        "\n",
        "$X_3(z) = \\frac{z^2+0.2z+1}{z^4 +0.4z^3 - 0.3z^2-z}$\n",
        "\n",
        "Estas transformadas Z não têm um correspondente direto na tabela. Então para conseguirmos achar o sinal que gerou essas transformadas Z precisamos reescrever a expressão de $X(z)$ em uma soma de expressões conhecidas. A maneira que iremos reescrever é a seguinte:\n",
        "\n",
        "$$X(z) =  \\frac{b_Mz^{-M} +...+b_2z^{-2}+b_1z^{-1} + b_0}{1 + a_{1}z^{-1}+...+a_Nz^{-N}} = A_0 + \\frac{A_1}{z-p_1} + \\frac{A_2}{z-p_2} + ... + \\frac{A_N}{z-p_N}$$\n",
        "\n",
        "em que $p_i$ são os polos de $X(z)$. O método que nos permite reescrever a expressão de $X(z)$ nesse formato é conhecido como **método das frações parciais**."
      ]
    },
    {
      "cell_type": "markdown",
      "metadata": {
        "id": "i3YaJpsyhAZk"
      },
      "source": [
        "## Método das Frações Parciais\n",
        "\n",
        "No método das frações parciais, primeiro reescrevemos a expressão de $X(z)$ no formato de polos e zeros.\n",
        "\n",
        "$X(z) = \\frac{b_Mz^{-M} +...+b_2z^{-2}+b_1z^{-1} + b_0}{1 + a_{1}z^{-1}+...+a_Nz^{-N}} = \\frac{A(z-z_1)(z-z_2)...(z-z_M)}{(z-p_1)(z-p_2)...(z-p_N)}$\n",
        "\n",
        "Queremos chegar no formato:\n",
        "\n",
        " $X(z) =  A_0 + \\frac{A_1}{z-p_1} + \\frac{A_2}{z-p_2} + ... + \\frac{A_N}{z-p_N}$\n",
        "\n",
        "### Caso em que $M<N$ com polos distintos\n",
        "\n",
        "Vamos considerar primeiro o caso em que $M<N$. Nesse caso,\n",
        "\n",
        "**1-** Então, igualamos as duas expressões:\n",
        "\n",
        "$\\frac{A(z-z_1)(z-z_2)...(z-z_M)}{(z-p_1)(z-p_2)...(z-p_N)}=A_0 + \\frac{A_1}{z-p_1} + \\frac{A_2}{z-p_2} + ... + \\frac{A_N}{z-p_N}$\n",
        "\n",
        "**2-** O que resta agora é encontrar os valores de $A_i$. Para isso, para cada $p_i$, multiplicamos os dois lados por $(z-p_i)$. Abaixo, para $p_1$.\n",
        "\n",
        "$\\frac{(z-p_1)A(z-z_1)(z-z_2)...(z-z_M)}{(z-p_1)(z-p_2)...(z-p_N)}=A_0(z-p_1) + \\frac{A_1(z-p_1)}{z-p_1} + \\frac{A_2(z-p_1)}{z-p_2} + ... + \\frac{A_N(z-p_1)}{z-p_N}$\n",
        "\n",
        "**3-** Perceba, que conseguimos cancelar os termos $(z-p_1)$ do lado esquerdo da igualdade e no termo sendo multiplicado por $A_1$.\n",
        "\n",
        "$\\frac{A(z-z_1)(z-z_2)...(z-z_M)}{(z-p_2)...(z-p_N)}=A_0(z-p_1) + A_1 + \\frac{A_2(z-p_1)}{z-p_2} + ... + \\frac{A_N(z-p_1)}{z-p_N}$\n",
        "\n",
        "**4 -** Após isso, substituir $z$ pelo valor de $p_1$.\n",
        "\n",
        "$\\left.\\frac{A(z-z_1)(z-z_2)...(z-z_M)}{(z-p_2)...(z-p_N)}\\right|_{z=p_1} =\\left.A_0(z-p_1)\\right|_{z=p_1} + A_1 + \\left.\\frac{A_2(z-p_1)}{z-p_2}\\right|_{z=p_1} + ... + \\left.\\frac{A_N(z-p_1)}{z-p_N}\\right|_{z=p_1}$\n",
        "\n",
        "**5-** Todos os termos do lado direito (com exceção do $A_1$) é zerado ao fazer essa substituição. Então, conseguimos encontrar o valor de $A_1$:\n",
        "\n",
        "$A_1 = \\frac{A(p_1-z_1)(z-z_2)...(p_1-z_M)}{(p_1-p_2)...(p_1-p_N)} $\n",
        "\n",
        "**6-** Para encontrar o valor dos outros $A_i$, basta repetir os passos 2 até 5 para cada $p_i$. Para o caso de $M<N$, $A_0 = 0$.\n",
        "\n",
        "**7-** Tendo encontrado todos os valores de $A_i$, agora é possível fazer a transformada Z inversa de cada termo.\n",
        "\n"
      ]
    },
    {
      "cell_type": "markdown",
      "metadata": {
        "id": "M1vTekc8hAZl"
      },
      "source": [
        "---\n",
        "\n",
        "#### Exemplo 3\n",
        "\n",
        "Conideramos aqui a transformada $X(z)$ dada pela seguinte expressão:\n",
        "\n",
        "$$X(z) = \\frac{z^2-0.3z-0.1}{z^3+0.2z^2-0.11z-0.012}$$\n",
        "\n",
        "$X(z)$ pode ser reescrito da seguinte forma, com seus polos e zeros sendo mostrados explicitamente:\n",
        "\n",
        "$$X(z) = \\frac{(z-0.5)(z+0.2)}{(z+0.1)(z+0.4)(z-0.3)}$$\n",
        "\n",
        "São 3 polos. Então,fazemos:\n",
        "\n",
        "$\\frac{(z-0.5)(z+0.2)}{(z+0.1)(z+0.4)(z-0.3)} = \\frac{A_1}{z+0.1} + \\frac{A_2}{z+0.4} + \\frac{A_3}{z-0.3}$\n",
        "\n",
        "Começando o procedimeto por $(z+0.1)$:\n",
        "\n",
        "$\\frac{(z+0.1)(z-0.5)(z+0.2)}{(z+0.1)(z+0.4)(z-0.3)} = \\frac{A_1(z+0.1)}{z+0.1} + \\frac{A_2(z+0.1)}{z+0.4} + \\frac{A_3(z+0.1)}{z-0.3} \\rightarrow \\frac{(z-0.5)(z+0.2)}{(z+0.4)(z-0.3)} = A_1 + \\frac{A_2(z+0.1)}{z+0.4} + \\frac{A_3(z+0.1)}{z-0.3} $\n",
        "\n",
        "Substituindo $z$ por $-0.1$:\n",
        "\n",
        "$A_1 = \\frac{(-0.1-0.5)(-0.1+0.2)}{(-0.1+0.4)(-0.1-0.3)} = 0.5$\n",
        "\n",
        "Multiplicando agora por $(z+0.4)$:\n",
        "\n",
        "$\\frac{(z+0.4)(z-0.5)(z+0.2)}{(z+0.1)(z+0.4)(z-0.3)} = \\frac{A_1(z+0.4)}{z+0.1} + \\frac{A_2(z+0.4)}{z+0.4} + \\frac{A_3(z+0.4)}{z-0.3} \\rightarrow \\frac{(z-0.5)(z+0.2)}{(z+0.1)(z-0.3)} = \\frac{A_1(z+0.4)}{z+0.1} + A_2 + \\frac{A_3(z+0.4)}{z-0.3} $\n",
        "\n",
        "Substituindo $z$ por $-0.4$:\n",
        "\n",
        "$A_2 = \\frac{(-0.4-0.5)(-0.4+0.2)}{(-0.4+0.1)(-0.4-0.3)}=0.86$\n",
        "\n",
        "Por fim, multiplicando por $(z-0.3)$:\n",
        "\n",
        "$\\frac{(z-0.3)(z-0.5)(z+0.2)}{(z+0.1)(z+0.4)(z-0.3)} = \\frac{A_1(z-0.3)}{z+0.1} + \\frac{A_2(z-0.3)}{z+0.4} + \\frac{A_3(z-0.3)}{z-0.3} \\rightarrow \\frac{(z-0.5)(z+0.2)}{(z+0.1)(z+0.4)} = \\frac{A_1(z-0.3)}{z+0.1} + \\frac{A_2(z-0.3)}{z+0.4} + A_3$\n",
        "\n",
        "Substituindo $z$ por $0.3$:\n",
        "\n",
        "$A_3 = \\frac{(0.3-0.5)(0.3+0.2)}{(0.3+0.1)(0.3+0.4)}=-0.36$\n",
        "\n",
        "Então, podemos reescrever $X(z)$ como:\n",
        "\n",
        "$X(z) = \\frac{0.5}{z+0.1} + \\frac{0.86}{z+0.4} - \\frac{0.36}{z-0.3}$\n",
        "\n",
        "Com isso, é fácil fazer a transformada inversa de cada um dos termos e recuperar o sinal $x[n]$:\n",
        "\n",
        "$x[n] = 0.5(-0.1)^{n-1}u[n-1] +  0.86(-0.4)^{n-1}u[n-1] - 0.36(0.3)^{n-1}u[n-1]$\n",
        "\n",
        "---"
      ]
    },
    {
      "cell_type": "markdown",
      "metadata": {
        "id": "HEwLtJ-ChAZl"
      },
      "source": [
        "---\n",
        "\n",
        "#### Exemplo 4\n",
        "\n",
        "Considere a seguinte transformada Z:\n",
        "\n",
        "$X(z) = \\frac{z+0.2}{z^3-0.5z^2+0.33z-0.029}$\n",
        "\n",
        "$X(z)$ pode ser reescrito na forma de polos e zeros como:\n",
        "\n",
        "$X(z) = \\frac{z+0.2}{(z-0.1)(z-0.2 - j0.5)(z-0.2+j0.5)}$\n",
        "\n",
        "Então temos que reescrever $X(z)$ como:\n",
        "\n",
        "$\\frac{z+0.2}{(z-0.1)(z-0.2 - j0.5)(z-0.2+j0.5)} = \\frac{A_1}{z-0.1} + \\frac{A_2}{z-0.2 - j0.5} + \\frac{A_3}{z-0.2 + j0.5}$\n",
        "\n",
        "Encontrando  o coeficiente $A_1$:\n",
        "\n",
        "$A_1 = \\left.\\frac{z+0.2}{(z-0.2 - j0.5)(z-0.2+j0.5)}\\right|_{z=0.1} = 1,15$\n",
        "\n",
        "Agora, encontrando $A_2$:\n",
        "\n",
        "$A_2 = \\left.\\frac{z+0.2}{(z-0.1)(z-0.2+j0.5)}\\right|_{z=0.2+j0.5} = -0,58 - j1,12 = 1,26e^{-j2,05}$\n",
        "\n",
        "e A_3:\n",
        "\n",
        "$A_3 = \\left.\\frac{z+0.2}{(z-0.1)(z-0.2-j0.5)}\\right|_{z=0.2-j0.5} = -0,58 + j1,12 = 1,26e^{j2,05}$\n",
        "\n",
        "Repare que $A_3$ é o complexo conjugado de $A_2$. Isso sempre vai acontecer no caso de polos complexos.\n",
        "\n",
        "Então, $X(z)$ é:\n",
        "\n",
        "$X(z) = \\frac{1,15}{z-0.1} + \\frac{1,26e^{-j2,05}}{z-0.2 - j0.5} + \\frac{1,26e^{j2,05}}{z-0.2 + j0.5}$\n",
        "\n",
        "Então, a transformada Z inversa de $X(z)$ é:\n",
        "\n",
        "$x[n] = 1,15(0.1)^{n-1}u[n-1] + 1,26e^{-j2,05}(0.2+j0.5)^{n-1}u[n-1] + 1,26e^{j2,05}(0.2-j0.5)^{n-1}u[n-1] = 1,15(0.1)^{n-1}u[n-1] + 1,26e^{-j2,05}(0,53e^{j1.19})^{n-1}u[n-1] + 1,26e^{j2,05}(0,53e^{-j1.19})^{n-1}u[n-1]$\n",
        "\n",
        "Aqui, talvez você possa achar que calculou os polos de $X(z)$ errado, já que $x[n]$ é uma expressão complexa. Mas repare que é possível usar a fórmula de Euler para obtermos cossenos. Sempre que aparecerem polos complexos isso será possível:\n",
        "\n",
        "$x[n] =  1,15(0.1)^{n-1}u[n-1] + 1,26(0,53)^{n-1}e^{j(1.19(n-1)-2,05)}u[n-1] + 1,26(0.53)^{n-1}e^{-j(1.19(n-1)-2,05)}u[n-1]$\n",
        "\n",
        "Pela fórmula de Euler:\n",
        "\n",
        "$x[n] =  1,15(0.1)^{n-1}u[n-1] + 0,63(0,53)^{n-1}\\cos(1.19(n-1)-2,05)u[n-1] $\n",
        "\n",
        "\n",
        "\n",
        "\n",
        "---"
      ]
    },
    {
      "cell_type": "markdown",
      "metadata": {
        "id": "pq0yG53HhAZl"
      },
      "source": [
        "### Caso em que $M<N$ com polos repetidos\n",
        "\n",
        "Aqui, vamos supor que um dos polos seja reptido $K$ vezes. Caso mais de um polo seja repetido, o procedimento é o mesmo. Com o polo $p_1$ repetido $K$ vezes, temos $X(z)$ escrito como:\n",
        "\n",
        "$X(z) = \\frac{b_Mz^{-M} +...+b_2z^{-2}+b_1z^{-1} + b_0}{1 + a_{1}z^{-1}+...+a_Nz^{-N}} = \\frac{A(z-z_1)(z-z_2)...(z-z_M)}{(z-p_1)^K(z-p_{K+1})...(z-p_N)}$\n",
        "\n",
        "Aqui, não seria possível expandir $X(z)$ da mesma forma, por causa das raízes repetidas. Então, a expansão é feita para a seguinte forma:\n",
        "\n",
        "$X(z) = \\frac{B_1}{z-p_1} + \\frac{B_2}{(z-p_1)2} + ... + \\frac{B_K}{(z-p_1)^K} + \\frac{A_{K+1}}{z-p_{k+1}} + ... +  \\frac{A_{M}}{z-p_{M}}$\n",
        "\n",
        "Os coeficientes $A_i$, correspondentes aos polos não repetidos, são encontrados da mesma maneira que no caso anterior. Para encontrar os coeficientes $B_i$, fazemos o seguinte procedimento:\n",
        "\n",
        "**1-** Multiplicamos as duas expressões por $(z-p_1)^K$ e cancelamos os termos que aparecem no numerador e denominador:\n",
        "\n",
        "$\\frac{A(z-z_1)(z-z_2)...(z-z_M)}{(z-p_{K+1})...(z-p_N)} = B_1(z-p_1)^{K-1} + B_2(z-p_1)^{K-2} + ... + B_K + \\frac{A_{K+1}(z-p_1)^K}{z-p_{k+1}} + ... +  \\frac{A_{M}(z-p_1)^K}{z-p_{M}}$\n",
        "\n",
        "**2-** Substituindo $z$ por $p_1$, encontramos $B_K$:\n",
        "\n",
        "$\\left.\\frac{A(z-z_1)(z-z_2)...(z-z_M)}{(z-p_{K+1})...(z-p_N)}\\right|_{z=p_1} = \\left.B_1(z-p_1)^{K-1}\\right|_{z=p_1} + \\left.B_2(z-p_1)^{K-2}\\right|_{z=p_1} + ... + \\left.B_K + \\frac{A_{K+1}(z-p_1)^K}{z-p_{k+1}}\\right|_{z=p_1} + ... +  \\left.\\frac{A_{M}(z-p_1)^K}{z-p_{M}}\\right|_{z=p_1}$\n",
        "\n",
        "$$B_K = \\left.\\frac{A(z-z_1)(z-z_2)...(z-z_M)}{(z-p_{K+1})...(z-p_N)}\\right|_{z=p_1}$$\n",
        "\n",
        "**3-** Para encontrar $B_{K-1}$, calculamos fazemos a derivada da expressão encontrada no passo 1.\n",
        "\n",
        "$\\frac{d}{dz}\\left(\\frac{A(z-z_1)(z-z_2)...(z-z_M)}{(z-p_{K+1})...(z-p_N)}\\right) = \\frac{d}{dz}\\left(B_1(z-p_1)^{K-1}\\right) + \\frac{d}{dz}\\left(B_2(z-p_1)^{K-2}\\right) + ... + \\frac{d}{dz}\\left(B_{K-1}(z-p_1)\\right) +\\frac{d}{dz}\\left(B_K\\right) + \\frac{d}{dz}\\left(\\frac{A_{K+1}(z-p_1)^K}{z-p_{k+1}}\\right) + ... +  \\frac{d}{dz}\\left(\\frac{A_{M}(z-p_1)^K}{z-p_{M}}\\right)$\n",
        "\n",
        "**4-** Isso faz com que o termo com $B_K$ desapareça e o termo $B_{K-1}$ fique sem estar multiplicando nada:\n",
        "\n",
        "$\\frac{d}{dz}\\left(\\frac{A(z-z_1)(z-z_2)...(z-z_M)}{(z-p_{K+1})...(z-p_N)}\\right) = (K-1)B_1(z-p_1)^{K-2} + (K-2)B_2(z-p_1)^{K-3} + ... + B_{K-1} + \\frac{d}{dz}\\left(\\frac{A_{K+1}(z-p_1)^K}{z-p_{k+1}}\\right) + ... +  \\frac{d}{dz}\\left(\\frac{A_{M}(z-p_1)^K}{z-p_{M}}\\right)$\n",
        "\n",
        "**5-** E fazemos de novo a substituição de z por $p_1$. Nessa etapa as derivadas com os coeficientes $A_i$ irão para zero:\n",
        "\n",
        "$B_{K-1} = \\left.\\frac{d}{dz}\\left(\\frac{A(z-z_1)(z-z_2)...(z-z_M)}{(z-p_{K+1})...(z-p_N)}\\right)\\right|_{z=p_1}$\n",
        "\n",
        "**6-** Para encontrar os $B_i$ restantes, basta continuar derivando a expressão encontrada no passo 1 e substituir $z$ por $p_1$."
      ]
    },
    {
      "cell_type": "markdown",
      "metadata": {
        "id": "2OUMhIFnhAZm"
      },
      "source": [
        "---\n",
        "\n",
        "#### Exemplo 5\n",
        "\n",
        "Vamos considerar a seguinte transformada Z:\n",
        "\n",
        "$X(z) = \\frac{(z-0.5)(z+0.3)}{(z+0.5)^2(z+0.1)}$\n",
        "\n",
        "Para encontrar a sua transformada Z inversa, primeiro vamos expandir em frações parciais:\n",
        "\n",
        "$X(z) = \\frac{A_1}{z+0.1} + \\frac{B_1}{z+0.5} + \\frac{B_2}{(z+0.5)^2}$\n",
        "\n",
        "Primeiro, encontrando $A_1$:\n",
        "\n",
        "$A_1 = \\frac{(-0.1-0.5)(-0.1+0.3)}{(-0.1+0.5)^2} = -0.75$\n",
        "\n",
        "Agora, $B_2$\n",
        "\n",
        "$B_2 = \\left.\\frac{(z-0.5)(z+0.3)}{z+0.1}\\right|_{z=_-0.5} = -0.5$\n",
        "\n",
        "E para achar $B_1$:\n",
        "\n",
        "$\\left.\\frac{d}{dz}\\left(\\frac{(z-0.5)(z+0.3)}{z+0.1} \\right)\\right|_{z=-0.5} = B_1$\n",
        "\n",
        "$B_1 = \\left.\\frac{(2z-0.2)(z+0.1)-(z^2-0.2z-0.15)}{(z+0.1)^2}\\right|_{z=-0.5} = 1.75$\n",
        "\n",
        "Então, $X(z)$ pode ser escrito da seguinte forma:\n",
        "\n",
        "$X(z) = \\frac{-0.75}{z+0.1} + \\frac{1.75}{z+0.5} - \\frac{0.5}{(z+0.5)^2}$\n",
        "\n",
        "Então, a transformada inversa é:\n",
        "\n",
        "$x[n] = -0.75(-0.1)^{n-1}u[n-1] + 1.75(-0.5)^{n-1}u[n-1] + (n-1)(-0.5)^{n-1}u[n-1]$\n",
        "\n",
        "---"
      ]
    },
    {
      "cell_type": "markdown",
      "metadata": {
        "id": "UsZXa9Z1hAZm"
      },
      "source": [
        "### Caso com $M = N$\n",
        "\n",
        "Caso o número de zeros seja igual o número de polos, antes de realizarmos o procedimento mostrado anteriormente, fazemos:\n",
        "\n",
        "$X(z) = \\frac{AN(z)}{D(z)} = A\\frac{D(z) + N(z) - D(z)}{D(z)} = A + A\\frac{N(z)-D(z)}{D(z)}$. Isso vai fazer com que o numerador fique com pelo menos um zero a menos. Após esse procedimento, é possível aplicar o método de frações parciais.\n",
        "\n",
        "---\n",
        "\n",
        "#### Exemplo 6\n",
        "\n",
        "Considere a seguinte transformada Z:\n",
        "\n",
        "$X(z) = \\frac{z^2+0.3z+0.02}{z^2+0.1z-0.56}$\n",
        "\n",
        "Então, antes de iniciarmos o procedimento visto anteriormente, fazemos:\n",
        "\n",
        "$X(z) = 1 +  \\frac{z^2+0.3z+0.02 - (z^2+0.1z-0.56)}{z^2+0.1z-0.56} = 1 + \\frac{0.3z+0.58}{z^2+0.1z-0.56}$\n",
        "\n",
        "Agora, podemos expandir em frações parciais:\n",
        "\n",
        "$X(z) = 1 + \\frac{0.3z+0.58}{(z+0.8)(z-0.7)} = 1 + \\frac{A_1}{z+0.8} + \\frac{A_2}{z-0.7}$\n",
        "\n",
        "Encontrando os coeficientes $A_1$ e $A_2$:\n",
        "\n",
        "$A_1 = \\left.\\frac{0.3z+0.58}{(z-0.7)}\\right|_{z=-0.8} = -0.23$\n",
        "\n",
        "$A_2 = \\left.\\frac{0.3z+0.58}{(z+0.8)}\\right|_{z=0.7}=0.53$\n",
        "\n",
        "\n",
        "Então:\n",
        "\n",
        "$x[n] = \\delta[n] -0.23(-0.8)^{n-1}u[n-1] + 0.53(0.7)^{n-1}u[n-1]$\n",
        "\n",
        "---\n"
      ]
    },
    {
      "cell_type": "markdown",
      "metadata": {
        "id": "wiD2iuXqhAZm"
      },
      "source": [
        "## Método das frações parciais modificado\n",
        "\n",
        "O método mostrado a seguir é mais conveniente de ser utilizado com a transformada Z. Você deve ter reparado que nos exemplos anteriores, o método das frações parciais resultou em sinais multiplicados por $u[n-1]$. Isso muitas vezes é inconveniente. O ideal seria termos sinais que comecem em $n=0$, ou seja, que sejam multiplicados por $u[n]$. Para isso, antes de realizar a expansão em frações parciais, fazemos:\n",
        "\n",
        "$X'(z) = \\frac{X(z)}{z}$\n",
        "\n",
        "Após isso, realizamos a expansão em frações parciais como mostrado acima. Ao final multiplicamos $X'(z)$ expandido em frações parciais por $z$ para obtermos $X(z)$ novamente.\n",
        "\n",
        "\n",
        "---\n",
        "\n",
        "#### Exemplo 7\n",
        "\n",
        "Consideramos aqui a mesma transformada Z do exemplo 3:\n",
        "\n",
        "\n",
        "$X(z) = \\frac{z^2-0.3z-0.1}{z^3+0.2z^2-0.11z-0.012}=\\frac{(z-0.5)(z+0.2)}{(z+0.1)(z+0.4)(z-0.3)}$\n",
        "\n",
        "Agora, obtemos $X'(z)$:\n",
        "\n",
        "$X'(z)=\\frac{X(z)}{z} = \\frac{(z-0.5)(z+0.2)}{z(z+0.1)(z+0.4)(z-0.3)}$\n",
        "\n",
        "Agora, fazemos a expansão em frações parciais:\n",
        "\n",
        "$X'(z) = \\frac{(z-0.5)(z+0.2)}{z(z+0.1)(z+0.4)(z-0.3)} = \\frac{A_1}{z} + \\frac{A_2}{z+0.1} + \\frac{A_3}{z+0.4} + \\frac{A_4}{z-0.3}$\n",
        "\n",
        "E obtemos os coeficientes:\n",
        "\n",
        "\n",
        "$A_1 = \\left.\\frac{(z-0.5)(z+0.2)}{(z+0.1)(z+0.4)(z-0.3)}\\right|_{z=0} = 8,33$\n",
        "\n",
        "$A_2 = \\left.\\frac{(z-0.5)(z+0.2)}{z(z+0.4)(z-0.3)}\\right|_{z=-0.1} = -5$\n",
        "\n",
        "$A_3 = \\left.\\frac{(z-0.5)(z+0.2)}{z(z+0.1)(z-0.3)}\\right|_{z=-0.4} = -2.14$\n",
        "\n",
        "$A_4 = \\left.\\frac{(z-0.5)(z+0.2)}{z(z+0.1)(z+0.4)}\\right|_{z=0.3} = -1.19$\n",
        "\n",
        "Então $X'(z)$ é:\n",
        "\n",
        "\n",
        "$X'(z) = \\frac{8,33}{z} - \\frac{5}{z+0.1} - \\frac{2.14}{z+0.4} - \\frac{1.19}{z-0.3}$\n",
        "\n",
        "Agora, para obtermos $X(z)$ de volta, multiplicamos por $z$:\n",
        "\n",
        "$X(z) = 8.33 - \\frac{5z}{z+0.1} - \\frac{2.14z}{z+0.4} - \\frac{1.19z}{z-0.3}$\n",
        "\n",
        "Então, $x[n]$ é:\n",
        "\n",
        "$x[n] = 8.33\\delta[n] - 5(-0.1)^nu[n] - 2.14(-0.4)^nu[n] - 1.19(0.3)^nu[n]$\n",
        "\n",
        "A expressão encontrada é diferente da encontrada no Exemplo 3, mas seus gráficos são idênticos:\n",
        "\n",
        "\n",
        "\n",
        "\n"
      ]
    },
    {
      "cell_type": "code",
      "execution_count": 3,
      "metadata": {
        "scrolled": true,
        "cellView": "form",
        "id": "9DgnZS-qhAZm",
        "outputId": "1506355c-2959-460d-b5f7-491fc24d3872",
        "colab": {
          "base_uri": "https://localhost:8080/",
          "height": 449
        }
      },
      "outputs": [
        {
          "output_type": "display_data",
          "data": {
            "text/plain": [
              "<Figure size 640x480 with 1 Axes>"
            ],
            "image/png": "[encoded data removed]"
          },
          "metadata": {}
        }
      ],
      "source": [
        "# @title\n",
        "def step(n):\n",
        "    u = np.zeros_like(n)\n",
        "    u[n>=0] = 1\n",
        "    return u\n",
        "\n",
        "def delta(n):\n",
        "    d = np.zeros_like(n)\n",
        "    d[n==0] = 1\n",
        "    return d\n",
        "\n",
        "n = np.arange(10)\n",
        "x3 = 0.5*(-0.1)**(n-1)*step(n-1) +  0.86*(-0.4)**(n-1)*step(n-1) - 0.36*(0.3)**(n-1)*step(n-1)\n",
        "x7 = 8.33*delta(n) -  5*(-0.1)**n*step(n) - 2.14*(-0.4)**n*step(n) - 1.19*(0.3)**n*step(n)\n",
        "\n",
        "plt.figure()\n",
        "plt.stem(n, x3, linefmt='b-')\n",
        "plt.stem(n, x7, linefmt='r--')\n",
        "plt.legend(['Exemplo 3', 'Exemplo 7'])\n",
        "plt.xlabel('n')\n",
        "plt.ylabel('x[n]')\n",
        "plt.show()"
      ]
    },
    {
      "cell_type": "markdown",
      "metadata": {
        "id": "xlAW1FG5aCbK"
      },
      "source": [
        "## Usando recursos computacionais\n",
        "\n",
        "Realizar a expansão em frações parciais pode ser bastante trabalhoso. Hoje em dia, as linguagens usadas em computação científica têm maneiras para realizar essa expansão de forma simples. A biblioteca Scipy do Python tem a função `residue`.\n",
        "\n",
        "Basta colocar os coeficientes do numerador em uma variável, do denominador em outra variável e chamar a função residue. Chamando a função para a mesma transformada Z do exemplo 7 (para $Y'(z)$):"
      ]
    },
    {
      "cell_type": "code",
      "execution_count": 7,
      "metadata": {
        "id": "teA9Oyp0aCbK",
        "outputId": "12ffcd56-c159-428d-f86c-a449bf51f391",
        "tags": [],
        "colab": {
          "base_uri": "https://localhost:8080/"
        }
      },
      "outputs": [
        {
          "output_type": "stream",
          "name": "stdout",
          "text": [
            "A=[ 8.33333333 -5.         -1.19047619 -2.14285714], polos=[ 0.  -0.1  0.3 -0.4], r=[]\n"
          ]
        }
      ],
      "source": [
        "from scipy.signal import residue\n",
        "num = [1, -0.3, -0.1]\n",
        "den = [1, 0.2, -0.11, -0.012,0]\n",
        "A, polos, r = residue(num, den)\n",
        "print(f'A={A}, polos={polos}, r={r}')"
      ]
    },
    {
      "cell_type": "markdown",
      "metadata": {
        "id": "kHDAAp7naCbK"
      },
      "source": [
        "A função retorna 3 arrays (listas de números):\n",
        "\n",
        "- A primeira lista tem os valores de $A_i$.\n",
        "\n",
        "- A segunda a lista com os polos, na mesma ordem da lista anterior.\n",
        "\n",
        "- A terceira lista com os valores que não correspondem a nenhum polo.\n",
        "\n",
        "  Então, nesse caso a expansão fica:\n",
        "\n",
        "  $X'(z) = \\frac{8,33}{z} - \\frac{5}{z+0.1} - \\frac{1,19}{z-0.3}- \\frac{2,14}{z+0.4}$\n",
        "\n",
        "  Que é o mesmo resultado encontrado no exemplo 7.\n",
        "\n",
        "Outras linguagens, como Matlab, Julia e R, têm funções semelhantes."
      ]
    },
    {
      "cell_type": "markdown",
      "metadata": {
        "id": "d0aF-qgSaCbL"
      },
      "source": [
        "---\n",
        "\n",
        "## Exemplo 8\n",
        "\n",
        "Vamos fazer a expansão em frações parciais de:\n",
        "\n",
        "$X(z) = \\frac{z^3-0.1z^2-0.17z-0.015}{z^4+1.3z^3+0.57z^2+0.095z+0.005}$\n",
        "\n",
        "Encontrando $X'(z)=\\frac{X(z)}{z}$:\n",
        "\n",
        "$X'(z) = \\frac{z^3-0.1z^2-0.17z-0.015}{z^5+1.3z^4+0.57z^3+0.095z^2+0.005z}$\n"
      ]
    },
    {
      "cell_type": "code",
      "execution_count": 8,
      "metadata": {
        "id": "qcEI3-SjaCbL",
        "outputId": "0f15a15a-0ec8-4786-e353-a715ed671a6d",
        "tags": [],
        "colab": {
          "base_uri": "https://localhost:8080/"
        }
      },
      "outputs": [
        {
          "output_type": "stream",
          "name": "stdout",
          "text": [
            "A=[-3.00000000e+00  6.50521303e-15  3.88888889e+00 -8.88888889e-01\n",
            "  1.33333333e+00], polos=[ 0.  -0.1 -0.2 -0.5 -0.5], r=[]\n"
          ]
        }
      ],
      "source": [
        "num = [1, -0.1, -0.17,-0.015]\n",
        "den = [1, 1.3,0.57,0.095, 0.005, 0]\n",
        "\n",
        "A, polos, r = residue(num, den)\n",
        "print(f'A={A}, polos={polos}, r={r}')"
      ]
    },
    {
      "cell_type": "markdown",
      "metadata": {
        "id": "GToPQEnfaCbL"
      },
      "source": [
        "Perceba que a lista de polos deu dois polos repetidos. Nesse caso o segundo vai ser elevado ao quadrado.\n",
        "\n",
        "Então, a expansão em frações parciais de $X'(z)$ é:\n",
        "\n",
        "$X'(z) = -\\frac{3}{z} + \\frac{4,33.10^{-15}}{z+0.1} + \\frac{3.89}{z+0.2} - \\frac{8,9}{z+0.5} + \\frac{1,33}{(z+0,5)^2}$\n",
        "\n",
        "Obtendo de volta $X(z) = zX'(z)$:\n",
        "\n",
        "$X(z) = -3 + \\frac{6,5.10^{-15}z}{z+0.1} + \\frac{3.89z}{z+0.2} - \\frac{0,89z}{z+0.5} + \\frac{1,33z}{(z+0,5)^2}$\n",
        "\n",
        "O sinal que originou essa transformada de Laplace é:\n",
        "\n",
        "$x[n] = -3\\delta[n]+6,5.10^{-15}(-0,2)^nu[n] - 0,89(-0,5)^nu[n]+2,66n(-0,5)^nu[n]$\n",
        "\n",
        "---"
      ]
    },
    {
      "cell_type": "markdown",
      "metadata": {
        "id": "PFyAMWq3hAZo"
      },
      "source": [
        "## Exercícios\n",
        "\n",
        "**1)** Calcule as transformadas Z inversas. Dê preferência para expressões começando de $n=0$.\n",
        "\n",
        "\n",
        "a) $X_1(z) = \\frac{z-1}{z+5}$\n",
        "\n",
        "b) $X_2(z) = \\frac{z^2+3}{z^2 +2z + 3}$\n",
        "\n",
        "c) $X_3(z) = \\frac{z^2-z}{z^2+3z-2}$\n",
        "\n",
        "d) $X_4(z) = \\frac{z(z-3)}{z^2-4z+5}$"
      ]
    },
    {
      "cell_type": "markdown",
      "metadata": {
        "id": "j79DTNBQhAZp"
      },
      "source": [
        "**2)**  Calcule as transformadas Z inversas. Dê preferência para expressões começando de $n=0$.\n",
        "\n",
        "a) $X_1(z) = \\frac{z+1}{3z}$\n",
        "\n",
        "b) $X_2(z) = \\frac{z(e^{-3}-2)}{(z-e^{-3})(z-2)}$\n",
        "\n",
        "c) $X_3(z) = \\frac{z^2(-2z^2+9z-4)}{(z-1)(z-3)^2}$\n",
        "\n",
        "d) $X_4(z) = \\frac{2z^2 - 0,3z + 0,25}{z^2+0,6z}$"
      ]
    },
    {
      "cell_type": "markdown",
      "metadata": {
        "id": "B9yWmhdmhAZp"
      },
      "source": [
        "## Referências\n",
        "\n",
        "- Ulaby, FT e Yagle, AE, Signals & Systems: Theory and Applications, 2018, [ss2.eecs.umich.edu](ss2.eecs.umich.edu)\n",
        "- Lathi, BP, Sinais e Sistemas Lineares, 2007\n",
        "- Oppenheim, M.  e Willsky, S., Sistemas e Sinais, 2010\n",
        "- Stewart, James. Cálculo - Volume 2, 2017\n",
        "- Brown, James, e Ruel Churchill. Variáveis complexas e aplicações. (9ª edição), 2015."
      ]
    },
    {
      "cell_type": "markdown",
      "metadata": {
        "id": "yg37p8dyhAZp"
      },
      "source": [
        "## Solução dos exercícios"
      ]
    },
    {
      "cell_type": "code",
      "execution_count": null,
      "metadata": {
        "id": "6haH8Z7yhAZp"
      },
      "outputs": [],
      "source": []
    }
  ],
  "metadata": {
    "kernelspec": {
      "display_name": "Python 3 (ipykernel)",
      "language": "python",
      "name": "python3"
    },
    "language_info": {
      "codemirror_mode": {
        "name": "ipython",
        "version": 3
      },
      "file_extension": ".py",
      "mimetype": "text/x-python",
      "name": "python",
      "nbconvert_exporter": "python",
      "pygments_lexer": "ipython3",
      "version": "3.10.12"
    },
    "colab": {
      "provenance": []
    }
  },
  "nbformat": 4,
  "nbformat_minor": 0
}