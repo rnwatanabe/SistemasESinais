{
 "cells": [
  {
   "cell_type": "markdown",
   "id": "e9182fc6-1a1b-4ca0-8c02-9213c912bf9e",
   "metadata": {},
   "source": [
    "# Integral de Convolução\n",
    "\n",
    "Renato Naville Watanabe"
   ]
  },
  {
   "cell_type": "markdown",
   "id": "9b336592-ea2a-4860-b0e0-278e2482bdda",
   "metadata": {},
   "source": [
    "## Preparação do ambiente"
   ]
  },
  {
   "cell_type": "code",
   "execution_count": 2,
   "id": "8aa7c21e-3cb8-4208-89bf-42a83bb3e730",
   "metadata": {},
   "outputs": [],
   "source": [
    "try:\n",
    "  from google.colab import output\n",
    "  output.enable_custom_widget_manager()\n",
    "  IN_COLAB = True\n",
    "except:\n",
    "  IN_COLAB = False\n",
    "\n",
    "if IN_COLAB: \n",
    "  !pip install ipympl\n",
    "  from IPython.display import clear_output \n",
    "  !sudo apt update\n",
    "  !sudo apt install libcairo2-dev ffmpeg \\\n",
    "       texlive texlive-latex-extra texlive-fonts-extra \\\n",
    "       texlive-latex-recommended texlive-science \\\n",
    "       tipa libpango1.0-dev\n",
    "  !pip install manim\n",
    "  !pip install IPython --upgrade\n",
    "  clear_output()\n",
    "  # Se estiver no Colab, reiniciar o ambiente após executar esta célula "
   ]
  },
  {
   "cell_type": "code",
   "execution_count": 6,
   "id": "d24871e1-6a9a-4b38-807b-56591edd736d",
   "metadata": {
    "tags": []
   },
   "outputs": [],
   "source": [
    "import sympy as sym\n",
    "import numpy as np\n",
    "from sympy.plotting import PlotGrid\n",
    "from manim import *\n",
    "config.media_width = \"100%\"\n",
    "config.verbosity = \"WARNING\""
   ]
  },
  {
   "cell_type": "markdown",
   "id": "d77d7ca7-f615-42db-8b45-61fe24bdabe5",
   "metadata": {},
   "source": [
    "## Definição do problema"
   ]
  },
  {
   "cell_type": "markdown",
   "id": "eec34521-570a-400c-b770-9482e867b879",
   "metadata": {},
   "source": [
    "Aqui, vamos encontrar uma expressão para $y(t)$ que só dependa de $n$, dada uma equação de diferenças linear e invariante no tempo:\n",
    "\n",
    "$$\\frac{d^Ny}{dt^N} + a_{N-1}\\frac{d^{N-1}y}{dt^{N-1}}+...+a_0y(t) = b_M\\frac{d^Mx}{dt^M} +...+b_2\\frac{d^2x}{dt^2}+b_1\\frac{dx}{dt} + b_0x(t) $$"
   ]
  },
  {
   "cell_type": "markdown",
   "id": "ca5a0654-9dfc-47aa-9184-92e5c838d4b7",
   "metadata": {},
   "source": [
    "## Composição da solução"
   ]
  },
  {
   "cell_type": "markdown",
   "id": "d606fa62-0281-49cd-a515-9a29a3cfa0f5",
   "metadata": {},
   "source": [
    "A solução desta equação é formada por duas partes:\n",
    "\n",
    "$$y(t) = y_{zi}(t) + y_{zs}(t)$$\n",
    "\n",
    "em que $y_{zi}(t)$ é a parte de $y$ devida às condições iniciais do sinal de saída (os valores de $y(0), \\frac{dy}{dt}(0), ..., \\frac{d^{N-1}y}{dt^{N-1}}(0)$). Para o cálculo dessa componente, considera-se que a entrada $x(t)$ e todas as suas derivadas são nulas ($zi$ é de *zero input*, **entrada nula** em inglês). \n",
    "\n",
    "A outra componente, $y_{zs}(t)$, é devido à entrada $x(t)$. Para o cálculo dessa componente consideramos que os valores de $y(0), \\frac{dy}{dt}(0), ..., \\frac{d^{N-1}y}{dt^{N-1}}(0)$ são todos iguais a 0 ($zs$ é de *zero state*, **estado nulo** em inglês, às vezes também chamado de **repouso**)."
   ]
  },
  {
   "cell_type": "markdown",
   "id": "bec022e9-0ff7-45ed-9cd0-8fc5d436a311",
   "metadata": {},
   "source": [
    "Aqui, vamos entender como obter a reposta de estado nulo para sistemas contínuos lineares e invariantes no tempo. A resposta devido às condições ininciais já foi abordada."
   ]
  },
  {
   "cell_type": "markdown",
   "id": "940316f6-38bb-4532-a692-3ca60736001d",
   "metadata": {},
   "source": [
    "## Integral de convolução\n",
    "\n",
    "Aqui, vamos desenvolver um método para encontrar a saída $y(t)$ de um sistema contínuo linear e invariante no tempo para uma entrada $x(t)$ qualquer.\n",
    "\n",
    "<img src=Imagens/contsis.png width=\"400\">"
   ]
  },
  {
   "cell_type": "markdown",
   "id": "e5885de7-b3aa-498c-976a-4cee43541b12",
   "metadata": {},
   "source": [
    "Vamos considerar que conhecemos a  resposta ao impulso do sistema.\n",
    "\n",
    "<img src=Imagens/diagimpulsocont.png width=\"300\">"
   ]
  },
  {
   "cell_type": "markdown",
   "id": "51f78208-f2dd-41e3-b227-5ee2545737a8",
   "metadata": {},
   "source": [
    "Como o sistema é linear e invariante no tempo se usarmos como entrada o impulso de Dirac multiplicado por um valor real e atrasado em alguma quantidade de tempo ($\\alpha\\delta(t-T)$), a saída será $\\alpha h(t-T)$ (multiplicada pelo mesmo valor e atrsada da mesma quantidade de tempo).\n",
    "\n",
    "<img src=Imagens/diagimpulsodelaycont.png width=\"400\">"
   ]
  },
  {
   "cell_type": "markdown",
   "id": "32bda570-32ab-4aed-898c-77445c381440",
   "metadata": {},
   "source": [
    "Em sinais de tempo contínuo, pelo terorema da amostragem, podemos escrever o valor de $x(t)$ em algum instante específico como:\n",
    "\n",
    "$$x(\\tau) = x(\\tau)\\delta(t-\\tau)$$\n",
    "\n",
    "Então ao usar $x(\\tau)$ como entrada, a saída é $x(\\tau)h(t-\\tau)$\n",
    "\n",
    "<img src=Imagens/diagimpulsoamostracont.png width=\"400\">"
   ]
  },
  {
   "cell_type": "markdown",
   "id": "b35b5a64-66e2-4bd9-b395-71064bfb37cd",
   "metadata": {
    "tags": []
   },
   "source": [
    "O sinal $x(t)$ todo pode ser escrito como a soma (integral, já que é um sinal contínuo) dos valores em cada instante. Então podemos reescrever o sinal $x(t)$ como:\n",
    "\n",
    "$$x(t) = \\int_{-\\infty}^\\infty x(\\tau)\\delta(t-\\tau)\\,d\\tau$$\n",
    "\n",
    "Ou seja, o sinal $x(t)$ é a integral de impulsos deslocados no tempo. "
   ]
  },
  {
   "cell_type": "markdown",
   "id": "64cb7906-3f2d-4201-98d1-6792cc0b3f9f",
   "metadata": {
    "tags": []
   },
   "source": [
    "Então, considerando o exposto acima e o princípio da superposição que sistemas lineares e invariantes no tempo obedecem, temos que a saída do sistema será:\n",
    "\n",
    "\n",
    "$$y(t) = \\int_{-\\infty}^\\infty x(\\tau)h(t-\\tau)\\,d\\tau $$\n",
    "\n",
    "Esta relação está representada na imagem abaixo:\n",
    "\n",
    "<img src=Imagens/diagconvcont.png width=\"500\">\n",
    "\n",
    "\n",
    "Esta expressão é central no desenvolvimento da teoria de sistemas e sinais de tempo contínuo e recebe o nome de **integral de convolução**."
   ]
  },
  {
   "cell_type": "markdown",
   "id": "33799afc-7d0c-41a6-a13c-3f9bb37ecd78",
   "metadata": {},
   "source": [
    "A integral de convolução é uma operação entre dois sinais (no caso acima $x(t)$ e $h(t)$) e é representada pelo operador *.\n",
    "\n",
    "$$y(t) = \\int_{-\\infty}^\\infty x(\\tau)h(t-\\tau)\\,d\\tau = x(t)*h(t)$$ \n",
    "\n",
    "Perceba que o símbolo * é apenas uma forma reduzida de representar a integral de convolução (nunca se deve confundir com a simples multiplicação dos valores de $x$ e $h$ no instante $t$)."
   ]
  },
  {
   "cell_type": "markdown",
   "id": "b9c9b2fd-4282-40f0-b881-cac006151900",
   "metadata": {},
   "source": [
    "## Forma de calcular a integral de convolução\n",
    "\n"
   ]
  },
  {
   "cell_type": "markdown",
   "id": "4d16f828-8840-4fde-b9a5-5accb0f133da",
   "metadata": {},
   "source": [
    "### Método gráfico\n",
    "\n",
    "Esse método é muito utilizado para saber a forma do resultado da convolução. É bom para entender o que representa a integral de convolução. Vamos voltar para a expressão da convolução:\n",
    "\n",
    "$$y(t) = x(t)*h(t) = \\int_{-\\infty}^\\infty x(\\tau)h(t-\\tau)\\,d\\tau$$ \n",
    "\n",
    "Podemos enxergar os sinais como sendo função de $\\tau$ ao invés de $t$. Então, para $t = 0$, temos os dois sinais a ser considerado: $x(t)$ e $h(-t)$ (a resposta ao impulso espelhada).\n",
    "\n",
    "---\n",
    "\n",
    "#### Exemplo 1\n",
    "\n",
    "Vamos fazer a convolução entre \n",
    "\n",
    "$$x(t) = 2u(t) - 2u(t-1)$$\n",
    "\n",
    "e\n",
    "\n",
    "$$h(t) = tu(t) - tu(t-2)$$"
   ]
  },
  {
   "cell_type": "code",
   "execution_count": 1,
   "id": "30e3e49f-075d-45fe-917d-e646b9008d01",
   "metadata": {
    "tags": []
   },
   "outputs": [
    {
     "data": {
      "text/html": [
       "<pre style=\"white-space:pre;overflow-x:auto;line-height:normal;font-family:Menlo,'DejaVu Sans Mono',consolas,'Courier New',monospace\">Manim Community <span style=\"color: #008000; text-decoration-color: #008000\">v0.17.3</span>\n",
       "\n",
       "</pre>\n"
      ],
      "text/plain": [
       "Manim Community \u001b[32mv0.\u001b[0m\u001b[32m17.3\u001b[0m\n",
       "\n"
      ]
     },
     "metadata": {},
     "output_type": "display_data"
    }
   ],
   "source": [
    "import sympy as sym\n",
    "import numpy as np\n",
    "from manim import *\n",
    "from sympy.plotting import PlotGrid\n",
    "config.media_width = \"100%\"\n",
    "config.verbosity = \"WARNING\""
   ]
  },
  {
   "cell_type": "code",
   "execution_count": 3,
   "id": "a3218815-6978-4cfd-84f2-93374af6a322",
   "metadata": {},
   "outputs": [
    {
     "name": "stderr",
     "output_type": "stream",
     "text": [
      "                                                                                                            \r"
     ]
    },
    {
     "data": {
      "text/html": [
       "<video src=\"media/jupyter/IntegralConvolution@2023-05-15@15-45-23.mp4\" controls autoplay loop style=\"max-width: 100%;\"  >\n",
       "      Your browser does not support the <code>video</code> element.\n",
       "    </video>"
      ],
      "text/plain": [
       "<IPython.core.display.Video object>"
      ]
     },
     "metadata": {},
     "output_type": "display_data"
    }
   ],
   "source": [
    "%%manim -qm IntegralConvolution\n",
    "\n",
    "def signal_1(t):\n",
    "    if 1 >= t >= 0:\n",
    "        return 2\n",
    "    else:\n",
    "        return 0\n",
    "\n",
    "def signal_2(t):\n",
    "    if 2 >= t>= 0:\n",
    "        return t\n",
    "    else:\n",
    "        return 0\n",
    "\n",
    "class IntegralConvolution(Scene):\n",
    "    def construct(self):\n",
    "        \n",
    "        axes1 = Axes(\n",
    "            x_range=[-5, 5, 1],\n",
    "            y_range=[0, 2, 1],\n",
    "            x_length=10,\n",
    "            y_length=1,\n",
    "            axis_config={\n",
    "                \"color\": WHITE,\n",
    "                \"stroke_width\": 2,\n",
    "                \"include_tip\": False,\n",
    "            },\n",
    "            x_axis_config={\n",
    "                \"numbers_to_include\": np.arange(-5, 6)\n",
    "            },\n",
    "            y_axis_config={\n",
    "                \"numbers_to_include\": np.arange(0, 2, 1),\n",
    "            },\n",
    "        ).move_to(3.1*UP)\n",
    "        self.play(Create(axes1))\n",
    "        \n",
    "        \n",
    "        line_1 = axes1.plot(lambda x: signal_1(x), color=BLUE, \n",
    "                            x_range=[-5,5, 0.01], use_smoothing=False)\n",
    "        tex1 = MathTex('x(\\\\tau)').move_to((-3.7,3.7,0))\n",
    "        self.play(Create(line_1), Create(tex1))\n",
    "        \n",
    "        axes2 = Axes(\n",
    "            x_range=[-5, 5, 1],\n",
    "            y_range=[0, 2, 1],\n",
    "            x_length=10,\n",
    "            y_length=1,\n",
    "            axis_config={\n",
    "                \"color\": WHITE,\n",
    "                \"stroke_width\": 2,\n",
    "                \"include_tip\": False,\n",
    "            },\n",
    "            x_axis_config={\n",
    "                \"numbers_to_include\": np.arange(-5, 6)\n",
    "            },\n",
    "            y_axis_config={\n",
    "                \"numbers_to_include\": np.arange(0, 2, 1),\n",
    "            },\n",
    "        ).move_to(1.4*UP)\n",
    "        self.play(Create(axes2))\n",
    "        line_2 = axes2.plot(lambda x: signal_2(x), color=RED, \n",
    "                            x_range=[-5, 5, 0.01], use_smoothing=False)\n",
    "        tex2 = MathTex('h(\\\\tau)').move_to((-3.7,1.7,0))\n",
    "        self.play(Create(line_2), Create(tex2))\n",
    "        line_3 = axes2.plot(lambda x: signal_2(-x), color=RED, \n",
    "                            x_range=[-5, 5, 0.01], use_smoothing=False)\n",
    "        tex3 = MathTex('h(\\\\tau)').move_to((-3.7,1.7,0))\n",
    "        self.play(ReplacementTransform(line_2,line_3), \n",
    "                  ReplacementTransform(tex2, tex3))        \n",
    "        axes3 = Axes(     \n",
    "            x_range=[-5, 5, 1],\n",
    "            y_range=[0, 2, 2],\n",
    "            x_length=10,\n",
    "            y_length=1,\n",
    "            axis_config={\n",
    "                \"color\": WHITE,\n",
    "                \"stroke_width\": 2,\n",
    "                \"include_tip\": False,\n",
    "            },\n",
    "            x_axis_config={\n",
    "                \"numbers_to_include\": np.arange(-5, 6)\n",
    "            },\n",
    "            y_axis_config={\n",
    "                \"numbers_to_include\": np.arange(0, 2, 1),\n",
    "            },\n",
    "        ).move_to(0.5*DOWN)\n",
    "        self.play(Create(axes3))\n",
    "        \n",
    "        axes4 = Axes(\n",
    "            x_range=[-5, 5, 1],\n",
    "            y_range=[0, 2, 1],\n",
    "            x_length=10,\n",
    "            y_length=1,\n",
    "            axis_config={\n",
    "                \"color\": WHITE,\n",
    "                \"stroke_width\": 2,\n",
    "                \"include_tip\": False,\n",
    "            },\n",
    "            x_axis_config={\n",
    "                \"numbers_to_include\": np.arange(-5, 6)\n",
    "            },\n",
    "            y_axis_config={\n",
    "                \"numbers_to_include\": np.arange(0, 2, 1),\n",
    "            },\n",
    "        ).move_to(2.4*DOWN)\n",
    "        self.play(Create(axes4))\n",
    "        \n",
    "        dx = 0.01\n",
    "        x = np.arange(-5,5, dx)\n",
    "        sig1 = np.zeros_like(x)\n",
    "        sig2 = np.zeros_like(x)\n",
    "        line_4 = axes3.plot_line_graph(x, sig1*sig2, \n",
    "                                       add_vertex_dots=False, \n",
    "                                       line_color=GREEN)\n",
    "        \n",
    "        tex4 = MathTex('x(\\\\tau)h(t-\\\\tau)').move_to((-3.7,-0.3,0))\n",
    "        tex5 = MathTex('\\int_{-\\infty}^\\infty x(\\\\tau)h(t-\\\\tau)\\,d\\\\tau').move_to((-3.7,-2.3,0))\n",
    "        tex6 = MathTex('h(t-\\\\tau)').move_to((-3.7,1.7,0))\n",
    "        \n",
    "      \n",
    "        # area = Polygon([-5,0,0], color=GREEN)\n",
    "        self.play(Create(line_4), Create(tex4), \n",
    "                  Create(tex5), ReplacementTransform(tex3, tex6),\n",
    "                  )\n",
    "        sigconv = []\n",
    "        \n",
    "        \n",
    "        \n",
    "        for t in np.arange(-5, 5, 0.1):\n",
    "            \n",
    "            \n",
    "           \n",
    "            for i in range(len(x)):\n",
    "                sig1[i] = signal_1(x[i])\n",
    "                sig2[i] = signal_2(t-x[i])\n",
    "            conv = np.sum(dx*(sig1*sig2))\n",
    "            sigconv.append(conv)\n",
    "            line_5 = axes3.plot_line_graph(x, sig1*sig2, \n",
    "                                           add_vertex_dots=False, \n",
    "                                           line_color=GREEN)\n",
    "            listpoints_area = [[-5,0,0]]\n",
    "            for j in range(len(sig1)):\n",
    "                listpoints_area.append([j*dx-5, sig1[j]*sig2[j], 0])\n",
    "            listpoints_area.append([5, 0,0])\n",
    "            \n",
    "            #area1 = Polygon(*listpoints_area, color=GREEN)\n",
    "            \n",
    "            line_6 = axes4.plot_line_graph(x[:10*len(sigconv):10], \n",
    "                                           np.array(sigconv), \n",
    "                                           add_vertex_dots=False, \n",
    "                                           line_color=GOLD)\n",
    "            self.play(line_3.animate.move_to(axes2.c2p(*(t, 1,0))),\n",
    "                      Transform(line_4, line_5),\n",
    "                      Create(line_6),\n",
    "                      run_time=0.3)\n",
    "            \n",
    "          \n",
    "            \n",
    "        self.wait(5)"
   ]
  },
  {
   "cell_type": "markdown",
   "id": "831aa472-4690-4008-b3f2-3f94a1cf67bb",
   "metadata": {},
   "source": [
    "\n",
    "---\n",
    "\n",
    "#### Resumo dos passos\n",
    "\n",
    "1 - substituir $t$ por $\\tau$ e fazer o gráfico de $x(\\tau)$ e $h(-\\tau)$.\n",
    "\n",
    "\n",
    "2 - Deslocar $h[-\\tau]$ para a direita em algumas unidades de tempo para gerar $h(t-\\tau)$ até um ponto em que $h(t-\\tau)$ não se sobreponha a $x(\\tau)$. Multiplique os dois sinais e calcule a integral (área) do sinal resultante para encontrar o valor de $y(t)$. \n",
    "\n",
    "3 - Continue deslocando $h(-\\tau)$ para a direita, multiplicando o sinal $x(t)$ com a resposta ao impulso deslocada e calculando a sua integral  para encontrar os valores de $y(t)$. Continue fazendo isso até não ter mais sobreposição entre os sinais."
   ]
  },
  {
   "cell_type": "markdown",
   "id": "ca53782f",
   "metadata": {},
   "source": [
    "### Pelo cálculo da integral\n",
    "\n",
    "Muitas vezes, é mais fácil calcular a integral de convolução diretamente, sem recorrer ao método gráfico. \n",
    "\n",
    "---\n",
    "\n",
    "#### Exemplo 2\n",
    "\n",
    "$$x(t) = e^{-bt}u(t)$$ \n",
    "\n",
    "e\n",
    "\n",
    "$$h(t) = e^{-at}u(t)$$\n",
    "\n",
    "A integral de convolução entre esses dois sinais é:\n",
    "\n",
    "$$x(t)*h(t) = \\int_{-\\infty}^\\infty e^{-b\\tau}u(\\tau)e^{-a(t-\\tau)}u(t-\\tau)\\,d\\tau=\\int_{0}^t e^{-b\\tau}e^{-a(t-\\tau)}\\,d\\tau = e^{at}\\int_{0}^t e^{-b\\tau}e^{a\\tau)}\\,d\\tau $$\n",
    "\n",
    "$$x(t)*h(t) = e^{at}\\int_{0}^t e^{(a-b)\\tau}\\,d\\tau = \\left. e^{at}\\left( \\frac{e^{(a-b)\\tau}}{a-b}\\right)\\right|_{\\tau=0}^t\\frac{e^{-bt}-e^{-at}}{a-b}$$\n",
    "\n",
    "Para $a=2$ e $b=5$, o gráfico dessa convolução é:"
   ]
  },
  {
   "cell_type": "code",
   "execution_count": 10,
   "id": "9ab05fbe",
   "metadata": {},
   "outputs": [
    {
     "data": {
      "image/png": "[encoded data removed]",
      "text/plain": [
       "<Figure size 640x480 with 1 Axes>"
      ]
     },
     "metadata": {},
     "output_type": "display_data"
    },
    {
     "data": {
      "text/plain": [
       "<sympy.plotting.plot.Plot at 0x7f79f7c088b0>"
      ]
     },
     "execution_count": 10,
     "metadata": {},
     "output_type": "execute_result"
    }
   ],
   "source": [
    "t = sym.symbols('t')\n",
    "a = 2\n",
    "b = 5\n",
    "y = (sym.exp(-b*t) - sym.exp(-a*t))/(a-b)\n",
    "sym.plot(y, (t, 0, 6))"
   ]
  },
  {
   "cell_type": "markdown",
   "id": "d197a7b4",
   "metadata": {},
   "source": [
    "É claro que poderíamos ter feito essa convolução com o método gráfico também."
   ]
  },
  {
   "cell_type": "code",
   "execution_count": 5,
   "id": "4e40e3ac",
   "metadata": {
    "tags": []
   },
   "outputs": [
    {
     "name": "stderr",
     "output_type": "stream",
     "text": [
      "                                                                                \r"
     ]
    },
    {
     "data": {
      "text/html": [
       "<video src=\"media/jupyter/IntegralConvolution1@2023-06-22@10-41-42.mp4\" controls autoplay loop style=\"max-width: 100%;\"  >\n",
       "      Your browser does not support the <code>video</code> element.\n",
       "    </video>"
      ],
      "text/plain": [
       "<IPython.core.display.Video object>"
      ]
     },
     "metadata": {},
     "output_type": "display_data"
    }
   ],
   "source": [
    "%%manim -qm IntegralConvolution1\n",
    "\n",
    "def signal_1(t):\n",
    "    if t >= 0:\n",
    "        return np.exp(-2*t)\n",
    "    else:\n",
    "        return 0\n",
    "\n",
    "def signal_2(t):\n",
    "    if t>= 0:\n",
    "        return np.exp(-5*t)\n",
    "    else:\n",
    "        return 0\n",
    "\n",
    "class IntegralConvolution1(Scene):\n",
    "    def construct(self):\n",
    "        \n",
    "        axes1 = Axes(\n",
    "            x_range=[-5, 5, 1],\n",
    "            y_range=[0, 2, 1],\n",
    "            x_length=10,\n",
    "            y_length=1,\n",
    "            axis_config={\n",
    "                \"color\": WHITE,\n",
    "                \"stroke_width\": 2,\n",
    "                \"include_tip\": False,\n",
    "            },\n",
    "            x_axis_config={\n",
    "                \"numbers_to_include\": np.arange(-5, 6)\n",
    "            },\n",
    "            y_axis_config={\n",
    "                \"numbers_to_include\": np.arange(0, 2, 1),\n",
    "            },\n",
    "        ).move_to(3.1*UP)\n",
    "        self.play(Create(axes1))\n",
    "        \n",
    "        \n",
    "        line_1 = axes1.plot(lambda x: signal_1(x), color=BLUE, \n",
    "                            x_range=[-5,5, 0.01], use_smoothing=False)\n",
    "        tex1 = MathTex('x(\\\\tau)').move_to((-3.7,3.7,0))\n",
    "        self.play(Create(line_1), Create(tex1))\n",
    "        \n",
    "        axes2 = Axes(\n",
    "            x_range=[-5, 5, 1],\n",
    "            y_range=[0, 2, 1],\n",
    "            x_length=10,\n",
    "            y_length=1,\n",
    "            axis_config={\n",
    "                \"color\": WHITE,\n",
    "                \"stroke_width\": 2,\n",
    "                \"include_tip\": False,\n",
    "            },\n",
    "            x_axis_config={\n",
    "                \"numbers_to_include\": np.arange(-5, 6)\n",
    "            },\n",
    "            y_axis_config={\n",
    "                \"numbers_to_include\": np.arange(0, 2, 1),\n",
    "            },\n",
    "        ).move_to(1.4*UP)\n",
    "        self.play(Create(axes2))\n",
    "        line_2 = axes2.plot(lambda x: signal_2(x), color=RED, \n",
    "                            x_range=[-5, 5, 0.01], use_smoothing=False)\n",
    "        tex2 = MathTex('h(\\\\tau)').move_to((-3.7,1.7,0))\n",
    "        self.play(Create(line_2), Create(tex2))\n",
    "        line_3 = axes2.plot(lambda x: signal_2(-x), color=RED, \n",
    "                            x_range=[-5, 5, 0.01], use_smoothing=False)\n",
    "        tex3 = MathTex('h(\\\\tau)').move_to((-3.7,1.7,0))\n",
    "        self.play(ReplacementTransform(line_2,line_3), \n",
    "                  ReplacementTransform(tex2, tex3))        \n",
    "        axes3 = Axes(     \n",
    "            x_range=[-5, 5, 1],\n",
    "            y_range=[0, 2, 2],\n",
    "            x_length=10,\n",
    "            y_length=1,\n",
    "            axis_config={\n",
    "                \"color\": WHITE,\n",
    "                \"stroke_width\": 2,\n",
    "                \"include_tip\": False,\n",
    "            },\n",
    "            x_axis_config={\n",
    "                \"numbers_to_include\": np.arange(-5, 6)\n",
    "            },\n",
    "            y_axis_config={\n",
    "                \"numbers_to_include\": np.arange(0, 2, 1),\n",
    "            },\n",
    "        ).move_to(0.5*DOWN)\n",
    "        self.play(Create(axes3))\n",
    "        \n",
    "        axes4 = Axes(\n",
    "            x_range=[-5, 5, 1],\n",
    "            y_range=[0, 0.2, 1],\n",
    "            x_length=10,\n",
    "            y_length=1,\n",
    "            axis_config={\n",
    "                \"color\": WHITE,\n",
    "                \"stroke_width\": 2,\n",
    "                \"include_tip\": False,\n",
    "            },\n",
    "            x_axis_config={\n",
    "                \"numbers_to_include\": np.arange(-5, 6)\n",
    "            },\n",
    "            y_axis_config={\n",
    "                \"numbers_to_include\": np.arange(0, .3, 0.1),\n",
    "            },\n",
    "        ).move_to(2.4*DOWN)\n",
    "        self.play(Create(axes4))\n",
    "        \n",
    "        dx = 0.01\n",
    "        x = np.arange(-5,5, dx)\n",
    "        sig1 = np.zeros_like(x)\n",
    "        sig2 = np.zeros_like(x)\n",
    "        line_4 = axes3.plot_line_graph(x, sig1*sig2, \n",
    "                                       add_vertex_dots=False, \n",
    "                                       line_color=GREEN)\n",
    "        \n",
    "        tex4 = MathTex('x(\\\\tau)h(t-\\\\tau)').move_to((-3.7,-0.3,0))\n",
    "        tex5 = MathTex('\\int_{-\\infty}^\\infty x(\\\\tau)h(t-\\\\tau)\\,d\\\\tau').move_to((-3.7,-2.3,0))\n",
    "        tex6 = MathTex('h(t-\\\\tau)').move_to((-3.7,1.7,0))\n",
    "        \n",
    "      \n",
    "        # area = Polygon([-5,0,0], color=GREEN)\n",
    "        self.play(Create(line_4), Create(tex4), \n",
    "                  Create(tex5), ReplacementTransform(tex3, tex6),\n",
    "                  )\n",
    "        sigconv = []\n",
    "        \n",
    "        \n",
    "        \n",
    "        for t in np.arange(-5, 5, 0.1):           \n",
    "           \n",
    "            for i in range(len(x)):\n",
    "                sig1[i] = signal_1(x[i])\n",
    "                sig2[i] = signal_2(t-x[i])\n",
    "            conv = np.sum(dx*(sig1*sig2))\n",
    "            sigconv.append(conv)\n",
    "            line_5 = axes3.plot_line_graph(x, sig1*sig2, \n",
    "                                           add_vertex_dots=False, \n",
    "                                           line_color=GREEN)\n",
    "            \n",
    "            \n",
    "            #area1 = Polygon(*listpoints_area, color=GREEN)\n",
    "            \n",
    "            line_6 = axes4.plot_line_graph(x[:10*len(sigconv):10], \n",
    "                                           np.array(sigconv), \n",
    "                                           add_vertex_dots=False, \n",
    "                                           line_color=GOLD)\n",
    "            self.play(line_3.animate.move_to(axes2.c2p(*(t, 0.5,0))),\n",
    "                      Transform(line_4, line_5),\n",
    "                      Create(line_6),\n",
    "                      run_time=0.3)\n",
    "            \n",
    "          \n",
    "            \n",
    "        self.wait(5)"
   ]
  },
  {
   "cell_type": "markdown",
   "id": "5d271439-fa05-41d9-b2f8-f4f1e0314e92",
   "metadata": {},
   "source": [
    "---\n",
    "\n",
    "#### Exemplo 3\n",
    "\n",
    "Vamos considerar um sistema com a seguinte resposta ao impulso:\n",
    "\n",
    "$h(t) = e^{-3t}u(t)$\n",
    "\n",
    "Se esse sistema tiver como entrada:\n",
    "\n",
    "$x(t) = u(t)$\n",
    "\n",
    "Então, a saída devido a essa entrada é:\n",
    "\n",
    "$y(t) = \\int_{-\\infty}^\\infty u(\\tau)e^{-3(t-\\tau)}u(t-\\tau)\\,d\\tau = \\int_{0}^t e^{-3(t-\\tau)}\\,d\\tau = e^{-3t}\\int_{0}^t e^{3\\tau}\\,d\\tau = \\frac{e^{-3t}}{3}\\left.e^{3\\tau}\\right|_{\\tau=0}^t u(t) = \\frac{e^{-3t}}{3}(e^{3t}-1) = \\frac{1-e^{-3t}}{3}u(t)$\n",
    "\n"
   ]
  },
  {
   "cell_type": "code",
   "execution_count": 7,
   "id": "f7e0520e-212a-42ad-bca5-6769461f12b2",
   "metadata": {},
   "outputs": [
    {
     "data": {
      "image/png": "[encoded data removed]",
      "text/plain": [
       "<Figure size 640x480 with 1 Axes>"
      ]
     },
     "metadata": {},
     "output_type": "display_data"
    }
   ],
   "source": [
    "t = sym.symbols('t')\n",
    "y = (1-sym.exp(-3*t))/3*sym.Heaviside(t)\n",
    "sym.plot(y, (t, -1, 6));"
   ]
  },
  {
   "cell_type": "markdown",
   "id": "74a1dcd5-bd0e-4a4a-9870-9619c96164d3",
   "metadata": {},
   "source": [
    "----"
   ]
  },
  {
   "cell_type": "markdown",
   "id": "df444225-a9c7-4e2c-83a6-7cd97ced1641",
   "metadata": {},
   "source": [
    "## Caracterização de um SLIT pela resposta ao impulso\n",
    "\n",
    "A principal consequência da integral de convolução é que conseguimos caracterizar completamente um sistema linear e invariante no tempo de contínuo pela sua resposta ao impulso. Perceba que não é necessário conhecer a equação de diferenças nem o diagrama de blocos do sistema se tivermos a resposta ao impulso. Portanto, **a resposta ao impulso caracteriza completamente o comportamento de um sistema linear e invariante no tempo**.\n",
    "\n",
    "Por isso, é bastante comum no diagrama de blocos representar o sistema pela sua respsota ao impulso.\n",
    "\n",
    "\n",
    "<img src=Imagens/impulsoconvcont.png width=\"500\">"
   ]
  },
  {
   "cell_type": "markdown",
   "id": "db531caf-f544-4716-80b2-91f5f8b4bb63",
   "metadata": {
    "jp-MarkdownHeadingCollapsed": true,
    "tags": []
   },
   "source": [
    "## Propriedades da convolução\n",
    "\n",
    "### Comutativa\n",
    "\n",
    "Uma das propriedades mais importantes, principalmente do ponto de vista prático, já que pode facilitar a computação da conolução.\n",
    "\n",
    "> $x(t)*h(t) = h(t)*x(t)$\n",
    "\n",
    "**Prova**: \n",
    "\n",
    "Aqui é feita uma mudança de variável ($\\upsilon = t-\\tau$), e a prova sai facilmente. \n",
    "\n",
    "$$ x(t)*h(t) =  \\int_{-\\infty}^\\infty x(\\tau)h(t-\\tau)\\,d\\tau = \\int_{-\\infty}^\\infty x(t-\\upsilon)h(\\upsilon)\\,d\\upsilon = h(t)*x(t)$$\n",
    "\n",
    "\n",
    "### Distributiva\n",
    "\n",
    "> $x(t)*h_1(t)+x(t)*h_2(t) = x(t)*(h_1(t)+ h_2(t))$\n",
    "\n",
    "A prova dessa propriedade fica para o Exercício 1.  \n",
    "\n",
    "Com esta propriedade, podemos interpretar dois sistemas ligados em paralelo, recebendo a mesma entrada, como sendo apenas um sistema que tem a resposta ao impulso igual a soma das respostas ao impulso dos dois sistemas ligados em paraleo.\n",
    "\n",
    "<img src=Imagens/distributivaconvcont.png width=\"600\">\n",
    "\n",
    "\n",
    "Uma outra consequência dessa propriedade é que podemos dividir a resposta ao impulso de um sistema em várias partes se isso facilitar o cálculo da somatória de convolução.\n",
    "\n",
    "### Associativa\n",
    "\n",
    "> $x(t)*(h_1(t)*h_2(t)) = (x(t)*h_1(t))*h_2(t)$\n",
    "\n",
    "A prova dessa propriedade fica para o Exercício 2. \n",
    "\n",
    "A principal consequência dessa propriedade é que se tivermos dois sistemas em série, podemos considerá-los como um sistema com a resposta ao impulso sendo a convolução das respostas ao impulso dos dois sistemas.\n",
    "\n",
    "<img src=Imagens/associativaconvcont.png width=\"500\">\n"
   ]
  },
  {
   "cell_type": "markdown",
   "id": "cfbb8de3-484c-4fe5-a0c6-e25fda84a999",
   "metadata": {},
   "source": [
    "## Exercícios"
   ]
  },
  {
   "cell_type": "markdown",
   "id": "375a538f-2897-4e22-951c-d98b8531f726",
   "metadata": {},
   "source": [
    "**1)** Prove a propriedade distributiva da integral de convolução."
   ]
  },
  {
   "cell_type": "markdown",
   "id": "4ce8f6a4-a4b2-4c9d-b034-479c1bf82a66",
   "metadata": {},
   "source": [
    "**2)** Prove a propriedade associativa da integral de convolução"
   ]
  },
  {
   "cell_type": "markdown",
   "id": "e46c7139-1343-4a03-b792-3c961b01c5a9",
   "metadata": {},
   "source": [
    "**3)** Seja o sinal $h(t)$:\n",
    "\n",
    "$$h(t) = e^{3t}u(-t+1) + e^{-3t}u(t-3)$$\n",
    "\n",
    "Determine os valores de $A$ e $B$ de forma que:\n",
    "\n",
    "$$h(t-\\tau) = \\left\\{\\begin{array}{cc}e^{-3(t-\\tau)}&,\\tau<A\\\\0&,A\\leq\\tau<B \\\\e^{3(t-\\tau)}&,\\tau\\geq B \\end{array} \\right.$$"
   ]
  },
  {
   "cell_type": "markdown",
   "id": "9f1f1ebc-2a4c-4e47-814b-6c21b089a398",
   "metadata": {},
   "source": [
    "**4)** Determine:\n",
    "\n",
    "a) $u(t)*u(t)$\n",
    "\n",
    "b) $e^{-3t}u(t)*u(t)$\n",
    "\n",
    "c) $tu(t)*u(t)$\n",
    "\n",
    "d) $\\mathrm{sen}(t)u(t)*u(t)$\n",
    "\n",
    "e) $\\cos(t)u(t)*u(t)$"
   ]
  },
  {
   "cell_type": "markdown",
   "id": "52df0ca4-df52-4295-b556-a9548dbf09b1",
   "metadata": {},
   "source": [
    "**5)** Determine a resposta de um sistema linear e invariante no tempo (estado nulo) às  entradas abaixo, considerando que esse sistema tem a seguinte resposta ao impulso:\n",
    "\n",
    "$h(t) = e^{-3t}u(t)$\n",
    "\n",
    "a) $x_1(t) = u(t)$\n",
    "\n",
    "b) $x_2(t) = e^{-2t}u(t)$\n",
    "\n",
    "c) $x_3(t) = \\cos(2t)u(t)$"
   ]
  },
  {
   "cell_type": "markdown",
   "id": "dcaf6126-36fd-4f2d-8ff2-3d9e56a4287f",
   "metadata": {},
   "source": [
    "**6)** Calcule a resposta do sistema que tem a resposta ao impulso $h(t)$ mostrada no gráfico abaixo quando é usada a entrada $x(t)$, também mostrada abaixo. Esse sistema é causal?"
   ]
  },
  {
   "cell_type": "code",
   "execution_count": 11,
   "id": "aafbc3c2",
   "metadata": {},
   "outputs": [
    {
     "data": {
      "image/png": "[encoded data removed]",
      "text/plain": [
       "<Figure size 640x480 with 2 Axes>"
      ]
     },
     "metadata": {},
     "output_type": "display_data"
    },
    {
     "data": {
      "text/plain": [
       "<sympy.plotting.plot.PlotGrid at 0x7f79ef7155a0>"
      ]
     },
     "execution_count": 11,
     "metadata": {},
     "output_type": "execute_result"
    }
   ],
   "source": [
    "t = sym.symbols('t')\n",
    "\n",
    "x = sym.Piecewise((1, (t >= 0)),\n",
    "                  (0, True))\n",
    "p1 = sym.plot(x, (t, -3, 3), show=False, title='$x(t)$')\n",
    "h = sym.Piecewise((t+1, (t >= -1) & (t < 0)),\n",
    "                  (0, True))\n",
    "p2 = sym.plot(h, (t, -3,3), show=False, title='$h(t)$')\n",
    "PlotGrid(1, 2, p1, p2)"
   ]
  },
  {
   "cell_type": "markdown",
   "id": "604f175e-c0be-4ce3-b286-6c8e0cbf366a",
   "metadata": {},
   "source": [
    "**7)** Considere o circuito elétrico da figura abaixo:\n",
    "\n",
    "<img src=https://upload.wikimedia.org/wikipedia/commons/thumb/e/e0/RC_Series_Filter_%28with_V%26I_Labels%29.svg/1920px-RC_Series_Filter_%28with_V%26I_Labels%29.svg.png width=\"400\">\n",
    "\n",
    "Considere que o sinal de entrada do sistema é a tensão do gerador $x(t) = V_{in}$ e o sinal de saída é a tensão no capacitor $y(t)=V_c$. Pede-se:\n",
    "\n",
    "a) A equação diferencial que descreve o comportamento desse sistema (lembre-se que $I=C\\frac{dV_c}{dt}$ e $I = \\frac{V_r}{R}$ e $V_{in}=V_R+V_C$).\n",
    "\n",
    "b) A resposta ao impulso desse sistema.\n",
    "\n",
    "c) Determine a resposta de entrada nula, e esboce seu gráfico, considerando que $V_c(0) = 1$ V.\n",
    "\n",
    "d) Encontre o sinal de saída, levando em conta a sua condição inicial, para o sinal de entrada $x(t) = u(t)$ V."
   ]
  },
  {
   "cell_type": "markdown",
   "id": "71f7d111-b25c-492e-ace3-da5959f5fed0",
   "metadata": {
    "tags": []
   },
   "source": [
    "**8)** Qual o comportamento esperado (descreva em palavras, justificando) de um sistema que tenha como resposta ao impulso as seguintes funções:\n",
    "\n",
    "a) $h_1(t) = u(t)$\n",
    "\n",
    "b) $h_2(t) = \\delta(t)$"
   ]
  },
  {
   "cell_type": "markdown",
   "id": "f9769381-7d55-422b-920e-d4d74066ec1a",
   "metadata": {},
   "source": [
    "**9)** Considerando que um sistema linear e invariante no tempo com resposta ao impulso $h(t)$ tem uma saída $y(t)$ quando é usada como entrada o sinal $x(t)$. Qual é a saída do sistema quando a entrada é $x_1(t) = \\frac{dx}{dt}$?"
   ]
  },
  {
   "cell_type": "markdown",
   "id": "78442a40-a434-47d6-8c48-88a2ec319406",
   "metadata": {},
   "source": [
    "**10)** Encontre a solução de estado nulo para os sistemas descritos pelas seguintes equações diferenciais e entradas.\n",
    "\n",
    "a) $\\frac{dy}{dt} = -6y(t) + x(t)$, com $x(t)=u(t)$\n",
    "\n",
    "b) $\\frac{dy}{dt} = 4y(t)  + x(t)$, com $x(t) = e^{-3t}u(t)$\n",
    "\n",
    "c) $\\frac{d^2y}{dt^2} = -\\frac{dy}{dt} + \\frac{dx}{dt} + x(t)$, com $x(t) = 25u(t)$\n",
    "\n",
    "d) $\\frac{d^2y}{dt^2} = -4y(t) + x(t)$, com $x(t) = \\cos(2t)u(t)$\n",
    "\n",
    "e) $\\frac{d^2y}{dt^2} = -4\\frac{dy}{dt}-13y(t) + 4\\frac{dx}{dt} + 2x(t)$, com $x(t) = e^{-t}u(t)$"
   ]
  },
  {
   "cell_type": "markdown",
   "id": "974e97a2-d4c5-45b8-9afd-0093def37fb2",
   "metadata": {},
   "source": [
    "## Referências\n",
    "\n",
    "- Ulaby, FT e Yagle, AE, Signals & Systems: Theory and Applications, 2018, [ss2.eecs.umich.edu](ss2.eecs.umich.edu)\n",
    "- Oppenheim, M.  e Willsky, S., Sistemas e Sinais, 2010\n",
    "\n",
    "- Lathi, BP, Sinais e Sistemas Lineares, 2007"
   ]
  },
  {
   "cell_type": "markdown",
   "id": "ba3d83cb-44f4-466c-9c4e-72cc24b99e37",
   "metadata": {},
   "source": [
    "## Solução dos exercícios"
   ]
  },
  {
   "cell_type": "markdown",
   "id": "ad8455f2-491f-46a6-a1c0-1eb11556e4db",
   "metadata": {},
   "source": [
    "**1)** Resolvido por Juliana Soares da Silva de Oliveira\n",
    "\n",
    "Prove a propriedade distributiva da integral de convolução.\n",
    "\n",
    "Partindo de:\n",
    "\n",
    "$x(t)*h_1(t)+x(t)*h_2(t) = x(t)*(h_1(t)+ h_2(t))$\n",
    "\n",
    "Aplicando a definição na parte esquerda da equação:\n",
    "\n",
    "$\\int_{-\\infty}^\\infty x(\\tau)h_1(t-\\tau)\\,d\\tau + \\int_{-\\infty}^\\infty x(\\tau)h_2(t-\\tau)\\,d\\tau$\n",
    "\n",
    "$\\int_{-\\infty}^\\infty (x(\\tau)h_1(t-\\tau) + x(\\tau)h_2(t-\\tau))\\,d\\tau$\n",
    "\n",
    "$\\int_{-\\infty}^\\infty x(\\tau)(h_1(t-\\tau) + h_2(t-\\tau))\\,d\\tau$\n",
    "\n",
    "vamos definir uma função $h_{3}(t-\\tau) = h_1(t-\\tau) + h_2(t-\\tau)$, sendo assim:\n",
    "\n",
    "$\\int_{-\\infty}^\\infty x(\\tau)h_{3}(t-\\tau)\\,d\\tau = x(t)*h_3(t) = x(t)*(h_1(t)+h_2(t))$"
   ]
  },
  {
   "cell_type": "markdown",
   "id": "18c44dcc-9450-43cc-b340-266a50d7e115",
   "metadata": {},
   "source": [
    "**4)** Resolvido por Juliana Soares da Silva de Oliveira\n",
    "\n",
    "Determine:\n",
    "\n",
    "a) $u(t)*u(t)$\n",
    "\n",
    "$y(t) = \\int_{-\\infty}^\\infty u(\\tau)u(t-\\tau)\\,d\\tau = \\int_{0}^t 1\\,d\\tau = \\tau|_{\\tau=0}^t = tu(t)$\n",
    "\n",
    "\n",
    "b) $e^{-3t}u(t)*u(t)$\n",
    "\n",
    "$y(t) = \\int_{-\\infty}^\\infty e^{-3\\tau}u(\\tau)u(t-\\tau)\\,d\\tau = \\int_{0}^t e^{-3\\tau}\\,d\\tau = \\frac{e^{-3\\tau}}{-3}|_{\\tau=0}^t = \\frac{e^{-3t}-1}{-3}u(t)$\n",
    "\n",
    "\n",
    "c) $tu(t)*u(t)$\n",
    "\n",
    "$y(t) = \\int_{-\\infty}^\\infty \\tau u(\\tau)u(t-\\tau)\\,d\\tau = \\int_{0}^t \\tau\\,d\\tau = \\frac{\\tau^2}{2}|_{\\tau=0}^t = \\frac{t^2}{2}u(t)$\n",
    "\n",
    "\n",
    "d) $\\mathrm{sen}(t)u(t)*u(t)$\n",
    "\n",
    "$y(t) = \\int_{-\\infty}^\\infty \\mathrm{sen}(\\tau)u(\\tau)u(t-\\tau)\\,d\\tau = \\int_{0}^t \\mathrm{sen}(\\tau)\\,d\\tau = -\\cos(\\tau)|_{\\tau=0}^t = (-\\cos(t)+1)u(t)$\n",
    "\n",
    "e) $\\cos(t)u(t)*u(t)$\n",
    "\n",
    "$y(t) = \\int_{-\\infty}^\\infty \\cos(\\tau)u(\\tau)u(t-\\tau)\\,d\\tau = \\int_{0}^t \\cos(\\tau)\\,d\\tau = \\mathrm{sen}(\\tau)|_{\\tau=0}^t = \\mathrm{sen}(t)u(t)$"
   ]
  },
  {
   "cell_type": "markdown",
   "id": "e65a1acc-e4c0-4a28-a019-dad49333cc4a",
   "metadata": {},
   "source": [
    "**5)** Resolvido por Juliana Soares da Silva de Oliveira\n",
    "\n",
    "Determine a resposta de um sistema linear e invariante no tempo (estado nulo) às  entradas abaixo, considerando que esse sistema tem a seguinte resposta ao impulso:\n",
    "\n",
    "$h(t) = e^{-3t}u(t)$\n",
    "\n",
    "a) $x_1(t) = u(t)$\n",
    "\n",
    "$y(t) = \\int_{-\\infty}^\\infty u(\\tau)e^{-3(t-\\tau)}u(t-\\tau)\\,d\\tau = \\int_{0}^t e^{-3(t-\\tau)}\\,d\\tau = e^{-3t}\\int_{0}^t e^{3\\tau}\\,d\\tau = \\frac{e^{-3t}}{3}\\left.e^{3\\tau}\\right|_{\\tau=0}^t u(t) = \\frac{e^{-3t}}{3}(e^{3t}-1) = \\frac{1-e^{-3t}}{3}u(t)$\n",
    "\n",
    "\n",
    "b) $x_2(t) = e^{-2t}u(t)$\n",
    "\n",
    "$y(t) = \\int_{-\\infty}^\\infty e^{-2\\tau}u(\\tau)e^{-3(t-\\tau)}u(t-\\tau)\\,d\\tau = \\int_{0}^t e^{-2\\tau}e^{-3(t-\\tau)}\\,d\\tau = e^{-3t}\\int_{0}^t e^{-2\\tau}e^{3\\tau}\\,d\\tau = e^{-3t}\\int_{0}^t e^{\\tau}\\,d\\tau = e^{-3t}e^{\\tau}|_{\\tau=0}^t u(t) = e^{-3t}(e^{t}-1) = (e^{-2t}-e^{-3t})u(t)$\n",
    "\n",
    "\n",
    "c) $x_3(t) = \\cos(2t)u(t)$\n",
    "\n",
    "$y(t) = \\int_{-\\infty}^\\infty \\cos(2\\tau)u(\\tau)e^{-3(t-\\tau)}u(t-\\tau)\\,d\\tau = \\int_{0}^t \\cos(2\\tau)e^{-3(t-\\tau)}\\,d\\tau = e^{-3t}\\int_{0}^t \\cos(2\\tau)e^{3\\tau}\\,d\\tau = e^{-3t}\\int_{0}^t \\frac{(e)^{j2\\tau}+(e)^{-j2\\tau}}{2}e^{3\\tau}\\,d\\tau = e^{-3t}\\int_{0}^t \\frac{(e)^{\\tau(3+j2)}+(e)^{\\tau(3-j2)}}{2}\\,d\\tau = \\frac{e^{-3t}}{2}(\\int_{0}^t (e)^{\\tau(3+j2)}\\,d\\tau + \\int_{0}^t (e)^{\\tau(3-j2)}\\,d\\tau) = $\n",
    "\n",
    "$y(t)=\\frac{e^{-3t}}{2}(\\frac{e^{\\tau(3+j2)}}{3+j2}+\\frac{e^{\\tau(3-j2)}}{3-j2})|_{\\tau=0}^t = \\frac{e^{-3t}}{2}(\\frac{e^{(3+j2)t}-1}{3+j2}+\\frac{e^{(3-j2)t}-1}{3-j2})u(t) = \\frac{1}{2}(\\frac{e^{(j2)t}-e^{-3t}}{3+j2}+\\frac{e^{(-j2)t}-e^{-3t}}{3-j2})u(t)=\\frac{1}{2}(\\frac{e^{(j2)t}-e^{-3t}}{\\sqrt{13}e^{j\\arctan(\\frac{2}{3})}}+\\frac{e^{(-j2)t}-e^{-3t}}{\\sqrt{13}e^{-j\\arctan(\\frac{2}{3})}})u(t)$\n",
    "\n",
    "$y(t) = \\frac{\\sqrt{13}}{13}\\cos(2t+\\arctan(\\frac{2}{3}))-\\frac{\\sqrt{13}e^{-3t}}{13}\\cos(\\arctan(\\frac{2}{3})u(t)$"
   ]
  },
  {
   "cell_type": "markdown",
   "id": "cd81bf49-aadd-45ea-b851-0b6cac901993",
   "metadata": {},
   "source": [
    "**9)** Resolvido por Catherine\n",
    "\n",
    "A saída do sistema quando a entrada é $x_1(t) = \\frac{dx}{dt}$ é dada pela seguinte expressão:\n",
    "\n",
    "\n",
    "$y_1(t) = \\int_0^t h(\\tau) \\cdot \\frac{dx}{dt} d\\tau$\n",
    "\n",
    "\n",
    "Aqui, $h(t)$ é a resposta ao impulso do sistema e $y_1(t)$ é a saída do sistema quando a entrada é $x_1(t)$.\n",
    "\n",
    "Essa expressão pode ser obtida usando a definição de convolução:\n",
    "\n",
    "$y_1(t) = h(t) * x_1(t)$\n",
    "\n",
    "\n",
    "Substituindo $x_1(t) = \\frac{dx}{dt}$:\n",
    "\n",
    "\n",
    "$y_1(t) = h(t) * \\frac{dx}{dt}$\n",
    "\n",
    "\n",
    "Aplicando a definição de convolução:\n",
    "\n",
    "\n",
    "$y_1(t) = \\int_0^t h(\\tau) \\cdot \\frac{dx}{dt} d\\tau=\\frac{d\\int_0^t h(\\tau) \\cdot x d\\tau}{dt}=\\frac{dy}{dt}$\n",
    "\n",
    "\n",
    "Portanto, a saída do sistema quando a entrada é $x_1(t) = \\frac{dx}{dt}$ é a derivada de $y(t)$.\n"
   ]
  },
  {
   "cell_type": "code",
   "execution_count": null,
   "id": "5a3e88f4-0540-49ad-afb6-c49e0c59e5f8",
   "metadata": {},
   "outputs": [],
   "source": []
  }
 ],
 "metadata": {
  "kernelspec": {
   "display_name": "Python 3 (ipykernel)",
   "language": "python",
   "name": "python3"
  },
  "language_info": {
   "codemirror_mode": {
    "name": "ipython",
    "version": 3
   },
   "file_extension": ".py",
   "mimetype": "text/x-python",
   "name": "python",
   "nbconvert_exporter": "python",
   "pygments_lexer": "ipython3",
   "version": "3.10.12"
  }
 },
 "nbformat": 4,
 "nbformat_minor": 5
}
