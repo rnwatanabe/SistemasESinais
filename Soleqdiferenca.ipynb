{
 "cells": [
  {
   "cell_type": "markdown",
   "id": "3641f59d-4f6f-48dd-a3b6-632dc86d97f7",
   "metadata": {},
   "source": [
    "# Resposta de entrada nula de equações de diferenças \n",
    "\n",
    "Renato Naville Watanabe"
   ]
  },
  {
   "cell_type": "markdown",
   "id": "25fb5ab2-9508-4782-9292-fceb8aa94c7a",
   "metadata": {},
   "source": [
    "## Preparação do ambiente"
   ]
  },
  {
   "cell_type": "code",
   "execution_count": 1,
   "id": "8fea711e-acdf-4d26-9c39-eac4c7d4a9c9",
   "metadata": {
    "tags": []
   },
   "outputs": [],
   "source": [
    "import numpy as np\n",
    "import matplotlib.pyplot as plt"
   ]
  },
  {
   "cell_type": "markdown",
   "id": "cc12b484-7139-47ee-8245-0b3fbaff1b07",
   "metadata": {},
   "source": [
    "## Definição do problema"
   ]
  },
  {
   "cell_type": "markdown",
   "id": "12adaddd-34bb-4022-a043-8e8b71374fed",
   "metadata": {},
   "source": [
    "Aqui, vamos encontrar uma expressão para $y[n]$ que só dependa de $n$, dada uma equação de diferenças linear e invariante no tempo:\n",
    "\n",
    "$$y[n] + a_{1}y[n-1]+...+a_Ny[n-N] = b_Mx[n-M] +...+b_2x[n-2]+b_1x[n-1] + b_0x[n] $$"
   ]
  },
  {
   "cell_type": "markdown",
   "id": "ecd6a357-ecb2-4e4f-9ae7-7eb7166e1722",
   "metadata": {},
   "source": [
    "## Composição da solução"
   ]
  },
  {
   "cell_type": "markdown",
   "id": "f3b22713-f0e3-484a-9817-b67cb9343ad6",
   "metadata": {},
   "source": [
    "A solução desta equação é formada por duas partes:\n",
    "\n",
    "$$y[n] = y_{zi}[n] + y_{zs}[n]$$\n",
    "\n",
    "em que $y_{zi}[n]$ é a parte de $y$ devida às condições iniciais do sinal de saída (os valores de $y[n-1], y[n-2], ..., y[n-N]$ quando $n$ = 0). Para o cálculo dessa componente, considera-se que a entrada $x[n]$ é nula ($zi$ é de *zero input*, **entrada nula** em inglês). Fisicamente falando, a resposta de entrada nula é a resposta devido aos valores armazenados nos elementos de memória (os atrasos nos diagramas de blocos).\n",
    "\n",
    "A outra componente, $y_{zs}[n]$, é devido à entrada $x[n]$. Para o cálculo dessa componente consideramos que os valores de $y[n-1], y[n-2], ..., y[n-N]$ quando $n$ = 0 são todos iguais a 0 ($zs$ é de *zero state*, **estado nulo** em inglês, às vezes também chamado de **repouso**).\n",
    "\n",
    "Aqui, vamos entender como obter a reposta de entrada nula para sistemas discretos lineares e invariantes no tempo. A resposta devido à entrada será abordada em outro momento."
   ]
  },
  {
   "cell_type": "markdown",
   "id": "1fa58dc3-41ba-46ce-82a0-ab20d72400fe",
   "metadata": {},
   "source": [
    "## Resposta de entrada nula de forma recursiva"
   ]
  },
  {
   "cell_type": "markdown",
   "id": "a736a581-2892-47ba-8593-05e707a15e3e",
   "metadata": {},
   "source": [
    "A primeira maneira é obter a resposta de entrada nula de forma recursiva. Para isso simplesmente ignoramos o sinal de entrada e consideramos apenas as condições iniciais.\n",
    "\n",
    "---\n",
    "\n",
    "### Exemplo 1\n",
    "\n",
    "Vamos analisar a resposta de entrada nula da seguinte equação de diferenças:\n",
    "\n",
    "$y[n] - 0.5y[n-1] = x[n]$\n",
    "\n",
    "Com $y[0] = 1$\n",
    "\n",
    "Resolvendo de forma recursiva, chegamos no seguinte gráfico para a resposta de entrada nula ($x[n]=0$):"
   ]
  },
  {
   "cell_type": "code",
   "execution_count": 2,
   "id": "13c4ce94-891f-4ec5-b54d-10da22a85098",
   "metadata": {
    "tags": []
   },
   "outputs": [
    {
     "data": {
      "text/plain": [
       "<StemContainer object of 3 artists>"
      ]
     },
     "execution_count": 2,
     "metadata": {},
     "output_type": "execute_result"
    },
    {
     "data": {
      "image/png": "[encoded data removed]",
      "text/plain": [
       "<Figure size 400x400 with 1 Axes>"
      ]
     },
     "metadata": {},
     "output_type": "display_data"
    }
   ],
   "source": [
    "plt.figure(figsize=(4,4))\n",
    "N = 10\n",
    "y = np.ones(N)\n",
    "for n in range(1,N):\n",
    "    y[n] = 0.5*y[n-1]\n",
    "plt.stem(y)"
   ]
  },
  {
   "cell_type": "markdown",
   "id": "db4ac44a-8bfb-4b5f-8626-cb941f130d3d",
   "metadata": {},
   "source": [
    "É possível notar que podemos escrever o sinal $y_{zi}[n]$ como:\n",
    "\n",
    "$y_{zi}[n] = 0.5^nu[n]$\n",
    "\n",
    "---"
   ]
  },
  {
   "cell_type": "markdown",
   "id": "8cab1fd1-b490-4ecf-8bd0-5de5f69c9ed4",
   "metadata": {},
   "source": [
    "## Resposta de entrada nula obtida pelo polinômio característico"
   ]
  },
  {
   "cell_type": "markdown",
   "id": "0966410d-2519-414b-8d16-fdcf2bc97495",
   "metadata": {},
   "source": [
    "Agora, vamos desenvolver um método para encontrar a expressão de $y_{zi}[n]$ sem ser necessário analisar o gráfico nem obter os valores de $y_{zi}[n]$ de forma recuirsiva."
   ]
  },
  {
   "cell_type": "markdown",
   "id": "26cf641f-ddd2-44f7-8b83-57c6fc11f3f7",
   "metadata": {},
   "source": [
    "Temos que achar um sinal que satisfaça a seguinte equação:\n",
    "\n",
    "$$y_{zi}[n] + a_{1}y_{zi}[n-1]+...+a_Ny_{zi}[n-N] = 0$$\n",
    "\n",
    "Para que essa soma dê zero, o formato de $y_{zi}[n]$ tem que ser o mesmo desse sinal atrasado. Um sinal que tem esse formato é $c\\lambda^n$:\n",
    "\n",
    "$$c\\lambda^{n-M} = c\\lambda^{-M}\\lambda^{n} = d\\lambda^n$$\n",
    "\n",
    "Portanto, um candidato para a solução da equação é $c\\lambda^n$. Substituindo esse sinal na equação acima:\n",
    "\n",
    "$$c\\lambda^n + a_{1}c\\lambda^{n-1}+...+a_Nc\\lambda^{n-N} = 0$$\n",
    "\n",
    "Pondo $c$ e $\\lambda^n$ em evidência:\n",
    "\n",
    "$$c\\lambda^n\\left(1 + a_{1}\\lambda^{-1}+...+a_N\\lambda^{-N}\\right) = 0$$\n",
    "\n",
    "como $\\lambda$ é diferente de 0:\n",
    "\n",
    "$$1 + a_{1}\\lambda^{-1}+...+a_N\\lambda^{-N} = 0$$\n",
    "\n",
    "Multiplicando tudo por $\\lambda^N$:\n",
    "\n",
    "$$\\lambda^N + a_{1}\\lambda^{N-1}+...+a_N = 0$$\n",
    "\n",
    "Portanto, o valor de $\\lambda$ é a solução do polinômio formado pelos coeficientes da equação de diferenças. Esse polinômio é conhecido como **polinômio característico** da equação de diferenças.  O polinômio acima pode ser decomposto da seguinte forma (Teorema Fundamental da Álgebra):\n",
    "\n",
    "$$(\\lambda-\\lambda_1)(\\lambda-\\lambda_2)(\\lambda-\\lambda_3)...(\\lambda-\\lambda_N) = 0 $$\n",
    "\n",
    "Então, existem $N$ soluções do polinômio. Portanto, $\\lambda_i^n$ são soluções da equação de diferenças. A solução geral é uma combinação linear de todas as soluções:\n",
    "\n",
    "$$y_{zi}[n] = c_1\\lambda_1^n + c_2\\lambda_2^n + ... + c_N\\lambda_N^n $$\n",
    "\n",
    "\n",
    "A determinação dos valores de $c_i$ é feita a partir das condições iniciais ($y[0], y[-1], ... y[-N+1]$)."
   ]
  },
  {
   "cell_type": "markdown",
   "id": "4bf2980b-0380-4e5b-a08e-97d015bc0379",
   "metadata": {},
   "source": [
    "### Exemplo 2\n",
    "\n",
    "Vamos resolver o mesmo exemplo do início do texto com esse método."
   ]
  },
  {
   "cell_type": "markdown",
   "id": "a208476b-5d26-409c-abfb-3b4612d13542",
   "metadata": {},
   "source": [
    "A equação é:\n",
    " \n",
    "$y[n] - 0.5y[n-1] = x[n]$\n",
    "\n",
    "O polinômio característico da equação é:\n",
    "\n",
    "$\\lambda - 0.5 = 0$\n",
    "\n",
    "A solução da equação é:\n",
    "\n",
    "$\\lambda_1 = 0.5$\n",
    "\n",
    "Portanto, a solução de entrada nula é:\n",
    "\n",
    "$y_{zi}[n] = c0.5^n$ para $n\\geq 0$.\n",
    "\n",
    "Ou,\n",
    "\n",
    "$y_{zi}[n] = c0.5^nu[n]$\n",
    "\n",
    "Para saber o valor de $c$, usamos $y[0] = 1$:\n",
    "\n",
    "$y_{zi}[0] = c0.5^0u[0] = 1 \\rightarrow c = 1$\n",
    "\n",
    "Portanto:\n",
    "\n",
    "$y_{zi}[n] = 0.5^nu[n]$"
   ]
  },
  {
   "cell_type": "markdown",
   "id": "db2fed41-d404-4db9-b25b-9e85f00a061e",
   "metadata": {},
   "source": [
    "A vantagem desse método é que você consegue uma expressão para o sinal de saída e não apenas valores para cada instante (que é o que se obtém quando se resolve a equação de forma recursiva)."
   ]
  },
  {
   "cell_type": "markdown",
   "id": "165501ec-5d58-4fe7-a7d0-9242ee2f38cf",
   "metadata": {},
   "source": [
    "### Exemplo 3\n",
    "\n",
    "Vamos agora obter uma expressão da solução de entrada nula da seguinte equação de diferenças:\n",
    "\n",
    "$y[n] + 3y[n-1] - 4y[n-2] = 3x[n] + x[n-1]$\n",
    "\n",
    "com \n",
    "\n",
    "$y[0] = 1$ e $y[-1] =0.5$\n",
    "\n",
    "O polinômio característico é:\n",
    "\n",
    "$\\lambda^2 + 3\\lambda -4 = 0$\n",
    "\n",
    "As soluções dessa equação são $\\lambda_1 = 1$ e $\\lambda_2=-4$. Então a solução da equação de diferenças é:\n",
    "\n",
    "$y_{zi}[n] = c_1(1)^n + c_2(-4)^n$, para $n\\geq 0 $\n",
    "\n",
    "Utilizando as condições iniciais:\n",
    "\n",
    "$y_{zi}[0] = 1 = c_1 + c_2$\n",
    "\n",
    "$y_{zi}[-1] = 0.5 = c_1 + c_2(-0.25)$\n",
    "\n",
    "Então $c_1=0.6$ e $c_2=0.4$ e:\n",
    "\n",
    "$y_{zi}[n] = 0.6(1)^n + 0.4(-4)^n$, para $n\\geq 0 $"
   ]
  },
  {
   "cell_type": "markdown",
   "id": "b3d2def1-b1ed-4d84-ba69-8d26c71d1d99",
   "metadata": {},
   "source": [
    "O gráfico das 10 primeiras amostras está abaixo:"
   ]
  },
  {
   "cell_type": "code",
   "execution_count": 4,
   "id": "481dabcb-d92a-4eb2-9c2b-c6d9add0ca86",
   "metadata": {
    "tags": []
   },
   "outputs": [
    {
     "data": {
      "text/plain": [
       "array([ 1.00000e+00, -1.00000e+00,  7.00000e+00, -2.50000e+01,\n",
       "        1.03000e+02, -4.09000e+02,  1.63900e+03, -6.55300e+03,\n",
       "        2.62150e+04, -1.04857e+05])"
      ]
     },
     "execution_count": 4,
     "metadata": {},
     "output_type": "execute_result"
    },
    {
     "data": {
      "text/plain": [
       "<Figure size 300x300 with 0 Axes>"
      ]
     },
     "metadata": {},
     "output_type": "display_data"
    }
   ],
   "source": [
    "N = 10\n",
    "n = np.arange(N)\n",
    "yzi = 0.6 + 0.4*(-4)**n\n",
    "plt.figure(figsize=(3,3))\n",
    "yzi"
   ]
  },
  {
   "cell_type": "markdown",
   "id": "4ae8ade9-ca83-48ba-a088-d2376904ec24",
   "metadata": {},
   "source": [
    "Como uma forma de comparação, fazemos o gráfico calculando os valores da resposta de entrada zero de forma recursiva."
   ]
  },
  {
   "cell_type": "code",
   "execution_count": 5,
   "id": "54f5e324-5894-415f-bbca-5a0d7932c648",
   "metadata": {
    "tags": []
   },
   "outputs": [
    {
     "data": {
      "text/plain": [
       "<StemContainer object of 3 artists>"
      ]
     },
     "execution_count": 5,
     "metadata": {},
     "output_type": "execute_result"
    },
    {
     "data": {
      "image/png": "[encoded data removed]",
      "text/plain": [
       "<Figure size 300x300 with 1 Axes>"
      ]
     },
     "metadata": {},
     "output_type": "display_data"
    }
   ],
   "source": [
    "plt.figure(figsize=(3,3))\n",
    "N = 10\n",
    "y = np.ones(N)\n",
    "y[-1] = 0.5\n",
    "for n in range(1,N):\n",
    "    y[n] = -3*y[n-1] + 4*y[n-2]\n",
    "plt.stem(y)"
   ]
  },
  {
   "cell_type": "markdown",
   "id": "59ca76c6-858d-41c5-b32d-6e83aac7f827",
   "metadata": {
    "tags": []
   },
   "source": [
    "## Caso de raízes complexas\n",
    "\n",
    "No caso de raízes complexas, como a equação de diferenças tem coeficientes reais, elas sempre aparecerão em pares complexos conjugados ($\\lambda_1 = \\gamma e^{j\\omega}$ e $\\lambda_2 = \\gamma e^{-j\\omega}$).\n",
    "\n",
    "Então, a parte da solução devida a essas raízes é:\n",
    "\n",
    "$$y_{zi}[n] = c_1\\gamma^n e^{j\\omega n} + c_2\\gamma^n e^{-j\\omega n}$$\n",
    "\n",
    "Como sinal é real, $c_1$ e $c_2$ também serão complexos conjugados:\n",
    "\n",
    "$c_1 = \\frac{c}{2}e^{j\\theta}$ e $c_2 = \\frac{c}{2}e^{-j\\theta}$\n",
    "\n",
    "Então:\n",
    "\n",
    "$$y_{zi}[n] = \\frac{c}{2}e^{j\\theta}\\gamma^n e^{j\\omega n} + \\frac{c}{2}e^{-j\\theta}\\gamma^n e^{-j\\omega n} = \\frac{c}{2}\\gamma^n e^{j(\\omega n+\\theta)} + \\frac{c}{2}\\gamma^n e^{-j(\\omega n+\\theta)} = c\\gamma^n\\cos(\\omega n+\\theta)$$\n",
    "\n",
    "É importante notar que se o polinômio característico tiver mais raízes reais, elas continuam sendo tratadas da mesma maneira."
   ]
  },
  {
   "cell_type": "markdown",
   "id": "8fc44751-0128-440d-aea2-5cd3ebb993d5",
   "metadata": {},
   "source": [
    "### Exemplo 4\n",
    "\n",
    "Considere um sistema com a seguinte equação de diferenças:\n",
    "\n",
    "$$y[n] = -2y[n-1] - 2y[n-2] + x[n-1]$$\n",
    "\n",
    "com $y[0] = 0$ e $y[-1] = -1$\n",
    "\n",
    "O polinômio característico do sistema é:\n",
    "\n",
    "$\\lambda^2 + 2\\lambda + 2 = 0$\n",
    "\n",
    "As raízes do polinômio são $\\lambda_1= -1+j = \\sqrt{2}e^{j\\frac{3\\pi}{4}}$ e $\\lambda_2= -1-j = \\sqrt{2}e^{j\\frac{5\\pi}{4}} = \\sqrt{2}e^{-j\\frac{3\\pi}{4}}$.\n",
    "\n",
    "Então a solução de entrada nula  é:\n",
    "\n",
    "$$y_{zi}[n] = c_1\\sqrt{2}^ne^{j\\frac{3\\pi n}{4}} +  c_2\\sqrt{2}^ne^{-j\\frac{3\\pi n}{4}} = $$\n",
    "\n",
    "Usando as condições iniciais, temos:\n",
    "\n",
    "$$c_1 + c_2 = 0$$\n",
    "\n",
    "$$c_1\\frac{1}{\\sqrt{2}}e^{-j\\frac{3\\pi}{4}} +  c_2\\frac{1}{\\sqrt{2}}e^{j\\frac{3\\pi}{4}}=-1$$\n",
    "\n",
    "Resolvendo o sistema de equações acima chegamos a $c_1 = -j = e^{-j\\frac{\\pi}{2}}$ e $c_2 = j = e^{j\\frac{\\pi}{2}}$.\n",
    "\n",
    "Então, a resposta de entrada nula é:\n",
    "\n",
    "$y_{zi}[n] = e^{-j\\frac{\\pi}{2}}\\sqrt{2}^ne^{j\\frac{3\\pi n}{4}} +  e^{j\\frac{\\pi}{2}}\\sqrt{2}^ne^{-j\\frac{3\\pi n}{4}} = \\sqrt{2}^ne^{j\\left(\\frac{3\\pi}{4} n-\\frac{\\pi}{2}\\right)} +  \\sqrt{2}^ne^{-j\\left(\\frac{3\\pi n}{4}-\\frac{\\pi}{2}\\right)} =  2\\sqrt{2}^n\\cos\\left(\\frac{3\\pi n}{4}-\\frac{\\pi}{2}\\right)$\n",
    "\n",
    "Abaixo é mostrado o gráfico com os 10 primeiros instantes do sinal."
   ]
  },
  {
   "cell_type": "code",
   "execution_count": 26,
   "id": "49137f66-6932-411b-8899-a64ef641d86a",
   "metadata": {
    "tags": []
   },
   "outputs": [
    {
     "data": {
      "text/plain": [
       "<StemContainer object of 3 artists>"
      ]
     },
     "execution_count": 26,
     "metadata": {},
     "output_type": "execute_result"
    },
    {
     "data": {
      "image/png": "[encoded data removed]",
      "text/plain": [
       "<Figure size 300x300 with 1 Axes>"
      ]
     },
     "metadata": {},
     "output_type": "display_data"
    }
   ],
   "source": [
    "plt.figure(figsize=(3,3))\n",
    "N = 10\n",
    "n = np.arange(N)\n",
    "y = 2*np.sqrt(2)**n*np.cos(3*np.pi*n/4-np.pi/2)\n",
    "plt.stem(y)"
   ]
  },
  {
   "cell_type": "markdown",
   "id": "cc5f5ee5-eb8a-4ea6-9ed3-7c23ecdfd273",
   "metadata": {},
   "source": [
    "E a seguir o mesmo sinal, com os valores obtidos de forma recursiva. Os dois gráficos são iguais."
   ]
  },
  {
   "cell_type": "code",
   "execution_count": 27,
   "id": "05c75780-4131-4356-b6e7-480c2bc87ce8",
   "metadata": {
    "tags": []
   },
   "outputs": [
    {
     "data": {
      "text/plain": [
       "<StemContainer object of 3 artists>"
      ]
     },
     "execution_count": 27,
     "metadata": {},
     "output_type": "execute_result"
    },
    {
     "data": {
      "image/png": "[encoded data removed]",
      "text/plain": [
       "<Figure size 300x300 with 1 Axes>"
      ]
     },
     "metadata": {},
     "output_type": "display_data"
    }
   ],
   "source": [
    "plt.figure(figsize=(3,3))\n",
    "N = 10\n",
    "y = np.zeros(N)\n",
    "y[-1] = -1\n",
    "for n in range(1,N):\n",
    "    y[n] = -2*y[n-1]  -2 *y[n-2]\n",
    "plt.stem(y)"
   ]
  },
  {
   "cell_type": "markdown",
   "id": "8c13da70-d399-4980-ae62-018cdf1bf7fc",
   "metadata": {},
   "source": [
    "## Caso de raízes repetidas\n",
    "\n",
    "No caso do polinômio característico ter $r$ raízes repetidas $\\lambda_1$, as soluções correspondentes seguem a seguinte forma:\n",
    "\n",
    "$$\\lambda_1^n, n\\lambda_1^n, n^2\\lambda_1^n, ..., n^{r-1}\\lambda_1^n$$\n",
    "\n",
    "Portanto, se o polinômio característico for:\n",
    "\n",
    "$$(\\lambda-\\lambda_1)^r(\\lambda - \\lambda_{r+1})...(\\lambda-\\lambda_N) = 0$$\n",
    "\n",
    "A solução de entrada nula tem a seguinte forma:\n",
    "\n",
    "$$y_{zi}[n] = c_1\\lambda_1^n + c_2n\\lambda_1^n + c_3n^2\\lambda_1^n +... + c_rn^{r-1}\\lambda_1^{n} + c_{r+1}\\lambda_{r+1}^n + ... + c_N\\lambda_N^n$$\n"
   ]
  },
  {
   "cell_type": "markdown",
   "id": "f692e095-9694-421e-87be-e08e6cb66c8f",
   "metadata": {},
   "source": [
    "### Exemplo 5\n",
    "\n",
    "Considere um sistema com a seguinte equação de diferenças:\n",
    "\n",
    "$$y[n] = -4y[n-1] - 4y[n-2] + 3x[n]$$\n",
    "\n",
    "com $y[0] = 1$ e $y[-1] = 0$\n",
    "\n",
    "O polinômio característico é:\n",
    "\n",
    "$\\lambda^2 + 4\\lambda + 4 = 0$\n",
    "\n",
    "As raízes da equação são iguais e iguais a -2. Então, a resposta de entrada nula é:\n",
    "\n",
    "$y_{zi}[n] = c_1(-2)^n + c_2n(-2)^n$\n",
    "\n",
    "Usando as condições iniciais:\n",
    "\n",
    "$$c_1 = 1 $$\n",
    "\n",
    "$$-0.5c_1 +0.5c_2 = 0 \\rightarrow c_2 = 1 $$\n",
    "\n",
    "Então:\n",
    "\n",
    "$y_{zi}[n] = (-2)^n + n(-2)^n$"
   ]
  },
  {
   "cell_type": "markdown",
   "id": "d50e57e9-4a62-4312-83d5-612ca0c3e92c",
   "metadata": {},
   "source": [
    "### Resumo do procedimento para encontrar a solução de entrada nula de uma equação de diferenças linear e invariante no tempo\n",
    "\n",
    "- **1** Eliminar os termos referentes ao sinal de entrada\n",
    "\n",
    "- **2** Encontrar o polinômio característico da equação\n",
    "\n",
    "- **3** Encontrar as raízes $\\lambda_i$ do polinômio característico\n",
    "\n",
    "- **4** Formar o sinal de resposta nula $y_{zi}[n] = c_1\\lambda_1^n + c_2\\lambda_2^n + ... + c_N\\lambda_N^n$ \n",
    "\n",
    "Caso a raiz $\\lambda_1$ seja repetida, a saída terá a forma $y_{zi}[n] = c_1\\lambda_1^n + c_2n\\lambda_1^n + c_3n^2\\lambda_1^n +... + c_rn^{r-1}\\lambda_1^{n} + c_{r+1}\\lambda_{r+1}^n + ... + c_N\\lambda_N^n$\n",
    "\n",
    "- **5** Encontrar os valores de $c_i$ utilizando as condições iniciais.\n",
    "\n",
    "- **6** Caso entre as raízes contenham pares complexos conjugados, juntar os termos para formar cossenos.\n",
    "\n",
    "\n"
   ]
  },
  {
   "cell_type": "markdown",
   "id": "4b1ebccc-2dac-476c-8787-20176df4f158",
   "metadata": {},
   "source": [
    "## Exercícios"
   ]
  },
  {
   "cell_type": "markdown",
   "id": "d583db62-8d77-4996-9323-c71681e6eb0d",
   "metadata": {},
   "source": [
    "**1)** Encontre uma expressão dependendo apenas de $n$ para a solução de entrada nula dos sistemas com as seguintes equações de diferenças:\n",
    "\n",
    "a) $y[n] = 0.5y[n-1]$, com $y[-1] = 10$\n",
    "\n",
    "b) $y[n+1] = -2y[n]+ x[n+1]$, com $x[n]= e^{-n}u[n]$ e $y[-1] = 1$\n",
    "\n",
    "c) $y[n] - 0.6y[n-1]-0.16y[n-2]=0$, com $y[-1]= -25, y[-2]=0$\n",
    "\n",
    "d) $y[n+2] + 2y[n+1]+0.5y[n] = x[n+2]+x[n+1]+2x[n-3]$, com $x[n] = 2^nu[n], y[-1]=3, y[-2]=2$\n",
    "\n",
    "e) $y[n] = -2y[n-1]-y[n-2] + 2x[n] - x[n-1] $, com $x[n] = 3^{-n}u[n], y[-1] = 2, y[-2]=3$\n",
    "\n",
    "f) $y[n] = -2y[n-1]-2y[n-2] + 2x[n] - x[n-1] $, com $x[n] = 3^{-n}u[n], y[-1] = 2, y[-2]=3$"
   ]
  },
  {
   "cell_type": "markdown",
   "id": "abc0e3b2-1162-43f1-8899-161b18720cff",
   "metadata": {},
   "source": [
    "**2)** A sequência de Fibonacci (0, 1, 1, 2, 3, 5, 8, 13 ...) é uma sequência gerada pela soma dos dois termos anteriores.\n",
    "\n",
    "a) Encontre uma equação de diferenças para sequência de Fibonacci, considerando que $y[0] = 0$ e $y[1] = 1$. \n",
    "\n",
    "b) Encontre uma expressão que dependa apenas de $n$ para o enésimo numero da sequência de Fibonacci."
   ]
  },
  {
   "cell_type": "markdown",
   "id": "9b57f5ec-5d99-4ab7-b691-9549ea77e408",
   "metadata": {},
   "source": [
    "**3)** Encontre uma expressão dependendo apenas de $n$ para a solução de entrada nula dos sistemas com as seguintes equações de diferenças:\n",
    "\n",
    "a) $y[n] - 5y[n-1]+6y[n-2] = 4x[n]$, com $y[-1]=1$,  $y[2]=-1$ com $x[n]=u[n]$\n",
    "\n",
    "b) $y[n] = -2y[n-1] + 4x[n]+5x[n-1]$, , com $y[-1]=1$,  $y[2]=1$ com $x[n]=(0.5)^nu[n]$\n",
    "\n",
    "c) $y[n]=2\\cos\\left(\\frac{\\pi}{6}\\right)y[n-1] - y[n-2] = x[n]$, com $y[-1] = \\cos\\left(\\frac{\\pi}{6}\\right)$, $y[-2] = \\cos\\left(\\frac{\\pi}{3}\\right)$ e $x[n]=u[n]$\n",
    "\n",
    "d) $y[n]=2\\cos\\left(\\Omega_0\\right)y[n-1] - y[n-2] = x[n]$, com $y[-1] = \\cos\\left(\\Omega_0\\right)$, $y[-2] = \\cos\\left(2\\Omega_0\\right)$ e $x[n]=u[n]$\n",
    "\n"
   ]
  },
  {
   "cell_type": "markdown",
   "id": "bdd7b838-9f3c-4c21-8094-cc1e946705e3",
   "metadata": {},
   "source": [
    "## Referências\n",
    "\n",
    "- Lathi, BP, Sinais e Sistemas Lineares, 2007\n",
    "\n"
   ]
  },
  {
   "cell_type": "markdown",
   "id": "3e0f2007-86c4-433d-aa79-7740338e2f48",
   "metadata": {},
   "source": [
    "## Solução dos exercícios"
   ]
  },
  {
   "cell_type": "markdown",
   "id": "35e0dbb1-46f7-416e-9ce4-36036b2c8e15",
   "metadata": {},
   "source": [
    "**1)** Resolvido por Carolina Kafka Neves\n",
    "\n",
    "\n",
    "a) $y[n] = 0.5y[n-1]$, com $y[-1] = 10$\n",
    "\n",
    "Pela equação de diferenças, temos que o polinômio característico é:\n",
    "\n",
    "$\\lambda-0.5=0$\n",
    "\n",
    "$\\lambda= 0.5$\n",
    "\n",
    "Então, a resposta de entrada nula é:\n",
    "\n",
    "$y_{zi}[n]= c_1.(0.5)^{n}$\n",
    "\n",
    "Pela condição inicial, temos que $c_1$ é:\n",
    "\n",
    "$10= c_1+ (0.5)^{-1}$\n",
    "\n",
    "$c_1= 5$\n",
    "\n",
    "Portanto:\n",
    "\n",
    "$y_{zi}[n]= 5.(0.5)^{n}u[n]$\n",
    "\n",
    "\n",
    "---\n",
    "\n",
    "b) $y[n+1] = -2y[n]+ x[n+1]$, com $x[n]= e^{-n}u[n]$ e $y[-1] = 1$\n",
    "\n",
    "O polinômio característico é:\n",
    "\n",
    "$\\lambda +2 =0$\n",
    "\n",
    "$\\lambda= -2$\n",
    "\n",
    "Então, a resposta de entrada nula é:\n",
    "\n",
    "$y_{zi}[n]= c_1.(-2)^{n}$\n",
    "\n",
    "Pela condição inicial, temos que:\n",
    "\n",
    "$1= c_1.(-2)^{-1}$\n",
    "\n",
    "$c_1= -2$\n",
    "\n",
    "Portanto:\n",
    "\n",
    "$y_{zi}[n]= (-2).(-2)^{n}u[n]$\n",
    "\n",
    "$y_{zi}[n]= (-2)^{n+1}u[n]$\n",
    "\n",
    "---\n",
    "\n",
    "c) $y[n] - 0.6y[n-1]-0.16y[n-2]=0$, com $y[-1]= -25, y[-2]=0$\n",
    "\n",
    "O polinômio característico da equação de diferenças é:\n",
    "\n",
    "$\\lambda^{2}- 0.6\\lambda - 0.16= 0$\n",
    "\n",
    "As raízes são $\\lambda_1= -0.2$ e $\\lambda_2= 0.8$\n",
    "\n",
    "Logo,\n",
    "\n",
    "$y_{zi}[n]= c_1.(-0.2)^{n}+c_2.(0.8)^{n}$\n",
    "\n",
    "Pelas condições inicias, temos que:\n",
    "\n",
    "$c_1= 1$ e $c_2= -16$\n",
    "\n",
    "Portanto:\n",
    "\n",
    "$y_{zi}[n]= ((-0.2)^{n}-16(0.8)^{n})u[n]$\n",
    "\n",
    "---\n",
    "\n",
    "d) $y[n+2] + 2y[n+1]+0.5y[n] = x[n+2]+x[n+1]+2x[n-3]$, com $x[n] = 2^nu[n], y[-1]=3, y[-2]=2$\n",
    "\n",
    "O polinômio característico da equação de diferenças é:\n",
    "\n",
    "$0.5\\lambda^{2}+2\\lambda+1=0$\n",
    "\n",
    "As raízes dessa equação são $\\lambda_1=-3.41$ e $\\lambda_2=-0.59$\n",
    "\n",
    "Logo,\n",
    "\n",
    "$y_{zi}[n]= c_1.(-3.41)^{n}+c_2.(-0.59)^{n}$\n",
    "\n",
    "Pelas condições iniciais, temos que as constantes são aproximadamente $c_1= -5.29$ e $c_2= 0.85$\n",
    "\n",
    "Portanto,\n",
    "\n",
    "$y_{zi}[n]= [(-5.29)(-3.41)^{n}+0.85(-0.59)^{n}]u[n]$\n",
    "\n",
    "---\n",
    "\n",
    "\n",
    "\n",
    "e) $y[n] = -2y[n-1]-y[n-2] + 2x[n] - x[n-1] $, com $x[n] = 3^{-n}u[n], y[-1] = 2, y[-2]=3$\n",
    "\n",
    "O polinômio característico da equação de diferenças é:\n",
    "\n",
    "$\\lambda^{2}+2\\lambda+1=0$\n",
    "\n",
    "Logo, as raízes da equação são $\\lambda_1=\\lambda_2=-1$\n",
    "\n",
    "Como temos raízes repetidas, a resposta de entrada nula será:\n",
    "\n",
    "$y_{zi}[n]= c_1.(-1)^{n}+c_2.n.(-1)^{n}$\n",
    "\n",
    "Seguindo as condições iniciais, temos que:\n",
    "\n",
    "$c_1= -7$ e $c_2= -5$\n",
    "\n",
    "Portanto,\n",
    "\n",
    "$y_{zi}[n]= (-7.(-1)^{n}-5.n.(-1)^{n})u[n]$\n",
    "\n",
    "---\n",
    "\n",
    "f) $y[n] = -2y[n-1]-2y[n-2] + 2x[n] - x[n-1] $, com $x[n] = 3^{-n}u[n], y[-1] = 2, y[-2]=3$\n",
    "\n",
    "O polinômio característico da equação de diferenças é:\n",
    "\n",
    "$\\lambda^{2}+2\\lambda+3=0$\n",
    "\n",
    "As raízes dessa equação são $\\lambda_1= -1+1.41j= 1.73e^{j0.96}$ e $\\lambda_2= -1-1.41j= 1.73e^{-j0.96}$\n",
    "\n",
    "Logo,\n",
    "\n",
    "$y_{zi}[n]= c_1.(1.73e^{j0.96})^{n}+c_2.(1.73e^{-j0.96})^{n}\n",
    "\n",
    "Seguindo as condições iniciais, temos que:\n",
    "\n",
    "$c_1= 4.63e^{-j2.13}$ e $c_2= 4.63e^{j2.13}$\n",
    "\n",
    "Portanto,\n",
    "\n",
    "$y_{zi}[n]= (4.63e^{-j2.13}(1.73e^{j0.96})^{n}+4.63e^{j2.13}(1.73e^{-j0.96})^{n})u[n]$\n",
    "\n",
    "\n",
    "$y_{zi}[n] = 9.26.(1.73)^{n}.cos(0.96n+2.13).u[n]$\n",
    "\n",
    "---\n",
    "\n"
   ]
  },
  {
   "cell_type": "markdown",
   "id": "b4133272-668f-4751-ba36-5823ae641627",
   "metadata": {},
   "source": [
    "3) Resolvido por Catherine\n",
    "\n",
    "a) $$y[n] - 5y[n-1] + 6y[n-2] = 4x[n], \\quad y[-1] = 1, \\quad y[-2] = -1, \\quad x[n] = u[n]$$\n",
    "\n",
    "Parte homogênea da equação de diferenças (sem o termo $x[n]$):\n",
    "\n",
    "$$y[n] - 5y[n-1] + 6y[n-2] = 0$$\n",
    "\n",
    "A característica dessa equação é dada por: $r^2 - 5r + 6 = 0$, que pode ser fatorada como $(r - 2)(r - 3) = 0$.\n",
    "\n",
    "- As raízes são $r_1 = 2$ e $r_2 = 3$.\n",
    "\n",
    "$$y_h[n] = A \\cdot 2^n + B \\cdot 3^n$$\n",
    "\n",
    "Usando as condições iniciais para encontrar os valores de $A$ e $B$:\n",
    "\n",
    "$$y_h[-1] = A \\cdot 2^{-1} + B \\cdot 3^{-1} = 1$$\n",
    "$$y_h[-2] = A \\cdot 2^{-2} + B \\cdot 3^{-2} = -1$$\n",
    "\n",
    "$$A = \\frac{7}{5}   ;   B = -\\frac{8}{5}$$\n",
    "\n",
    "$$y_h[n] = \\frac{7}{5} \\cdot 2^n - \\frac{8}{5} \\cdot 3^n$$\n",
    "\n",
    "Agora, vamos considerar o termo de entrada $x[n] = u[n]$. A solução particular será uma constante, que chamaremos de $y_p[n] = C$.\n",
    "\n",
    "Substituindo a solução particular na equação original:\n",
    "$$C - 5C + 6C = 4 \\cdot 1$$\n",
    "$$C = 4$$\n",
    "\n",
    "$$y_p[n] = 4$$\n",
    "\n",
    "Logo,\n",
    "$$y[n] = y_h[n] + y_p[n] = \\frac{7}{5} \\cdot 2^n - \\frac{8}{5} \\cdot 3^n + 4$$\n",
    "\n",
    "b) $$y[n] = -2y[n-1] + 4x[n] + 5x[n-1], \\quad y[-1] = 1, \\quad y[-2] = 1, \\quad x[n] = (0.5)^n u[n]$$\n",
    "\n",
    "Parte homogênea:\n",
    "$$y[n] = -2y[n-1]$$\n",
    "\n",
    "A característica é: $r + 2 = 0$, então a raiz é $r = -2$.  \n",
    "\n",
    "$$y_h[n] = A \\cdot (-2)^n$$\n",
    "\n",
    "$$y_h[-1] = A \\cdot (-2)^{-1} = 1$$\n",
    "$$y_h[-2] = A \\cdot (-2)^{-2} = 1$$\n",
    "\n",
    "$$A = -\\frac{1}{2}$$\n",
    "\n",
    "$$y_h[n] = -\\frac{1}{2} \\cdot (-2)^n = 2^n$$\n",
    "\n",
    "A solução particular para a entrada $x[n] = (0.5)^n u[n]$ será uma constante, que chamaremos de $y_p[n] = C$.\n",
    "\n",
    "Substituindo na equação original:\n",
    "$$C = -2C + 4 \\cdot (0.5)^n + 5 \\cdot (0.5)^{n-1}$$\n",
    "$$C = 4 \\cdot (0.5)^n + 5 \\cdot (0.5)^n$$\n",
    "$$C = 9 \\cdot (0.5)^n$$\n",
    "\n",
    "Logo,\n",
    "\n",
    "$$y_p[n] = 9 \\cdot (0.5)^n$$\n",
    "\n",
    "$$y[n] = y_h[n] + y_p[n] = 2^n + 9 \\cdot (0.5)^n$$\n",
    "\n",
    "c) $$y[n] = 2\\cos\\left(\\frac{\\pi}{6}\\right)y[n-1] - y[n-2] = x[n], \\quad y[-1] = \\cos\\left(\\frac{\\pi}{6}\\right), \\quad y[-2] = \\cos\\left(\\frac{\\pi}{3}\\right), \\quad x[n] = u[n]$$\n",
    "Parte homogênea:\n",
    "$$y[n] = 2\\cos\\left(\\frac{\\pi}{6}\\right)y[n-1] - y[n-2]$$\n",
    "\n",
    "A característica é: $r^2 = 2\\cos\\left(\\frac{\\pi}{6}\\right)r - 1$, que pode ser reescrita como $r^2 - 2\\cos\\left(\\frac{\\pi}{6}\\right)r + 1 = 0$. As raízes são $r_1 = r_2 = \\cos\\left(\\frac{\\pi}{6}\\right)$.\n",
    "\n",
    "$$y_h[n] = A \\cdot (\\cos\\left(\\frac{\\pi}{6}\\right))^n + B \\cdot n (\\cos\\left(\\frac{\\pi}{6}\\right))^n$$\n",
    "\n",
    "$$y_h[-1] = A \\cdot (\\cos\\left(\\frac{\\pi}{6}\\right))^{-1} + B \\cdot (-1) (\\cos\\left(\\frac{\\pi}{6}\\right))^{-1} = \\cos\\left(\\frac{\\pi}{6}\\right)A - \\frac{B}{\\cos\\left(\\frac{\\pi}{6}\\right)} = \\cos\\left(\\frac{\\pi}{6}\\right)$$\n",
    "$$y_h[-2] = A \\cdot (\\cos\\left(\\frac{\\pi}{6}\\right))^{-2} + B \\cdot (-2) (\\cos\\left(\\frac{\\pi}{6}\\right))^{-2} = \\cos\\left(\\frac{\\pi}{3}\\right)A - \\frac{2B}{\\cos\\left(\\frac{\\pi}{6}\\right)^2} = \\cos\\left(\\frac{\\pi}{3}\\right)$$\n",
    "\n",
    "$A = \\cos\\left(\\frac{\\pi}{6}\\right)$ e $B = 0$.\n",
    "\n",
    "Logo,\n",
    "$$y_h[n] = \\cos\\left(\\frac{\\pi}{6}\\right)^n$$\n",
    "\n",
    "A solução particular para a entrada $x[n] = u[n]$ é uma constante, que chamaremos de $y_p[n] = C$.\n",
    "\n",
    "Substituindo na equação original:\n",
    "$$C = 2\\cos\\left(\\frac{\\pi}{6}\\right)C - C$$\n",
    "$$C = C\\left(2\\cos\\left(\\frac{\\pi}{6}\\right) - 1\\right)$$\n",
    "$$C = C\\left(\\sqrt{3} - 1\\right)$$\n",
    "\n",
    "$$y_p[n] = C\\left(\\sqrt{3} - 1\\right)$$\n",
    "\n",
    "$$y[n] = y_h[n] + y_p[n] = \\cos\\left(\\frac{\\pi}{6}\\right)^n + C\\left(\\sqrt{3} - 1\\right)$$\n",
    "\n",
    "d) $$y[n] = 2\\cos\\left(\\Omega_0\\right)y[n-1] - y[n-2] = x[n], \\quad y[-1] = \\cos\\left(\\Omega_0\\right), \\quad y[-2] = \\cos\\left(2\\Omega_0\\right), \\quad x[n] = u[n]$$\n",
    "Parte homogênea:\n",
    "$$y[n] = 2\\cos\\left(\\Omega_0\\right)y[n-1] - y[n-2]$$\n",
    "\n",
    "A característica é: $r^2 = 2\\cos\\left(\\Omega_0\\right)r - 1$, que pode ser reescrita como $r^2 - 2\\cos\\left(\\Omega_0\\right)r + 1 = 0$. As raízes são $r_1 = r_2 = \\cos\\left(\\Omega_0\\right)$.\n",
    "\n",
    "$$y_h[n] = A \\cdot (\\cos\\left(\\Omega_0\\right))^n + B \\cdot n (\\cos\\left(\\Omega_0\\right))^n$$\n",
    "\n",
    "$$y_h[-1] = A \\cdot (\\cos\\left(\\Omega_0\\right))^{-1} + B \\cdot (-1) (\\cos\\left(\\Omega_0\\right))^{-1} = \\cos\\left(\\Omega_0\\right)A - \\frac{B}{\\cos\\left(\\Omega_0\\right)} = \\cos\\left(\\Omega_0\\right)$$\n",
    "$$y_h[-2] = A \\cdot (\\cos\\left(\\Omega_0\\right))^{-2} + B \\cdot (-2) (\\cos\\left(\\Omega_0\\right))^{-2} = \\cos\\left(2\\Omega_0\\right)A - \\frac{2B}{\\cos\\left(\\Omega_0\\right)^2} = \\cos\\left(2\\Omega_0\\right)$$\n",
    "\n",
    "$A = \\cos\\left(\\Omega_0\\right)$ e $B = 0$.\n",
    "\n",
    "$$y_h[n] = \\cos\\left(\\Omega_0\\right)^n$$\n",
    "\n",
    "A solução particular para a entrada $x[n] = u[n]$ é uma constante, que chamaremos de $y_p[n] = C$.\n",
    "\n",
    "Substituindo na equação original:\n",
    "$$C = 2\\cos\\left(\\Omega_0\\right)C - C$$\n",
    "$$C = C\\left(2\\cos\\left(\\Omega_0\\right) - 1\\right)$$\n",
    "\n",
    "$$y_p[n] = C\\left(2\\cos\\left(\\Omega_0\\right) - 1\\right)$$\n",
    "\n",
    "$$y[n] = y_h[n] + y_p[n] = \\cos\\left(\\Omega_0\\right)^n + C\\left(2\\cos\\left(\\Omega_0\\right) - 1\\right)$$"
   ]
  },
  {
   "cell_type": "code",
   "execution_count": null,
   "id": "5f7538cb-be87-4783-8c74-af5dc2c1d989",
   "metadata": {},
   "outputs": [],
   "source": []
  }
 ],
 "metadata": {
  "kernelspec": {
   "display_name": "Python 3 (ipykernel)",
   "language": "python",
   "name": "python3"
  },
  "language_info": {
   "codemirror_mode": {
    "name": "ipython",
    "version": 3
   },
   "file_extension": ".py",
   "mimetype": "text/x-python",
   "name": "python",
   "nbconvert_exporter": "python",
   "pygments_lexer": "ipython3",
   "version": "3.10.12"
  }
 },
 "nbformat": 4,
 "nbformat_minor": 5
}
