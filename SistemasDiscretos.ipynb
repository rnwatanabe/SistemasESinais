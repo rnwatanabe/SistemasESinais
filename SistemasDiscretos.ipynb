{
 "cells": [
  {
   "cell_type": "markdown",
   "id": "16e25cbf-a765-4535-a602-6f80d85f01bf",
   "metadata": {
    "id": "16e25cbf-a765-4535-a602-6f80d85f01bf"
   },
   "source": [
    "# Sistemas de tempo discreto\n",
    "\n",
    "Renato Naville Watanabe"
   ]
  },
  {
   "cell_type": "markdown",
   "id": "39edd0d3-227e-47a3-a48b-9f753914a73a",
   "metadata": {
    "id": "39edd0d3-227e-47a3-a48b-9f753914a73a"
   },
   "source": [
    "## Preparação do ambiente"
   ]
  },
  {
   "cell_type": "code",
   "execution_count": null,
   "id": "48a3a953-9153-46e0-b40d-e99b2fd6fa05",
   "metadata": {
    "id": "48a3a953-9153-46e0-b40d-e99b2fd6fa05",
    "tags": []
   },
   "outputs": [],
   "source": [
    "import matplotlib.pyplot as plt\n",
    "import numpy as np"
   ]
  },
  {
   "cell_type": "markdown",
   "id": "e36cfbee-73fc-408a-a61b-a25c5fedc7ff",
   "metadata": {
    "id": "e36cfbee-73fc-408a-a61b-a25c5fedc7ff"
   },
   "source": [
    "## Definição\n",
    "\n",
    "Sistemas de tempo discreto são dispositivos, processos ou objetos que aceitam como entrada um sinal de tempo discreto e devolvem como sinal de saída um sinal de tempo discreto.\n",
    "\n",
    "\n",
    "<img src=Imagens/discsis.png width=\"500\">\n",
    "\n",
    "Exemplos de sistemas de tempo discreto são: uma média móvel, um filtro digital, o saldo em uma conta bancária, entre diversos outros.\n",
    "\n",
    "Um sistema pode ser descrito de diferentes maneiras. Por enquanto usaremos a descrição de equações de diferenças."
   ]
  },
  {
   "cell_type": "markdown",
   "id": "a08dccad-eae9-4e97-83f2-c8a5103865d7",
   "metadata": {
    "id": "a08dccad-eae9-4e97-83f2-c8a5103865d7"
   },
   "source": [
    "## Equações de diferenças\n",
    "\n",
    "Equações de diferenças são equações que relacionam dois sinais ($x[n]$ e $y[n]$) através de uma expressão algébrica. Essa expressão pode ter ou não valores desses sinais em instantes diferentes de $n$.\n",
    "\n",
    "---\n",
    "### Exemplo 1\n",
    "\n",
    "Considere a seguinte equação de diferenças:\n",
    "\n",
    "$$y[n] = 1.005y[n-1]+x[n]$$\n",
    "\n",
    "Na equação acima $y[n]$ pode representar o valor acumulado em um investimento no mês $n$ e $x[n]$ o valor depositado nesse investimento.\n",
    "\n",
    "Para sabermos o valor de $y$ em cada instante podemos calcular o valor a cada passo. Por exemplo, supondo que inicialmente ($n=-1$) o saldo é 0 e que a cada mês colocamos o valor 1 nesse investimento ($x[n]=1$ para todo $n\\geq0$ ou $x[n]=u[n]$):\n",
    "\n",
    "Então:\n",
    "\n",
    "$y[0] = 1.005\\times0 + 1 = 1$\n",
    "\n",
    "$y[1] = 1.005\\times1 + 1 = 2.005$\n",
    "\n",
    "$y[2] = 1.005\\times2.005 + 1 = 3.015$\n",
    "\n",
    "$y[3] = 1.005\\times3.015 + 1 = 4.03$\n",
    "\n",
    "$\\vdots$\n",
    "\n",
    "\n",
    "Para sistemas discretos, é fácil usar uma linguagem de computador (como o Python) para calcular os valores do sinal $y$."
   ]
  },
  {
   "cell_type": "code",
   "execution_count": null,
   "id": "df37aa77-6651-424e-9d4f-fbf911d08969",
   "metadata": {
    "id": "df37aa77-6651-424e-9d4f-fbf911d08969",
    "outputId": "63c47553-43c5-43c7-9354-1e90ece5913a",
    "tags": []
   },
   "outputs": [
    {
     "data": {
      "text/plain": [
       "<StemContainer object of 3 artists>"
      ]
     },
     "execution_count": 1,
     "metadata": {},
     "output_type": "execute_result"
    },
    {
     "data": {
      "image/png": "[encoded data removed]",
      "text/plain": [
       "<Figure size 640x480 with 1 Axes>"
      ]
     },
     "metadata": {},
     "output_type": "display_data"
    }
   ],
   "source": [
    "N = 40\n",
    "x = np.zeros(N)\n",
    "y = np.ones(N)\n",
    "for n in range(1,N):\n",
    "    x[n] = 1\n",
    "    y[n] = 1.005*y[n-1] + x[n]\n",
    "plt.stem(y)"
   ]
  },
  {
   "cell_type": "markdown",
   "id": "af3f4156-09c7-4a7b-8877-8cf5ad81ead8",
   "metadata": {
    "id": "af3f4156-09c7-4a7b-8877-8cf5ad81ead8"
   },
   "source": [
    "---"
   ]
  },
  {
   "cell_type": "markdown",
   "id": "bc5a88cf-2666-4413-bcd4-f87233e3979d",
   "metadata": {
    "id": "bc5a88cf-2666-4413-bcd4-f87233e3979d"
   },
   "source": [
    "## Propriedades dos sistemas discretos\n",
    "\n",
    "Os sistemas de tempo discretos podem ter ou não ter as seguintes propriedades."
   ]
  },
  {
   "cell_type": "markdown",
   "id": "2449efbd-52d0-4d64-a97b-cd5f099def41",
   "metadata": {
    "id": "2449efbd-52d0-4d64-a97b-cd5f099def41"
   },
   "source": [
    "### Causalidade\n",
    "\n",
    "Um sistema é **causal** se a sua saída $y[n]$ depende apenas dos valores da entrada e saída até o instante $n$. \n",
    "\n",
    "---\n",
    "\n",
    "#### Exemplo 2\n",
    "\n",
    "\n",
    "\n",
    "$y[n] = 0.2y[n-1] + x[n]$\n",
    "\n",
    "é um sistema causal.\n",
    "\n",
    "---\n",
    "\n",
    "Se a saída $y[n]$ de um sistema depende de valores da entrada e saída em instantes maiores do que $n$ o sistema é **não-causal**. \n",
    "\n",
    "---\n",
    "\n",
    "#### Exemplo 3\n",
    "\n",
    "$y[n] = \\frac{x[n+1]+x[n]+x[n-1]}{3}$\n",
    "\n",
    "é um sistema não causal.\n",
    "\n",
    "---\n"
   ]
  },
  {
   "cell_type": "markdown",
   "id": "cd701a47-00de-4438-9d1c-afac71805830",
   "metadata": {
    "id": "cd701a47-00de-4438-9d1c-afac71805830"
   },
   "source": [
    "### Memória\n",
    "\n",
    "Um sistema tem memória se a saída desse sistema no instante $n$ depende de valores do sinal de entrada em valores diferentes de $n$ (passado ou futuro).\n",
    "\n",
    "---\n",
    "\n",
    "#### Exemplo 4\n",
    "\n",
    "Considere o sistema com a seguinte equação de diferenças:\n",
    "\n",
    "$$y[n] = 0.4y[n-1] + x[n-2] $$\n",
    "\n",
    "é um sistema com memória. \n",
    "\n",
    "---\n",
    "\n",
    "Chamamos os sistemas com memória de **sistemas dinâmicos**.\n",
    "\n",
    "---\n",
    "\n",
    "#### Exemplo 5\n",
    "\n",
    "O seguinte sistema:\n",
    "\n",
    "$$y[n] =0.3x[n] $$\n",
    "\n",
    "\n",
    "é um sistema sem memória. \n",
    "\n",
    "---\n",
    "\n",
    "Chamamos os sistemas sem memória de **sistemas estáticos**."
   ]
  },
  {
   "cell_type": "markdown",
   "id": "1dc57f09-ba30-4360-88cc-2a8b70bde4e0",
   "metadata": {
    "id": "1dc57f09-ba30-4360-88cc-2a8b70bde4e0"
   },
   "source": [
    "### Linearidade\n",
    "\n",
    "\n",
    "Um **sistema linear** é um sistema que segue o princípio da sobreposição. \n",
    "\n",
    "<img src=./Imagens/lineardisc.png width=\"800\">\n",
    "\n",
    "---\n",
    "\n",
    "#### Exemplo 6\n",
    "\n",
    "Por exemplo, o sistema:\n",
    "\n",
    "$$y[n] = 0.5y[n-1] - 0.3y[n-2] + x[n]$$\n",
    "\n",
    "Podemos usar como entrada, por exemplo, $x_1[n] = u[n]$ e uma outra entrada $x_2[n] = \\cos\\left(\\frac{\\pi n}{15}\\right)$. As saídas deste sistema em cada um dos casos são mostradas abaixo:"
   ]
  },
  {
   "cell_type": "code",
   "execution_count": null,
   "id": "6c1a1688-8e7b-4034-b258-7276d13f44e8",
   "metadata": {
    "id": "6c1a1688-8e7b-4034-b258-7276d13f44e8",
    "outputId": "bb8fb1a8-18b7-4d1e-8560-1278b4256e6c",
    "tags": []
   },
   "outputs": [
    {
     "data": {
      "image/png": "[encoded data removed]",
      "text/plain": [
       "<Figure size 600x200 with 2 Axes>"
      ]
     },
     "metadata": {},
     "output_type": "display_data"
    }
   ],
   "source": [
    "plt.figure(figsize=(6,2))\n",
    "plt.subplot(1,2,1)\n",
    "N = 40\n",
    "x1 = np.ones(N)\n",
    "y1 = np.zeros(N)\n",
    "for n in range(N):\n",
    "    y1[n] = 0.5*y1[n-1] - 0.3*y1[n-2] + x1[n]\n",
    "plt.stem(y1)\n",
    "plt.title('$y_1[n]$')\n",
    "plt.subplot(1,2,2)\n",
    "x2 = np.cos(np.pi*np.arange(N)/15)\n",
    "y2 = np.zeros(N)\n",
    "for n in range(N):\n",
    "    y2[n] = 0.5*y2[n-1] - 0.3*y2[n-2] + x2[n]\n",
    "plt.stem(y2)\n",
    "plt.title('$y_2[n]$');"
   ]
  },
  {
   "cell_type": "markdown",
   "id": "3c0cf5ef-1137-415a-918c-ddb5bcc2ba25",
   "metadata": {
    "id": "3c0cf5ef-1137-415a-918c-ddb5bcc2ba25"
   },
   "source": [
    "Podemos agora construir um outro sinal de entrada, $x_3[n] = x_1[n] + x_2[n]$. Se esse sistema for linear, a saída do sistema para essa entrada deverá ser $y_1[n]+y_2[n]$. Abaixo estão os gráficos da saída do sistema para $x_3[n]$ e $y_1[n]+y_2[n]$."
   ]
  },
  {
   "cell_type": "code",
   "execution_count": null,
   "id": "462e2c6e-5c3e-466b-83be-64188ff069e9",
   "metadata": {
    "id": "462e2c6e-5c3e-466b-83be-64188ff069e9",
    "outputId": "53c94acb-1e33-45e9-d140-e726a5f62596",
    "tags": []
   },
   "outputs": [
    {
     "data": {
      "image/png": "[encoded data removed]",
      "text/plain": [
       "<Figure size 600x200 with 2 Axes>"
      ]
     },
     "metadata": {},
     "output_type": "display_data"
    }
   ],
   "source": [
    "plt.figure(figsize=(6,2))\n",
    "plt.subplot(1,2,1)\n",
    "N = 40\n",
    "x3 = np.ones(N) + np.cos(np.pi*np.arange(N)/15)\n",
    "y3 = np.zeros(N)\n",
    "for n in range(N):\n",
    "    y3[n] = 0.5*y3[n-1] - 0.3*y3[n-2] + x3[n]\n",
    "plt.stem(y3)\n",
    "plt.title('$y_3[n]$')\n",
    "plt.subplot(1,2,2)\n",
    "plt.stem(y1+y2)\n",
    "plt.title('$y_1[n]+y_2[n]$');"
   ]
  },
  {
   "cell_type": "markdown",
   "id": "f8e93e2c-46dd-440e-b348-bcf959d4eba6",
   "metadata": {
    "id": "f8e93e2c-46dd-440e-b348-bcf959d4eba6"
   },
   "source": [
    "As saídas são iguais, então concluímos que o sistema é linear.\n",
    "\n",
    "---\n",
    "\n",
    "Caso o sistema não siga o princípio da sobreposição, o dizemos que é um **sistema não linear**. \n",
    "\n",
    "---\n",
    "\n",
    "#### Exemplo 7\n",
    "\n",
    "Por exemplo, o sistema:\n",
    "\n",
    "$$y[n] = 0.1y[n-1]^2 + x[n]^2$$\n",
    "\n",
    "Se usarmos as entradas $x_1[n]=\\delta[n]$ e $x_2[n]= \\cos\\left(\\frac{\\pi n}{15}\\right)$, obtemos as seguintes saídas.\n",
    "\n"
   ]
  },
  {
   "cell_type": "code",
   "execution_count": null,
   "id": "9bb07757-e328-4fa1-9bc0-c499d7975a58",
   "metadata": {
    "id": "9bb07757-e328-4fa1-9bc0-c499d7975a58",
    "outputId": "044574e8-2641-49b3-fb16-bce420280a08",
    "tags": []
   },
   "outputs": [
    {
     "data": {
      "image/png": "[encoded data removed]",
      "text/plain": [
       "<Figure size 600x200 with 2 Axes>"
      ]
     },
     "metadata": {},
     "output_type": "display_data"
    }
   ],
   "source": [
    "plt.figure(figsize=(6,2))\n",
    "plt.subplot(1,2,1)\n",
    "N = 40\n",
    "x1 = np.zeros(N)\n",
    "x1[0] = 1\n",
    "y1 = np.zeros(N)\n",
    "for n in range(N):\n",
    "    y1[n] = 0.1*y1[n-1]**2  + x1[n]**2\n",
    "plt.stem(y1)\n",
    "plt.title('$y_1[n]$')\n",
    "plt.subplot(1,2,2)\n",
    "x2 = np.cos(np.pi*np.arange(N)/15)\n",
    "y2 = np.zeros(N)\n",
    "for n in range(N):\n",
    "    y2[n] = 0.1*y2[n-1]**2 + x2[n]**2\n",
    "plt.stem(y2)\n",
    "plt.title('$y_2[n]$');"
   ]
  },
  {
   "cell_type": "markdown",
   "id": "6f24b210-260d-4ab7-8d30-d8503bff0dd0",
   "metadata": {
    "id": "6f24b210-260d-4ab7-8d30-d8503bff0dd0"
   },
   "source": [
    "Agora, usando a entrada $x_3[n] = x_1[n]+x_2[n]$, se o sistema for linear, a saída do sistema deve ser $y_1[n]+y_2[n]$. Abaixo são mostradas a saída $y_3[n]$ e $y_1[n]+y_2[n]$."
   ]
  },
  {
   "cell_type": "code",
   "execution_count": null,
   "id": "4f096e64-5e50-4963-9b1e-d0f9fb534fee",
   "metadata": {
    "id": "4f096e64-5e50-4963-9b1e-d0f9fb534fee",
    "outputId": "8858cf25-a18a-4ce0-a3b4-74621b596a93",
    "tags": []
   },
   "outputs": [
    {
     "data": {
      "image/png": "[encoded data removed]",
      "text/plain": [
       "<Figure size 600x200 with 2 Axes>"
      ]
     },
     "metadata": {},
     "output_type": "display_data"
    }
   ],
   "source": [
    "plt.figure(figsize=(6,2))\n",
    "plt.subplot(1,2,1)\n",
    "N = 40\n",
    "x3 = np.zeros(N)\n",
    "x3[0] = 1\n",
    "x3 = x3 + np.cos(np.pi*np.arange(N)/15)\n",
    "y3 = np.zeros(N)\n",
    "for n in range(N):\n",
    "    y3[n] = 0.1*y3[n-1]**2 + x3[n]**2\n",
    "plt.stem(y3)\n",
    "plt.title('$y_3[n]$')\n",
    "plt.subplot(1,2,2)\n",
    "plt.stem(y1+y2)\n",
    "plt.title('$y_1[n]+ y_2[n]$');"
   ]
  },
  {
   "cell_type": "markdown",
   "id": "c77d376c-345e-46b9-9555-6caca70487c6",
   "metadata": {
    "id": "c77d376c-345e-46b9-9555-6caca70487c6"
   },
   "source": [
    "Como é possível observar pelos gráficos $y_3[n]\\neq y_1[n]+y_2[n]$ e portanto o sistema é não linear.\n",
    "\n",
    "---"
   ]
  },
  {
   "cell_type": "markdown",
   "id": "f0c66833-c7a8-4b66-9246-b4637c4a81e8",
   "metadata": {
    "id": "f0c66833-c7a8-4b66-9246-b4637c4a81e8"
   },
   "source": [
    "### Invariância no tempo\n",
    "\n",
    "Um sistema é dito ser **invariante no tempo** se colocarmos a mesma entrada em momentos diferentes, as saídas obtidas serão as mesmas, exceto pela diferença no tempo.\n",
    "\n",
    "<img src=Imagens/ITsisdisc.png width=\"800\">\n",
    "\n",
    "Um sistema que não segue essa propriedade é dito ser **variante no tempo**.\n",
    "\n",
    "---\n",
    "\n",
    "#### Exemplo 8\n",
    "\n",
    "Vamos considerar o sistema que calcula a média móvel de 4 passos de tempo da entrada $x[n]$:\n",
    "\n",
    "$$y[n] = \\frac{x[n]+x[n-1]+x[n-2]+x[n-3]}{4}$$\n",
    "\n",
    "Considere o seguinte par de entrada e saída deste sistema, mostrados nos gráficos abaixo:\n"
   ]
  },
  {
   "cell_type": "code",
   "execution_count": null,
   "id": "6e9d58d7-c520-41e2-93d5-491d1ad622ea",
   "metadata": {
    "id": "6e9d58d7-c520-41e2-93d5-491d1ad622ea",
    "outputId": "7e7ebdcf-adc8-4c5b-eebf-f905095b3e76",
    "tags": []
   },
   "outputs": [
    {
     "data": {
      "image/png": "[encoded data removed]",
      "text/plain": [
       "<Figure size 600x200 with 2 Axes>"
      ]
     },
     "metadata": {},
     "output_type": "display_data"
    }
   ],
   "source": [
    "plt.figure(figsize=(6,2))\n",
    "plt.subplot(1,2,1)\n",
    "N = 40\n",
    "rng = np.random.default_rng()\n",
    "x1 = np.cos(np.pi*np.arange(N)/15) + 0.2*rng.normal(size=N)\n",
    "y1 = np.zeros(N)\n",
    "for n in range(0,N):\n",
    "    if n == 0:\n",
    "        y1[n] = x1[n]/4\n",
    "    elif n == 1:\n",
    "        y1[n] = (x1[n]+x1[n-1])/4\n",
    "    elif n == 2:\n",
    "        y1[n] = (x1[n]+x1[n-1]+x1[n-2])/4\n",
    "    else:\n",
    "        y1[n] = (x1[n]+x1[n-1]+x1[n-2]+x1[n-3])/4\n",
    "plt.stem(x1)\n",
    "plt.title('$x_1[n]$')\n",
    "plt.subplot(1,2,2)\n",
    "plt.stem(y1)\n",
    "plt.title('$y_1[n]$');"
   ]
  },
  {
   "cell_type": "markdown",
   "id": "181d626a-a1b7-4c56-85bf-5684018ffb98",
   "metadata": {
    "id": "181d626a-a1b7-4c56-85bf-5684018ffb98"
   },
   "source": [
    "Agora vamos colocar a mesma entra entrada, porém atrasada de 10 passos de tempo ($x_2[n] = x_1[n-10]$)."
   ]
  },
  {
   "cell_type": "code",
   "execution_count": null,
   "id": "9b1870a3-4ef9-4b06-8c57-423c7d83cfc4",
   "metadata": {
    "id": "9b1870a3-4ef9-4b06-8c57-423c7d83cfc4",
    "outputId": "f2926fc9-262c-4f4b-a332-0e0ca9bdf73f",
    "tags": []
   },
   "outputs": [
    {
     "data": {
      "image/png": "[encoded data removed]",
      "text/plain": [
       "<Figure size 600x200 with 2 Axes>"
      ]
     },
     "metadata": {},
     "output_type": "display_data"
    }
   ],
   "source": [
    "plt.figure(figsize=(6,2))\n",
    "plt.subplot(1,2,1)\n",
    "N = 40\n",
    "x2 = np.zeros(N)\n",
    "x2[10:] = x1[0:30]\n",
    "y2 = np.zeros(N)\n",
    "for n in range(3,N):\n",
    "    if n == 0:\n",
    "        y2[n] = x2[n]/4\n",
    "    elif n == 1:\n",
    "        y2[n] = (x2[n]+x2[n-1])/4\n",
    "    elif n == 2:\n",
    "        y2[n] = (x2[n]+x2[n-1]+x2[n-2])/4\n",
    "    else:\n",
    "        y2[n] = (x2[n]+x2[n-1]+x2[n-2]+x2[n-3])/4\n",
    "plt.stem(x2)\n",
    "plt.title('$x_2[n]$')\n",
    "plt.subplot(1,2,2)\n",
    "plt.stem(y2)\n",
    "plt.title('$y_2[n]$');"
   ]
  },
  {
   "cell_type": "markdown",
   "id": "8d4f41dc-4588-4a68-b6f9-6a2c08e0a2d3",
   "metadata": {
    "id": "8d4f41dc-4588-4a68-b6f9-6a2c08e0a2d3"
   },
   "source": [
    "Podemos observar que a saída $y_2[n]$ é igual a $y_1[n]$, porém atrasado de 10 passos. Isso acontece que porque esse sistema invariante no tempo.\n",
    "\n",
    "---\n",
    "\n",
    "---\n",
    "\n",
    "#### Exemplo 9\n",
    "\n",
    "Vamos pegar outro exemplo de sistema:\n",
    "\n",
    "$$y[n] = n\\frac{x[n]+x[n-1]+x[n-2]+x[n-3]}{4}$$\n",
    "\n",
    "Considere o seguinte par de entrada e saída deste sistema, mostrados nos gráficos abaixo:"
   ]
  },
  {
   "cell_type": "code",
   "execution_count": null,
   "id": "75766aa2-a644-425f-bcd4-4edb3d507379",
   "metadata": {
    "id": "75766aa2-a644-425f-bcd4-4edb3d507379",
    "outputId": "18a6ca0c-4619-4f34-8e3b-d4d275a726a6",
    "tags": []
   },
   "outputs": [
    {
     "data": {
      "image/png": "[encoded data removed]",
      "text/plain": [
       "<Figure size 600x200 with 2 Axes>"
      ]
     },
     "metadata": {},
     "output_type": "display_data"
    }
   ],
   "source": [
    "plt.figure(figsize=(6,2))\n",
    "plt.subplot(1,2,1)\n",
    "N = 40\n",
    "rng = np.random.default_rng()\n",
    "x1 = np.cos(np.pi*np.arange(N)/15) + 0.2*rng.normal(size=N)\n",
    "y1 = np.zeros(N)\n",
    "for n in range(0,N):\n",
    "    if n == 0:\n",
    "        y1[n] = n*x1[n]/4\n",
    "    elif n == 1:\n",
    "        y1[n] = n*(x1[n]+x1[n-1])/4\n",
    "    elif n == 2:\n",
    "        y1[n] = n*(x1[n]+x1[n-1]+x1[n-2])/4\n",
    "    else:\n",
    "        y1[n] = n*(x1[n]+x1[n-1]+x1[n-2]+x1[n-3])/4\n",
    "plt.stem(x1)\n",
    "plt.title('$x_1[n]$')\n",
    "plt.subplot(1,2,2)\n",
    "plt.stem(y1)\n",
    "plt.title('$y_1[n]$');"
   ]
  },
  {
   "cell_type": "markdown",
   "id": "da5bc033-92ce-479c-8e97-493fcfad09d3",
   "metadata": {
    "id": "da5bc033-92ce-479c-8e97-493fcfad09d3"
   },
   "source": [
    "Agora vamos colocar a mesma entra entrada, porém atrasada de 10 passos de tempo ($x_2[n] = x_1[n-10]$)."
   ]
  },
  {
   "cell_type": "code",
   "execution_count": null,
   "id": "b0e12612-f58e-4f7b-96a0-1ed6384f526b",
   "metadata": {
    "id": "b0e12612-f58e-4f7b-96a0-1ed6384f526b",
    "outputId": "b90bf84a-287b-48e6-8235-8e2ed0e753f8",
    "tags": []
   },
   "outputs": [
    {
     "data": {
      "image/png": "[encoded data removed]",
      "text/plain": [
       "<Figure size 600x200 with 2 Axes>"
      ]
     },
     "metadata": {},
     "output_type": "display_data"
    }
   ],
   "source": [
    "plt.figure(figsize=(6,2))\n",
    "plt.subplot(1,2,1)\n",
    "N = 40\n",
    "x2 = np.zeros(N)\n",
    "x2[10:] = x1[0:30]\n",
    "y2 = np.zeros(N)\n",
    "for n in range(3,N):\n",
    "    if n == 0:\n",
    "        y2[n] = nx2[n]/4\n",
    "    elif n == 1:\n",
    "        y2[n] = n*(x2[n]+x2[n-1])/4\n",
    "    elif n == 2:\n",
    "        y2[n] = n*(x2[n]+x2[n-1]+x2[n-2])/4\n",
    "    else:\n",
    "        y2[n] = n*(x2[n]+x2[n-1]+x2[n-2]+x2[n-3])/4\n",
    "plt.stem(x2)\n",
    "plt.title('$x_2[n]$')\n",
    "plt.subplot(1,2,2)\n",
    "plt.stem(y2)\n",
    "plt.title('$y_2[n]$');"
   ]
  },
  {
   "cell_type": "markdown",
   "id": "ec2c13f0-c929-46d0-aa7e-5967e8e2d42f",
   "metadata": {
    "id": "ec2c13f0-c929-46d0-aa7e-5967e8e2d42f"
   },
   "source": [
    "Podemos observar que a saída $y_2[n]$ não é igual a $y_1[n]$ atrasado de 10 passos. Ela tem uma outra forma. Isso acontece que porque esse sistema é variante no tempo.\n",
    "\n",
    "---"
   ]
  },
  {
   "cell_type": "markdown",
   "id": "c671ae5a-b7ad-438e-9163-3c22857f3df1",
   "metadata": {
    "id": "c671ae5a-b7ad-438e-9163-3c22857f3df1"
   },
   "source": [
    "### Estabilidade\n",
    "\n",
    "O conceito de estabilidade é bem importante e será explorado bastante ao longo do curso, bem como em outros cursos (particularmente em disciplinas que envolvam Controle). Intuitivamente, o conceito um sistema instável é um sistema cuja saída se descontrola (aumenta ou diminui de forma indefinida) mesmo com uma entrada pequena, ou que não cresça para sempre. \n",
    "\n",
    "---\n",
    "\n",
    "#### Exemplo 10\n",
    "\n",
    "Por exemplo, um sistema acumulador (que soma todos os valores que recebe como entrada), mesmo se recebe como entrada um sinal que não vai para o infinito (como um degrau), a saída aumenta indefinidamente:\n",
    "\n",
    "$$y[n] = y[n-1] + x[n] $$\n",
    "\n",
    "Se usarmos o sinal degrau $u[n]$ como entrada, a sua saída tem o seguinte gráfico:"
   ]
  },
  {
   "cell_type": "code",
   "execution_count": null,
   "id": "6114ab1e-33a8-42c4-956d-fe50f928b191",
   "metadata": {
    "id": "6114ab1e-33a8-42c4-956d-fe50f928b191",
    "jupyter": {
     "source_hidden": true
    },
    "outputId": "fa60262a-6dac-4ef8-bcd4-32db27ccd032",
    "tags": []
   },
   "outputs": [
    {
     "data": {
      "text/plain": [
       "<StemContainer object of 3 artists>"
      ]
     },
     "execution_count": 10,
     "metadata": {},
     "output_type": "execute_result"
    },
    {
     "data": {
      "image/png": "[encoded data removed]",
      "text/plain": [
       "<Figure size 640x480 with 1 Axes>"
      ]
     },
     "metadata": {},
     "output_type": "display_data"
    }
   ],
   "source": [
    "import matplotlib.pyplot as plt\n",
    "import numpy as np\n",
    "\n",
    "N = 40\n",
    "x = np.zeros(N)\n",
    "y = np.ones(N)\n",
    "for n in range(1,N):\n",
    "    x[n] = 1\n",
    "    y[n] = 1.0*y[n-1] + x[n]\n",
    "plt.stem(y)\n"
   ]
  },
  {
   "cell_type": "markdown",
   "id": "c11a2266-bfef-425c-87cc-1eb6657a0af9",
   "metadata": {
    "id": "c11a2266-bfef-425c-87cc-1eb6657a0af9"
   },
   "source": [
    "Pode-se observar que ela cresce indefinidamente. Isso caracteriza o sistema como instável (geralmente o sistema ser instável é uma característica ruim, que os sistemas de Controle tentam resolver).\n",
    "\n",
    "---\n",
    "\n",
    "Formalmente, podemos definir um **sistema estável** como sendo um sistema que se receber uma entrada finita:\n",
    "\n",
    "$$|x[n]| < B \\text{ ,para qualquer } n $$\n",
    "\n",
    "em que $B$ é um número real finito, então:\n",
    "\n",
    "$$|y[n]| < L \\text{ .para qualquer } n$$\n",
    "\n",
    "em que $L$ é um outro número real finito.\n",
    "\n",
    "Um sistema que não respeita o critério acima é chamado de **sistema instável**.\n",
    "\n",
    "\n",
    "---\n",
    "\n",
    "#### Exemplo 11\n",
    "\n",
    "Um exemplo de sistema estável é o que tem a seguinte equação de diferenças:\n",
    "\n",
    "$$y[n] = 0.3y[n-1] + x[n] $$\n",
    "\n",
    "Se usarmos o sinal degrau como entrada deste sistema, a saída terá o seguinte gráfico:"
   ]
  },
  {
   "cell_type": "code",
   "execution_count": null,
   "id": "cc157fb4-b9f0-4005-b10c-611b2e6a2f6e",
   "metadata": {
    "id": "cc157fb4-b9f0-4005-b10c-611b2e6a2f6e",
    "jupyter": {
     "source_hidden": true
    },
    "outputId": "0c55c666-e9d1-4b7e-91ae-7d4b43df4c1d",
    "tags": []
   },
   "outputs": [
    {
     "data": {
      "text/plain": [
       "<StemContainer object of 3 artists>"
      ]
     },
     "execution_count": 11,
     "metadata": {},
     "output_type": "execute_result"
    },
    {
     "data": {
      "image/png": "[encoded data removed]",
      "text/plain": [
       "<Figure size 640x480 with 1 Axes>"
      ]
     },
     "metadata": {},
     "output_type": "display_data"
    }
   ],
   "source": [
    "N = 40\n",
    "x = np.zeros(N)\n",
    "y = np.ones(N)\n",
    "for n in range(1,N):\n",
    "    x[n] = 1\n",
    "    y[n] = 0.3*y[n-1] + x[n]\n",
    "plt.stem(y)"
   ]
  },
  {
   "cell_type": "markdown",
   "id": "65bb7cfd-1b41-4ecc-ad15-7c19a2b971f8",
   "metadata": {
    "id": "65bb7cfd-1b41-4ecc-ad15-7c19a2b971f8"
   },
   "source": [
    "---\n",
    "\n",
    "\n",
    "Como uma última nota a respeito de estabilidade, o critério mostrado acima é apenas uma maneira de definir estabilidade, conhecido como **BIBO** (*Bounded Input Bounded Output*, Entrada Limitada, Saída Limitada). Existem outros critérios, como a definição de Lyapunov ou estabilidade assintótica,  normalmente vistos em disciplinas de Controle. Neste curso, sempre que for mencionado estabilidade, será de acordo com o critério BIBO."
   ]
  },
  {
   "cell_type": "markdown",
   "id": "4a7237ee-e01d-4c24-bf2e-6ddb3d9aab44",
   "metadata": {
    "id": "4a7237ee-e01d-4c24-bf2e-6ddb3d9aab44"
   },
   "source": [
    "### Invertibilidade\n",
    "\n",
    "Um sistema é dito ser um **sistema invertível** se para entradas diferentes o sistema gera saídas diferentes. Caso o sistema seja invertível é possível encontrar o seu **sistema inverso**. Se usarmo⁰pĝs como entrada de um sistema inverso do sistema S1 a saída do sistema S1 $y_1[n]$ devemos obter a entrada $x_1[n]$.\n",
    "\n",
    "<img src=Imagens/inversesisdisc.png width=\"800\">\n",
    "\n",
    "---\n",
    "\n",
    "#### Exemplo 12\n",
    "\n",
    "Por exemplo, o sistema acumulador:\n",
    "\n",
    "$$y[n] = y[n-1] + x[n]$$\n",
    "\n",
    "Temos como sistema inverso:\n",
    "\n",
    "$$y[n] = x[n] - x[n-1] $$\n",
    "\n",
    "Para obter esse sistema, basta isolar o sinal $x[n]$ e trocar os os nomes de $x$ e $y$ (apenas para manter o padrão de usar $x$ como entrada e $y$ como saída).\n",
    "\n",
    "---\n",
    "\n",
    "---\n",
    "\n",
    "#### Exemplo 13\n",
    "\n",
    "Um outro exemplo é o sistema abaixo:\n",
    "\n",
    "$y[n] = x[n]^2$\n",
    "\n",
    "Esse é um **sistema não invertível**. Podemos deduzir isso observando que a entrada $x_1[n]=u[n]$ e a entrada $x_2[n]=-u[n]$ geram a mesma saída.\n",
    "\n",
    "---"
   ]
  },
  {
   "cell_type": "markdown",
   "id": "bf6471b9-771a-4f71-bafc-c2581175c4a4",
   "metadata": {
    "id": "bf6471b9-771a-4f71-bafc-c2581175c4a4"
   },
   "source": [
    "## Sistemas que serão estudados no restante do curso\n",
    "\n",
    "O restante do curso se restringirá à classe de sistemas **lineares** e **invariantes no tempo** (às vezes se usa a sigla **SLIT**). Essa restrição acontece por dois principais motivos:\n",
    "\n",
    "- a maioria dos sistemas encontrados em Engenharia tem essa característica (ou podem ser simplificados para podermos considerar que eles têm essa característica).\n",
    "\n",
    "- existem muitos métodos para tratar esses sistemas. São esses métodos que veremos ao longo do curso.\n",
    "\n",
    "Alem disso, a maioria dos sistemas que veremos serão **causais** (já que a maioria dos sistemas encontrados na prática são causais), embora a maioria dos métodos vistos também funcionem para sistemas não causais.\n",
    "\n",
    "É muito importante saber definir o sistema com o qual se está trabalhando. Se não for um sistema linear e invariante no tempo, os métodos que aprenderemos no curso não funcionarão. Neste caso, você deve procurar técnicas para tratar sistemas e sinais não-lineares.\n",
    "\n",
    "\n",
    "Os sistemas discretos que sempre são lineares e invariantes no tempo têm a seguinte forma:\n",
    "\n",
    "$$\\displaystyle\\sum_{i=0}^N a_iy[n-i] = \\displaystyle\\sum_{i=0}^N b_ix[n-i]$$\n",
    "\n",
    "com os parâmetros $a_i$ e $b_i$ sendo constantes."
   ]
  },
  {
   "cell_type": "markdown",
   "id": "8b7a60d5-df38-4a7d-a61a-0a102aaef4fe",
   "metadata": {
    "id": "8b7a60d5-df38-4a7d-a61a-0a102aaef4fe"
   },
   "source": [
    "## Exercícios"
   ]
  },
  {
   "cell_type": "markdown",
   "id": "eb8d3079-18b4-492e-a302-bb3198667f9d",
   "metadata": {
    "id": "eb8d3079-18b4-492e-a302-bb3198667f9d"
   },
   "source": [
    "**1)** Um sistema linear recebe o sinal $x_1[n]$ e dá como resposta $y_1[n]$."
   ]
  },
  {
   "cell_type": "code",
   "execution_count": null,
   "id": "16734c9e-0e1b-4552-867b-678ffdb7d678",
   "metadata": {
    "id": "16734c9e-0e1b-4552-867b-678ffdb7d678",
    "outputId": "a61b3e55-c1aa-46f2-fdff-ae1ee9589f80",
    "tags": []
   },
   "outputs": [
    {
     "data": {
      "image/png": "[encoded data removed]",
      "text/plain": [
       "<Figure size 600x200 with 2 Axes>"
      ]
     },
     "metadata": {},
     "output_type": "display_data"
    }
   ],
   "source": [
    "plt.figure(figsize=(6,2))\n",
    "plt.subplot(1,2,1)\n",
    "n = np.arange(10)\n",
    "x = np.zeros_like(n)\n",
    "x[0] = 1\n",
    "x[1] = 2\n",
    "x[2] = 3\n",
    "y = np.zeros_like(n)\n",
    "y[0] = 1\n",
    "y[1] = 4\n",
    "y[2] = 7\n",
    "y[3] = 6\n",
    "plt.stem(n, x)\n",
    "plt.title('$x_1[n]$')\n",
    "plt.subplot(1,2,2)\n",
    "plt.stem(n, y)\n",
    "plt.title('$y_1[n]$');"
   ]
  },
  {
   "cell_type": "markdown",
   "id": "8eafa9fd-4a21-4206-a357-cdc54a8dac9e",
   "metadata": {
    "id": "8eafa9fd-4a21-4206-a357-cdc54a8dac9e"
   },
   "source": [
    "O mesmo sistema linear, quando recebe o sinal $x_2[n]$ dá como resposta o sinal $y_2[n]$."
   ]
  },
  {
   "cell_type": "code",
   "execution_count": null,
   "id": "d381d9aa-2d8a-49d7-97b0-0d5011fd23e2",
   "metadata": {
    "id": "d381d9aa-2d8a-49d7-97b0-0d5011fd23e2",
    "jupyter": {
     "source_hidden": true
    },
    "outputId": "e368ec54-4953-4154-cc33-92a63f705249",
    "tags": []
   },
   "outputs": [
    {
     "data": {
      "image/png": "[encoded data removed]",
      "text/plain": [
       "<Figure size 600x200 with 2 Axes>"
      ]
     },
     "metadata": {},
     "output_type": "display_data"
    }
   ],
   "source": [
    "plt.figure(figsize=(6,2))\n",
    "plt.subplot(1,2,1)\n",
    "n = np.arange(10)\n",
    "x = np.zeros_like(n)\n",
    "x[0] = 1\n",
    "y = np.zeros_like(n)\n",
    "y[0] = 1\n",
    "y[1] = 3\n",
    "plt.stem(n, x)\n",
    "plt.title('$x_2[n]$')\n",
    "plt.subplot(1,2,2)\n",
    "plt.stem(n, y)\n",
    "plt.title('$y_2[n]$');"
   ]
  },
  {
   "cell_type": "markdown",
   "id": "d535606e-99be-42e2-83a5-2d27246c2816",
   "metadata": {
    "id": "d535606e-99be-42e2-83a5-2d27246c2816"
   },
   "source": [
    "Esse sistema é invariante no tempo?"
   ]
  },
  {
   "cell_type": "markdown",
   "id": "9338cee8-7bb9-49b0-9d03-b9a54e1528af",
   "metadata": {
    "id": "9338cee8-7bb9-49b0-9d03-b9a54e1528af"
   },
   "source": [
    "**2)** Entre os sistemas abaixo, quais são lineares e quais são invariantes no tempo:\n",
    "\n",
    "a) $y[n] = nx[n]$\n",
    "\n",
    "b) $y[n] = x[n] + 1$\n",
    "\n",
    "c) $y[n] + 2y[n-1] = 3x[n] + nx[n-1]$\n",
    "\n",
    "d) $y[n] + 2y[n-1] = 3x[n] + 4x[n-1]$"
   ]
  },
  {
   "cell_type": "markdown",
   "id": "47bc7a36-0257-42dd-9ff4-060bdb7894c5",
   "metadata": {
    "id": "47bc7a36-0257-42dd-9ff4-060bdb7894c5"
   },
   "source": [
    "**3)** Um sistema $S$ é composto de dois subsistemas ($S_1$ e $S_2$), ligados em série com o subsistema $S_1$ seguido do subsistema $S_2$ (a saída do sistema $S_1$ é a entrada do sistema $S_2$).\n",
    "\n",
    "O subsistema $S_1$ tem a seguinte equação de diferenças:\n",
    "\n",
    "$y_1[n] = 2x_1[n] + 4x_1[n-1]$\n",
    "\n",
    "O subsistema $S_2$ tem a seguinte equação de diferenças:\n",
    "\n",
    "$y_2[n] = x_2[n-2]+0.5x_2[n-3]$\n",
    "\n",
    "Determine a relação entrada-saída do sistema $S$. Se a ordem dos subsistemas  se inverter ($S_2$ antes do $S_1$), a  relação entrada-saída do sistema resultante muda? Porquê?"
   ]
  },
  {
   "cell_type": "markdown",
   "id": "0ca71ddd-b3f7-4465-86f4-d12fd50dace0",
   "metadata": {
    "id": "0ca71ddd-b3f7-4465-86f4-d12fd50dace0"
   },
   "source": [
    "**4)** Um sistema é descrito por:\n",
    "\n",
    "$$y[n] = \\frac{1}{2}\\displaystyle\\sum_{k=-\\infty}^\\infty x[k](\\delta[n-k] + \\delta[n+k]) $$\n",
    "\n",
    "a) O que o sistema faz?\n",
    "\n",
    "b) O sistema é estável (BIBO)? O sistema é linear? O sistema tem memória? O sistema é causal? O sistema é invariante no tempo?"
   ]
  },
  {
   "cell_type": "markdown",
   "id": "6f76c7ba-0b27-4d08-b609-2c11000bcaa4",
   "metadata": {
    "id": "6f76c7ba-0b27-4d08-b609-2c11000bcaa4"
   },
   "source": [
    "**5)** Determine se os sistemas abaixo têm as seguintes propriedades: memória, invariante no tempo, linear, causal, estável:\n",
    "\n",
    "a) $y[n] = x[-n]$\n",
    "\n",
    "b) $y[n] = x[n-2] - 2x[n-8]$\n",
    "\n",
    "c) $y[n] = nx[n]$\n",
    "\n",
    "d) $y[n] = \\text{Par}\\{ x[n-1]\\}$\n",
    "\n",
    "e) $y[n] = \\left\\{ \\begin{array}{cc}x[n]& ,n\\geq 1 \\\\ 0& ,n=0 \\\\ x[n+1]&,n\\leq -1\\end{array}\\right.$\n",
    "\n",
    "f) $y[n] = x[4n+1]$"
   ]
  },
  {
   "cell_type": "markdown",
   "id": "ad507bec-b724-4d84-939e-e4f20cbbda62",
   "metadata": {
    "id": "ad507bec-b724-4d84-939e-e4f20cbbda62"
   },
   "source": [
    "**6)** Determine se os seguintes sistemas são invertíveis. Se forem, encontre o sistema inverso. Se não forem, encontre dois sinais de entrada que tenham a mesma saída:\n",
    "\n",
    "a) $y[n] = nx[n]$\n",
    "\n",
    "b) $ y[n] = \\left\\{ \\begin{array}{cc}x[n-1]& ,n\\geq 1 \\\\ 0& ,n=0 \\\\ x[n]&,n\\leq -1\\end{array}\\right.$\n",
    "\n",
    "c) $y[n] = x[n]x[n-1]$\n",
    "\n",
    "d) $y[n] = x[1-n]$\n",
    "\n",
    "e) $y[n] = \\displaystyle\\sum_{k=-\\infty}^n\\left(\\frac{1}{2}\\right)^{n-k}x[k]$\n",
    "\n",
    "f) $y[n] = \\left\\{ \\begin{array}{cc}x[n+1]& ,n\\geq 0 \\\\ x[n]& ,n<0 \\end{array}\\right.$\n",
    "\n",
    "g) $y[n] = x[2n]$\n",
    "\n",
    "h)  $y[n] = \\left\\{ \\begin{array}{cc}x[n/2]& ,n \\text{ par} \\\\ 0& ,n \\text{ ímpar}\\end{array}\\right.$"
   ]
  },
  {
   "cell_type": "markdown",
   "id": "a86a43b5-9d53-46fc-8e42-1b4dfef24dc2",
   "metadata": {
    "id": "a86a43b5-9d53-46fc-8e42-1b4dfef24dc2"
   },
   "source": [
    "**7)** Considere um sistema com a seguinte equação de diferenças:\n",
    "\n",
    "$$y[n] = x[n]x[n-2]$$\n",
    "\n",
    "Esse sistema tem um sistema inverso? O sistema tem memória? Qual a saída do sistema quando $x[n]=A\\delta[n]$, com $A$ sendo um número complexo qualquer?"
   ]
  },
  {
   "cell_type": "markdown",
   "id": "6eb5f548-e9f6-44b3-a1d9-5e69a43b8a0f",
   "metadata": {
    "id": "6eb5f548-e9f6-44b3-a1d9-5e69a43b8a0f"
   },
   "source": [
    "**8)** A saída $y[n]$ de um caixa de supermercado é o custo total de $n$ itens registrados pelo caixa. A entrada $x[n]$ é o custo do n-ésimo item. Escreva a equação de diferenças que relacione $y[n]$ com $x[n]$.\n",
    "\n"
   ]
  },
  {
   "cell_type": "markdown",
   "id": "f27437d7-5c9e-41c6-a137-508b23f7e274",
   "metadata": {
    "id": "f27437d7-5c9e-41c6-a137-508b23f7e274"
   },
   "source": [
    "**9)** Um sistema linear e invariante no tempo tem a saída $y_1$ quando tem como entrada o sinal $x_1[n]$. Faça o gráfico da resposta do sistema quando ele tem a entrada $x_2[n]$."
   ]
  },
  {
   "cell_type": "code",
   "execution_count": null,
   "id": "c9294687-0a62-4fdf-90b1-1167a70c8590",
   "metadata": {
    "id": "c9294687-0a62-4fdf-90b1-1167a70c8590",
    "outputId": "32fdb333-5c70-4ff9-83f5-92696313db57",
    "tags": []
   },
   "outputs": [
    {
     "data": {
      "text/plain": [
       "Text(0.5, 1.0, '$x_2[n]$')"
      ]
     },
     "execution_count": 19,
     "metadata": {},
     "output_type": "execute_result"
    },
    {
     "data": {
      "image/png": "[encoded data removed]",
      "text/plain": [
       "<Figure size 600x600 with 3 Axes>"
      ]
     },
     "metadata": {},
     "output_type": "display_data"
    }
   ],
   "source": [
    "plt.figure(figsize=(6,6))\n",
    "plt.subplot(2,2,1)\n",
    "n = np.arange(10)\n",
    "x = np.zeros_like(n)\n",
    "x[0] = 1\n",
    "x[1] = 1\n",
    "y = np.zeros_like(n)\n",
    "y[0] = -1\n",
    "y[1] = 1\n",
    "y[2] = 2\n",
    "plt.stem(n, x)\n",
    "plt.title('$x_1[n]$')\n",
    "plt.subplot(2,2,2)\n",
    "plt.stem(n, y)\n",
    "plt.title('$y_1[n]$');\n",
    "plt.subplot(2,2,3)\n",
    "n = np.arange(10)\n",
    "x = np.zeros_like(n)\n",
    "x[1] = 1\n",
    "x[2] = -1\n",
    "x[3] = -2\n",
    "plt.stem(n, x)\n",
    "plt.title('$x_2[n]$')\n",
    "\n",
    "\n"
   ]
  },
  {
   "cell_type": "markdown",
   "id": "f0af4ebe-f64e-41e2-8eb1-a8bd3ae982e9",
   "metadata": {
    "id": "f0af4ebe-f64e-41e2-8eb1-a8bd3ae982e9"
   },
   "source": [
    "**10)** Um sistema discreto é descrito por:\n",
    "\n",
    "$$y[n] = \\frac{x[n-1]}{x[n]} $$\n",
    "\n",
    "a) O sistema é estável (BIBO)? Porquê?\n",
    "\n",
    "b) O sistema tem memória? Porquê?\n",
    "\n",
    "c) O sistema é causal? Porquê?"
   ]
  },
  {
   "cell_type": "markdown",
   "id": "ad22b671-6ea3-4636-9182-e5422c7881ef",
   "metadata": {
    "id": "ad22b671-6ea3-4636-9182-e5422c7881ef"
   },
   "source": [
    "**11)** Encontre os três primeiros valores de $y[n]$, de forma recursiva:\n",
    "\n",
    "a) $y[n] = 0.5y[n-1]$, com $y[-1] = 10$\n",
    "\n",
    "b) $y[n+1] = -2y[n]+ x[n+1]$, com $x[n]= e^{-n}u[n]$ e $y[-1] = 0$\n",
    "\n",
    "c) $y[n] - 0.6y[n-1]-0.16y[n-2]=0$, com $y[-1]= -25, y[-2]=0$\n",
    "\n",
    "d) $y[n+2] + 2y[n+1]+0.5y[n] = x[n+2]+x[n+1]+2x[n-3]$, com $x[n] = 2^nu[n], y[-1]=3, y[-2]=2$\n",
    "\n",
    "e) $y[n] = -2y[n-1]-y[n-2] + 2x[n] - x[n-1] $, com $x[n] = 3^{-n}u[n], y[-1] = 2, y[-2]=3$"
   ]
  },
  {
   "cell_type": "markdown",
   "id": "d198adfa-1a0f-4abd-ad10-af5d838f2f44",
   "metadata": {
    "id": "d198adfa-1a0f-4abd-ad10-af5d838f2f44"
   },
   "source": [
    "## Referências\n",
    "\n",
    "- Oppenheim, M. e Willsky, S.,  Sistemas e Sinais, 2010\n",
    "- Ulaby, FT e Yagle, AE, Signals & Systems: Theory and Applications, 2018, [ss2.eecs.umich.edu](ss2.eecs.umich.edu)\n",
    "- Lathi, BP, Sinais e Sistemas Lineares, 2007\n",
    "- Oppenheim, A.V. e Schafer, R.W., Processamento em tempo discreto de sinais, 2013 "
   ]
  },
  {
   "cell_type": "markdown",
   "id": "4bc88952-0032-4cbf-93d0-f50c52e35146",
   "metadata": {
    "id": "4bc88952-0032-4cbf-93d0-f50c52e35146"
   },
   "source": [
    "## Solução dos exercícios"
   ]
  },
  {
   "cell_type": "markdown",
   "id": "f65ab292-f75b-441e-8ef4-2b68dfaabd8e",
   "metadata": {
    "id": "9e62d63f-fbe5-4463-ba5b-e43e836c6a02"
   },
   "source": [
    "**Exercício 2** Resolvido por Gabriel Sanches Oliveira\n",
    "\n",
    "a) $y[n] = nx[n]$\n",
    "\n",
    "Este sistema é linear porque satisfaz a propriedade de superposição. Se você aplicar uma combinação linear de sinais de entrada, a saída será a mesma combinação linear das saídas individuais correspondentes. No entanto, ele não é invariante no tempo porque a multiplicação pela variável n não mantém o mesmo atraso/tempo.\n",
    "\n",
    "b) $y[n] = x[n] + 1$\n",
    "\n",
    "Este sistema é linear por causa da propriedade de superposição.É invariante no tempo\n",
    "\n",
    "c) $y[n] + 2y[n-1] = 3x[n] + nx[n-1]$\n",
    "\n",
    "Este sistema é linear porque a soma ponderada das entradas resulta em uma saída que é a mesma soma ponderada das saídas correspondentes. Quanto à invariância no tempo, ele não é invariante. Isso ocorre porque porque a multiplicação pela variável n não mantém o mesmo atraso/tempo.\n",
    "\n",
    "d) y[n] + 2y[n-1] = 3x[n] + 4x[n-1]\n",
    "Este sistema é linear, pois a soma ponderada das entradas resulta em uma saída que é a mesma soma ponderada das saídas correspondentes. Ele é invariante."
   ]
  },
  {
   "cell_type": "markdown",
   "id": "b73f248f-b5e8-43a5-907e-e61d95eb8abd",
   "metadata": {},
   "source": [
    "**Exercício 8** Resolvido por Gabriel Sanches Oliveira\n",
    "\n",
    "A equação de diferenças que relaciona a saída y[n] com a entrada x[n] pode ser definida da seguinte forma:\n",
    "\n",
    "$y[n]=y[n−1]+x[n]$\n",
    "\n",
    "Nessa equação, y[n] é a saída no instante n, y[n−1] é a saída no instante n-1, e x[n] é a entrada no instante n, ou seja, o custo do n-ésimo item registrado pelo caixa.\n",
    "\n",
    "Essa equação descreve que o custo total y[n] no instante\n",
    "n é igual ao custo total no instante anterior y[n−1] somado ao custo do n-ésimo item x[n] registrado no caixa. Isso reflete a ideia de que o custo total é acumulativo, incorporando os custos individuais dos itens registrados ao longo do tempo."
   ]
  },
  {
   "cell_type": "markdown",
   "id": "b3646e03-abc4-4862-817b-3d7c969c6b99",
   "metadata": {},
   "source": [
    "**Exercício 10** Resolvido por Gabriel Sanches Oliveira\n",
    "\n",
    "O sistema descrito pela equação\n",
    "\n",
    "$y[n]= \\frac{x[n-1]}{x[n]}$\n",
    "\n",
    "\n",
    "a)\n",
    "Um sistema é considerado estável BIBO se a saída permanecer limitada, mesmo quando a entrada for limitada. No caso deste sistema, a estabilidade BIBO dependerá das propriedades do sinal de entrada x[n].\n",
    "Se considerarmos que a entrada x[n] é limitada, ou seja, não cresce infinitamente, então a estabilidade do sistema dependerá principalmente do comportamento de x[n] no ponto em que x[n]=0 (pois o denominador da equação se tornaria zero).Se x[n] se aproximar de zero (ou se tornar zero) em algum ponto, a saída y[n] se tornará indefinida (divisão por zero), o que pode resultar em instabilidade. Portanto, podemos dizer que o sistema não é estável BIBO, uma vez que uma entrada limitada pode levar a uma saída não limitada.\n",
    "\n",
    "b) O sistema tem memória?\n",
    "\n",
    "Um sistema tem memória se a saída em qualquer instante de tempo depende das entradas anteriores. Nesse caso, o sistema apresenta memória, pois a saída\n",
    "y[n] depende da entrada x[n−1], ou seja, de uma amostra anterior.\n",
    "\n",
    "c) O sistema é causal?\n",
    "\n",
    "Um sistema é causal se a saída em qualquer instante de tempo depende apenas das entradas presentes e passadas, mas não de entradas futuras. Neste sistema, a saída y[n]depende da entrada apenas da x[n−1], o que significa que ele é causal, já que a saída depende de uma entrada passada"
   ]
  },
  {
   "cell_type": "markdown",
   "id": "44d46995-0792-4245-921d-af158a66c2d0",
   "metadata": {},
   "source": [
    "**Exercício 11** Resolvido por Gabriel Sanches Oliveira\n",
    "a)\n",
    "\n",
    "1. Para \\(n = 0\\):\n",
    "   $y[0] = 0.5y[-1] = 0,5 \\cdot 10 = 5$\n",
    "\n",
    "2. Para \\(n = 1\\):\n",
    "   $y[1] = 0.5y[0] = 0,5 \\cdot 5 = 2.5$\n",
    "\n",
    "3. Para \\(n = 2\\):\n",
    "   $y[2] = 0.5y[1] = 0.5 \\cdot 2,5 = 1.25$\n",
    "\n",
    "Portanto, os valores calculados são:\n",
    "- $y[0] = 5$\n",
    "- $y[1] = 2,5$\n",
    "- $y[2] = 1,25$\n",
    "\n",
    "b)\n",
    "\n",
    "1. Para \\(n = 0\\):\n",
    "\n",
    "   $y[0] = -2y[-1] + x[0] = -2 \\cdot 0 + 1 = 1$\n",
    "\n",
    "2. Para \\(n = 1\\):\n",
    "   $y[1] = -2y[0] + x[1] = -2 \\cdot 1 + e^{-1} = -2 + \\frac{1}{e} $\n",
    "\n",
    "3. Para \\(n = 2\\):\n",
    "   $y[2] = -2y[1] + x[2] = -2 \\left( -2 + \\frac{1}{e} \\right) + e^{-2} = 4 - \\frac{2}{e} + e^{-2}$\n",
    "\n",
    "Portanto, os valores calculados são:\n",
    "- $y[0] = 1$\n",
    "- $y[1] = -2 + \\frac{1}{e}$\n",
    "- $y[2] = y[2] = 4 - \\frac{2}{e} + e^{-2}$\n",
    "\n",
    "c)\n",
    "\n",
    "1. Para \\(n = 0\\):\n",
    "\n",
    "   $y[0] = 0,6y[-1] + 0,16y[n-2] = -15 $\n",
    "\n",
    "2. Para \\(n = 1\\):\n",
    "\n",
    "   $y[1] = 0,6y[0] + 0,16y[n-1] = -13 $\n",
    "\n",
    "3. Para \\(n = 2\\):\n",
    "\n",
    "   $y[2] = 0,6y[1] + y[0] = -10,2$\n",
    "\n",
    "Portanto, os valores calculados são:\n",
    "- $y[0] = -15$\n",
    "- $y[1] = -13$\n",
    "- $y[2] = -10,2$\n",
    "\n",
    "d)\n",
    "\n",
    "1. Para \\(n = 0\\):\n",
    "\n",
    "   $y[0] = -2y[-1] -0,5y[-2]+x[0]+x[-1]+x[-5] = -6 $\n",
    "\n",
    "2. Para \\(n = 1\\):\n",
    "\n",
    "   $y[1] = -2y[0] - 0,5y[-1]+x[1]+x[0]+x[-4] = 13,5 $\n",
    "\n",
    "3. Para \\(n = 2\\):\n",
    "   $y[2] = -2y[1] - 0,5y[0]+x[2]+x[1]+x[-3] = -18$\n",
    "\n",
    "Portanto, os valores calculados são:\n",
    "- $y[0] = -6$\n",
    "- $y[1] = 13,5$\n",
    "- $y[2] = -18$\n",
    "\n",
    "e)\n",
    "\n",
    "1. Para \\(n = 0\\):\n",
    "\n",
    "$y[0] = -2y[-1] - y[-2] + 2x[0] - x[-1] = -4 - 3 + 2 - 0 = -5$\n",
    "\n",
    "\n",
    "2. Para \\(n = 1\\):\n",
    "\n",
    "$y[1] = -2y[0] - y[-1] + 2x[1] - x[0] = 10 - 2 + \\frac{2}{3} - 1 = 8 + \\frac{2}{3}$\n",
    "\n",
    "\n",
    "3. Para \\(n = 2\\):\n",
    "\n",
    "$y[2] = -2y[1] - y[0] + 2x[2] - x[1] = -16 - \\frac{4}{3} + \\frac{2}{9} + \\frac{1}{3} = -16 - \\frac{1}{3} + \\frac{1}{3} = -16$\n",
    "\n",
    "\n",
    "Portanto, os valores calculados são:\n",
    "- $y[0] = -5$\n",
    "- $y[1] = 8 +\\frac{2}{3}$\n",
    "- $y[2] = -16$"
   ]
  },
  {
   "cell_type": "code",
   "execution_count": null,
   "id": "b09ae071-ceb3-47b2-afb6-37b7e8a6f292",
   "metadata": {},
   "outputs": [],
   "source": []
  }
 ],
 "metadata": {
  "colab": {
   "provenance": []
  },
  "kernelspec": {
   "display_name": "Python 3 (ipykernel)",
   "language": "python",
   "name": "python3"
  },
  "language_info": {
   "codemirror_mode": {
    "name": "ipython",
    "version": 3
   },
   "file_extension": ".py",
   "mimetype": "text/x-python",
   "name": "python",
   "nbconvert_exporter": "python",
   "pygments_lexer": "ipython3",
   "version": "3.10.11"
  }
 },
 "nbformat": 4,
 "nbformat_minor": 5
}
